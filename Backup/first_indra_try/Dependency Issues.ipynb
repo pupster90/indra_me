{
 "cells": [
  {
   "cell_type": "markdown",
   "metadata": {},
   "source": [
    "# Indra Dependency issues:"
   ]
  },
  {
   "cell_type": "markdown",
   "metadata": {},
   "source": [
    "Below are a few of the file clash issue that came up when trying to download indra. This was with using ubuntu:18.04 with Anaconda 5.0.1 installed. Thed docker image for this [is here.]()"
   ]
  },
  {
   "cell_type": "code",
   "execution_count": 30,
   "metadata": {},
   "outputs": [],
   "source": [
    "from IPython.core.display import HTML"
   ]
  },
  {
   "cell_type": "code",
   "execution_count": 32,
   "metadata": {
    "scrolled": false
   },
   "outputs": [
    {
     "data": {
      "text/html": [
       "<hr><img  src='Dependency_Images/0CC2BAFD-E681-4580-8D35-814902CC4B8F.jpeg'> <hr><p>&nbsp</p><hr><img  src='Dependency_Images/6F64B612-1635-431F-90C0-2F74C2AEDE5D.jpeg'> <hr><p>&nbsp</p><hr><img  src='Dependency_Images/BDE39296-F740-41CB-B882-8A4A9CBE516B.jpeg'> <hr><p>&nbsp</p><hr><img  src='Dependency_Images/D9FC8D88-D5B7-4992-958F-E9E1C18AE141.jpeg'> <hr><p>&nbsp</p><hr><img  src='Dependency_Images/F96DA7D7-A3EB-4A7F-8622-61070B4D3490.jpeg'> <hr><p>&nbsp</p>"
      ],
      "text/plain": [
       "<IPython.core.display.HTML object>"
      ]
     },
     "execution_count": 32,
     "metadata": {},
     "output_type": "execute_result"
    }
   ],
   "source": [
    "images = ! ls ./Dependency_Images\n",
    "html = \"\"\n",
    "for image in images:\n",
    "    html += \"<hr><img  src='Dependency_Images/\"+image+\"'> <hr><p>&nbsp</p>\"\n",
    "HTML(html)"
   ]
  },
  {
   "cell_type": "code",
   "execution_count": null,
   "metadata": {},
   "outputs": [],
   "source": []
  }
 ],
 "metadata": {
  "kernelspec": {
   "display_name": "Python 3",
   "language": "python",
   "name": "python3"
  },
  "language_info": {
   "codemirror_mode": {
    "name": "ipython",
    "version": 3
   },
   "file_extension": ".py",
   "mimetype": "text/x-python",
   "name": "python",
   "nbconvert_exporter": "python",
   "pygments_lexer": "ipython3",
   "version": "3.6.4"
  }
 },
 "nbformat": 4,
 "nbformat_minor": 2
}
