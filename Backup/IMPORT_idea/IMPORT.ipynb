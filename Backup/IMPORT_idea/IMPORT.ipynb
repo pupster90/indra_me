{
 "cells": [
  {
   "cell_type": "code",
   "execution_count": 104,
   "metadata": {},
   "outputs": [],
   "source": [
    "import base64\n",
    "from IPython.display import Javascript, display\n",
    "from IPython.utils.py3compat import str_to_bytes, bytes_to_str\n",
    "def IMPORT_create_cell(code,cell_type,where='below'):\n",
    "    \"\"\"Create a code cell in the IPython Notebook.\n",
    "\n",
    "    Parameters\n",
    "    code: unicode\n",
    "        Code to fill the new code cell with.\n",
    "    where: unicode\n",
    "        Where to add the new code cell.\n",
    "        Possible values include:\n",
    "            at_bottom\n",
    "            above\n",
    "            below\"\"\"\n",
    "    encoded_code = bytes_to_str(base64.b64encode(str_to_bytes(code)))\n",
    "    display(Javascript(\"\"\"\n",
    "        var cell = IPython.notebook.insert_cell_{0}('{1}');\n",
    "        cell.set_text(atob(\"{2}\"));\n",
    "        cell.execute()\n",
    "    \"\"\".format(where, cell_type ,encoded_code)))"
   ]
  },
  {
   "cell_type": "code",
   "execution_count": 100,
   "metadata": {},
   "outputs": [],
   "source": [
    "import nbformat as nbf\n",
    "def IMPORT( file_name ):   \n",
    "    nb = nbf.read( file_name, as_version= nbf.NO_CONVERT )\n",
    "    nb.cells.reverse()\n",
    "    for cell in  nb.cells:\n",
    "        IMPORT_create_cell( cell.source, cell.cell_type )"
   ]
  },
  {
   "cell_type": "code",
   "execution_count": null,
   "metadata": {},
   "outputs": [],
   "source": [
    "print(\"IMPORT has been loaded! Load another .ipynb file as follows:\")\n",
    "print( \"IMPORT( '/path/to/file.ipynb' )\" )"
   ]
  }
 ],
 "metadata": {
  "hide_input": false,
  "kernelspec": {
   "display_name": "Python 3",
   "language": "python",
   "name": "python3"
  },
  "language_info": {
   "codemirror_mode": {
    "name": "ipython",
    "version": 3
   },
   "file_extension": ".py",
   "mimetype": "text/x-python",
   "name": "python",
   "nbconvert_exporter": "python",
   "pygments_lexer": "ipython3",
   "version": "3.5.5"
  },
  "toc": {
   "base_numbering": 1,
   "nav_menu": {},
   "number_sections": true,
   "sideBar": true,
   "skip_h1_title": false,
   "title_cell": "Table of Contents",
   "title_sidebar": "Contents",
   "toc_cell": false,
   "toc_position": {},
   "toc_section_display": true,
   "toc_window_display": false
  },
  "varInspector": {
   "cols": {
    "lenName": 16,
    "lenType": 16,
    "lenVar": 40
   },
   "kernels_config": {
    "python": {
     "delete_cmd_postfix": "",
     "delete_cmd_prefix": "del ",
     "library": "var_list.py",
     "varRefreshCmd": "print(var_dic_list())"
    },
    "r": {
     "delete_cmd_postfix": ") ",
     "delete_cmd_prefix": "rm(",
     "library": "var_list.r",
     "varRefreshCmd": "cat(var_dic_list()) "
    }
   },
   "types_to_exclude": [
    "module",
    "function",
    "builtin_function_or_method",
    "instance",
    "_Feature"
   ],
   "window_display": false
  }
 },
 "nbformat": 4,
 "nbformat_minor": 2
}
