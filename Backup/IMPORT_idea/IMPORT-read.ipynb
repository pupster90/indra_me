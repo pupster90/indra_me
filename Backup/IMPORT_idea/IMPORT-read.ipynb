{
 "cells": [
  {
   "cell_type": "markdown",
   "metadata": {},
   "source": [
    "<font size=8 face=\"courier\" color=\"blue\">IMPORT-read</font>"
   ]
  },
  {
   "cell_type": "code",
   "execution_count": null,
   "metadata": {},
   "outputs": [],
   "source": [
    "2 + 2\n",
    "3 + 3"
   ]
  },
  {
   "cell_type": "markdown",
   "metadata": {},
   "source": [
    "This is a test\n",
    "\n",
    "Another test"
   ]
  },
  {
   "cell_type": "markdown",
   "metadata": {},
   "source": [
    "This was the notebook I used when figuring out how to make the IMPORT function. It gives a little bit more of an explanation of whats going on"
   ]
  },
  {
   "cell_type": "markdown",
   "metadata": {},
   "source": [
    "This notebook creates the object <font color=\"magenta\">Loader</font> can be used to load the contents of other notebooks into the current notebook."
   ]
  },
  {
   "cell_type": "markdown",
   "metadata": {},
   "source": [
    "## Try 0"
   ]
  },
  {
   "cell_type": "markdown",
   "metadata": {},
   "source": [
    "Code to create cell"
   ]
  },
  {
   "cell_type": "code",
   "execution_count": null,
   "metadata": {},
   "outputs": [],
   "source": []
  },
  {
   "cell_type": "code",
   "execution_count": 24,
   "metadata": {},
   "outputs": [
    {
     "ename": "NameError",
     "evalue": "name 'cell' is not defined",
     "output_type": "error",
     "traceback": [
      "\u001b[0;31m---------------------------------------------------------------------------\u001b[0m",
      "\u001b[0;31mNameError\u001b[0m                                 Traceback (most recent call last)",
      "\u001b[0;32m<ipython-input-24-3f62741ae9ce>\u001b[0m in \u001b[0;36m<module>\u001b[0;34m()\u001b[0m\n\u001b[0;32m----> 1\u001b[0;31m \u001b[0mcell\u001b[0m\u001b[0;34m\u001b[0m\u001b[0m\n\u001b[0m",
      "\u001b[0;31mNameError\u001b[0m: name 'cell' is not defined"
     ]
    }
   ],
   "source": [
    "for cell in nb.cells :"
   ]
  },
  {
   "cell_type": "code",
   "execution_count": 33,
   "metadata": {},
   "outputs": [
    {
     "name": "stdout",
     "output_type": "stream",
     "text": [
      "markdown\n"
     ]
    }
   ],
   "source": [
    "if cell.cell_type == 'markdown':\n",
    "    print(\"markdown\")\n",
    "    nbf.v4.new_markdown_cell(\"hello\")\n",
    "elif cell.cell_type == 'code' :\n",
    "    print(\"code\")\n",
    "    nbf.v4.new_code_cell(\"2+2\")\n",
    "else :\n",
    "    raise ValueError(\"ERROR: Notebook type was neither markdown nor code\")"
   ]
  },
  {
   "cell_type": "code",
   "execution_count": 30,
   "metadata": {},
   "outputs": [
    {
     "data": {
      "text/plain": [
       "{'cell_type': 'code',\n",
       " 'execution_count': 1,\n",
       " 'metadata': {},\n",
       " 'outputs': [{'data': {'text/plain': '6'},\n",
       "   'execution_count': 1,\n",
       "   'metadata': {},\n",
       "   'output_type': 'execute_result'}],\n",
       " 'source': '2 + 2\\n3 + 3'}"
      ]
     },
     "execution_count": 30,
     "metadata": {},
     "output_type": "execute_result"
    }
   ],
   "source": [
    "nb.cells[1]"
   ]
  },
  {
   "cell_type": "code",
   "execution_count": 44,
   "metadata": {},
   "outputs": [
    {
     "data": {
      "application/javascript": [
       "console.log(IPython.notebook._instert_cell_below) "
      ],
      "text/plain": [
       "<IPython.core.display.Javascript object>"
      ]
     },
     "metadata": {},
     "output_type": "display_data"
    }
   ],
   "source": [
    "%%javascript\n",
    "console.log(IPython.notebook._instert_cell_below) "
   ]
  },
  {
   "cell_type": "code",
   "execution_count": 37,
   "metadata": {},
   "outputs": [],
   "source": [
    "import IPython.utils"
   ]
  },
  {
   "cell_type": "markdown",
   "metadata": {},
   "source": [
    "## TRY 1"
   ]
  },
  {
   "cell_type": "markdown",
   "metadata": {},
   "source": [
    "### get file's cells"
   ]
  },
  {
   "cell_type": "code",
   "execution_count": 1,
   "metadata": {},
   "outputs": [],
   "source": [
    "import nbformat as nbf"
   ]
  },
  {
   "cell_type": "code",
   "execution_count": 6,
   "metadata": {},
   "outputs": [
    {
     "data": {
      "text/plain": [
       "[{'cell_type': 'markdown', 'metadata': {}, 'source': '# Setup Notebook'},\n",
       " {'cell_type': 'markdown',\n",
       "  'metadata': {},\n",
       "  'source': 'Download environmental variables for Java and Google Cloud application key'},\n",
       " {'cell_type': 'code',\n",
       "  'execution_count': 2,\n",
       "  'metadata': {},\n",
       "  'outputs': [{'name': 'stdout',\n",
       "    'output_type': 'stream',\n",
       "    'text': 'env: GOOGLE_APPLICATION_CREDENTIALS=/root/Documents/data/NDEX-e06611c0a4d0.json\\nenv: JAVA_HOME=/usr/lib/jvm/java-8-openjdk-amd64\\n'}],\n",
       "  'source': '%env GOOGLE_APPLICATION_CREDENTIALS=/root/Documents/data/NDEX-e06611c0a4d0.json\\n%env JAVA_HOME=/usr/lib/jvm/java-8-openjdk-amd64'},\n",
       " {'cell_type': 'markdown', 'metadata': {}, 'source': 'Setup notebook view'},\n",
       " {'cell_type': 'code',\n",
       "  'execution_count': 5,\n",
       "  'metadata': {},\n",
       "  'outputs': [{'data': {'text/html': '<style> *{margin:0; padding:0;} html, body,              .container{margin:0;!important padding:0;!important}              .container { width:100% !important;}</style>',\n",
       "     'text/plain': '<IPython.core.display.HTML object>'},\n",
       "    'metadata': {},\n",
       "    'output_type': 'display_data'}],\n",
       "  'source': 'from IPython.core.display import HTML, display\\n# to reverse this feature restart kernel with \"restart and clear output\"\\ndisplay(HTML(\"<style> *{margin:0; padding:0;} html, body, \\\\\\n             .container{margin:0;!important padding:0;!important} \\\\\\n             .container { width:100% !important;}</style>\"))'},\n",
       " {'cell_type': 'markdown',\n",
       "  'metadata': {},\n",
       "  'source': 'Import basic python packages'},\n",
       " {'cell_type': 'code',\n",
       "  'execution_count': 6,\n",
       "  'metadata': {},\n",
       "  'outputs': [],\n",
       "  'source': 'import sys\\nimport numpy as np\\nfrom pprint import pprint\\nimport inspect\\nimport os'},\n",
       " {'cell_type': 'markdown',\n",
       "  'metadata': {},\n",
       "  'source': 'Import essential jupyter packages'},\n",
       " {'cell_type': 'code',\n",
       "  'execution_count': 9,\n",
       "  'metadata': {},\n",
       "  'outputs': [],\n",
       "  'source': '%matplotlib inline\\nimport matplotlib.pyplot as plt'},\n",
       " {'cell_type': 'markdown', 'metadata': {}, 'source': 'Import indra packages'},\n",
       " {'cell_type': 'code',\n",
       "  'execution_count': None,\n",
       "  'metadata': {},\n",
       "  'outputs': [],\n",
       "  'source': 'sys.path.append(\"/root/Documents/indra\")\\nfrom indra.sources import biopax\\nfrom indra.sources import trips\\nfrom indra import assemblers\\nfrom indra.assemblers import cx_assembler'},\n",
       " {'cell_type': 'code',\n",
       "  'execution_count': None,\n",
       "  'metadata': {},\n",
       "  'outputs': [],\n",
       "  'source': 'import ndex2'},\n",
       " {'cell_type': 'markdown',\n",
       "  'metadata': {},\n",
       "  'source': 'Import google cloud packages'},\n",
       " {'cell_type': 'code',\n",
       "  'execution_count': 4,\n",
       "  'metadata': {},\n",
       "  'outputs': [],\n",
       "  'source': 'import redis\\nfrom google.cloud import datastore'}]"
      ]
     },
     "execution_count": 6,
     "metadata": {},
     "output_type": "execute_result"
    }
   ],
   "source": [
    "nb = nbf.read(\"Setup.ipynb\", as_version= nbf.NO_CONVERT)\n",
    "nb.cells"
   ]
  },
  {
   "cell_type": "markdown",
   "metadata": {},
   "source": [
    "### Helper function:"
   ]
  },
  {
   "cell_type": "code",
   "execution_count": 104,
   "metadata": {},
   "outputs": [],
   "source": [
    "import base64\n",
    "from IPython.display import Javascript, display\n",
    "from IPython.utils.py3compat import str_to_bytes, bytes_to_str\n",
    "def create_cell(code,cell_type,where='below'):\n",
    "    \"\"\"Create a code cell in the IPython Notebook.\n",
    "\n",
    "    Parameters\n",
    "    code: unicode\n",
    "        Code to fill the new code cell with.\n",
    "    where: unicode\n",
    "        Where to add the new code cell.\n",
    "        Possible values include:\n",
    "            at_bottom\n",
    "            above\n",
    "            below\"\"\"\n",
    "    encoded_code = bytes_to_str(base64.b64encode(str_to_bytes(code)))\n",
    "    display(Javascript(\"\"\"\n",
    "        var cell = IPython.notebook.insert_cell_{0}('{1}');\n",
    "        cell.set_text(atob(\"{2}\"));\n",
    "        cell.execute()\n",
    "    \"\"\".format(where, cell_type ,encoded_code)))"
   ]
  },
  {
   "cell_type": "markdown",
   "metadata": {},
   "source": [
    "### Test Function"
   ]
  },
  {
   "cell_type": "code",
   "execution_count": 100,
   "metadata": {},
   "outputs": [],
   "source": [
    "def IMPORT( file_name ):   \n",
    "    nb = nbf.read( file_name, as_version= nbf.NO_CONVERT )\n",
    "    for cell in nb.cells :\n",
    "        create_cell( cell.source, cell.cell_type )"
   ]
  },
  {
   "cell_type": "code",
   "execution_count": null,
   "metadata": {},
   "outputs": [],
   "source": []
  },
  {
   "cell_type": "code",
   "execution_count": null,
   "metadata": {},
   "outputs": [],
   "source": [
    "2 + 2\n",
    "3 + 3"
   ]
  },
  {
   "cell_type": "markdown",
   "metadata": {},
   "source": [
    "This is a test\n",
    "\n",
    "Another test"
   ]
  },
  {
   "cell_type": "code",
   "execution_count": null,
   "metadata": {},
   "outputs": [],
   "source": []
  },
  {
   "cell_type": "code",
   "execution_count": null,
   "metadata": {},
   "outputs": [],
   "source": []
  },
  {
   "cell_type": "markdown",
   "metadata": {},
   "source": [
    "## Code that Inspired Me"
   ]
  },
  {
   "cell_type": "code",
   "execution_count": 38,
   "metadata": {},
   "outputs": [],
   "source": [
    "import base64\n",
    "from IPython.display import Javascript, display\n",
    "from IPython.utils.py3compat import str_to_bytes, bytes_to_str\n",
    "def create_code_cell(code='', where='below'):\n",
    "    \"\"\"Create a code cell in the IPython Notebook.\n",
    "\n",
    "    Parameters\n",
    "    code: unicode\n",
    "        Code to fill the new code cell with.\n",
    "    where: unicode\n",
    "        Where to add the new code cell.\n",
    "        Possible values include:\n",
    "            at_bottom\n",
    "            above\n",
    "            below\"\"\"\n",
    "    encoded_code = bytes_to_str(base64.b64encode(str_to_bytes(code)))\n",
    "    display(Javascript(\"\"\"\n",
    "        var code = IPython.notebook.insert_cell_{0}('code');\n",
    "        code.set_text(atob(\"{1}\"));\n",
    "    \"\"\".format(where, encoded_code)))"
   ]
  },
  {
   "cell_type": "code",
   "execution_count": null,
   "metadata": {},
   "outputs": [],
   "source": [
    "from nbformat import current as nbf\n",
    "nb = nbf.new_notebook()\n",
    "cells = []\n",
    "\n",
    "for var in my_list:\n",
    "    # Assume make_image() saves an image to file and returns the filename\n",
    "    image_file = make_image(var)\n",
    "    text = \"Variable: %s\\n![image](%s)\" % (var, image_file)\n",
    "    cell = nbf.new_text_cell('markdown', text)\n",
    "    cells.append(cell)\n",
    "\n",
    "nb['worksheets'].append(nbf.new_worksheet(cells=cells))\n",
    "\n",
    "with open('my_notebook.ipynb', 'w') as f:\n",
    "        nbf.write(nb, f, 'ipynb')\n"
   ]
  },
  {
   "cell_type": "markdown",
   "metadata": {},
   "source": [
    "#### It Works!"
   ]
  },
  {
   "cell_type": "code",
   "execution_count": 105,
   "metadata": {},
   "outputs": [
    {
     "data": {
      "application/javascript": [
       "\n",
       "        var cell = IPython.notebook.insert_cell_below('markdown');\n",
       "        cell.set_text(atob(\"VGhpcyBpcyBhIHRlc3QKCkFub3RoZXIgdGVzdA==\"));\n",
       "        cell.execute()\n",
       "    "
      ],
      "text/plain": [
       "<IPython.core.display.Javascript object>"
      ]
     },
     "metadata": {},
     "output_type": "display_data"
    },
    {
     "data": {
      "application/javascript": [
       "\n",
       "        var cell = IPython.notebook.insert_cell_below('code');\n",
       "        cell.set_text(atob(\"MiArIDIKMyArIDM=\"));\n",
       "        cell.execute()\n",
       "    "
      ],
      "text/plain": [
       "<IPython.core.display.Javascript object>"
      ]
     },
     "metadata": {},
     "output_type": "display_data"
    }
   ],
   "source": [
    "IMPORT(\"Test.ipynb\")"
   ]
  }
 ],
 "metadata": {
  "hide_input": false,
  "kernelspec": {
   "display_name": "Python 3",
   "language": "python",
   "name": "python3"
  },
  "language_info": {
   "codemirror_mode": {
    "name": "ipython",
    "version": 3
   },
   "file_extension": ".py",
   "mimetype": "text/x-python",
   "name": "python",
   "nbconvert_exporter": "python",
   "pygments_lexer": "ipython3",
   "version": "3.5.5"
  },
  "toc": {
   "base_numbering": 1,
   "nav_menu": {},
   "number_sections": true,
   "sideBar": true,
   "skip_h1_title": false,
   "title_cell": "Table of Contents",
   "title_sidebar": "Contents",
   "toc_cell": false,
   "toc_position": {},
   "toc_section_display": true,
   "toc_window_display": false
  },
  "varInspector": {
   "cols": {
    "lenName": 16,
    "lenType": 16,
    "lenVar": 40
   },
   "kernels_config": {
    "python": {
     "delete_cmd_postfix": "",
     "delete_cmd_prefix": "del ",
     "library": "var_list.py",
     "varRefreshCmd": "print(var_dic_list())"
    },
    "r": {
     "delete_cmd_postfix": ") ",
     "delete_cmd_prefix": "rm(",
     "library": "var_list.r",
     "varRefreshCmd": "cat(var_dic_list()) "
    }
   },
   "types_to_exclude": [
    "module",
    "function",
    "builtin_function_or_method",
    "instance",
    "_Feature"
   ],
   "window_display": false
  }
 },
 "nbformat": 4,
 "nbformat_minor": 2
}
