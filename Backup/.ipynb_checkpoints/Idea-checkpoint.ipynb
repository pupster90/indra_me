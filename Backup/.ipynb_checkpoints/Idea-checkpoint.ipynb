{
 "cells": [
  {
   "cell_type": "code",
   "execution_count": 1,
   "metadata": {},
   "outputs": [],
   "source": [
    "import sys\n",
    "import os\n",
    "import json\n",
    "import pandas as pd\n",
    "import numpy as np"
   ]
  },
  {
   "cell_type": "code",
   "execution_count": 2,
   "metadata": {},
   "outputs": [],
   "source": [
    "import ipywidgets as widgets\n",
    "from ipywidgets import interact, interactive, fixed, interact_manual\n",
    "import ipywidgets as ipw\n",
    "from IPython.core.display import HTML, display\n",
    "from IPython.display import clear_output"
   ]
  },
  {
   "cell_type": "code",
   "execution_count": 3,
   "metadata": {},
   "outputs": [],
   "source": [
    "from ipywidgets import Button, Layout"
   ]
  },
  {
   "cell_type": "code",
   "execution_count": 4,
   "metadata": {},
   "outputs": [
    {
     "data": {
      "text/html": [
       "<style> *{margin:0; padding:0;} html, body,              .container{margin:0;!important padding:0;!important}              .container { width:100% !important;}</style>"
      ],
      "text/plain": [
       "<IPython.core.display.HTML object>"
      ]
     },
     "metadata": {},
     "output_type": "display_data"
    }
   ],
   "source": [
    "# Warning: This code changes the layout of the ENTIRE notebook (specifically, removes the margins)\n",
    "# to reverse this feature you must rerun this cell with different numbers\n",
    "display(HTML(\"<style> *{margin:0; padding:0;} html, body, \\\n",
    "             .container{margin:0;!important padding:0;!important} \\\n",
    "             .container { width:100% !important;}</style>\"))"
   ]
  },
  {
   "cell_type": "markdown",
   "metadata": {},
   "source": [
    "<font color=\"gray\" size=7>Auto</font>*<font color=\"magenta\" size=7>Grapher</font>*"
   ]
  },
  {
   "cell_type": "markdown",
   "metadata": {},
   "source": [
    "Use list the genes you are intetersted in below, then click <font color=\"blue\">go</font> to see all the ways they are connected."
   ]
  },
  {
   "cell_type": "code",
   "execution_count": 5,
   "metadata": {
    "scrolled": true
   },
   "outputs": [
    {
     "data": {
      "application/vnd.jupyter.widget-view+json": {
       "model_id": "8f504ece315c4fee9e6fa56e5e963e40",
       "version_major": 2,
       "version_minor": 0
      },
      "text/plain": [
       "Box(children=(Textarea(value='', description='Proteins', layout=Layout(height='80px', width='50%'), placeholde…"
      ]
     },
     "metadata": {},
     "output_type": "display_data"
    }
   ],
   "source": [
    "txt = widgets.Textarea(\n",
    "    placeholder=\"protein1, protein2, protein3, ...\",\n",
    "    description=\"Proteins\",\n",
    "    layout=Layout(width='50%', height='80px'),\n",
    "    disabled=False\n",
    ")\n",
    "check = widgets.Checkbox(\n",
    "    value=False,\n",
    "    description='Add Proteins Affected by Drugs',\n",
    "    disabled=False\n",
    ")\n",
    "\n",
    "depth = ipw.BoundedIntText(\n",
    "    value=10,\n",
    "    min=1,\n",
    "    max=100,\n",
    "    step=1,\n",
    "    description='Search Depth',\n",
    "    disabled=False\n",
    ")\n",
    "\n",
    "settings = ipw.VBox([check,depth])\n",
    "\n",
    "ipw.Box([txt, settings])"
   ]
  },
  {
   "cell_type": "code",
   "execution_count": 6,
   "metadata": {
    "scrolled": true
   },
   "outputs": [
    {
     "data": {
      "application/vnd.jupyter.widget-view+json": {
       "model_id": "a621537b53274fe59f094263dcdfa405",
       "version_major": 2,
       "version_minor": 0
      },
      "text/plain": [
       "Button(button_style='info', description='Get Network', style=ButtonStyle(), tooltip='Use abot text to add prot…"
      ]
     },
     "metadata": {},
     "output_type": "display_data"
    }
   ],
   "source": [
    "# We now get the data's filename according to the user's selection from the tab widget\n",
    "data_btn= ipw.Button(description='Get Network',button_style='info', tooltip=\"Use abot text to add proteins\" )\n",
    "display(data_btn)\n",
    "\n",
    "\n",
    "def on_get_data_clicked(b):\n",
    "    display(HTML(\"\"\"<hr>\n",
    "        <div class=\"embed-responsive embed-responsive-4by3\">\n",
    "          <iframe class=\"embed-responsive-item\" \n",
    "          src='./data/graph.html'></iframe>\n",
    "        </div><hr>\n",
    "        \"\"\")) \n",
    "    \n",
    "data_btn.on_click(on_get_data_clicked)"
   ]
  },
  {
   "cell_type": "markdown",
   "metadata": {
    "collapsed": true
   },
   "source": [
    "Add you NDEX <font color=\"blue\">name</font> and <font color=\"blue\">password</font>, then click <font color=\"blue\">upload netowork</font> to send this network to your [NDEX acount](http://www.ndexbio.org/#/)."
   ]
  },
  {
   "cell_type": "code",
   "execution_count": 7,
   "metadata": {},
   "outputs": [
    {
     "data": {
      "application/vnd.jupyter.widget-view+json": {
       "model_id": "84d27a282d954ed49b6798bc21a8ddb6",
       "version_major": 2,
       "version_minor": 0
      },
      "text/plain": [
       "Button(button_style='info', description='Upload Network', style=ButtonStyle(), tooltip='Use upload network')"
      ]
     },
     "metadata": {},
     "output_type": "display_data"
    }
   ],
   "source": [
    "# We now get the data's filename according to the user's selection from the tab widget\n",
    "data_btn2= ipw.Button(description='Upload Network',button_style='info', tooltip=\"Use upload network\" )\n",
    "display(data_btn2)\n",
    "\n",
    "def showText(b):\n",
    "    display(HTML(\"\"\"<h3>Netowork had been uploaded!</h3>\"\"\")) \n",
    "data_btn2.on_click(showText)"
   ]
  },
  {
   "cell_type": "code",
   "execution_count": 8,
   "metadata": {},
   "outputs": [
    {
     "data": {
      "text/html": [
       "<p>&nbsp</p><p>&nbsp</p><p>&nbsp</p><p>&nbsp</p><p>&nbsp</p>"
      ],
      "text/plain": [
       "<IPython.core.display.HTML object>"
      ]
     },
     "metadata": {},
     "output_type": "display_data"
    }
   ],
   "source": [
    "# This just adds a little space to the bottom of the notebook\n",
    "display(HTML(\"<p>&nbsp</p><p>&nbsp</p><p>&nbsp</p><p>&nbsp</p><p>&nbsp</p>\"))"
   ]
  },
  {
   "cell_type": "code",
   "execution_count": null,
   "metadata": {},
   "outputs": [],
   "source": []
  }
 ],
 "metadata": {
  "hide_input": true,
  "kernelspec": {
   "display_name": "Python 3",
   "language": "python",
   "name": "python3"
  },
  "language_info": {
   "codemirror_mode": {
    "name": "ipython",
    "version": 3
   },
   "file_extension": ".py",
   "mimetype": "text/x-python",
   "name": "python",
   "nbconvert_exporter": "python",
   "pygments_lexer": "ipython3",
   "version": "3.5.5"
  },
  "toc": {
   "base_numbering": 1,
   "nav_menu": {},
   "number_sections": true,
   "sideBar": true,
   "skip_h1_title": false,
   "title_cell": "Table of Contents",
   "title_sidebar": "Contents",
   "toc_cell": false,
   "toc_position": {},
   "toc_section_display": true,
   "toc_window_display": false
  },
  "varInspector": {
   "cols": {
    "lenName": 16,
    "lenType": 16,
    "lenVar": 40
   },
   "kernels_config": {
    "python": {
     "delete_cmd_postfix": "",
     "delete_cmd_prefix": "del ",
     "library": "var_list.py",
     "varRefreshCmd": "print(var_dic_list())"
    },
    "r": {
     "delete_cmd_postfix": ") ",
     "delete_cmd_prefix": "rm(",
     "library": "var_list.r",
     "varRefreshCmd": "cat(var_dic_list()) "
    }
   },
   "types_to_exclude": [
    "module",
    "function",
    "builtin_function_or_method",
    "instance",
    "_Feature"
   ],
   "window_display": false
  }
 },
 "nbformat": 4,
 "nbformat_minor": 2
}
