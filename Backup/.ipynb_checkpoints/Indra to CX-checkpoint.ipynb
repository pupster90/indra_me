{
 "cells": [
  {
   "cell_type": "markdown",
   "metadata": {},
   "source": [
    "<font size=\"7\" face=\"courier\" color=\"magenta\">Indra to CX</font>"
   ]
  },
  {
   "cell_type": "markdown",
   "metadata": {},
   "source": [
    "# Setup Notebook"
   ]
  },
  {
   "cell_type": "markdown",
   "metadata": {},
   "source": [
    "*\"source/Setup Notebook.ipynb\"*  imports all the useful packages and settings for the jupyter notebook"
   ]
  },
  {
   "cell_type": "code",
   "execution_count": 103,
   "metadata": {},
   "outputs": [
    {
     "name": "stdout",
     "output_type": "stream",
     "text": [
      "env: GOOGLE_APPLICATION_CREDENTIALS=/root/Documents/data/NDEX-e06611c0a4d0.json\n",
      "env: JAVA_HOME=/usr/lib/jvm/java-8-openjdk-amd64\n"
     ]
    },
    {
     "data": {
      "text/html": [
       "<style> *{margin:0; padding:0;} html, body,              .container{margin:0;!important padding:0;!important}              .container { width:100% !important;}</style>"
      ],
      "text/plain": [
       "<IPython.core.display.HTML object>"
      ]
     },
     "metadata": {},
     "output_type": "display_data"
    }
   ],
   "source": [
    "%run \"source/Setup Notebook.ipynb\""
   ]
  },
  {
   "cell_type": "markdown",
   "metadata": {},
   "source": [
    "*\"source/indraViewer.ipynb\"* imports the package **indraViewer** which is used to created visualizations of indra statements and json code"
   ]
  },
  {
   "cell_type": "code",
   "execution_count": 5,
   "metadata": {},
   "outputs": [
    {
     "name": "stdout",
     "output_type": "stream",
     "text": [
      "Imported: indraViewer\n"
     ]
    }
   ],
   "source": [
    "%run \"source/indraViewer.ipynb\""
   ]
  },
  {
   "cell_type": "markdown",
   "metadata": {},
   "source": [
    "#  CX Documentation\n",
    "Here we display an *iframe* of the **CX Documentation** which we are implmenting"
   ]
  },
  {
   "cell_type": "code",
   "execution_count": 97,
   "metadata": {
    "code_folding": [],
    "scrolled": false
   },
   "outputs": [
    {
     "data": {
      "text/html": [
       "\n",
       "  <iframe class=\"embed-responsive-item\" width=\"100%\" height=\"900\"\n",
       "      src=\"https://docs.google.com/document/d/13ZKcFBH-E5oiJP2D5zrdFqxLlS9yGtGiiX5Lj92g4EU/edit#heading=h.1t5lf4irpgyj\"></iframe>\n"
      ],
      "text/plain": [
       "<IPython.core.display.HTML object>"
      ]
     },
     "metadata": {},
     "output_type": "display_data"
    }
   ],
   "source": [
    "# Displays google doc of CX \n",
    "display(HTML(\"\"\"\n",
    "  <iframe class=\"embed-responsive-item\" width=\"100%\" height=\"900\"\n",
    "      src=\"https://docs.google.com/document/d/13ZKcFBH-E5oiJP2D5zrdFqxLlS9yGtGiiX5Lj92g4EU/edit#heading=h.1t5lf4irpgyj\"></iframe>\n",
    "\"\"\"))\n"
   ]
  },
  {
   "cell_type": "markdown",
   "metadata": {},
   "source": [
    "# Create Test Statement\n",
    "\n",
    "We get a single indra statement that we can use to test out the [CX_assembler]("
   ]
  },
  {
   "cell_type": "markdown",
   "metadata": {},
   "source": [
    "## Load in Data"
   ]
  },
  {
   "cell_type": "markdown",
   "metadata": {},
   "source": [
    "we use the gui below to load in statements from reactome's EGFR"
   ]
  },
  {
   "cell_type": "code",
   "execution_count": 95,
   "metadata": {},
   "outputs": [
    {
     "data": {
      "text/html": [
       "<p>&nbsp</p> <font color='magenta' size=5>Indra Statement Creator</font> <hr>"
      ],
      "text/plain": [
       "<IPython.core.display.HTML object>"
      ]
     },
     "metadata": {},
     "output_type": "display_data"
    },
    {
     "data": {
      "text/html": [
       "Use this app to analyze indra statements that are created from BioPax files. The video below shows how to create BioPax fiels from <a href='https://reactome.org/'>reactome</a>. All of the information created from this webapp can be accessed in python. This app creates a python objects called <font color='blue'>biopax_processor</font> which as statements, <font color='blue'>biopax_processor.statements</font>. "
      ],
      "text/plain": [
       "<IPython.core.display.HTML object>"
      ]
     },
     "metadata": {},
     "output_type": "display_data"
    },
    {
     "data": {
      "text/html": [
       "\n",
       "<div class=\"row\"><div class=\"col-xs-12 col-md-offset-3 col-md-6\">\n",
       "<div class=\"embed-responsive embed-responsive-16by9\">\n",
       "  <iframe class=\"embed-responsive-item\" \n",
       "  src='https://www.youtube.com/embed/deDb0PNffWI'></iframe></div>\n",
       "</div></div>\n"
      ],
      "text/plain": [
       "<IPython.core.display.HTML object>"
      ]
     },
     "metadata": {},
     "output_type": "display_data"
    },
    {
     "data": {
      "text/html": [
       "<h1>Choose a BioPax file to upload</h1>              <p>Use the dropdown below to choose a file</p>"
      ],
      "text/plain": [
       "<IPython.core.display.HTML object>"
      ]
     },
     "metadata": {},
     "output_type": "display_data"
    },
    {
     "data": {
      "text/html": [
       "<h5>Select a dataset from the folder <a href='/root/Documents/data/BioPax/</a> :</h5>"
      ],
      "text/plain": [
       "<IPython.core.display.HTML object>"
      ]
     },
     "metadata": {},
     "output_type": "display_data"
    },
    {
     "data": {
      "application/vnd.jupyter.widget-view+json": {
       "model_id": "08a883057a1a4092a865eabcc6d8d9c0",
       "version_major": 2,
       "version_minor": 0
      },
      "text/plain": [
       "Dropdown(description='Files :', options=('EGFR', 'EGFR-dependent-Endothelin-signaling-events.owl'), value='EGF…"
      ]
     },
     "metadata": {},
     "output_type": "display_data"
    },
    {
     "data": {
      "text/html": [
       "<h1>Decide what Settings You want Displayed</h1>"
      ],
      "text/plain": [
       "<IPython.core.display.HTML object>"
      ]
     },
     "metadata": {},
     "output_type": "display_data"
    },
    {
     "data": {
      "application/vnd.jupyter.widget-view+json": {
       "model_id": "e916b55e48b141509bac73bf3727151b",
       "version_major": 2,
       "version_minor": 0
      },
      "text/plain": [
       "HBox(children=(VBox(children=(Checkbox(value=False, description='activity_modification'), Checkbox(value=False…"
      ]
     },
     "metadata": {},
     "output_type": "display_data"
    },
    {
     "data": {
      "application/vnd.jupyter.widget-view+json": {
       "model_id": "404fa6255b974245ba27ce9a8f1ef5b2",
       "version_major": 2,
       "version_minor": 0
      },
      "text/plain": [
       "Button(button_style='info', description='Create Statements', icon='check', style=ButtonStyle(), tooltip='Click…"
      ]
     },
     "metadata": {},
     "output_type": "display_data"
    },
    {
     "data": {
      "text/html": [
       "<hr><p>&nbsp</p>"
      ],
      "text/plain": [
       "<IPython.core.display.HTML object>"
      ]
     },
     "metadata": {},
     "output_type": "display_data"
    },
    {
     "data": {
      "application/vnd.jupyter.widget-view+json": {
       "model_id": "67acf6aca9eb43f98b16d577a69ec8e0",
       "version_major": 2,
       "version_minor": 0
      },
      "text/plain": [
       "interactive(children=(Dropdown(description='category', options=('Complex', 'Phosphorylation', 'Dephosphorylati…"
      ]
     },
     "metadata": {},
     "output_type": "display_data"
    }
   ],
   "source": [
    "%run \"source/Statements Creator.ipynb\""
   ]
  },
  {
   "cell_type": "markdown",
   "metadata": {
    "heading_collapsed": true
   },
   "source": [
    "## Extract Single Statement"
   ]
  },
  {
   "cell_type": "markdown",
   "metadata": {
    "hidden": true
   },
   "source": [
    "To convert a single statement we delete all but one single statement from <font color=\"blue\">biopax_processor</font>. We then convert that single statement"
   ]
  },
  {
   "cell_type": "code",
   "execution_count": 16,
   "metadata": {
    "hidden": true
   },
   "outputs": [
    {
     "data": {
      "text/plain": [
       "[Phosphorylation(SRC-1(), EGFR(), Y, 1068)]"
      ]
     },
     "execution_count": 16,
     "metadata": {},
     "output_type": "execute_result"
    }
   ],
   "source": [
    "biopax_processor.statements =  [ biopax_processor.statements[3] ]\n",
    "biopax_processor.statements "
   ]
  },
  {
   "cell_type": "markdown",
   "metadata": {},
   "source": [
    "# View Statement"
   ]
  },
  {
   "cell_type": "markdown",
   "metadata": {},
   "source": [
    "We view a single indra statement in both the indra format and the CX format"
   ]
  },
  {
   "cell_type": "code",
   "execution_count": 96,
   "metadata": {
    "cell_style": "split",
    "code_folding": [
     0
    ],
    "scrolled": false
   },
   "outputs": [
    {
     "data": {
      "text/html": [
       "<h1>From Indra</h1><hr>"
      ],
      "text/plain": [
       "<IPython.core.display.HTML object>"
      ]
     },
     "metadata": {},
     "output_type": "display_data"
    },
    {
     "data": {
      "application/vnd.jupyter.widget-view+json": {
       "model_id": "0d344db46e7b4acd9f8825611ebf62c0",
       "version_major": 2,
       "version_minor": 0
      },
      "text/plain": [
       "interactive(children=(Dropdown(description='category', options=('Complex', 'Phosphorylation', 'Dephosphorylati…"
      ]
     },
     "metadata": {},
     "output_type": "display_data"
    }
   ],
   "source": [
    "# Indra Code\n",
    "display(HTML( \"<h1>From Indra</h1><hr>\" ))\n",
    "indraViewer.viewStatements( biopax_processor )"
   ]
  },
  {
   "cell_type": "code",
   "execution_count": 86,
   "metadata": {
    "cell_style": "split",
    "code_folding": []
   },
   "outputs": [
    {
     "data": {
      "text/html": [
       "<h1>From CX</h1><hr><p>\n",
       "We convert the statement using the usual\n",
       "<a href=\"http://indra.akintunde.org/edit/indra/indra/assemblers/cx_assembler.py\">\n",
       "cx_assembler</a> that we modified"
      ],
      "text/plain": [
       "<IPython.core.display.HTML object>"
      ]
     },
     "metadata": {},
     "output_type": "display_data"
    },
    {
     "data": {
      "text/html": [
       "<div id=\"419dec7e-329e-4557-92ac-4dd2e48118f7\" style=\"height: auto; width:100%;\"></div>"
      ],
      "text/plain": [
       "<IPython.core.display.HTML object>"
      ]
     },
     "metadata": {},
     "output_type": "display_data"
    },
    {
     "data": {
      "text/html": [
       "<script>\n",
       "        require([\"https://rawgit.com/caldwell/renderjson/master/renderjson.js\"], function() {\n",
       "          renderjson.set_show_to_level(1)\n",
       "          document.getElementById('419dec7e-329e-4557-92ac-4dd2e48118f7').appendChild(renderjson([\n",
       "  {\n",
       "    \"numberVerification\": [\n",
       "      {\n",
       "        \"longNumber\": 281474976710655\n",
       "      }\n",
       "    ]\n",
       "  },\n",
       "  {\n",
       "    \"metaData\": [\n",
       "      {\n",
       "        \"consistencyGroup\": 1,\n",
       "        \"idCounter\": 3,\n",
       "        \"name\": \"@Context\",\n",
       "        \"elementCount\": 1\n",
       "      },\n",
       "      {\n",
       "        \"consistencyGroup\": 1,\n",
       "        \"idCounter\": 3,\n",
       "        \"name\": \"networkAttributes\",\n",
       "        \"elementCount\": 3\n",
       "      },\n",
       "      {\n",
       "        \"consistencyGroup\": 1,\n",
       "        \"idCounter\": 3,\n",
       "        \"name\": \"nodes\",\n",
       "        \"elementCount\": 2\n",
       "      },\n",
       "      {\n",
       "        \"consistencyGroup\": 1,\n",
       "        \"idCounter\": 3,\n",
       "        \"name\": \"edges\",\n",
       "        \"elementCount\": 1\n",
       "      },\n",
       "      {\n",
       "        \"consistencyGroup\": 1,\n",
       "        \"idCounter\": 3,\n",
       "        \"name\": \"nodeAttributes\",\n",
       "        \"elementCount\": 2\n",
       "      },\n",
       "      {\n",
       "        \"consistencyGroup\": 1,\n",
       "        \"idCounter\": 3,\n",
       "        \"name\": \"edgeAttributes\",\n",
       "        \"elementCount\": 5\n",
       "      }\n",
       "    ]\n",
       "  },\n",
       "  {\n",
       "    \"@Context\": [\n",
       "      {\n",
       "        \"uniprot knowledgebase\": \"http://identifiers.org/uniprot/\",\n",
       "        \"pubmed\": \"http://identifiers.org/pubmed/\",\n",
       "        \"hprd\": \"http://identifiers.org/hprd/\",\n",
       "        \"cas\": \"http://identifiers.org/cas/\",\n",
       "        \"KEGG Compound\": \"http://identifiers.org/kegg.compound/\",\n",
       "        \"chebi\": \"http://identifiers.org/chebi/CHEBI:\",\n",
       "        \"HGNC\": \"https://www.ebi.ac.uk/miriam/main/datatypes/MIR:00000080\"\n",
       "      }\n",
       "    ]\n",
       "  },\n",
       "  {\n",
       "    \"networkAttributes\": [\n",
       "      {\n",
       "        \"n\": \"name\",\n",
       "        \"v\": \"indra_assembled\"\n",
       "      },\n",
       "      {\n",
       "        \"n\": \"description\",\n",
       "        \"v\": \"An Indra Auto-Curated network\"\n",
       "      },\n",
       "      {\n",
       "        \"n\": \"version\",\n",
       "        \"v\": \"1.0\"\n",
       "      }\n",
       "    ]\n",
       "  },\n",
       "  {\n",
       "    \"nodes\": [\n",
       "      {\n",
       "        \"@id\": 0,\n",
       "        \"r\": \"SRC-1\",\n",
       "        \"n\": \"SRC-1\"\n",
       "      },\n",
       "      {\n",
       "        \"@id\": 1,\n",
       "        \"r\": \"EGFR\",\n",
       "        \"n\": \"EGFR\"\n",
       "      }\n",
       "    ]\n",
       "  },\n",
       "  {\n",
       "    \"edges\": [\n",
       "      {\n",
       "        \"@id\": 2,\n",
       "        \"s\": 0,\n",
       "        \"i\": \"Phosphorylation\",\n",
       "        \"t\": 1\n",
       "      }\n",
       "    ]\n",
       "  },\n",
       "  {\n",
       "    \"nodeAttributes\": [\n",
       "      {\n",
       "        \"n\": \"type\",\n",
       "        \"po\": 0,\n",
       "        \"v\": \"other\"\n",
       "      },\n",
       "      {\n",
       "        \"n\": \"type\",\n",
       "        \"po\": 1,\n",
       "        \"v\": \"other\"\n",
       "      }\n",
       "    ]\n",
       "  },\n",
       "  {\n",
       "    \"edgeAttributes\": [\n",
       "      {\n",
       "        \"n\": \"INDRA statement\",\n",
       "        \"po\": 2,\n",
       "        \"v\": \"Phosphorylation(SRC-1(), EGFR(), Y, 1068)\"\n",
       "      },\n",
       "      {\n",
       "        \"n\": \"type\",\n",
       "        \"po\": 2,\n",
       "        \"v\": \"Modification\"\n",
       "      },\n",
       "      {\n",
       "        \"n\": \"polarity\",\n",
       "        \"po\": 2,\n",
       "        \"v\": \"positive\"\n",
       "      },\n",
       "      {\n",
       "        \"n\": \"Belief score\",\n",
       "        \"po\": 2,\n",
       "        \"v\": \"1.00\"\n",
       "      },\n",
       "      {\n",
       "        \"n\": \"supportType\",\n",
       "        \"po\": 2,\n",
       "        \"v\": \"database\"\n",
       "      }\n",
       "    ]\n",
       "  },\n",
       "  {\n",
       "    \"status\": [\n",
       "      {\n",
       "        \"success\": true,\n",
       "        \"error\": \"\"\n",
       "      }\n",
       "    ]\n",
       "  }\n",
       "]))\n",
       "        });</script>\n",
       "        "
      ],
      "text/plain": [
       "<IPython.core.display.HTML object>"
      ]
     },
     "metadata": {},
     "output_type": "display_data"
    }
   ],
   "source": [
    "# CX Code\n",
    "display(HTML( \"\"\"<h1>From CX</h1><hr><p>\n",
    "We convert the statement using the usual\n",
    "<a href=\"http://indra.akintunde.org/edit/indra/indra/assemblers/cx_assembler.py\">\n",
    "cx_assembler</a> that we modified\"\"\" ))\n",
    "\n",
    "statements = biopax_processor.statements\n",
    "cx_maker = cx_assembler.CxAssembler(stmts=statements)\n",
    "cx_json = cx_maker.make_model(add_indra_json=False)\n",
    "json_view = indraViewer.renderJSON( cx_json )"
   ]
  },
  {
   "cell_type": "markdown",
   "metadata": {},
   "source": [
    "# Test cx_assembler.ipynb"
   ]
  },
  {
   "cell_type": "code",
   "execution_count": 80,
   "metadata": {},
   "outputs": [
    {
     "data": {
      "text/html": [
       "<style> *{margin:0; padding:0;} html, body,              .container{margin:0;!important padding:0;!important}              .container { width:100% !important;}</style>"
      ],
      "text/plain": [
       "<IPython.core.display.HTML object>"
      ]
     },
     "metadata": {},
     "output_type": "display_data"
    },
    {
     "name": "stdout",
     "output_type": "stream",
     "text": [
      "Imported: CxAssembler\n"
     ]
    }
   ],
   "source": [
    "%run \"source/cx_assembler.ipynb\""
   ]
  },
  {
   "cell_type": "code",
   "execution_count": 82,
   "metadata": {},
   "outputs": [
    {
     "data": {
      "text/html": [
       "<div id=\"082bb941-5429-48e1-a6c1-2bfff70d017d\" style=\"height: auto; width:100%;\"></div>"
      ],
      "text/plain": [
       "<IPython.core.display.HTML object>"
      ]
     },
     "metadata": {},
     "output_type": "display_data"
    },
    {
     "data": {
      "text/html": [
       "<script>\n",
       "        require([\"https://rawgit.com/caldwell/renderjson/master/renderjson.js\"], function() {\n",
       "          renderjson.set_show_to_level(1)\n",
       "          document.getElementById('082bb941-5429-48e1-a6c1-2bfff70d017d').appendChild(renderjson([\n",
       "  {\n",
       "    \"numberVerification\": [\n",
       "      {\n",
       "        \"longNumber\": 281474976710655\n",
       "      }\n",
       "    ]\n",
       "  },\n",
       "  {\n",
       "    \"metaData\": [\n",
       "      {\n",
       "        \"consistencyGroup\": 1,\n",
       "        \"idCounter\": 3,\n",
       "        \"name\": \"@Context\",\n",
       "        \"elementCount\": 1\n",
       "      },\n",
       "      {\n",
       "        \"consistencyGroup\": 1,\n",
       "        \"idCounter\": 3,\n",
       "        \"name\": \"networkAttributes\",\n",
       "        \"elementCount\": 3\n",
       "      },\n",
       "      {\n",
       "        \"consistencyGroup\": 1,\n",
       "        \"idCounter\": 3,\n",
       "        \"name\": \"nodes\",\n",
       "        \"elementCount\": 2\n",
       "      },\n",
       "      {\n",
       "        \"consistencyGroup\": 1,\n",
       "        \"idCounter\": 3,\n",
       "        \"name\": \"edges\",\n",
       "        \"elementCount\": 1\n",
       "      },\n",
       "      {\n",
       "        \"consistencyGroup\": 1,\n",
       "        \"idCounter\": 3,\n",
       "        \"name\": \"nodeAttributes\",\n",
       "        \"elementCount\": 2\n",
       "      },\n",
       "      {\n",
       "        \"consistencyGroup\": 1,\n",
       "        \"idCounter\": 3,\n",
       "        \"name\": \"edgeAttributes\",\n",
       "        \"elementCount\": 5\n",
       "      }\n",
       "    ]\n",
       "  },\n",
       "  {\n",
       "    \"@Context\": [\n",
       "      {\n",
       "        \"uniprot knowledgebase\": \"http://identifiers.org/uniprot/\",\n",
       "        \"pubmed\": \"http://identifiers.org/pubmed/\",\n",
       "        \"hprd\": \"http://identifiers.org/hprd/\",\n",
       "        \"cas\": \"http://identifiers.org/cas/\",\n",
       "        \"KEGG Compound\": \"http://identifiers.org/kegg.compound/\",\n",
       "        \"chebi\": \"http://identifiers.org/chebi/CHEBI:\",\n",
       "        \"HGNC\": \"https://www.ebi.ac.uk/miriam/main/datatypes/MIR:00000080\"\n",
       "      }\n",
       "    ]\n",
       "  },\n",
       "  {\n",
       "    \"networkAttributes\": [\n",
       "      {\n",
       "        \"n\": \"name\",\n",
       "        \"v\": \"indra_assembled\"\n",
       "      },\n",
       "      {\n",
       "        \"n\": \"description\",\n",
       "        \"v\": \"An Indra Auto-Curated network\"\n",
       "      },\n",
       "      {\n",
       "        \"n\": \"version\",\n",
       "        \"v\": \"1.0\"\n",
       "      }\n",
       "    ]\n",
       "  },\n",
       "  {\n",
       "    \"nodes\": [\n",
       "      {\n",
       "        \"@id\": 0,\n",
       "        \"r\": \"SRC-1\",\n",
       "        \"n\": \"SRC-1\"\n",
       "      },\n",
       "      {\n",
       "        \"@id\": 1,\n",
       "        \"r\": \"EGFR\",\n",
       "        \"n\": \"EGFR\"\n",
       "      }\n",
       "    ]\n",
       "  },\n",
       "  {\n",
       "    \"edges\": [\n",
       "      {\n",
       "        \"@id\": 2,\n",
       "        \"s\": 0,\n",
       "        \"i\": \"Phosphorylation\",\n",
       "        \"t\": 1\n",
       "      }\n",
       "    ]\n",
       "  },\n",
       "  {\n",
       "    \"nodeAttributes\": [\n",
       "      {\n",
       "        \"n\": \"type\",\n",
       "        \"po\": 0,\n",
       "        \"v\": \"other\"\n",
       "      },\n",
       "      {\n",
       "        \"n\": \"type\",\n",
       "        \"po\": 1,\n",
       "        \"v\": \"other\"\n",
       "      }\n",
       "    ]\n",
       "  },\n",
       "  {\n",
       "    \"edgeAttributes\": [\n",
       "      {\n",
       "        \"n\": \"INDRA statement\",\n",
       "        \"po\": 2,\n",
       "        \"v\": \"Phosphorylation(SRC-1(), EGFR(), Y, 1068)\"\n",
       "      },\n",
       "      {\n",
       "        \"n\": \"type\",\n",
       "        \"po\": 2,\n",
       "        \"v\": \"Modification\"\n",
       "      },\n",
       "      {\n",
       "        \"n\": \"polarity\",\n",
       "        \"po\": 2,\n",
       "        \"v\": \"positive\"\n",
       "      },\n",
       "      {\n",
       "        \"n\": \"Belief score\",\n",
       "        \"po\": 2,\n",
       "        \"v\": \"1.00\"\n",
       "      },\n",
       "      {\n",
       "        \"n\": \"supportType\",\n",
       "        \"po\": 2,\n",
       "        \"v\": \"database\"\n",
       "      }\n",
       "    ]\n",
       "  },\n",
       "  {\n",
       "    \"status\": [\n",
       "      {\n",
       "        \"success\": true,\n",
       "        \"error\": \"\"\n",
       "      }\n",
       "    ]\n",
       "  }\n",
       "]))\n",
       "        });</script>\n",
       "        "
      ],
      "text/plain": [
       "<IPython.core.display.HTML object>"
      ]
     },
     "metadata": {},
     "output_type": "display_data"
    }
   ],
   "source": [
    "cx_maker = CxAssembler(stmts=statements)\n",
    "cx_json = cx_maker.make_model(add_indra_json=False)\n",
    "json_view = indraViewer.renderJSON( cx_json )"
   ]
  },
  {
   "cell_type": "code",
   "execution_count": 93,
   "metadata": {},
   "outputs": [
    {
     "data": {
      "text/plain": [
       "['__class__',\n",
       " '__delattr__',\n",
       " '__dict__',\n",
       " '__dir__',\n",
       " '__doc__',\n",
       " '__eq__',\n",
       " '__format__',\n",
       " '__ge__',\n",
       " '__getattribute__',\n",
       " '__gt__',\n",
       " '__hash__',\n",
       " '__init__',\n",
       " '__le__',\n",
       " '__lt__',\n",
       " '__module__',\n",
       " '__ne__',\n",
       " '__new__',\n",
       " '__reduce__',\n",
       " '__reduce_ex__',\n",
       " '__repr__',\n",
       " '__setattr__',\n",
       " '__sizeof__',\n",
       " '__str__',\n",
       " '__subclasshook__',\n",
       " '__weakref__',\n",
       " '_from_json',\n",
       " '_get_mod_condition',\n",
       " 'agent_list',\n",
       " 'agent_list_with_bound_condition_agents',\n",
       " 'belief',\n",
       " 'contradicts',\n",
       " 'entities_match',\n",
       " 'entities_match_key',\n",
       " 'enz',\n",
       " 'equals',\n",
       " 'evidence',\n",
       " 'make_generic_copy',\n",
       " 'matches',\n",
       " 'matches_key',\n",
       " 'position',\n",
       " 'print_supports',\n",
       " 'refinement_of',\n",
       " 'residue',\n",
       " 'set_agent_list',\n",
       " 'sub',\n",
       " 'supported_by',\n",
       " 'supports',\n",
       " 'to_graph',\n",
       " 'to_json',\n",
       " 'uuid']"
      ]
     },
     "execution_count": 93,
     "metadata": {},
     "output_type": "execute_result"
    }
   ],
   "source": [
    "dir( biopax_processor.statements[0] )"
   ]
  },
  {
   "cell_type": "code",
   "execution_count": null,
   "metadata": {},
   "outputs": [],
   "source": []
  }
 ],
 "metadata": {
  "hide_input": false,
  "kernelspec": {
   "display_name": "Python 3",
   "language": "python",
   "name": "python3"
  },
  "language_info": {
   "codemirror_mode": {
    "name": "ipython",
    "version": 3
   },
   "file_extension": ".py",
   "mimetype": "text/x-python",
   "name": "python",
   "nbconvert_exporter": "python",
   "pygments_lexer": "ipython3",
   "version": "3.5.5"
  },
  "toc": {
   "base_numbering": 1,
   "nav_menu": {},
   "number_sections": true,
   "sideBar": true,
   "skip_h1_title": false,
   "title_cell": "Table of Contents",
   "title_sidebar": "Contents",
   "toc_cell": false,
   "toc_position": {},
   "toc_section_display": true,
   "toc_window_display": false
  },
  "varInspector": {
   "cols": {
    "lenName": 16,
    "lenType": 16,
    "lenVar": 40
   },
   "kernels_config": {
    "python": {
     "delete_cmd_postfix": "",
     "delete_cmd_prefix": "del ",
     "library": "var_list.py",
     "varRefreshCmd": "print(var_dic_list())"
    },
    "r": {
     "delete_cmd_postfix": ") ",
     "delete_cmd_prefix": "rm(",
     "library": "var_list.r",
     "varRefreshCmd": "cat(var_dic_list()) "
    }
   },
   "types_to_exclude": [
    "module",
    "function",
    "builtin_function_or_method",
    "instance",
    "_Feature"
   ],
   "window_display": false
  }
 },
 "nbformat": 4,
 "nbformat_minor": 2
}
