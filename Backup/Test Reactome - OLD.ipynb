{
 "cells": [
  {
   "cell_type": "markdown",
   "metadata": {
    "heading_collapsed": true
   },
   "source": [
    "# Setup Notebook <font color=\"magenta\">source</font>"
   ]
  },
  {
   "cell_type": "markdown",
   "metadata": {
    "hidden": true
   },
   "source": [
    "Download environmental variables for Java and Google Cloud application key"
   ]
  },
  {
   "cell_type": "code",
   "execution_count": 11,
   "metadata": {
    "hidden": true
   },
   "outputs": [
    {
     "name": "stdout",
     "output_type": "stream",
     "text": [
      "env: GOOGLE_APPLICATION_CREDENTIALS=/root/Documents/data/NDEX-e06611c0a4d0.json\n",
      "env: JAVA_HOME=/usr/lib/jvm/java-8-openjdk-amd64\n"
     ]
    }
   ],
   "source": [
    "%env GOOGLE_APPLICATION_CREDENTIALS=/root/Documents/data/NDEX-e06611c0a4d0.json\n",
    "%env JAVA_HOME=/usr/lib/jvm/java-8-openjdk-amd64"
   ]
  },
  {
   "cell_type": "markdown",
   "metadata": {
    "hidden": true
   },
   "source": [
    "Setup notebook view"
   ]
  },
  {
   "cell_type": "code",
   "execution_count": 12,
   "metadata": {
    "hidden": true
   },
   "outputs": [
    {
     "data": {
      "text/html": [
       "<style> *{margin:0; padding:0;} html, body,              .container{margin:0;!important padding:0;!important}              .container { width:100% !important;}</style>"
      ],
      "text/plain": [
       "<IPython.core.display.HTML object>"
      ]
     },
     "metadata": {},
     "output_type": "display_data"
    }
   ],
   "source": [
    "from IPython.core.display import HTML, display\n",
    "# to reverse this feature restart kernel with \"restart and clear output\"\n",
    "display(HTML(\"<style> *{margin:0; padding:0;} html, body, \\\n",
    "             .container{margin:0;!important padding:0;!important} \\\n",
    "             .container { width:100% !important;}</style>\"))"
   ]
  },
  {
   "cell_type": "markdown",
   "metadata": {
    "hidden": true
   },
   "source": [
    "Import basic python packages"
   ]
  },
  {
   "cell_type": "code",
   "execution_count": 13,
   "metadata": {
    "hidden": true
   },
   "outputs": [],
   "source": [
    "import sys\n",
    "import numpy as np\n",
    "from pprint import pprint\n",
    "import inspect\n",
    "import os"
   ]
  },
  {
   "cell_type": "markdown",
   "metadata": {
    "hidden": true
   },
   "source": [
    "Import essential jupyter packages"
   ]
  },
  {
   "cell_type": "code",
   "execution_count": 14,
   "metadata": {
    "hidden": true
   },
   "outputs": [],
   "source": [
    "import ipywidgets as widgets\n",
    "from ipywidgets import interact, interactive, fixed, interact_manual\n",
    "import ipywidgets as ipw\n",
    "from IPython.display import clear_output"
   ]
  },
  {
   "cell_type": "code",
   "execution_count": 15,
   "metadata": {
    "hidden": true
   },
   "outputs": [],
   "source": [
    "%matplotlib inline\n",
    "import matplotlib.pyplot as plt"
   ]
  },
  {
   "cell_type": "markdown",
   "metadata": {
    "hidden": true
   },
   "source": [
    "Import indra packages"
   ]
  },
  {
   "cell_type": "code",
   "execution_count": 16,
   "metadata": {
    "hidden": true
   },
   "outputs": [],
   "source": [
    "sys.path.append(\"/root/Documents/indra\")\n",
    "from indra.sources import biopax\n",
    "from indra.sources import trips\n",
    "from indra import assemblers\n",
    "from indra.assemblers import cx_assembler"
   ]
  },
  {
   "cell_type": "code",
   "execution_count": 17,
   "metadata": {
    "hidden": true
   },
   "outputs": [],
   "source": [
    "import ndex2"
   ]
  },
  {
   "cell_type": "markdown",
   "metadata": {
    "hidden": true
   },
   "source": [
    "Import google cloud packages"
   ]
  },
  {
   "cell_type": "code",
   "execution_count": 18,
   "metadata": {
    "hidden": true
   },
   "outputs": [],
   "source": [
    "import redis\n",
    "from google.cloud import datastore"
   ]
  },
  {
   "cell_type": "markdown",
   "metadata": {},
   "source": [
    "# Load Reactome File"
   ]
  },
  {
   "cell_type": "markdown",
   "metadata": {},
   "source": [
    "[This video](https://youtu.be/deDb0PNffWI) shows how th [file that is used](http://35.202.126.210/edit/data/reactome/EGFR) was created."
   ]
  },
  {
   "cell_type": "code",
   "execution_count": 7,
   "metadata": {
    "code_folding": [
     0
    ]
   },
   "outputs": [
    {
     "data": {
      "text/html": [
       "\n",
       "<div class=\"row\"><div class=\"col-xs-12 col-md-offset-3 col-md-6\">\n",
       "<div class=\"embed-responsive embed-responsive-16by9\">\n",
       "  <iframe class=\"embed-responsive-item\" \n",
       "  src='https://www.youtube.com/embed/deDb0PNffWI'></iframe></div>\n",
       "</div></div>\n"
      ],
      "text/plain": [
       "<IPython.core.display.HTML object>"
      ]
     },
     "execution_count": 7,
     "metadata": {},
     "output_type": "execute_result"
    }
   ],
   "source": [
    "# HTML for youtube\n",
    "HTML(\"\"\"\n",
    "<div class=\"row\"><div class=\"col-xs-12 col-md-offset-3 col-md-6\">\n",
    "<div class=\"embed-responsive embed-responsive-16by9\">\n",
    "  <iframe class=\"embed-responsive-item\" \n",
    "  src='https://www.youtube.com/embed/deDb0PNffWI'></iframe></div>\n",
    "</div></div>\n",
    "\"\"\")"
   ]
  },
  {
   "cell_type": "code",
   "execution_count": 19,
   "metadata": {},
   "outputs": [],
   "source": [
    "biopax_processor = biopax.biopax_api.process_owl(\"data/reactome/EGFR\")"
   ]
  },
  {
   "cell_type": "code",
   "execution_count": 20,
   "metadata": {},
   "outputs": [
    {
     "name": "stdout",
     "output_type": "stream",
     "text": [
      "0 Dephosphorylation(PTPN12(), p-6Y-EGFR(mods: (phosphorylation, Y, 1045), (phosphorylation, Y, 992), (phosphorylation, Y, 1086), (phosphorylation, Y, 1068), (phosphorylation, Y, 1173)), Y, 1148)\n",
      "1 Dephosphorylation(PTPN3(), Eps15(), Y, 850)\n",
      "2 Phosphorylation(SRC-1(), EGFR(), Y, 1045)\n",
      "3 Phosphorylation(SRC-1(), EGFR(), Y, 992)\n",
      "4 Phosphorylation(SRC-1(), EGFR(), Y, 1086)\n",
      "5 Phosphorylation(SRC-1(), EGFR(), Y, 1068)\n",
      "6 Phosphorylation(SRC-1(), EGFR(), Y, 1173)\n",
      "7 Phosphorylation(SRC-1(), EGFR(), Y, 1148)\n"
     ]
    }
   ],
   "source": [
    "for idx, stmt in enumerate(biopax_processor.statements):\n",
    "    print(idx, stmt)"
   ]
  },
  {
   "cell_type": "markdown",
   "metadata": {},
   "source": [
    "# Indra `Get()` Test  <font color=\"magenta\"> source</font>"
   ]
  },
  {
   "cell_type": "markdown",
   "metadata": {},
   "source": [
    "Use the **<font color=\"green\">box below</font>** to select a BioPax file. This file will be used for the functions in this section."
   ]
  },
  {
   "cell_type": "code",
   "execution_count": 22,
   "metadata": {
    "code_folding": [
     2
    ]
   },
   "outputs": [
    {
     "data": {
      "application/vnd.jupyter.widget-view+json": {
       "model_id": "ef72d95ff7944beda726cd500508aba5",
       "version_major": 2,
       "version_minor": 0
      },
      "text/plain": [
       "interactive(children=(Text(value='path/to/file.ipynb', description='File_Path'), Output()), _dom_classes=('wid…"
      ]
     },
     "metadata": {},
     "output_type": "display_data"
    }
   ],
   "source": [
    "filename = \"\"\n",
    "@interact(File_Path=\"path/to/file.ipynb\")\n",
    "def get_filename(File_Path):\n",
    "    global filename\n",
    "    filename = File_Path"
   ]
  },
  {
   "cell_type": "markdown",
   "metadata": {},
   "source": [
    "The `get()` helper function: This prints statments from using a one of the *\"get\"* commands"
   ]
  },
  {
   "cell_type": "code",
   "execution_count": 23,
   "metadata": {
    "code_folding": []
   },
   "outputs": [],
   "source": [
    "def get(func_name, filename):\n",
    "    biopax_processor = biopax.biopax_api.process_owl( filename )\n",
    "    getattr(biopax_processor, func_name)()\n",
    "    for idx, stmt in enumerate(biopax_processor.statements): print(idx, stmt)"
   ]
  },
  {
   "cell_type": "markdown",
   "metadata": {},
   "source": [
    "The `upload` helper function: uploads models to ndex."
   ]
  },
  {
   "cell_type": "code",
   "execution_count": 24,
   "metadata": {
    "code_folding": [
     0
    ]
   },
   "outputs": [],
   "source": [
    "def upload(biopax_processor, ndex_name):\n",
    "    cx = cx_assembler.CxAssembler( stmts= biopax_processor.statements,  network_name= ndex_name )\n",
    "    cx_test.make_model(add_indra_json=True) \n",
    "    cx_test.save_model(file_name='model.cx') \n",
    "    cx.upload_model({ 'user':\"pupster90\",'password':\"Owdy 150!\" })"
   ]
  },
  {
   "cell_type": "markdown",
   "metadata": {},
   "source": [
    "## Get Functions"
   ]
  },
  {
   "cell_type": "markdown",
   "metadata": {
    "cell_style": "center",
    "heading_collapsed": true
   },
   "source": [
    "### no get()"
   ]
  },
  {
   "cell_type": "code",
   "execution_count": 25,
   "metadata": {
    "cell_style": "center",
    "hidden": true
   },
   "outputs": [
    {
     "name": "stdout",
     "output_type": "stream",
     "text": [
      "0 Dephosphorylation(PTPN12(), p-6Y-EGFR(mods: (phosphorylation, Y, 1045), (phosphorylation, Y, 992), (phosphorylation, Y, 1086), (phosphorylation, Y, 1068), (phosphorylation, Y, 1173)), Y, 1148)\n",
      "1 Dephosphorylation(PTPN3(), Eps15(), Y, 850)\n",
      "2 Phosphorylation(SRC-1(), EGFR(), Y, 1045)\n",
      "3 Phosphorylation(SRC-1(), EGFR(), Y, 992)\n",
      "4 Phosphorylation(SRC-1(), EGFR(), Y, 1086)\n",
      "5 Phosphorylation(SRC-1(), EGFR(), Y, 1068)\n",
      "6 Phosphorylation(SRC-1(), EGFR(), Y, 1173)\n",
      "7 Phosphorylation(SRC-1(), EGFR(), Y, 1148)\n"
     ]
    }
   ],
   "source": [
    "biopax_processor = biopax.biopax_api.process_owl( filename )\n",
    "for idx, stmt in enumerate(biopax_processor.statements): print(idx, stmt)"
   ]
  },
  {
   "cell_type": "markdown",
   "metadata": {
    "cell_style": "split",
    "heading_collapsed": true
   },
   "source": [
    "### get_activity_modification()\n",
    "\n",
    "**<font color=\"red\">bad</font>** replicates data"
   ]
  },
  {
   "cell_type": "code",
   "execution_count": null,
   "metadata": {
    "cell_style": "split",
    "hidden": true,
    "scrolled": false
   },
   "outputs": [],
   "source": [
    "get(\"get_activity_modification\", filename)"
   ]
  },
  {
   "cell_type": "markdown",
   "metadata": {
    "cell_style": "split",
    "heading_collapsed": true
   },
   "source": [
    "### get_complexes()\n",
    "\n",
    "**<font color=\"green\">good</font>** it pulls data"
   ]
  },
  {
   "cell_type": "code",
   "execution_count": 84,
   "metadata": {
    "cell_style": "split",
    "hidden": true,
    "scrolled": true
   },
   "outputs": [
    {
     "name": "stdout",
     "output_type": "stream",
     "text": [
      "0 Dephosphorylation(PTPN12(), p-6Y-EGFR(mods: (phosphorylation, Y, 1045), (phosphorylation, Y, 992), (phosphorylation, Y, 1086), (phosphorylation, Y, 1068), (phosphorylation, Y, 1173)), Y, 1148)\n",
      "1 Dephosphorylation(PTPN3(), Eps15(), Y, 850)\n",
      "2 Phosphorylation(SRC-1(), EGFR(), Y, 1045)\n",
      "3 Phosphorylation(SRC-1(), EGFR(), Y, 992)\n",
      "4 Phosphorylation(SRC-1(), EGFR(), Y, 1086)\n",
      "5 Phosphorylation(SRC-1(), EGFR(), Y, 1068)\n",
      "6 Phosphorylation(SRC-1(), EGFR(), Y, 1173)\n",
      "7 Phosphorylation(SRC-1(), EGFR(), Y, 1148)\n",
      "8 Complex(p-6Y-EGFR(mods: (phosphorylation, Y, 1045), (phosphorylation, Y, 992), (phosphorylation, Y, 1086), (phosphorylation, Y, 1068), (phosphorylation, Y, 1173), (phosphorylation, Y, 1148)), EGF())\n",
      "9 Complex(EGF(), EGFR())\n",
      "10 Complex(EGF(), EGFR())\n",
      "11 Complex(ADAM10(215-824)(), Zn2+())\n",
      "12 Complex(ADAM12(), Zn2+())\n",
      "13 Complex(TACE(), Zn2+())\n",
      "14 Complex(p-6Y-EGFR(mods: (phosphorylation, Y, 1045), (phosphorylation, Y, 992), (phosphorylation, Y, 1086), (phosphorylation, Y, 1068), (phosphorylation, Y, 1173), (phosphorylation, Y, 1148)), EGF(), SOS1(), Ash-L())\n",
      "15 Complex(SOS1(), Ash-L())\n",
      "16 Complex(p-PLCG1(mods: (phosphorylation, Y, 771), (phosphorylation, Y, 472), (phosphorylation, Y, 783), (phosphorylation, Y, 1253)), p-6Y-EGFR(mods: (phosphorylation, Y, 1045), (phosphorylation, Y, 992), (phosphorylation, Y, 1086), (phosphorylation, Y, 1068), (phosphorylation, Y, 1173), (phosphorylation, Y, 1148)), EGF())\n",
      "17 Complex(p-6Y-EGFR(mods: (phosphorylation, Y, 1045), (phosphorylation, Y, 992), (phosphorylation, Y, 1086), (phosphorylation, Y, 1068), (phosphorylation, Y, 1173), (phosphorylation, Y, 1148)), EGF(), PLC1())\n",
      "18 Complex(p-6Y-EGFR(mods: (phosphorylation, Y, 1045), (phosphorylation, Y, 992), (phosphorylation, Y, 1086), (phosphorylation, Y, 1068), (phosphorylation, Y, 1173), (phosphorylation, Y, 1148)), EGF())\n",
      "19 Complex(HGS(), Eps15(mods: (phosphorylation, Y, 850)), STAM2())\n",
      "20 Complex(HGS(), Eps15(mods: (phosphorylation, Y, 850)), STAM())\n",
      "21 Complex(p-Y992,Y1045,Y1068,Y1086,Y1173-EGFR(mods: (phosphorylation, Y, 1045), (phosphorylation, Y, 992), (phosphorylation, Y, 1086), (phosphorylation, Y, 1068), (phosphorylation, Y, 1173)), EGF())\n",
      "22 Complex(p-Y992,Y1045,Y1068,Y1086,Y1173-EGFR(mods: (phosphorylation, Y, 1045), (phosphorylation, Y, 992), (phosphorylation, Y, 1086), (phosphorylation, Y, 1068), (phosphorylation, Y, 1173)), EGF())\n",
      "23 Complex(p-Y53-SPRY1(mods: (phosphorylation, Y, 53)), p-6Y-EGFR(mods: (phosphorylation, Y, 1045), (phosphorylation, Y, 992), (phosphorylation, Y, 1086), (phosphorylation, Y, 1068), (phosphorylation, Y, 1173), (phosphorylation, Y, 1148)), EGF(), CBL(), CBL())\n",
      "24 Complex(p-Y55-SPRY2(mods: (phosphorylation, Y, 55)), p-6Y-EGFR(mods: (phosphorylation, Y, 1045), (phosphorylation, Y, 992), (phosphorylation, Y, 1086), (phosphorylation, Y, 1068), (phosphorylation, Y, 1173), (phosphorylation, Y, 1148)), EGF(), CBL(), CBL())\n",
      "25 Complex(Ub-SH3KBP1(mods: (ubiquitination, K)), Ub-SH3KBP1(mods: (ubiquitination, K)), Ub-SH3KBP1(mods: (ubiquitination, K)), Ub-SH3KBP1(mods: (ubiquitination, K)))\n",
      "26 Complex(SH3GL3(), SH3GL3(), SH3GL1(), SH3GL1(), SH3GL2(), SH3GL2(), Ub-SH3KBP1(mods: (ubiquitination, K)), Ub-SH3KBP1(mods: (ubiquitination, K)), Ub-SH3KBP1(mods: (ubiquitination, K)), Ub-SH3KBP1(mods: (ubiquitination, K)))\n",
      "27 Complex(PIP3(), Ash-L(), p-Y627,Y659-GAB1(mods: (phosphorylation, Y, 659), (phosphorylation, Y, 627)))\n",
      "28 Complex(p-6Y-EGFR(mods: (phosphorylation, Y, 1045), (phosphorylation, Y, 992), (phosphorylation, Y, 1086), (phosphorylation, Y, 1068), (phosphorylation, Y, 1173), (phosphorylation, Y, 1148)), EGF(), SHP2(), PIP3(), Ash-L(), p-Y627,Y659-GAB1(mods: (phosphorylation, Y, 659), (phosphorylation, Y, 627)), Ash-L(), p-Y627,Y659-GAB1(mods: (phosphorylation, Y, 659), (phosphorylation, Y, 627)))\n",
      "29 Complex(p-6Y-EGFR(mods: (phosphorylation, Y, 1045), (phosphorylation, Y, 992), (phosphorylation, Y, 1086), (phosphorylation, Y, 1068), (phosphorylation, Y, 1173), (phosphorylation, Y, 1148)), EGF(), PIP3(), p-5Y-GAB1(mods: (phosphorylation, Y, 659), (phosphorylation, Y, 447), (phosphorylation, Y, 627), (phosphorylation, Y, 472), (phosphorylation, Y, 589)), Ash-L(), p-5Y-GAB1(mods: (phosphorylation, Y, 659), (phosphorylation, Y, 447), (phosphorylation, Y, 627), (phosphorylation, Y, 472), (phosphorylation, Y, 589)), Ash-L(), SHP2())\n",
      "30 Complex(Ash-L(), p-Y627,Y659-GAB1(mods: (phosphorylation, Y, 659), (phosphorylation, Y, 627)))\n",
      "31 Complex(PIP3(), Ash-L(), p-Y627,Y659-GAB1(mods: (phosphorylation, Y, 659), (phosphorylation, Y, 627)), Ash-L(), p-Y627,Y659-GAB1(mods: (phosphorylation, Y, 659), (phosphorylation, Y, 627)))\n",
      "32 Complex(PIP3(), p-5Y-GAB1(mods: (phosphorylation, Y, 659), (phosphorylation, Y, 447), (phosphorylation, Y, 627), (phosphorylation, Y, 472), (phosphorylation, Y, 589)), Ash-L())\n",
      "33 Complex(p-5Y-GAB1(mods: (phosphorylation, Y, 659), (phosphorylation, Y, 447), (phosphorylation, Y, 627), (phosphorylation, Y, 472), (phosphorylation, Y, 589)), Ash-L())\n",
      "34 Complex(p-6Y-EGFR(mods: (phosphorylation, Y, 1045), (phosphorylation, Y, 992), (phosphorylation, Y, 1086), (phosphorylation, Y, 1068), (phosphorylation, Y, 1173), (phosphorylation, Y, 1148)), EGF(), PIP3(), p-5Y-GAB1(mods: (phosphorylation, Y, 659), (phosphorylation, Y, 447), (phosphorylation, Y, 627), (phosphorylation, Y, 472), (phosphorylation, Y, 589)), Ash-L(), p-5Y-GAB1(mods: (phosphorylation, Y, 659), (phosphorylation, Y, 447), (phosphorylation, Y, 627), (phosphorylation, Y, 472), (phosphorylation, Y, 589)), Ash-L(), PIK3CA(), PIK3R1())\n",
      "35 Complex(PIK3CA(), PIK3R1())\n",
      "36 Complex(PIP3(), p-5Y-GAB1(mods: (phosphorylation, Y, 659), (phosphorylation, Y, 447), (phosphorylation, Y, 627), (phosphorylation, Y, 472), (phosphorylation, Y, 589)), Ash-L(), p-5Y-GAB1(mods: (phosphorylation, Y, 659), (phosphorylation, Y, 447), (phosphorylation, Y, 627), (phosphorylation, Y, 472), (phosphorylation, Y, 589)), Ash-L())\n",
      "37 Complex(p-Y53-SPRY1(mods: (phosphorylation, Y, 53)), UBB(153-228)(), p-6Y-EGFR(mods: (phosphorylation, Y, 1045), (phosphorylation, Y, 992), (phosphorylation, Y, 1086), (phosphorylation, Y, 1068), (phosphorylation, Y, 1173), (phosphorylation, Y, 1148)), EGF(), CBL(), CBL())\n",
      "38 Complex(p-Y53-SPRY1(mods: (phosphorylation, Y, 53)), UBB(77-152)(), p-6Y-EGFR(mods: (phosphorylation, Y, 1045), (phosphorylation, Y, 992), (phosphorylation, Y, 1086), (phosphorylation, Y, 1068), (phosphorylation, Y, 1173), (phosphorylation, Y, 1148)), EGF(), CBL(), CBL())\n",
      "39 Complex(p-Y53-SPRY1(mods: (phosphorylation, Y, 53)), UBC(77-152)(), p-6Y-EGFR(mods: (phosphorylation, Y, 1045), (phosphorylation, Y, 992), (phosphorylation, Y, 1086), (phosphorylation, Y, 1068), (phosphorylation, Y, 1173), (phosphorylation, Y, 1148)), EGF(), CBL(), CBL())\n",
      "40 Complex(p-Y53-SPRY1(mods: (phosphorylation, Y, 53)), UBC(), p-6Y-EGFR(mods: (phosphorylation, Y, 1045), (phosphorylation, Y, 992), (phosphorylation, Y, 1086), (phosphorylation, Y, 1068), (phosphorylation, Y, 1173), (phosphorylation, Y, 1148)), EGF(), CBL(), CBL())\n",
      "41 Complex(p-Y53-SPRY1(mods: (phosphorylation, Y, 53)), UBC(229-304)(), p-6Y-EGFR(mods: (phosphorylation, Y, 1045), (phosphorylation, Y, 992), (phosphorylation, Y, 1086), (phosphorylation, Y, 1068), (phosphorylation, Y, 1173), (phosphorylation, Y, 1148)), EGF(), CBL(), CBL())\n",
      "42 Complex(p-Y53-SPRY1(mods: (phosphorylation, Y, 53)), UBC(153-228)(), p-6Y-EGFR(mods: (phosphorylation, Y, 1045), (phosphorylation, Y, 992), (phosphorylation, Y, 1086), (phosphorylation, Y, 1068), (phosphorylation, Y, 1173), (phosphorylation, Y, 1148)), EGF(), CBL(), CBL())\n",
      "43 Complex(p-Y53-SPRY1(mods: (phosphorylation, Y, 53)), UBC(305-380)(), p-6Y-EGFR(mods: (phosphorylation, Y, 1045), (phosphorylation, Y, 992), (phosphorylation, Y, 1086), (phosphorylation, Y, 1068), (phosphorylation, Y, 1173), (phosphorylation, Y, 1148)), EGF(), CBL(), CBL())\n",
      "44 Complex(p-Y53-SPRY1(mods: (phosphorylation, Y, 53)), RPS27A(), p-6Y-EGFR(mods: (phosphorylation, Y, 1045), (phosphorylation, Y, 992), (phosphorylation, Y, 1086), (phosphorylation, Y, 1068), (phosphorylation, Y, 1173), (phosphorylation, Y, 1148)), EGF(), CBL(), CBL())\n",
      "45 Complex(p-Y53-SPRY1(mods: (phosphorylation, Y, 53)), UBC(457-532)(), p-6Y-EGFR(mods: (phosphorylation, Y, 1045), (phosphorylation, Y, 992), (phosphorylation, Y, 1086), (phosphorylation, Y, 1068), (phosphorylation, Y, 1173), (phosphorylation, Y, 1148)), EGF(), CBL(), CBL())\n",
      "46 Complex(p-Y53-SPRY1(mods: (phosphorylation, Y, 53)), UBC(381-456)(), p-6Y-EGFR(mods: (phosphorylation, Y, 1045), (phosphorylation, Y, 992), (phosphorylation, Y, 1086), (phosphorylation, Y, 1068), (phosphorylation, Y, 1173), (phosphorylation, Y, 1148)), EGF(), CBL(), CBL())\n",
      "47 Complex(p-Y53-SPRY1(mods: (phosphorylation, Y, 53)), UBB(), p-6Y-EGFR(mods: (phosphorylation, Y, 1045), (phosphorylation, Y, 992), (phosphorylation, Y, 1086), (phosphorylation, Y, 1068), (phosphorylation, Y, 1173), (phosphorylation, Y, 1148)), EGF(), CBL(), CBL())\n",
      "48 Complex(p-Y53-SPRY1(mods: (phosphorylation, Y, 53)), UBC(609-684)(), p-6Y-EGFR(mods: (phosphorylation, Y, 1045), (phosphorylation, Y, 992), (phosphorylation, Y, 1086), (phosphorylation, Y, 1068), (phosphorylation, Y, 1173), (phosphorylation, Y, 1148)), EGF(), CBL(), CBL())\n",
      "49 Complex(p-Y53-SPRY1(mods: (phosphorylation, Y, 53)), UBA52(), p-6Y-EGFR(mods: (phosphorylation, Y, 1045), (phosphorylation, Y, 992), (phosphorylation, Y, 1086), (phosphorylation, Y, 1068), (phosphorylation, Y, 1173), (phosphorylation, Y, 1148)), EGF(), CBL(), CBL())\n",
      "50 Complex(p-Y53-SPRY1(mods: (phosphorylation, Y, 53)), UBC(533-608)(), p-6Y-EGFR(mods: (phosphorylation, Y, 1045), (phosphorylation, Y, 992), (phosphorylation, Y, 1086), (phosphorylation, Y, 1068), (phosphorylation, Y, 1173), (phosphorylation, Y, 1148)), EGF(), CBL(), CBL())\n",
      "51 Complex(p-Y55-SPRY2(mods: (phosphorylation, Y, 55)), UBB(153-228)(), p-6Y-EGFR(mods: (phosphorylation, Y, 1045), (phosphorylation, Y, 992), (phosphorylation, Y, 1086), (phosphorylation, Y, 1068), (phosphorylation, Y, 1173), (phosphorylation, Y, 1148)), EGF(), CBL(), CBL())\n",
      "52 Complex(p-Y55-SPRY2(mods: (phosphorylation, Y, 55)), UBB(77-152)(), p-6Y-EGFR(mods: (phosphorylation, Y, 1045), (phosphorylation, Y, 992), (phosphorylation, Y, 1086), (phosphorylation, Y, 1068), (phosphorylation, Y, 1173), (phosphorylation, Y, 1148)), EGF(), CBL(), CBL())\n",
      "53 Complex(p-Y55-SPRY2(mods: (phosphorylation, Y, 55)), UBC(77-152)(), p-6Y-EGFR(mods: (phosphorylation, Y, 1045), (phosphorylation, Y, 992), (phosphorylation, Y, 1086), (phosphorylation, Y, 1068), (phosphorylation, Y, 1173), (phosphorylation, Y, 1148)), EGF(), CBL(), CBL())\n",
      "54 Complex(p-Y55-SPRY2(mods: (phosphorylation, Y, 55)), UBC(), p-6Y-EGFR(mods: (phosphorylation, Y, 1045), (phosphorylation, Y, 992), (phosphorylation, Y, 1086), (phosphorylation, Y, 1068), (phosphorylation, Y, 1173), (phosphorylation, Y, 1148)), EGF(), CBL(), CBL())\n",
      "55 Complex(p-Y55-SPRY2(mods: (phosphorylation, Y, 55)), UBC(229-304)(), p-6Y-EGFR(mods: (phosphorylation, Y, 1045), (phosphorylation, Y, 992), (phosphorylation, Y, 1086), (phosphorylation, Y, 1068), (phosphorylation, Y, 1173), (phosphorylation, Y, 1148)), EGF(), CBL(), CBL())\n",
      "56 Complex(p-Y55-SPRY2(mods: (phosphorylation, Y, 55)), UBC(153-228)(), p-6Y-EGFR(mods: (phosphorylation, Y, 1045), (phosphorylation, Y, 992), (phosphorylation, Y, 1086), (phosphorylation, Y, 1068), (phosphorylation, Y, 1173), (phosphorylation, Y, 1148)), EGF(), CBL(), CBL())\n",
      "57 Complex(p-Y55-SPRY2(mods: (phosphorylation, Y, 55)), UBC(305-380)(), p-6Y-EGFR(mods: (phosphorylation, Y, 1045), (phosphorylation, Y, 992), (phosphorylation, Y, 1086), (phosphorylation, Y, 1068), (phosphorylation, Y, 1173), (phosphorylation, Y, 1148)), EGF(), CBL(), CBL())\n",
      "58 Complex(p-Y55-SPRY2(mods: (phosphorylation, Y, 55)), RPS27A(), p-6Y-EGFR(mods: (phosphorylation, Y, 1045), (phosphorylation, Y, 992), (phosphorylation, Y, 1086), (phosphorylation, Y, 1068), (phosphorylation, Y, 1173), (phosphorylation, Y, 1148)), EGF(), CBL(), CBL())\n",
      "59 Complex(p-Y55-SPRY2(mods: (phosphorylation, Y, 55)), UBC(457-532)(), p-6Y-EGFR(mods: (phosphorylation, Y, 1045), (phosphorylation, Y, 992), (phosphorylation, Y, 1086), (phosphorylation, Y, 1068), (phosphorylation, Y, 1173), (phosphorylation, Y, 1148)), EGF(), CBL(), CBL())\n",
      "60 Complex(p-Y55-SPRY2(mods: (phosphorylation, Y, 55)), UBC(381-456)(), p-6Y-EGFR(mods: (phosphorylation, Y, 1045), (phosphorylation, Y, 992), (phosphorylation, Y, 1086), (phosphorylation, Y, 1068), (phosphorylation, Y, 1173), (phosphorylation, Y, 1148)), EGF(), CBL(), CBL())\n",
      "61 Complex(p-Y55-SPRY2(mods: (phosphorylation, Y, 55)), UBB(), p-6Y-EGFR(mods: (phosphorylation, Y, 1045), (phosphorylation, Y, 992), (phosphorylation, Y, 1086), (phosphorylation, Y, 1068), (phosphorylation, Y, 1173), (phosphorylation, Y, 1148)), EGF(), CBL(), CBL())\n",
      "62 Complex(p-Y55-SPRY2(mods: (phosphorylation, Y, 55)), UBC(609-684)(), p-6Y-EGFR(mods: (phosphorylation, Y, 1045), (phosphorylation, Y, 992), (phosphorylation, Y, 1086), (phosphorylation, Y, 1068), (phosphorylation, Y, 1173), (phosphorylation, Y, 1148)), EGF(), CBL(), CBL())\n",
      "63 Complex(p-Y55-SPRY2(mods: (phosphorylation, Y, 55)), UBA52(), p-6Y-EGFR(mods: (phosphorylation, Y, 1045), (phosphorylation, Y, 992), (phosphorylation, Y, 1086), (phosphorylation, Y, 1068), (phosphorylation, Y, 1173), (phosphorylation, Y, 1148)), EGF(), CBL(), CBL())\n",
      "64 Complex(p-Y55-SPRY2(mods: (phosphorylation, Y, 55)), UBC(533-608)(), p-6Y-EGFR(mods: (phosphorylation, Y, 1045), (phosphorylation, Y, 992), (phosphorylation, Y, 1086), (phosphorylation, Y, 1068), (phosphorylation, Y, 1173), (phosphorylation, Y, 1148)), EGF(), CBL(), CBL())\n",
      "65 Complex(p-6Y-EGFR(mods: (phosphorylation, Y, 1045), (phosphorylation, Y, 992), (phosphorylation, Y, 1086), (phosphorylation, Y, 1068), (phosphorylation, Y, 1173), (phosphorylation, Y, 1148)), p-6Y-EGFR(mods: (phosphorylation, Y, 1045), (phosphorylation, Y, 992), (phosphorylation, Y, 1086), (phosphorylation, Y, 1068), (phosphorylation, Y, 1173), (phosphorylation, Y, 1148)), p-Y371-CBL(mods: (phosphorylation, Y, 371)), p-Y371-CBL(mods: (phosphorylation, Y, 371)), EGF(), EGF())\n",
      "66 Complex(p-6Y-EGFR(mods: (phosphorylation, Y, 1045), (phosphorylation, Y, 992), (phosphorylation, Y, 1086), (phosphorylation, Y, 1068), (phosphorylation, Y, 1173), (phosphorylation, Y, 1148)), p-6Y-EGFR(mods: (phosphorylation, Y, 1045), (phosphorylation, Y, 992), (phosphorylation, Y, 1086), (phosphorylation, Y, 1068), (phosphorylation, Y, 1173), (phosphorylation, Y, 1148)), p-Y371-CBL(mods: (phosphorylation, Y, 371)), p-Y371-CBL(mods: (phosphorylation, Y, 371)), EGF(), EGF(), UBB(153-228)(), UBB(153-228)())\n",
      "67 Complex(p-6Y-EGFR(mods: (phosphorylation, Y, 1045), (phosphorylation, Y, 992), (phosphorylation, Y, 1086), (phosphorylation, Y, 1068), (phosphorylation, Y, 1173), (phosphorylation, Y, 1148)), p-6Y-EGFR(mods: (phosphorylation, Y, 1045), (phosphorylation, Y, 992), (phosphorylation, Y, 1086), (phosphorylation, Y, 1068), (phosphorylation, Y, 1173), (phosphorylation, Y, 1148)), p-Y371-CBL(mods: (phosphorylation, Y, 371)), p-Y371-CBL(mods: (phosphorylation, Y, 371)), EGF(), EGF(), UBB(153-228)(), UBB(77-152)())\n",
      "68 Complex(p-6Y-EGFR(mods: (phosphorylation, Y, 1045), (phosphorylation, Y, 992), (phosphorylation, Y, 1086), (phosphorylation, Y, 1068), (phosphorylation, Y, 1173), (phosphorylation, Y, 1148)), p-6Y-EGFR(mods: (phosphorylation, Y, 1045), (phosphorylation, Y, 992), (phosphorylation, Y, 1086), (phosphorylation, Y, 1068), (phosphorylation, Y, 1173), (phosphorylation, Y, 1148)), p-Y371-CBL(mods: (phosphorylation, Y, 371)), p-Y371-CBL(mods: (phosphorylation, Y, 371)), EGF(), EGF(), UBB(153-228)(), UBC(77-152)())\n",
      "69 Complex(p-6Y-EGFR(mods: (phosphorylation, Y, 1045), (phosphorylation, Y, 992), (phosphorylation, Y, 1086), (phosphorylation, Y, 1068), (phosphorylation, Y, 1173), (phosphorylation, Y, 1148)), p-6Y-EGFR(mods: (phosphorylation, Y, 1045), (phosphorylation, Y, 992), (phosphorylation, Y, 1086), (phosphorylation, Y, 1068), (phosphorylation, Y, 1173), (phosphorylation, Y, 1148)), p-Y371-CBL(mods: (phosphorylation, Y, 371)), p-Y371-CBL(mods: (phosphorylation, Y, 371)), EGF(), EGF(), UBB(153-228)(), UBC())\n",
      "70 Complex(p-6Y-EGFR(mods: (phosphorylation, Y, 1045), (phosphorylation, Y, 992), (phosphorylation, Y, 1086), (phosphorylation, Y, 1068), (phosphorylation, Y, 1173), (phosphorylation, Y, 1148)), p-6Y-EGFR(mods: (phosphorylation, Y, 1045), (phosphorylation, Y, 992), (phosphorylation, Y, 1086), (phosphorylation, Y, 1068), (phosphorylation, Y, 1173), (phosphorylation, Y, 1148)), p-Y371-CBL(mods: (phosphorylation, Y, 371)), p-Y371-CBL(mods: (phosphorylation, Y, 371)), EGF(), EGF(), UBB(153-228)(), UBC(229-304)())\n",
      "71 Complex(p-6Y-EGFR(mods: (phosphorylation, Y, 1045), (phosphorylation, Y, 992), (phosphorylation, Y, 1086), (phosphorylation, Y, 1068), (phosphorylation, Y, 1173), (phosphorylation, Y, 1148)), p-6Y-EGFR(mods: (phosphorylation, Y, 1045), (phosphorylation, Y, 992), (phosphorylation, Y, 1086), (phosphorylation, Y, 1068), (phosphorylation, Y, 1173), (phosphorylation, Y, 1148)), p-Y371-CBL(mods: (phosphorylation, Y, 371)), p-Y371-CBL(mods: (phosphorylation, Y, 371)), EGF(), EGF(), UBB(153-228)(), UBC(153-228)())\n",
      "72 Complex(p-6Y-EGFR(mods: (phosphorylation, Y, 1045), (phosphorylation, Y, 992), (phosphorylation, Y, 1086), (phosphorylation, Y, 1068), (phosphorylation, Y, 1173), (phosphorylation, Y, 1148)), p-6Y-EGFR(mods: (phosphorylation, Y, 1045), (phosphorylation, Y, 992), (phosphorylation, Y, 1086), (phosphorylation, Y, 1068), (phosphorylation, Y, 1173), (phosphorylation, Y, 1148)), p-Y371-CBL(mods: (phosphorylation, Y, 371)), p-Y371-CBL(mods: (phosphorylation, Y, 371)), EGF(), EGF(), UBB(153-228)(), UBC(305-380)())\n",
      "73 Complex(p-6Y-EGFR(mods: (phosphorylation, Y, 1045), (phosphorylation, Y, 992), (phosphorylation, Y, 1086), (phosphorylation, Y, 1068), (phosphorylation, Y, 1173), (phosphorylation, Y, 1148)), p-6Y-EGFR(mods: (phosphorylation, Y, 1045), (phosphorylation, Y, 992), (phosphorylation, Y, 1086), (phosphorylation, Y, 1068), (phosphorylation, Y, 1173), (phosphorylation, Y, 1148)), p-Y371-CBL(mods: (phosphorylation, Y, 371)), p-Y371-CBL(mods: (phosphorylation, Y, 371)), EGF(), EGF(), UBB(153-228)(), RPS27A())\n",
      "74 Complex(p-6Y-EGFR(mods: (phosphorylation, Y, 1045), (phosphorylation, Y, 992), (phosphorylation, Y, 1086), (phosphorylation, Y, 1068), (phosphorylation, Y, 1173), (phosphorylation, Y, 1148)), p-6Y-EGFR(mods: (phosphorylation, Y, 1045), (phosphorylation, Y, 992), (phosphorylation, Y, 1086), (phosphorylation, Y, 1068), (phosphorylation, Y, 1173), (phosphorylation, Y, 1148)), p-Y371-CBL(mods: (phosphorylation, Y, 371)), p-Y371-CBL(mods: (phosphorylation, Y, 371)), EGF(), EGF(), UBB(153-228)(), UBC(457-532)())\n",
      "75 Complex(p-6Y-EGFR(mods: (phosphorylation, Y, 1045), (phosphorylation, Y, 992), (phosphorylation, Y, 1086), (phosphorylation, Y, 1068), (phosphorylation, Y, 1173), (phosphorylation, Y, 1148)), p-6Y-EGFR(mods: (phosphorylation, Y, 1045), (phosphorylation, Y, 992), (phosphorylation, Y, 1086), (phosphorylation, Y, 1068), (phosphorylation, Y, 1173), (phosphorylation, Y, 1148)), p-Y371-CBL(mods: (phosphorylation, Y, 371)), p-Y371-CBL(mods: (phosphorylation, Y, 371)), EGF(), EGF(), UBB(153-228)(), UBC(381-456)())\n",
      "76 Complex(p-6Y-EGFR(mods: (phosphorylation, Y, 1045), (phosphorylation, Y, 992), (phosphorylation, Y, 1086), (phosphorylation, Y, 1068), (phosphorylation, Y, 1173), (phosphorylation, Y, 1148)), p-6Y-EGFR(mods: (phosphorylation, Y, 1045), (phosphorylation, Y, 992), (phosphorylation, Y, 1086), (phosphorylation, Y, 1068), (phosphorylation, Y, 1173), (phosphorylation, Y, 1148)), p-Y371-CBL(mods: (phosphorylation, Y, 371)), p-Y371-CBL(mods: (phosphorylation, Y, 371)), EGF(), EGF(), UBB(153-228)(), UBB())\n",
      "77 Complex(p-6Y-EGFR(mods: (phosphorylation, Y, 1045), (phosphorylation, Y, 992), (phosphorylation, Y, 1086), (phosphorylation, Y, 1068), (phosphorylation, Y, 1173), (phosphorylation, Y, 1148)), p-6Y-EGFR(mods: (phosphorylation, Y, 1045), (phosphorylation, Y, 992), (phosphorylation, Y, 1086), (phosphorylation, Y, 1068), (phosphorylation, Y, 1173), (phosphorylation, Y, 1148)), p-Y371-CBL(mods: (phosphorylation, Y, 371)), p-Y371-CBL(mods: (phosphorylation, Y, 371)), EGF(), EGF(), UBB(153-228)(), UBC(609-684)())\n",
      "78 Complex(p-6Y-EGFR(mods: (phosphorylation, Y, 1045), (phosphorylation, Y, 992), (phosphorylation, Y, 1086), (phosphorylation, Y, 1068), (phosphorylation, Y, 1173), (phosphorylation, Y, 1148)), p-6Y-EGFR(mods: (phosphorylation, Y, 1045), (phosphorylation, Y, 992), (phosphorylation, Y, 1086), (phosphorylation, Y, 1068), (phosphorylation, Y, 1173), (phosphorylation, Y, 1148)), p-Y371-CBL(mods: (phosphorylation, Y, 371)), p-Y371-CBL(mods: (phosphorylation, Y, 371)), EGF(), EGF(), UBB(153-228)(), UBA52())\n",
      "79 Complex(p-6Y-EGFR(mods: (phosphorylation, Y, 1045), (phosphorylation, Y, 992), (phosphorylation, Y, 1086), (phosphorylation, Y, 1068), (phosphorylation, Y, 1173), (phosphorylation, Y, 1148)), p-6Y-EGFR(mods: (phosphorylation, Y, 1045), (phosphorylation, Y, 992), (phosphorylation, Y, 1086), (phosphorylation, Y, 1068), (phosphorylation, Y, 1173), (phosphorylation, Y, 1148)), p-Y371-CBL(mods: (phosphorylation, Y, 371)), p-Y371-CBL(mods: (phosphorylation, Y, 371)), EGF(), EGF(), UBB(153-228)(), UBC(533-608)())\n",
      "80 Complex(p-6Y-EGFR(mods: (phosphorylation, Y, 1045), (phosphorylation, Y, 992), (phosphorylation, Y, 1086), (phosphorylation, Y, 1068), (phosphorylation, Y, 1173), (phosphorylation, Y, 1148)), p-6Y-EGFR(mods: (phosphorylation, Y, 1045), (phosphorylation, Y, 992), (phosphorylation, Y, 1086), (phosphorylation, Y, 1068), (phosphorylation, Y, 1173), (phosphorylation, Y, 1148)), p-Y371-CBL(mods: (phosphorylation, Y, 371)), p-Y371-CBL(mods: (phosphorylation, Y, 371)), EGF(), EGF(), UBB(77-152)(), UBB(153-228)())\n",
      "81 Complex(p-6Y-EGFR(mods: (phosphorylation, Y, 1045), (phosphorylation, Y, 992), (phosphorylation, Y, 1086), (phosphorylation, Y, 1068), (phosphorylation, Y, 1173), (phosphorylation, Y, 1148)), p-6Y-EGFR(mods: (phosphorylation, Y, 1045), (phosphorylation, Y, 992), (phosphorylation, Y, 1086), (phosphorylation, Y, 1068), (phosphorylation, Y, 1173), (phosphorylation, Y, 1148)), p-Y371-CBL(mods: (phosphorylation, Y, 371)), p-Y371-CBL(mods: (phosphorylation, Y, 371)), EGF(), EGF(), UBB(77-152)(), UBB(77-152)())\n",
      "82 Complex(p-6Y-EGFR(mods: (phosphorylation, Y, 1045), (phosphorylation, Y, 992), (phosphorylation, Y, 1086), (phosphorylation, Y, 1068), (phosphorylation, Y, 1173), (phosphorylation, Y, 1148)), p-6Y-EGFR(mods: (phosphorylation, Y, 1045), (phosphorylation, Y, 992), (phosphorylation, Y, 1086), (phosphorylation, Y, 1068), (phosphorylation, Y, 1173), (phosphorylation, Y, 1148)), p-Y371-CBL(mods: (phosphorylation, Y, 371)), p-Y371-CBL(mods: (phosphorylation, Y, 371)), EGF(), EGF(), UBB(77-152)(), UBC(77-152)())\n",
      "83 Complex(p-6Y-EGFR(mods: (phosphorylation, Y, 1045), (phosphorylation, Y, 992), (phosphorylation, Y, 1086), (phosphorylation, Y, 1068), (phosphorylation, Y, 1173), (phosphorylation, Y, 1148)), p-6Y-EGFR(mods: (phosphorylation, Y, 1045), (phosphorylation, Y, 992), (phosphorylation, Y, 1086), (phosphorylation, Y, 1068), (phosphorylation, Y, 1173), (phosphorylation, Y, 1148)), p-Y371-CBL(mods: (phosphorylation, Y, 371)), p-Y371-CBL(mods: (phosphorylation, Y, 371)), EGF(), EGF(), UBB(77-152)(), UBC())\n",
      "84 Complex(p-6Y-EGFR(mods: (phosphorylation, Y, 1045), (phosphorylation, Y, 992), (phosphorylation, Y, 1086), (phosphorylation, Y, 1068), (phosphorylation, Y, 1173), (phosphorylation, Y, 1148)), p-6Y-EGFR(mods: (phosphorylation, Y, 1045), (phosphorylation, Y, 992), (phosphorylation, Y, 1086), (phosphorylation, Y, 1068), (phosphorylation, Y, 1173), (phosphorylation, Y, 1148)), p-Y371-CBL(mods: (phosphorylation, Y, 371)), p-Y371-CBL(mods: (phosphorylation, Y, 371)), EGF(), EGF(), UBB(77-152)(), UBC(229-304)())\n",
      "85 Complex(p-6Y-EGFR(mods: (phosphorylation, Y, 1045), (phosphorylation, Y, 992), (phosphorylation, Y, 1086), (phosphorylation, Y, 1068), (phosphorylation, Y, 1173), (phosphorylation, Y, 1148)), p-6Y-EGFR(mods: (phosphorylation, Y, 1045), (phosphorylation, Y, 992), (phosphorylation, Y, 1086), (phosphorylation, Y, 1068), (phosphorylation, Y, 1173), (phosphorylation, Y, 1148)), p-Y371-CBL(mods: (phosphorylation, Y, 371)), p-Y371-CBL(mods: (phosphorylation, Y, 371)), EGF(), EGF(), UBB(77-152)(), UBC(153-228)())\n",
      "86 Complex(p-6Y-EGFR(mods: (phosphorylation, Y, 1045), (phosphorylation, Y, 992), (phosphorylation, Y, 1086), (phosphorylation, Y, 1068), (phosphorylation, Y, 1173), (phosphorylation, Y, 1148)), p-6Y-EGFR(mods: (phosphorylation, Y, 1045), (phosphorylation, Y, 992), (phosphorylation, Y, 1086), (phosphorylation, Y, 1068), (phosphorylation, Y, 1173), (phosphorylation, Y, 1148)), p-Y371-CBL(mods: (phosphorylation, Y, 371)), p-Y371-CBL(mods: (phosphorylation, Y, 371)), EGF(), EGF(), UBB(77-152)(), UBC(305-380)())\n",
      "87 Complex(p-6Y-EGFR(mods: (phosphorylation, Y, 1045), (phosphorylation, Y, 992), (phosphorylation, Y, 1086), (phosphorylation, Y, 1068), (phosphorylation, Y, 1173), (phosphorylation, Y, 1148)), p-6Y-EGFR(mods: (phosphorylation, Y, 1045), (phosphorylation, Y, 992), (phosphorylation, Y, 1086), (phosphorylation, Y, 1068), (phosphorylation, Y, 1173), (phosphorylation, Y, 1148)), p-Y371-CBL(mods: (phosphorylation, Y, 371)), p-Y371-CBL(mods: (phosphorylation, Y, 371)), EGF(), EGF(), UBB(77-152)(), RPS27A())\n",
      "88 Complex(p-6Y-EGFR(mods: (phosphorylation, Y, 1045), (phosphorylation, Y, 992), (phosphorylation, Y, 1086), (phosphorylation, Y, 1068), (phosphorylation, Y, 1173), (phosphorylation, Y, 1148)), p-6Y-EGFR(mods: (phosphorylation, Y, 1045), (phosphorylation, Y, 992), (phosphorylation, Y, 1086), (phosphorylation, Y, 1068), (phosphorylation, Y, 1173), (phosphorylation, Y, 1148)), p-Y371-CBL(mods: (phosphorylation, Y, 371)), p-Y371-CBL(mods: (phosphorylation, Y, 371)), EGF(), EGF(), UBB(77-152)(), UBC(457-532)())\n",
      "89 Complex(p-6Y-EGFR(mods: (phosphorylation, Y, 1045), (phosphorylation, Y, 992), (phosphorylation, Y, 1086), (phosphorylation, Y, 1068), (phosphorylation, Y, 1173), (phosphorylation, Y, 1148)), p-6Y-EGFR(mods: (phosphorylation, Y, 1045), (phosphorylation, Y, 992), (phosphorylation, Y, 1086), (phosphorylation, Y, 1068), (phosphorylation, Y, 1173), (phosphorylation, Y, 1148)), p-Y371-CBL(mods: (phosphorylation, Y, 371)), p-Y371-CBL(mods: (phosphorylation, Y, 371)), EGF(), EGF(), UBB(77-152)(), UBC(381-456)())\n",
      "90 Complex(p-6Y-EGFR(mods: (phosphorylation, Y, 1045), (phosphorylation, Y, 992), (phosphorylation, Y, 1086), (phosphorylation, Y, 1068), (phosphorylation, Y, 1173), (phosphorylation, Y, 1148)), p-6Y-EGFR(mods: (phosphorylation, Y, 1045), (phosphorylation, Y, 992), (phosphorylation, Y, 1086), (phosphorylation, Y, 1068), (phosphorylation, Y, 1173), (phosphorylation, Y, 1148)), p-Y371-CBL(mods: (phosphorylation, Y, 371)), p-Y371-CBL(mods: (phosphorylation, Y, 371)), EGF(), EGF(), UBB(77-152)(), UBB())\n",
      "91 Complex(p-6Y-EGFR(mods: (phosphorylation, Y, 1045), (phosphorylation, Y, 992), (phosphorylation, Y, 1086), (phosphorylation, Y, 1068), (phosphorylation, Y, 1173), (phosphorylation, Y, 1148)), p-6Y-EGFR(mods: (phosphorylation, Y, 1045), (phosphorylation, Y, 992), (phosphorylation, Y, 1086), (phosphorylation, Y, 1068), (phosphorylation, Y, 1173), (phosphorylation, Y, 1148)), p-Y371-CBL(mods: (phosphorylation, Y, 371)), p-Y371-CBL(mods: (phosphorylation, Y, 371)), EGF(), EGF(), UBB(77-152)(), UBC(609-684)())\n",
      "92 Complex(p-6Y-EGFR(mods: (phosphorylation, Y, 1045), (phosphorylation, Y, 992), (phosphorylation, Y, 1086), (phosphorylation, Y, 1068), (phosphorylation, Y, 1173), (phosphorylation, Y, 1148)), p-6Y-EGFR(mods: (phosphorylation, Y, 1045), (phosphorylation, Y, 992), (phosphorylation, Y, 1086), (phosphorylation, Y, 1068), (phosphorylation, Y, 1173), (phosphorylation, Y, 1148)), p-Y371-CBL(mods: (phosphorylation, Y, 371)), p-Y371-CBL(mods: (phosphorylation, Y, 371)), EGF(), EGF(), UBB(77-152)(), UBA52())\n",
      "93 Complex(p-6Y-EGFR(mods: (phosphorylation, Y, 1045), (phosphorylation, Y, 992), (phosphorylation, Y, 1086), (phosphorylation, Y, 1068), (phosphorylation, Y, 1173), (phosphorylation, Y, 1148)), p-6Y-EGFR(mods: (phosphorylation, Y, 1045), (phosphorylation, Y, 992), (phosphorylation, Y, 1086), (phosphorylation, Y, 1068), (phosphorylation, Y, 1173), (phosphorylation, Y, 1148)), p-Y371-CBL(mods: (phosphorylation, Y, 371)), p-Y371-CBL(mods: (phosphorylation, Y, 371)), EGF(), EGF(), UBB(77-152)(), UBC(533-608)())\n",
      "94 Complex(p-6Y-EGFR(mods: (phosphorylation, Y, 1045), (phosphorylation, Y, 992), (phosphorylation, Y, 1086), (phosphorylation, Y, 1068), (phosphorylation, Y, 1173), (phosphorylation, Y, 1148)), p-6Y-EGFR(mods: (phosphorylation, Y, 1045), (phosphorylation, Y, 992), (phosphorylation, Y, 1086), (phosphorylation, Y, 1068), (phosphorylation, Y, 1173), (phosphorylation, Y, 1148)), p-Y371-CBL(mods: (phosphorylation, Y, 371)), p-Y371-CBL(mods: (phosphorylation, Y, 371)), EGF(), EGF(), UBC(77-152)(), UBB(153-228)())\n",
      "95 Complex(p-6Y-EGFR(mods: (phosphorylation, Y, 1045), (phosphorylation, Y, 992), (phosphorylation, Y, 1086), (phosphorylation, Y, 1068), (phosphorylation, Y, 1173), (phosphorylation, Y, 1148)), p-6Y-EGFR(mods: (phosphorylation, Y, 1045), (phosphorylation, Y, 992), (phosphorylation, Y, 1086), (phosphorylation, Y, 1068), (phosphorylation, Y, 1173), (phosphorylation, Y, 1148)), p-Y371-CBL(mods: (phosphorylation, Y, 371)), p-Y371-CBL(mods: (phosphorylation, Y, 371)), EGF(), EGF(), UBC(77-152)(), UBB(77-152)())\n",
      "96 Complex(p-6Y-EGFR(mods: (phosphorylation, Y, 1045), (phosphorylation, Y, 992), (phosphorylation, Y, 1086), (phosphorylation, Y, 1068), (phosphorylation, Y, 1173), (phosphorylation, Y, 1148)), p-6Y-EGFR(mods: (phosphorylation, Y, 1045), (phosphorylation, Y, 992), (phosphorylation, Y, 1086), (phosphorylation, Y, 1068), (phosphorylation, Y, 1173), (phosphorylation, Y, 1148)), p-Y371-CBL(mods: (phosphorylation, Y, 371)), p-Y371-CBL(mods: (phosphorylation, Y, 371)), EGF(), EGF(), UBC(77-152)(), UBC(77-152)())\n",
      "97 Complex(p-6Y-EGFR(mods: (phosphorylation, Y, 1045), (phosphorylation, Y, 992), (phosphorylation, Y, 1086), (phosphorylation, Y, 1068), (phosphorylation, Y, 1173), (phosphorylation, Y, 1148)), p-6Y-EGFR(mods: (phosphorylation, Y, 1045), (phosphorylation, Y, 992), (phosphorylation, Y, 1086), (phosphorylation, Y, 1068), (phosphorylation, Y, 1173), (phosphorylation, Y, 1148)), p-Y371-CBL(mods: (phosphorylation, Y, 371)), p-Y371-CBL(mods: (phosphorylation, Y, 371)), EGF(), EGF(), UBC(77-152)(), UBC())\n",
      "98 Complex(p-6Y-EGFR(mods: (phosphorylation, Y, 1045), (phosphorylation, Y, 992), (phosphorylation, Y, 1086), (phosphorylation, Y, 1068), (phosphorylation, Y, 1173), (phosphorylation, Y, 1148)), p-6Y-EGFR(mods: (phosphorylation, Y, 1045), (phosphorylation, Y, 992), (phosphorylation, Y, 1086), (phosphorylation, Y, 1068), (phosphorylation, Y, 1173), (phosphorylation, Y, 1148)), p-Y371-CBL(mods: (phosphorylation, Y, 371)), p-Y371-CBL(mods: (phosphorylation, Y, 371)), EGF(), EGF(), UBC(77-152)(), UBC(229-304)())\n",
      "99 Complex(p-6Y-EGFR(mods: (phosphorylation, Y, 1045), (phosphorylation, Y, 992), (phosphorylation, Y, 1086), (phosphorylation, Y, 1068), (phosphorylation, Y, 1173), (phosphorylation, Y, 1148)), p-6Y-EGFR(mods: (phosphorylation, Y, 1045), (phosphorylation, Y, 992), (phosphorylation, Y, 1086), (phosphorylation, Y, 1068), (phosphorylation, Y, 1173), (phosphorylation, Y, 1148)), p-Y371-CBL(mods: (phosphorylation, Y, 371)), p-Y371-CBL(mods: (phosphorylation, Y, 371)), EGF(), EGF(), UBC(77-152)(), UBC(153-228)())\n",
      "100 Complex(p-6Y-EGFR(mods: (phosphorylation, Y, 1045), (phosphorylation, Y, 992), (phosphorylation, Y, 1086), (phosphorylation, Y, 1068), (phosphorylation, Y, 1173), (phosphorylation, Y, 1148)), p-6Y-EGFR(mods: (phosphorylation, Y, 1045), (phosphorylation, Y, 992), (phosphorylation, Y, 1086), (phosphorylation, Y, 1068), (phosphorylation, Y, 1173), (phosphorylation, Y, 1148)), p-Y371-CBL(mods: (phosphorylation, Y, 371)), p-Y371-CBL(mods: (phosphorylation, Y, 371)), EGF(), EGF(), UBC(77-152)(), UBC(305-380)())\n",
      "101 Complex(p-6Y-EGFR(mods: (phosphorylation, Y, 1045), (phosphorylation, Y, 992), (phosphorylation, Y, 1086), (phosphorylation, Y, 1068), (phosphorylation, Y, 1173), (phosphorylation, Y, 1148)), p-6Y-EGFR(mods: (phosphorylation, Y, 1045), (phosphorylation, Y, 992), (phosphorylation, Y, 1086), (phosphorylation, Y, 1068), (phosphorylation, Y, 1173), (phosphorylation, Y, 1148)), p-Y371-CBL(mods: (phosphorylation, Y, 371)), p-Y371-CBL(mods: (phosphorylation, Y, 371)), EGF(), EGF(), UBC(77-152)(), RPS27A())\n",
      "102 Complex(p-6Y-EGFR(mods: (phosphorylation, Y, 1045), (phosphorylation, Y, 992), (phosphorylation, Y, 1086), (phosphorylation, Y, 1068), (phosphorylation, Y, 1173), (phosphorylation, Y, 1148)), p-6Y-EGFR(mods: (phosphorylation, Y, 1045), (phosphorylation, Y, 992), (phosphorylation, Y, 1086), (phosphorylation, Y, 1068), (phosphorylation, Y, 1173), (phosphorylation, Y, 1148)), p-Y371-CBL(mods: (phosphorylation, Y, 371)), p-Y371-CBL(mods: (phosphorylation, Y, 371)), EGF(), EGF(), UBC(77-152)(), UBC(457-532)())\n",
      "103 Complex(p-6Y-EGFR(mods: (phosphorylation, Y, 1045), (phosphorylation, Y, 992), (phosphorylation, Y, 1086), (phosphorylation, Y, 1068), (phosphorylation, Y, 1173), (phosphorylation, Y, 1148)), p-6Y-EGFR(mods: (phosphorylation, Y, 1045), (phosphorylation, Y, 992), (phosphorylation, Y, 1086), (phosphorylation, Y, 1068), (phosphorylation, Y, 1173), (phosphorylation, Y, 1148)), p-Y371-CBL(mods: (phosphorylation, Y, 371)), p-Y371-CBL(mods: (phosphorylation, Y, 371)), EGF(), EGF(), UBC(77-152)(), UBC(381-456)())\n",
      "104 Complex(p-6Y-EGFR(mods: (phosphorylation, Y, 1045), (phosphorylation, Y, 992), (phosphorylation, Y, 1086), (phosphorylation, Y, 1068), (phosphorylation, Y, 1173), (phosphorylation, Y, 1148)), p-6Y-EGFR(mods: (phosphorylation, Y, 1045), (phosphorylation, Y, 992), (phosphorylation, Y, 1086), (phosphorylation, Y, 1068), (phosphorylation, Y, 1173), (phosphorylation, Y, 1148)), p-Y371-CBL(mods: (phosphorylation, Y, 371)), p-Y371-CBL(mods: (phosphorylation, Y, 371)), EGF(), EGF(), UBC(77-152)(), UBB())\n",
      "105 Complex(p-6Y-EGFR(mods: (phosphorylation, Y, 1045), (phosphorylation, Y, 992), (phosphorylation, Y, 1086), (phosphorylation, Y, 1068), (phosphorylation, Y, 1173), (phosphorylation, Y, 1148)), p-6Y-EGFR(mods: (phosphorylation, Y, 1045), (phosphorylation, Y, 992), (phosphorylation, Y, 1086), (phosphorylation, Y, 1068), (phosphorylation, Y, 1173), (phosphorylation, Y, 1148)), p-Y371-CBL(mods: (phosphorylation, Y, 371)), p-Y371-CBL(mods: (phosphorylation, Y, 371)), EGF(), EGF(), UBC(77-152)(), UBC(609-684)())\n",
      "106 Complex(p-6Y-EGFR(mods: (phosphorylation, Y, 1045), (phosphorylation, Y, 992), (phosphorylation, Y, 1086), (phosphorylation, Y, 1068), (phosphorylation, Y, 1173), (phosphorylation, Y, 1148)), p-6Y-EGFR(mods: (phosphorylation, Y, 1045), (phosphorylation, Y, 992), (phosphorylation, Y, 1086), (phosphorylation, Y, 1068), (phosphorylation, Y, 1173), (phosphorylation, Y, 1148)), p-Y371-CBL(mods: (phosphorylation, Y, 371)), p-Y371-CBL(mods: (phosphorylation, Y, 371)), EGF(), EGF(), UBC(77-152)(), UBA52())\n",
      "107 Complex(p-6Y-EGFR(mods: (phosphorylation, Y, 1045), (phosphorylation, Y, 992), (phosphorylation, Y, 1086), (phosphorylation, Y, 1068), (phosphorylation, Y, 1173), (phosphorylation, Y, 1148)), p-6Y-EGFR(mods: (phosphorylation, Y, 1045), (phosphorylation, Y, 992), (phosphorylation, Y, 1086), (phosphorylation, Y, 1068), (phosphorylation, Y, 1173), (phosphorylation, Y, 1148)), p-Y371-CBL(mods: (phosphorylation, Y, 371)), p-Y371-CBL(mods: (phosphorylation, Y, 371)), EGF(), EGF(), UBC(77-152)(), UBC(533-608)())\n",
      "108 Complex(p-6Y-EGFR(mods: (phosphorylation, Y, 1045), (phosphorylation, Y, 992), (phosphorylation, Y, 1086), (phosphorylation, Y, 1068), (phosphorylation, Y, 1173), (phosphorylation, Y, 1148)), p-6Y-EGFR(mods: (phosphorylation, Y, 1045), (phosphorylation, Y, 992), (phosphorylation, Y, 1086), (phosphorylation, Y, 1068), (phosphorylation, Y, 1173), (phosphorylation, Y, 1148)), p-Y371-CBL(mods: (phosphorylation, Y, 371)), p-Y371-CBL(mods: (phosphorylation, Y, 371)), EGF(), EGF(), UBC(), UBB(153-228)())\n",
      "109 Complex(p-6Y-EGFR(mods: (phosphorylation, Y, 1045), (phosphorylation, Y, 992), (phosphorylation, Y, 1086), (phosphorylation, Y, 1068), (phosphorylation, Y, 1173), (phosphorylation, Y, 1148)), p-6Y-EGFR(mods: (phosphorylation, Y, 1045), (phosphorylation, Y, 992), (phosphorylation, Y, 1086), (phosphorylation, Y, 1068), (phosphorylation, Y, 1173), (phosphorylation, Y, 1148)), p-Y371-CBL(mods: (phosphorylation, Y, 371)), p-Y371-CBL(mods: (phosphorylation, Y, 371)), EGF(), EGF(), UBC(), UBB(77-152)())\n",
      "110 Complex(p-6Y-EGFR(mods: (phosphorylation, Y, 1045), (phosphorylation, Y, 992), (phosphorylation, Y, 1086), (phosphorylation, Y, 1068), (phosphorylation, Y, 1173), (phosphorylation, Y, 1148)), p-6Y-EGFR(mods: (phosphorylation, Y, 1045), (phosphorylation, Y, 992), (phosphorylation, Y, 1086), (phosphorylation, Y, 1068), (phosphorylation, Y, 1173), (phosphorylation, Y, 1148)), p-Y371-CBL(mods: (phosphorylation, Y, 371)), p-Y371-CBL(mods: (phosphorylation, Y, 371)), EGF(), EGF(), UBC(), UBC(77-152)())\n",
      "111 Complex(p-6Y-EGFR(mods: (phosphorylation, Y, 1045), (phosphorylation, Y, 992), (phosphorylation, Y, 1086), (phosphorylation, Y, 1068), (phosphorylation, Y, 1173), (phosphorylation, Y, 1148)), p-6Y-EGFR(mods: (phosphorylation, Y, 1045), (phosphorylation, Y, 992), (phosphorylation, Y, 1086), (phosphorylation, Y, 1068), (phosphorylation, Y, 1173), (phosphorylation, Y, 1148)), p-Y371-CBL(mods: (phosphorylation, Y, 371)), p-Y371-CBL(mods: (phosphorylation, Y, 371)), EGF(), EGF(), UBC(), UBC())\n",
      "112 Complex(p-6Y-EGFR(mods: (phosphorylation, Y, 1045), (phosphorylation, Y, 992), (phosphorylation, Y, 1086), (phosphorylation, Y, 1068), (phosphorylation, Y, 1173), (phosphorylation, Y, 1148)), p-6Y-EGFR(mods: (phosphorylation, Y, 1045), (phosphorylation, Y, 992), (phosphorylation, Y, 1086), (phosphorylation, Y, 1068), (phosphorylation, Y, 1173), (phosphorylation, Y, 1148)), p-Y371-CBL(mods: (phosphorylation, Y, 371)), p-Y371-CBL(mods: (phosphorylation, Y, 371)), EGF(), EGF(), UBC(), UBC(229-304)())\n",
      "113 Complex(p-6Y-EGFR(mods: (phosphorylation, Y, 1045), (phosphorylation, Y, 992), (phosphorylation, Y, 1086), (phosphorylation, Y, 1068), (phosphorylation, Y, 1173), (phosphorylation, Y, 1148)), p-6Y-EGFR(mods: (phosphorylation, Y, 1045), (phosphorylation, Y, 992), (phosphorylation, Y, 1086), (phosphorylation, Y, 1068), (phosphorylation, Y, 1173), (phosphorylation, Y, 1148)), p-Y371-CBL(mods: (phosphorylation, Y, 371)), p-Y371-CBL(mods: (phosphorylation, Y, 371)), EGF(), EGF(), UBC(), UBC(153-228)())\n",
      "114 Complex(p-6Y-EGFR(mods: (phosphorylation, Y, 1045), (phosphorylation, Y, 992), (phosphorylation, Y, 1086), (phosphorylation, Y, 1068), (phosphorylation, Y, 1173), (phosphorylation, Y, 1148)), p-6Y-EGFR(mods: (phosphorylation, Y, 1045), (phosphorylation, Y, 992), (phosphorylation, Y, 1086), (phosphorylation, Y, 1068), (phosphorylation, Y, 1173), (phosphorylation, Y, 1148)), p-Y371-CBL(mods: (phosphorylation, Y, 371)), p-Y371-CBL(mods: (phosphorylation, Y, 371)), EGF(), EGF(), UBC(), UBC(305-380)())\n",
      "115 Complex(p-6Y-EGFR(mods: (phosphorylation, Y, 1045), (phosphorylation, Y, 992), (phosphorylation, Y, 1086), (phosphorylation, Y, 1068), (phosphorylation, Y, 1173), (phosphorylation, Y, 1148)), p-6Y-EGFR(mods: (phosphorylation, Y, 1045), (phosphorylation, Y, 992), (phosphorylation, Y, 1086), (phosphorylation, Y, 1068), (phosphorylation, Y, 1173), (phosphorylation, Y, 1148)), p-Y371-CBL(mods: (phosphorylation, Y, 371)), p-Y371-CBL(mods: (phosphorylation, Y, 371)), EGF(), EGF(), UBC(), RPS27A())\n",
      "116 Complex(p-6Y-EGFR(mods: (phosphorylation, Y, 1045), (phosphorylation, Y, 992), (phosphorylation, Y, 1086), (phosphorylation, Y, 1068), (phosphorylation, Y, 1173), (phosphorylation, Y, 1148)), p-6Y-EGFR(mods: (phosphorylation, Y, 1045), (phosphorylation, Y, 992), (phosphorylation, Y, 1086), (phosphorylation, Y, 1068), (phosphorylation, Y, 1173), (phosphorylation, Y, 1148)), p-Y371-CBL(mods: (phosphorylation, Y, 371)), p-Y371-CBL(mods: (phosphorylation, Y, 371)), EGF(), EGF(), UBC(), UBC(457-532)())\n",
      "117 Complex(p-6Y-EGFR(mods: (phosphorylation, Y, 1045), (phosphorylation, Y, 992), (phosphorylation, Y, 1086), (phosphorylation, Y, 1068), (phosphorylation, Y, 1173), (phosphorylation, Y, 1148)), p-6Y-EGFR(mods: (phosphorylation, Y, 1045), (phosphorylation, Y, 992), (phosphorylation, Y, 1086), (phosphorylation, Y, 1068), (phosphorylation, Y, 1173), (phosphorylation, Y, 1148)), p-Y371-CBL(mods: (phosphorylation, Y, 371)), p-Y371-CBL(mods: (phosphorylation, Y, 371)), EGF(), EGF(), UBC(), UBC(381-456)())\n",
      "118 Complex(p-6Y-EGFR(mods: (phosphorylation, Y, 1045), (phosphorylation, Y, 992), (phosphorylation, Y, 1086), (phosphorylation, Y, 1068), (phosphorylation, Y, 1173), (phosphorylation, Y, 1148)), p-6Y-EGFR(mods: (phosphorylation, Y, 1045), (phosphorylation, Y, 992), (phosphorylation, Y, 1086), (phosphorylation, Y, 1068), (phosphorylation, Y, 1173), (phosphorylation, Y, 1148)), p-Y371-CBL(mods: (phosphorylation, Y, 371)), p-Y371-CBL(mods: (phosphorylation, Y, 371)), EGF(), EGF(), UBC(), UBB())\n",
      "119 Complex(p-6Y-EGFR(mods: (phosphorylation, Y, 1045), (phosphorylation, Y, 992), (phosphorylation, Y, 1086), (phosphorylation, Y, 1068), (phosphorylation, Y, 1173), (phosphorylation, Y, 1148)), p-6Y-EGFR(mods: (phosphorylation, Y, 1045), (phosphorylation, Y, 992), (phosphorylation, Y, 1086), (phosphorylation, Y, 1068), (phosphorylation, Y, 1173), (phosphorylation, Y, 1148)), p-Y371-CBL(mods: (phosphorylation, Y, 371)), p-Y371-CBL(mods: (phosphorylation, Y, 371)), EGF(), EGF(), UBC(), UBC(609-684)())\n",
      "120 Complex(p-6Y-EGFR(mods: (phosphorylation, Y, 1045), (phosphorylation, Y, 992), (phosphorylation, Y, 1086), (phosphorylation, Y, 1068), (phosphorylation, Y, 1173), (phosphorylation, Y, 1148)), p-6Y-EGFR(mods: (phosphorylation, Y, 1045), (phosphorylation, Y, 992), (phosphorylation, Y, 1086), (phosphorylation, Y, 1068), (phosphorylation, Y, 1173), (phosphorylation, Y, 1148)), p-Y371-CBL(mods: (phosphorylation, Y, 371)), p-Y371-CBL(mods: (phosphorylation, Y, 371)), EGF(), EGF(), UBC(), UBA52())\n",
      "121 Complex(p-6Y-EGFR(mods: (phosphorylation, Y, 1045), (phosphorylation, Y, 992), (phosphorylation, Y, 1086), (phosphorylation, Y, 1068), (phosphorylation, Y, 1173), (phosphorylation, Y, 1148)), p-6Y-EGFR(mods: (phosphorylation, Y, 1045), (phosphorylation, Y, 992), (phosphorylation, Y, 1086), (phosphorylation, Y, 1068), (phosphorylation, Y, 1173), (phosphorylation, Y, 1148)), p-Y371-CBL(mods: (phosphorylation, Y, 371)), p-Y371-CBL(mods: (phosphorylation, Y, 371)), EGF(), EGF(), UBC(), UBC(533-608)())\n",
      "122 Complex(p-6Y-EGFR(mods: (phosphorylation, Y, 1045), (phosphorylation, Y, 992), (phosphorylation, Y, 1086), (phosphorylation, Y, 1068), (phosphorylation, Y, 1173), (phosphorylation, Y, 1148)), p-6Y-EGFR(mods: (phosphorylation, Y, 1045), (phosphorylation, Y, 992), (phosphorylation, Y, 1086), (phosphorylation, Y, 1068), (phosphorylation, Y, 1173), (phosphorylation, Y, 1148)), p-Y371-CBL(mods: (phosphorylation, Y, 371)), p-Y371-CBL(mods: (phosphorylation, Y, 371)), EGF(), EGF(), UBC(229-304)(), UBB(153-228)())\n",
      "123 Complex(p-6Y-EGFR(mods: (phosphorylation, Y, 1045), (phosphorylation, Y, 992), (phosphorylation, Y, 1086), (phosphorylation, Y, 1068), (phosphorylation, Y, 1173), (phosphorylation, Y, 1148)), p-6Y-EGFR(mods: (phosphorylation, Y, 1045), (phosphorylation, Y, 992), (phosphorylation, Y, 1086), (phosphorylation, Y, 1068), (phosphorylation, Y, 1173), (phosphorylation, Y, 1148)), p-Y371-CBL(mods: (phosphorylation, Y, 371)), p-Y371-CBL(mods: (phosphorylation, Y, 371)), EGF(), EGF(), UBC(229-304)(), UBB(77-152)())\n",
      "124 Complex(p-6Y-EGFR(mods: (phosphorylation, Y, 1045), (phosphorylation, Y, 992), (phosphorylation, Y, 1086), (phosphorylation, Y, 1068), (phosphorylation, Y, 1173), (phosphorylation, Y, 1148)), p-6Y-EGFR(mods: (phosphorylation, Y, 1045), (phosphorylation, Y, 992), (phosphorylation, Y, 1086), (phosphorylation, Y, 1068), (phosphorylation, Y, 1173), (phosphorylation, Y, 1148)), p-Y371-CBL(mods: (phosphorylation, Y, 371)), p-Y371-CBL(mods: (phosphorylation, Y, 371)), EGF(), EGF(), UBC(229-304)(), UBC(77-152)())\n",
      "125 Complex(p-6Y-EGFR(mods: (phosphorylation, Y, 1045), (phosphorylation, Y, 992), (phosphorylation, Y, 1086), (phosphorylation, Y, 1068), (phosphorylation, Y, 1173), (phosphorylation, Y, 1148)), p-6Y-EGFR(mods: (phosphorylation, Y, 1045), (phosphorylation, Y, 992), (phosphorylation, Y, 1086), (phosphorylation, Y, 1068), (phosphorylation, Y, 1173), (phosphorylation, Y, 1148)), p-Y371-CBL(mods: (phosphorylation, Y, 371)), p-Y371-CBL(mods: (phosphorylation, Y, 371)), EGF(), EGF(), UBC(229-304)(), UBC())\n",
      "126 Complex(p-6Y-EGFR(mods: (phosphorylation, Y, 1045), (phosphorylation, Y, 992), (phosphorylation, Y, 1086), (phosphorylation, Y, 1068), (phosphorylation, Y, 1173), (phosphorylation, Y, 1148)), p-6Y-EGFR(mods: (phosphorylation, Y, 1045), (phosphorylation, Y, 992), (phosphorylation, Y, 1086), (phosphorylation, Y, 1068), (phosphorylation, Y, 1173), (phosphorylation, Y, 1148)), p-Y371-CBL(mods: (phosphorylation, Y, 371)), p-Y371-CBL(mods: (phosphorylation, Y, 371)), EGF(), EGF(), UBC(229-304)(), UBC(229-304)())\n",
      "127 Complex(p-6Y-EGFR(mods: (phosphorylation, Y, 1045), (phosphorylation, Y, 992), (phosphorylation, Y, 1086), (phosphorylation, Y, 1068), (phosphorylation, Y, 1173), (phosphorylation, Y, 1148)), p-6Y-EGFR(mods: (phosphorylation, Y, 1045), (phosphorylation, Y, 992), (phosphorylation, Y, 1086), (phosphorylation, Y, 1068), (phosphorylation, Y, 1173), (phosphorylation, Y, 1148)), p-Y371-CBL(mods: (phosphorylation, Y, 371)), p-Y371-CBL(mods: (phosphorylation, Y, 371)), EGF(), EGF(), UBC(229-304)(), UBC(153-228)())\n",
      "128 Complex(p-6Y-EGFR(mods: (phosphorylation, Y, 1045), (phosphorylation, Y, 992), (phosphorylation, Y, 1086), (phosphorylation, Y, 1068), (phosphorylation, Y, 1173), (phosphorylation, Y, 1148)), p-6Y-EGFR(mods: (phosphorylation, Y, 1045), (phosphorylation, Y, 992), (phosphorylation, Y, 1086), (phosphorylation, Y, 1068), (phosphorylation, Y, 1173), (phosphorylation, Y, 1148)), p-Y371-CBL(mods: (phosphorylation, Y, 371)), p-Y371-CBL(mods: (phosphorylation, Y, 371)), EGF(), EGF(), UBC(229-304)(), UBC(305-380)())\n",
      "129 Complex(p-6Y-EGFR(mods: (phosphorylation, Y, 1045), (phosphorylation, Y, 992), (phosphorylation, Y, 1086), (phosphorylation, Y, 1068), (phosphorylation, Y, 1173), (phosphorylation, Y, 1148)), p-6Y-EGFR(mods: (phosphorylation, Y, 1045), (phosphorylation, Y, 992), (phosphorylation, Y, 1086), (phosphorylation, Y, 1068), (phosphorylation, Y, 1173), (phosphorylation, Y, 1148)), p-Y371-CBL(mods: (phosphorylation, Y, 371)), p-Y371-CBL(mods: (phosphorylation, Y, 371)), EGF(), EGF(), UBC(229-304)(), RPS27A())\n",
      "130 Complex(p-6Y-EGFR(mods: (phosphorylation, Y, 1045), (phosphorylation, Y, 992), (phosphorylation, Y, 1086), (phosphorylation, Y, 1068), (phosphorylation, Y, 1173), (phosphorylation, Y, 1148)), p-6Y-EGFR(mods: (phosphorylation, Y, 1045), (phosphorylation, Y, 992), (phosphorylation, Y, 1086), (phosphorylation, Y, 1068), (phosphorylation, Y, 1173), (phosphorylation, Y, 1148)), p-Y371-CBL(mods: (phosphorylation, Y, 371)), p-Y371-CBL(mods: (phosphorylation, Y, 371)), EGF(), EGF(), UBC(229-304)(), UBC(457-532)())\n",
      "131 Complex(p-6Y-EGFR(mods: (phosphorylation, Y, 1045), (phosphorylation, Y, 992), (phosphorylation, Y, 1086), (phosphorylation, Y, 1068), (phosphorylation, Y, 1173), (phosphorylation, Y, 1148)), p-6Y-EGFR(mods: (phosphorylation, Y, 1045), (phosphorylation, Y, 992), (phosphorylation, Y, 1086), (phosphorylation, Y, 1068), (phosphorylation, Y, 1173), (phosphorylation, Y, 1148)), p-Y371-CBL(mods: (phosphorylation, Y, 371)), p-Y371-CBL(mods: (phosphorylation, Y, 371)), EGF(), EGF(), UBC(229-304)(), UBC(381-456)())\n",
      "132 Complex(p-6Y-EGFR(mods: (phosphorylation, Y, 1045), (phosphorylation, Y, 992), (phosphorylation, Y, 1086), (phosphorylation, Y, 1068), (phosphorylation, Y, 1173), (phosphorylation, Y, 1148)), p-6Y-EGFR(mods: (phosphorylation, Y, 1045), (phosphorylation, Y, 992), (phosphorylation, Y, 1086), (phosphorylation, Y, 1068), (phosphorylation, Y, 1173), (phosphorylation, Y, 1148)), p-Y371-CBL(mods: (phosphorylation, Y, 371)), p-Y371-CBL(mods: (phosphorylation, Y, 371)), EGF(), EGF(), UBC(229-304)(), UBB())\n",
      "133 Complex(p-6Y-EGFR(mods: (phosphorylation, Y, 1045), (phosphorylation, Y, 992), (phosphorylation, Y, 1086), (phosphorylation, Y, 1068), (phosphorylation, Y, 1173), (phosphorylation, Y, 1148)), p-6Y-EGFR(mods: (phosphorylation, Y, 1045), (phosphorylation, Y, 992), (phosphorylation, Y, 1086), (phosphorylation, Y, 1068), (phosphorylation, Y, 1173), (phosphorylation, Y, 1148)), p-Y371-CBL(mods: (phosphorylation, Y, 371)), p-Y371-CBL(mods: (phosphorylation, Y, 371)), EGF(), EGF(), UBC(229-304)(), UBC(609-684)())\n",
      "134 Complex(p-6Y-EGFR(mods: (phosphorylation, Y, 1045), (phosphorylation, Y, 992), (phosphorylation, Y, 1086), (phosphorylation, Y, 1068), (phosphorylation, Y, 1173), (phosphorylation, Y, 1148)), p-6Y-EGFR(mods: (phosphorylation, Y, 1045), (phosphorylation, Y, 992), (phosphorylation, Y, 1086), (phosphorylation, Y, 1068), (phosphorylation, Y, 1173), (phosphorylation, Y, 1148)), p-Y371-CBL(mods: (phosphorylation, Y, 371)), p-Y371-CBL(mods: (phosphorylation, Y, 371)), EGF(), EGF(), UBC(229-304)(), UBA52())\n",
      "135 Complex(p-6Y-EGFR(mods: (phosphorylation, Y, 1045), (phosphorylation, Y, 992), (phosphorylation, Y, 1086), (phosphorylation, Y, 1068), (phosphorylation, Y, 1173), (phosphorylation, Y, 1148)), p-6Y-EGFR(mods: (phosphorylation, Y, 1045), (phosphorylation, Y, 992), (phosphorylation, Y, 1086), (phosphorylation, Y, 1068), (phosphorylation, Y, 1173), (phosphorylation, Y, 1148)), p-Y371-CBL(mods: (phosphorylation, Y, 371)), p-Y371-CBL(mods: (phosphorylation, Y, 371)), EGF(), EGF(), UBC(229-304)(), UBC(533-608)())\n",
      "136 Complex(p-6Y-EGFR(mods: (phosphorylation, Y, 1045), (phosphorylation, Y, 992), (phosphorylation, Y, 1086), (phosphorylation, Y, 1068), (phosphorylation, Y, 1173), (phosphorylation, Y, 1148)), p-6Y-EGFR(mods: (phosphorylation, Y, 1045), (phosphorylation, Y, 992), (phosphorylation, Y, 1086), (phosphorylation, Y, 1068), (phosphorylation, Y, 1173), (phosphorylation, Y, 1148)), p-Y371-CBL(mods: (phosphorylation, Y, 371)), p-Y371-CBL(mods: (phosphorylation, Y, 371)), EGF(), EGF(), UBC(153-228)(), UBB(153-228)())\n",
      "137 Complex(p-6Y-EGFR(mods: (phosphorylation, Y, 1045), (phosphorylation, Y, 992), (phosphorylation, Y, 1086), (phosphorylation, Y, 1068), (phosphorylation, Y, 1173), (phosphorylation, Y, 1148)), p-6Y-EGFR(mods: (phosphorylation, Y, 1045), (phosphorylation, Y, 992), (phosphorylation, Y, 1086), (phosphorylation, Y, 1068), (phosphorylation, Y, 1173), (phosphorylation, Y, 1148)), p-Y371-CBL(mods: (phosphorylation, Y, 371)), p-Y371-CBL(mods: (phosphorylation, Y, 371)), EGF(), EGF(), UBC(153-228)(), UBB(77-152)())\n",
      "138 Complex(p-6Y-EGFR(mods: (phosphorylation, Y, 1045), (phosphorylation, Y, 992), (phosphorylation, Y, 1086), (phosphorylation, Y, 1068), (phosphorylation, Y, 1173), (phosphorylation, Y, 1148)), p-6Y-EGFR(mods: (phosphorylation, Y, 1045), (phosphorylation, Y, 992), (phosphorylation, Y, 1086), (phosphorylation, Y, 1068), (phosphorylation, Y, 1173), (phosphorylation, Y, 1148)), p-Y371-CBL(mods: (phosphorylation, Y, 371)), p-Y371-CBL(mods: (phosphorylation, Y, 371)), EGF(), EGF(), UBC(153-228)(), UBC(77-152)())\n",
      "139 Complex(p-6Y-EGFR(mods: (phosphorylation, Y, 1045), (phosphorylation, Y, 992), (phosphorylation, Y, 1086), (phosphorylation, Y, 1068), (phosphorylation, Y, 1173), (phosphorylation, Y, 1148)), p-6Y-EGFR(mods: (phosphorylation, Y, 1045), (phosphorylation, Y, 992), (phosphorylation, Y, 1086), (phosphorylation, Y, 1068), (phosphorylation, Y, 1173), (phosphorylation, Y, 1148)), p-Y371-CBL(mods: (phosphorylation, Y, 371)), p-Y371-CBL(mods: (phosphorylation, Y, 371)), EGF(), EGF(), UBC(153-228)(), UBC())\n",
      "140 Complex(p-6Y-EGFR(mods: (phosphorylation, Y, 1045), (phosphorylation, Y, 992), (phosphorylation, Y, 1086), (phosphorylation, Y, 1068), (phosphorylation, Y, 1173), (phosphorylation, Y, 1148)), p-6Y-EGFR(mods: (phosphorylation, Y, 1045), (phosphorylation, Y, 992), (phosphorylation, Y, 1086), (phosphorylation, Y, 1068), (phosphorylation, Y, 1173), (phosphorylation, Y, 1148)), p-Y371-CBL(mods: (phosphorylation, Y, 371)), p-Y371-CBL(mods: (phosphorylation, Y, 371)), EGF(), EGF(), UBC(153-228)(), UBC(229-304)())\n",
      "141 Complex(p-6Y-EGFR(mods: (phosphorylation, Y, 1045), (phosphorylation, Y, 992), (phosphorylation, Y, 1086), (phosphorylation, Y, 1068), (phosphorylation, Y, 1173), (phosphorylation, Y, 1148)), p-6Y-EGFR(mods: (phosphorylation, Y, 1045), (phosphorylation, Y, 992), (phosphorylation, Y, 1086), (phosphorylation, Y, 1068), (phosphorylation, Y, 1173), (phosphorylation, Y, 1148)), p-Y371-CBL(mods: (phosphorylation, Y, 371)), p-Y371-CBL(mods: (phosphorylation, Y, 371)), EGF(), EGF(), UBC(153-228)(), UBC(153-228)())\n",
      "142 Complex(p-6Y-EGFR(mods: (phosphorylation, Y, 1045), (phosphorylation, Y, 992), (phosphorylation, Y, 1086), (phosphorylation, Y, 1068), (phosphorylation, Y, 1173), (phosphorylation, Y, 1148)), p-6Y-EGFR(mods: (phosphorylation, Y, 1045), (phosphorylation, Y, 992), (phosphorylation, Y, 1086), (phosphorylation, Y, 1068), (phosphorylation, Y, 1173), (phosphorylation, Y, 1148)), p-Y371-CBL(mods: (phosphorylation, Y, 371)), p-Y371-CBL(mods: (phosphorylation, Y, 371)), EGF(), EGF(), UBC(153-228)(), UBC(305-380)())\n",
      "143 Complex(p-6Y-EGFR(mods: (phosphorylation, Y, 1045), (phosphorylation, Y, 992), (phosphorylation, Y, 1086), (phosphorylation, Y, 1068), (phosphorylation, Y, 1173), (phosphorylation, Y, 1148)), p-6Y-EGFR(mods: (phosphorylation, Y, 1045), (phosphorylation, Y, 992), (phosphorylation, Y, 1086), (phosphorylation, Y, 1068), (phosphorylation, Y, 1173), (phosphorylation, Y, 1148)), p-Y371-CBL(mods: (phosphorylation, Y, 371)), p-Y371-CBL(mods: (phosphorylation, Y, 371)), EGF(), EGF(), UBC(153-228)(), RPS27A())\n",
      "144 Complex(p-6Y-EGFR(mods: (phosphorylation, Y, 1045), (phosphorylation, Y, 992), (phosphorylation, Y, 1086), (phosphorylation, Y, 1068), (phosphorylation, Y, 1173), (phosphorylation, Y, 1148)), p-6Y-EGFR(mods: (phosphorylation, Y, 1045), (phosphorylation, Y, 992), (phosphorylation, Y, 1086), (phosphorylation, Y, 1068), (phosphorylation, Y, 1173), (phosphorylation, Y, 1148)), p-Y371-CBL(mods: (phosphorylation, Y, 371)), p-Y371-CBL(mods: (phosphorylation, Y, 371)), EGF(), EGF(), UBC(153-228)(), UBC(457-532)())\n",
      "145 Complex(p-6Y-EGFR(mods: (phosphorylation, Y, 1045), (phosphorylation, Y, 992), (phosphorylation, Y, 1086), (phosphorylation, Y, 1068), (phosphorylation, Y, 1173), (phosphorylation, Y, 1148)), p-6Y-EGFR(mods: (phosphorylation, Y, 1045), (phosphorylation, Y, 992), (phosphorylation, Y, 1086), (phosphorylation, Y, 1068), (phosphorylation, Y, 1173), (phosphorylation, Y, 1148)), p-Y371-CBL(mods: (phosphorylation, Y, 371)), p-Y371-CBL(mods: (phosphorylation, Y, 371)), EGF(), EGF(), UBC(153-228)(), UBC(381-456)())\n",
      "146 Complex(p-6Y-EGFR(mods: (phosphorylation, Y, 1045), (phosphorylation, Y, 992), (phosphorylation, Y, 1086), (phosphorylation, Y, 1068), (phosphorylation, Y, 1173), (phosphorylation, Y, 1148)), p-6Y-EGFR(mods: (phosphorylation, Y, 1045), (phosphorylation, Y, 992), (phosphorylation, Y, 1086), (phosphorylation, Y, 1068), (phosphorylation, Y, 1173), (phosphorylation, Y, 1148)), p-Y371-CBL(mods: (phosphorylation, Y, 371)), p-Y371-CBL(mods: (phosphorylation, Y, 371)), EGF(), EGF(), UBC(153-228)(), UBB())\n",
      "147 Complex(p-6Y-EGFR(mods: (phosphorylation, Y, 1045), (phosphorylation, Y, 992), (phosphorylation, Y, 1086), (phosphorylation, Y, 1068), (phosphorylation, Y, 1173), (phosphorylation, Y, 1148)), p-6Y-EGFR(mods: (phosphorylation, Y, 1045), (phosphorylation, Y, 992), (phosphorylation, Y, 1086), (phosphorylation, Y, 1068), (phosphorylation, Y, 1173), (phosphorylation, Y, 1148)), p-Y371-CBL(mods: (phosphorylation, Y, 371)), p-Y371-CBL(mods: (phosphorylation, Y, 371)), EGF(), EGF(), UBC(153-228)(), UBC(609-684)())\n",
      "148 Complex(p-6Y-EGFR(mods: (phosphorylation, Y, 1045), (phosphorylation, Y, 992), (phosphorylation, Y, 1086), (phosphorylation, Y, 1068), (phosphorylation, Y, 1173), (phosphorylation, Y, 1148)), p-6Y-EGFR(mods: (phosphorylation, Y, 1045), (phosphorylation, Y, 992), (phosphorylation, Y, 1086), (phosphorylation, Y, 1068), (phosphorylation, Y, 1173), (phosphorylation, Y, 1148)), p-Y371-CBL(mods: (phosphorylation, Y, 371)), p-Y371-CBL(mods: (phosphorylation, Y, 371)), EGF(), EGF(), UBC(153-228)(), UBA52())\n",
      "149 Complex(p-6Y-EGFR(mods: (phosphorylation, Y, 1045), (phosphorylation, Y, 992), (phosphorylation, Y, 1086), (phosphorylation, Y, 1068), (phosphorylation, Y, 1173), (phosphorylation, Y, 1148)), p-6Y-EGFR(mods: (phosphorylation, Y, 1045), (phosphorylation, Y, 992), (phosphorylation, Y, 1086), (phosphorylation, Y, 1068), (phosphorylation, Y, 1173), (phosphorylation, Y, 1148)), p-Y371-CBL(mods: (phosphorylation, Y, 371)), p-Y371-CBL(mods: (phosphorylation, Y, 371)), EGF(), EGF(), UBC(153-228)(), UBC(533-608)())\n",
      "150 Complex(p-6Y-EGFR(mods: (phosphorylation, Y, 1045), (phosphorylation, Y, 992), (phosphorylation, Y, 1086), (phosphorylation, Y, 1068), (phosphorylation, Y, 1173), (phosphorylation, Y, 1148)), p-6Y-EGFR(mods: (phosphorylation, Y, 1045), (phosphorylation, Y, 992), (phosphorylation, Y, 1086), (phosphorylation, Y, 1068), (phosphorylation, Y, 1173), (phosphorylation, Y, 1148)), p-Y371-CBL(mods: (phosphorylation, Y, 371)), p-Y371-CBL(mods: (phosphorylation, Y, 371)), EGF(), EGF(), UBC(305-380)(), UBB(153-228)())\n",
      "151 Complex(p-6Y-EGFR(mods: (phosphorylation, Y, 1045), (phosphorylation, Y, 992), (phosphorylation, Y, 1086), (phosphorylation, Y, 1068), (phosphorylation, Y, 1173), (phosphorylation, Y, 1148)), p-6Y-EGFR(mods: (phosphorylation, Y, 1045), (phosphorylation, Y, 992), (phosphorylation, Y, 1086), (phosphorylation, Y, 1068), (phosphorylation, Y, 1173), (phosphorylation, Y, 1148)), p-Y371-CBL(mods: (phosphorylation, Y, 371)), p-Y371-CBL(mods: (phosphorylation, Y, 371)), EGF(), EGF(), UBC(305-380)(), UBB(77-152)())\n",
      "152 Complex(p-6Y-EGFR(mods: (phosphorylation, Y, 1045), (phosphorylation, Y, 992), (phosphorylation, Y, 1086), (phosphorylation, Y, 1068), (phosphorylation, Y, 1173), (phosphorylation, Y, 1148)), p-6Y-EGFR(mods: (phosphorylation, Y, 1045), (phosphorylation, Y, 992), (phosphorylation, Y, 1086), (phosphorylation, Y, 1068), (phosphorylation, Y, 1173), (phosphorylation, Y, 1148)), p-Y371-CBL(mods: (phosphorylation, Y, 371)), p-Y371-CBL(mods: (phosphorylation, Y, 371)), EGF(), EGF(), UBC(305-380)(), UBC(77-152)())\n",
      "153 Complex(p-6Y-EGFR(mods: (phosphorylation, Y, 1045), (phosphorylation, Y, 992), (phosphorylation, Y, 1086), (phosphorylation, Y, 1068), (phosphorylation, Y, 1173), (phosphorylation, Y, 1148)), p-6Y-EGFR(mods: (phosphorylation, Y, 1045), (phosphorylation, Y, 992), (phosphorylation, Y, 1086), (phosphorylation, Y, 1068), (phosphorylation, Y, 1173), (phosphorylation, Y, 1148)), p-Y371-CBL(mods: (phosphorylation, Y, 371)), p-Y371-CBL(mods: (phosphorylation, Y, 371)), EGF(), EGF(), UBC(305-380)(), UBC())\n",
      "154 Complex(p-6Y-EGFR(mods: (phosphorylation, Y, 1045), (phosphorylation, Y, 992), (phosphorylation, Y, 1086), (phosphorylation, Y, 1068), (phosphorylation, Y, 1173), (phosphorylation, Y, 1148)), p-6Y-EGFR(mods: (phosphorylation, Y, 1045), (phosphorylation, Y, 992), (phosphorylation, Y, 1086), (phosphorylation, Y, 1068), (phosphorylation, Y, 1173), (phosphorylation, Y, 1148)), p-Y371-CBL(mods: (phosphorylation, Y, 371)), p-Y371-CBL(mods: (phosphorylation, Y, 371)), EGF(), EGF(), UBC(305-380)(), UBC(229-304)())\n",
      "155 Complex(p-6Y-EGFR(mods: (phosphorylation, Y, 1045), (phosphorylation, Y, 992), (phosphorylation, Y, 1086), (phosphorylation, Y, 1068), (phosphorylation, Y, 1173), (phosphorylation, Y, 1148)), p-6Y-EGFR(mods: (phosphorylation, Y, 1045), (phosphorylation, Y, 992), (phosphorylation, Y, 1086), (phosphorylation, Y, 1068), (phosphorylation, Y, 1173), (phosphorylation, Y, 1148)), p-Y371-CBL(mods: (phosphorylation, Y, 371)), p-Y371-CBL(mods: (phosphorylation, Y, 371)), EGF(), EGF(), UBC(305-380)(), UBC(153-228)())\n",
      "156 Complex(p-6Y-EGFR(mods: (phosphorylation, Y, 1045), (phosphorylation, Y, 992), (phosphorylation, Y, 1086), (phosphorylation, Y, 1068), (phosphorylation, Y, 1173), (phosphorylation, Y, 1148)), p-6Y-EGFR(mods: (phosphorylation, Y, 1045), (phosphorylation, Y, 992), (phosphorylation, Y, 1086), (phosphorylation, Y, 1068), (phosphorylation, Y, 1173), (phosphorylation, Y, 1148)), p-Y371-CBL(mods: (phosphorylation, Y, 371)), p-Y371-CBL(mods: (phosphorylation, Y, 371)), EGF(), EGF(), UBC(305-380)(), UBC(305-380)())\n",
      "157 Complex(p-6Y-EGFR(mods: (phosphorylation, Y, 1045), (phosphorylation, Y, 992), (phosphorylation, Y, 1086), (phosphorylation, Y, 1068), (phosphorylation, Y, 1173), (phosphorylation, Y, 1148)), p-6Y-EGFR(mods: (phosphorylation, Y, 1045), (phosphorylation, Y, 992), (phosphorylation, Y, 1086), (phosphorylation, Y, 1068), (phosphorylation, Y, 1173), (phosphorylation, Y, 1148)), p-Y371-CBL(mods: (phosphorylation, Y, 371)), p-Y371-CBL(mods: (phosphorylation, Y, 371)), EGF(), EGF(), UBC(305-380)(), RPS27A())\n",
      "158 Complex(p-6Y-EGFR(mods: (phosphorylation, Y, 1045), (phosphorylation, Y, 992), (phosphorylation, Y, 1086), (phosphorylation, Y, 1068), (phosphorylation, Y, 1173), (phosphorylation, Y, 1148)), p-6Y-EGFR(mods: (phosphorylation, Y, 1045), (phosphorylation, Y, 992), (phosphorylation, Y, 1086), (phosphorylation, Y, 1068), (phosphorylation, Y, 1173), (phosphorylation, Y, 1148)), p-Y371-CBL(mods: (phosphorylation, Y, 371)), p-Y371-CBL(mods: (phosphorylation, Y, 371)), EGF(), EGF(), UBC(305-380)(), UBC(457-532)())\n",
      "159 Complex(p-6Y-EGFR(mods: (phosphorylation, Y, 1045), (phosphorylation, Y, 992), (phosphorylation, Y, 1086), (phosphorylation, Y, 1068), (phosphorylation, Y, 1173), (phosphorylation, Y, 1148)), p-6Y-EGFR(mods: (phosphorylation, Y, 1045), (phosphorylation, Y, 992), (phosphorylation, Y, 1086), (phosphorylation, Y, 1068), (phosphorylation, Y, 1173), (phosphorylation, Y, 1148)), p-Y371-CBL(mods: (phosphorylation, Y, 371)), p-Y371-CBL(mods: (phosphorylation, Y, 371)), EGF(), EGF(), UBC(305-380)(), UBC(381-456)())\n",
      "160 Complex(p-6Y-EGFR(mods: (phosphorylation, Y, 1045), (phosphorylation, Y, 992), (phosphorylation, Y, 1086), (phosphorylation, Y, 1068), (phosphorylation, Y, 1173), (phosphorylation, Y, 1148)), p-6Y-EGFR(mods: (phosphorylation, Y, 1045), (phosphorylation, Y, 992), (phosphorylation, Y, 1086), (phosphorylation, Y, 1068), (phosphorylation, Y, 1173), (phosphorylation, Y, 1148)), p-Y371-CBL(mods: (phosphorylation, Y, 371)), p-Y371-CBL(mods: (phosphorylation, Y, 371)), EGF(), EGF(), UBC(305-380)(), UBB())\n",
      "161 Complex(p-6Y-EGFR(mods: (phosphorylation, Y, 1045), (phosphorylation, Y, 992), (phosphorylation, Y, 1086), (phosphorylation, Y, 1068), (phosphorylation, Y, 1173), (phosphorylation, Y, 1148)), p-6Y-EGFR(mods: (phosphorylation, Y, 1045), (phosphorylation, Y, 992), (phosphorylation, Y, 1086), (phosphorylation, Y, 1068), (phosphorylation, Y, 1173), (phosphorylation, Y, 1148)), p-Y371-CBL(mods: (phosphorylation, Y, 371)), p-Y371-CBL(mods: (phosphorylation, Y, 371)), EGF(), EGF(), UBC(305-380)(), UBC(609-684)())\n",
      "162 Complex(p-6Y-EGFR(mods: (phosphorylation, Y, 1045), (phosphorylation, Y, 992), (phosphorylation, Y, 1086), (phosphorylation, Y, 1068), (phosphorylation, Y, 1173), (phosphorylation, Y, 1148)), p-6Y-EGFR(mods: (phosphorylation, Y, 1045), (phosphorylation, Y, 992), (phosphorylation, Y, 1086), (phosphorylation, Y, 1068), (phosphorylation, Y, 1173), (phosphorylation, Y, 1148)), p-Y371-CBL(mods: (phosphorylation, Y, 371)), p-Y371-CBL(mods: (phosphorylation, Y, 371)), EGF(), EGF(), UBC(305-380)(), UBA52())\n",
      "163 Complex(p-6Y-EGFR(mods: (phosphorylation, Y, 1045), (phosphorylation, Y, 992), (phosphorylation, Y, 1086), (phosphorylation, Y, 1068), (phosphorylation, Y, 1173), (phosphorylation, Y, 1148)), p-6Y-EGFR(mods: (phosphorylation, Y, 1045), (phosphorylation, Y, 992), (phosphorylation, Y, 1086), (phosphorylation, Y, 1068), (phosphorylation, Y, 1173), (phosphorylation, Y, 1148)), p-Y371-CBL(mods: (phosphorylation, Y, 371)), p-Y371-CBL(mods: (phosphorylation, Y, 371)), EGF(), EGF(), UBC(305-380)(), UBC(533-608)())\n",
      "164 Complex(p-6Y-EGFR(mods: (phosphorylation, Y, 1045), (phosphorylation, Y, 992), (phosphorylation, Y, 1086), (phosphorylation, Y, 1068), (phosphorylation, Y, 1173), (phosphorylation, Y, 1148)), p-6Y-EGFR(mods: (phosphorylation, Y, 1045), (phosphorylation, Y, 992), (phosphorylation, Y, 1086), (phosphorylation, Y, 1068), (phosphorylation, Y, 1173), (phosphorylation, Y, 1148)), p-Y371-CBL(mods: (phosphorylation, Y, 371)), p-Y371-CBL(mods: (phosphorylation, Y, 371)), EGF(), EGF(), RPS27A(), UBB(153-228)())\n",
      "165 Complex(p-6Y-EGFR(mods: (phosphorylation, Y, 1045), (phosphorylation, Y, 992), (phosphorylation, Y, 1086), (phosphorylation, Y, 1068), (phosphorylation, Y, 1173), (phosphorylation, Y, 1148)), p-6Y-EGFR(mods: (phosphorylation, Y, 1045), (phosphorylation, Y, 992), (phosphorylation, Y, 1086), (phosphorylation, Y, 1068), (phosphorylation, Y, 1173), (phosphorylation, Y, 1148)), p-Y371-CBL(mods: (phosphorylation, Y, 371)), p-Y371-CBL(mods: (phosphorylation, Y, 371)), EGF(), EGF(), RPS27A(), UBB(77-152)())\n",
      "166 Complex(p-6Y-EGFR(mods: (phosphorylation, Y, 1045), (phosphorylation, Y, 992), (phosphorylation, Y, 1086), (phosphorylation, Y, 1068), (phosphorylation, Y, 1173), (phosphorylation, Y, 1148)), p-6Y-EGFR(mods: (phosphorylation, Y, 1045), (phosphorylation, Y, 992), (phosphorylation, Y, 1086), (phosphorylation, Y, 1068), (phosphorylation, Y, 1173), (phosphorylation, Y, 1148)), p-Y371-CBL(mods: (phosphorylation, Y, 371)), p-Y371-CBL(mods: (phosphorylation, Y, 371)), EGF(), EGF(), RPS27A(), UBC(77-152)())\n",
      "167 Complex(p-6Y-EGFR(mods: (phosphorylation, Y, 1045), (phosphorylation, Y, 992), (phosphorylation, Y, 1086), (phosphorylation, Y, 1068), (phosphorylation, Y, 1173), (phosphorylation, Y, 1148)), p-6Y-EGFR(mods: (phosphorylation, Y, 1045), (phosphorylation, Y, 992), (phosphorylation, Y, 1086), (phosphorylation, Y, 1068), (phosphorylation, Y, 1173), (phosphorylation, Y, 1148)), p-Y371-CBL(mods: (phosphorylation, Y, 371)), p-Y371-CBL(mods: (phosphorylation, Y, 371)), EGF(), EGF(), RPS27A(), UBC())\n",
      "168 Complex(p-6Y-EGFR(mods: (phosphorylation, Y, 1045), (phosphorylation, Y, 992), (phosphorylation, Y, 1086), (phosphorylation, Y, 1068), (phosphorylation, Y, 1173), (phosphorylation, Y, 1148)), p-6Y-EGFR(mods: (phosphorylation, Y, 1045), (phosphorylation, Y, 992), (phosphorylation, Y, 1086), (phosphorylation, Y, 1068), (phosphorylation, Y, 1173), (phosphorylation, Y, 1148)), p-Y371-CBL(mods: (phosphorylation, Y, 371)), p-Y371-CBL(mods: (phosphorylation, Y, 371)), EGF(), EGF(), RPS27A(), UBC(229-304)())\n",
      "169 Complex(p-6Y-EGFR(mods: (phosphorylation, Y, 1045), (phosphorylation, Y, 992), (phosphorylation, Y, 1086), (phosphorylation, Y, 1068), (phosphorylation, Y, 1173), (phosphorylation, Y, 1148)), p-6Y-EGFR(mods: (phosphorylation, Y, 1045), (phosphorylation, Y, 992), (phosphorylation, Y, 1086), (phosphorylation, Y, 1068), (phosphorylation, Y, 1173), (phosphorylation, Y, 1148)), p-Y371-CBL(mods: (phosphorylation, Y, 371)), p-Y371-CBL(mods: (phosphorylation, Y, 371)), EGF(), EGF(), RPS27A(), UBC(153-228)())\n",
      "170 Complex(p-6Y-EGFR(mods: (phosphorylation, Y, 1045), (phosphorylation, Y, 992), (phosphorylation, Y, 1086), (phosphorylation, Y, 1068), (phosphorylation, Y, 1173), (phosphorylation, Y, 1148)), p-6Y-EGFR(mods: (phosphorylation, Y, 1045), (phosphorylation, Y, 992), (phosphorylation, Y, 1086), (phosphorylation, Y, 1068), (phosphorylation, Y, 1173), (phosphorylation, Y, 1148)), p-Y371-CBL(mods: (phosphorylation, Y, 371)), p-Y371-CBL(mods: (phosphorylation, Y, 371)), EGF(), EGF(), RPS27A(), UBC(305-380)())\n",
      "171 Complex(p-6Y-EGFR(mods: (phosphorylation, Y, 1045), (phosphorylation, Y, 992), (phosphorylation, Y, 1086), (phosphorylation, Y, 1068), (phosphorylation, Y, 1173), (phosphorylation, Y, 1148)), p-6Y-EGFR(mods: (phosphorylation, Y, 1045), (phosphorylation, Y, 992), (phosphorylation, Y, 1086), (phosphorylation, Y, 1068), (phosphorylation, Y, 1173), (phosphorylation, Y, 1148)), p-Y371-CBL(mods: (phosphorylation, Y, 371)), p-Y371-CBL(mods: (phosphorylation, Y, 371)), EGF(), EGF(), RPS27A(), RPS27A())\n",
      "172 Complex(p-6Y-EGFR(mods: (phosphorylation, Y, 1045), (phosphorylation, Y, 992), (phosphorylation, Y, 1086), (phosphorylation, Y, 1068), (phosphorylation, Y, 1173), (phosphorylation, Y, 1148)), p-6Y-EGFR(mods: (phosphorylation, Y, 1045), (phosphorylation, Y, 992), (phosphorylation, Y, 1086), (phosphorylation, Y, 1068), (phosphorylation, Y, 1173), (phosphorylation, Y, 1148)), p-Y371-CBL(mods: (phosphorylation, Y, 371)), p-Y371-CBL(mods: (phosphorylation, Y, 371)), EGF(), EGF(), RPS27A(), UBC(457-532)())\n",
      "173 Complex(p-6Y-EGFR(mods: (phosphorylation, Y, 1045), (phosphorylation, Y, 992), (phosphorylation, Y, 1086), (phosphorylation, Y, 1068), (phosphorylation, Y, 1173), (phosphorylation, Y, 1148)), p-6Y-EGFR(mods: (phosphorylation, Y, 1045), (phosphorylation, Y, 992), (phosphorylation, Y, 1086), (phosphorylation, Y, 1068), (phosphorylation, Y, 1173), (phosphorylation, Y, 1148)), p-Y371-CBL(mods: (phosphorylation, Y, 371)), p-Y371-CBL(mods: (phosphorylation, Y, 371)), EGF(), EGF(), RPS27A(), UBC(381-456)())\n",
      "174 Complex(p-6Y-EGFR(mods: (phosphorylation, Y, 1045), (phosphorylation, Y, 992), (phosphorylation, Y, 1086), (phosphorylation, Y, 1068), (phosphorylation, Y, 1173), (phosphorylation, Y, 1148)), p-6Y-EGFR(mods: (phosphorylation, Y, 1045), (phosphorylation, Y, 992), (phosphorylation, Y, 1086), (phosphorylation, Y, 1068), (phosphorylation, Y, 1173), (phosphorylation, Y, 1148)), p-Y371-CBL(mods: (phosphorylation, Y, 371)), p-Y371-CBL(mods: (phosphorylation, Y, 371)), EGF(), EGF(), RPS27A(), UBB())\n",
      "175 Complex(p-6Y-EGFR(mods: (phosphorylation, Y, 1045), (phosphorylation, Y, 992), (phosphorylation, Y, 1086), (phosphorylation, Y, 1068), (phosphorylation, Y, 1173), (phosphorylation, Y, 1148)), p-6Y-EGFR(mods: (phosphorylation, Y, 1045), (phosphorylation, Y, 992), (phosphorylation, Y, 1086), (phosphorylation, Y, 1068), (phosphorylation, Y, 1173), (phosphorylation, Y, 1148)), p-Y371-CBL(mods: (phosphorylation, Y, 371)), p-Y371-CBL(mods: (phosphorylation, Y, 371)), EGF(), EGF(), RPS27A(), UBC(609-684)())\n",
      "176 Complex(p-6Y-EGFR(mods: (phosphorylation, Y, 1045), (phosphorylation, Y, 992), (phosphorylation, Y, 1086), (phosphorylation, Y, 1068), (phosphorylation, Y, 1173), (phosphorylation, Y, 1148)), p-6Y-EGFR(mods: (phosphorylation, Y, 1045), (phosphorylation, Y, 992), (phosphorylation, Y, 1086), (phosphorylation, Y, 1068), (phosphorylation, Y, 1173), (phosphorylation, Y, 1148)), p-Y371-CBL(mods: (phosphorylation, Y, 371)), p-Y371-CBL(mods: (phosphorylation, Y, 371)), EGF(), EGF(), RPS27A(), UBA52())\n",
      "177 Complex(p-6Y-EGFR(mods: (phosphorylation, Y, 1045), (phosphorylation, Y, 992), (phosphorylation, Y, 1086), (phosphorylation, Y, 1068), (phosphorylation, Y, 1173), (phosphorylation, Y, 1148)), p-6Y-EGFR(mods: (phosphorylation, Y, 1045), (phosphorylation, Y, 992), (phosphorylation, Y, 1086), (phosphorylation, Y, 1068), (phosphorylation, Y, 1173), (phosphorylation, Y, 1148)), p-Y371-CBL(mods: (phosphorylation, Y, 371)), p-Y371-CBL(mods: (phosphorylation, Y, 371)), EGF(), EGF(), RPS27A(), UBC(533-608)())\n",
      "178 Complex(p-6Y-EGFR(mods: (phosphorylation, Y, 1045), (phosphorylation, Y, 992), (phosphorylation, Y, 1086), (phosphorylation, Y, 1068), (phosphorylation, Y, 1173), (phosphorylation, Y, 1148)), p-6Y-EGFR(mods: (phosphorylation, Y, 1045), (phosphorylation, Y, 992), (phosphorylation, Y, 1086), (phosphorylation, Y, 1068), (phosphorylation, Y, 1173), (phosphorylation, Y, 1148)), p-Y371-CBL(mods: (phosphorylation, Y, 371)), p-Y371-CBL(mods: (phosphorylation, Y, 371)), EGF(), EGF(), UBC(457-532)(), UBB(153-228)())\n",
      "179 Complex(p-6Y-EGFR(mods: (phosphorylation, Y, 1045), (phosphorylation, Y, 992), (phosphorylation, Y, 1086), (phosphorylation, Y, 1068), (phosphorylation, Y, 1173), (phosphorylation, Y, 1148)), p-6Y-EGFR(mods: (phosphorylation, Y, 1045), (phosphorylation, Y, 992), (phosphorylation, Y, 1086), (phosphorylation, Y, 1068), (phosphorylation, Y, 1173), (phosphorylation, Y, 1148)), p-Y371-CBL(mods: (phosphorylation, Y, 371)), p-Y371-CBL(mods: (phosphorylation, Y, 371)), EGF(), EGF(), UBC(457-532)(), UBB(77-152)())\n",
      "180 Complex(p-6Y-EGFR(mods: (phosphorylation, Y, 1045), (phosphorylation, Y, 992), (phosphorylation, Y, 1086), (phosphorylation, Y, 1068), (phosphorylation, Y, 1173), (phosphorylation, Y, 1148)), p-6Y-EGFR(mods: (phosphorylation, Y, 1045), (phosphorylation, Y, 992), (phosphorylation, Y, 1086), (phosphorylation, Y, 1068), (phosphorylation, Y, 1173), (phosphorylation, Y, 1148)), p-Y371-CBL(mods: (phosphorylation, Y, 371)), p-Y371-CBL(mods: (phosphorylation, Y, 371)), EGF(), EGF(), UBC(457-532)(), UBC(77-152)())\n",
      "181 Complex(p-6Y-EGFR(mods: (phosphorylation, Y, 1045), (phosphorylation, Y, 992), (phosphorylation, Y, 1086), (phosphorylation, Y, 1068), (phosphorylation, Y, 1173), (phosphorylation, Y, 1148)), p-6Y-EGFR(mods: (phosphorylation, Y, 1045), (phosphorylation, Y, 992), (phosphorylation, Y, 1086), (phosphorylation, Y, 1068), (phosphorylation, Y, 1173), (phosphorylation, Y, 1148)), p-Y371-CBL(mods: (phosphorylation, Y, 371)), p-Y371-CBL(mods: (phosphorylation, Y, 371)), EGF(), EGF(), UBC(457-532)(), UBC())\n",
      "182 Complex(p-6Y-EGFR(mods: (phosphorylation, Y, 1045), (phosphorylation, Y, 992), (phosphorylation, Y, 1086), (phosphorylation, Y, 1068), (phosphorylation, Y, 1173), (phosphorylation, Y, 1148)), p-6Y-EGFR(mods: (phosphorylation, Y, 1045), (phosphorylation, Y, 992), (phosphorylation, Y, 1086), (phosphorylation, Y, 1068), (phosphorylation, Y, 1173), (phosphorylation, Y, 1148)), p-Y371-CBL(mods: (phosphorylation, Y, 371)), p-Y371-CBL(mods: (phosphorylation, Y, 371)), EGF(), EGF(), UBC(457-532)(), UBC(229-304)())\n",
      "183 Complex(p-6Y-EGFR(mods: (phosphorylation, Y, 1045), (phosphorylation, Y, 992), (phosphorylation, Y, 1086), (phosphorylation, Y, 1068), (phosphorylation, Y, 1173), (phosphorylation, Y, 1148)), p-6Y-EGFR(mods: (phosphorylation, Y, 1045), (phosphorylation, Y, 992), (phosphorylation, Y, 1086), (phosphorylation, Y, 1068), (phosphorylation, Y, 1173), (phosphorylation, Y, 1148)), p-Y371-CBL(mods: (phosphorylation, Y, 371)), p-Y371-CBL(mods: (phosphorylation, Y, 371)), EGF(), EGF(), UBC(457-532)(), UBC(153-228)())\n",
      "184 Complex(p-6Y-EGFR(mods: (phosphorylation, Y, 1045), (phosphorylation, Y, 992), (phosphorylation, Y, 1086), (phosphorylation, Y, 1068), (phosphorylation, Y, 1173), (phosphorylation, Y, 1148)), p-6Y-EGFR(mods: (phosphorylation, Y, 1045), (phosphorylation, Y, 992), (phosphorylation, Y, 1086), (phosphorylation, Y, 1068), (phosphorylation, Y, 1173), (phosphorylation, Y, 1148)), p-Y371-CBL(mods: (phosphorylation, Y, 371)), p-Y371-CBL(mods: (phosphorylation, Y, 371)), EGF(), EGF(), UBC(457-532)(), UBC(305-380)())\n",
      "185 Complex(p-6Y-EGFR(mods: (phosphorylation, Y, 1045), (phosphorylation, Y, 992), (phosphorylation, Y, 1086), (phosphorylation, Y, 1068), (phosphorylation, Y, 1173), (phosphorylation, Y, 1148)), p-6Y-EGFR(mods: (phosphorylation, Y, 1045), (phosphorylation, Y, 992), (phosphorylation, Y, 1086), (phosphorylation, Y, 1068), (phosphorylation, Y, 1173), (phosphorylation, Y, 1148)), p-Y371-CBL(mods: (phosphorylation, Y, 371)), p-Y371-CBL(mods: (phosphorylation, Y, 371)), EGF(), EGF(), UBC(457-532)(), RPS27A())\n",
      "186 Complex(p-6Y-EGFR(mods: (phosphorylation, Y, 1045), (phosphorylation, Y, 992), (phosphorylation, Y, 1086), (phosphorylation, Y, 1068), (phosphorylation, Y, 1173), (phosphorylation, Y, 1148)), p-6Y-EGFR(mods: (phosphorylation, Y, 1045), (phosphorylation, Y, 992), (phosphorylation, Y, 1086), (phosphorylation, Y, 1068), (phosphorylation, Y, 1173), (phosphorylation, Y, 1148)), p-Y371-CBL(mods: (phosphorylation, Y, 371)), p-Y371-CBL(mods: (phosphorylation, Y, 371)), EGF(), EGF(), UBC(457-532)(), UBC(457-532)())\n",
      "187 Complex(p-6Y-EGFR(mods: (phosphorylation, Y, 1045), (phosphorylation, Y, 992), (phosphorylation, Y, 1086), (phosphorylation, Y, 1068), (phosphorylation, Y, 1173), (phosphorylation, Y, 1148)), p-6Y-EGFR(mods: (phosphorylation, Y, 1045), (phosphorylation, Y, 992), (phosphorylation, Y, 1086), (phosphorylation, Y, 1068), (phosphorylation, Y, 1173), (phosphorylation, Y, 1148)), p-Y371-CBL(mods: (phosphorylation, Y, 371)), p-Y371-CBL(mods: (phosphorylation, Y, 371)), EGF(), EGF(), UBC(457-532)(), UBC(381-456)())\n",
      "188 Complex(p-6Y-EGFR(mods: (phosphorylation, Y, 1045), (phosphorylation, Y, 992), (phosphorylation, Y, 1086), (phosphorylation, Y, 1068), (phosphorylation, Y, 1173), (phosphorylation, Y, 1148)), p-6Y-EGFR(mods: (phosphorylation, Y, 1045), (phosphorylation, Y, 992), (phosphorylation, Y, 1086), (phosphorylation, Y, 1068), (phosphorylation, Y, 1173), (phosphorylation, Y, 1148)), p-Y371-CBL(mods: (phosphorylation, Y, 371)), p-Y371-CBL(mods: (phosphorylation, Y, 371)), EGF(), EGF(), UBC(457-532)(), UBB())\n",
      "189 Complex(p-6Y-EGFR(mods: (phosphorylation, Y, 1045), (phosphorylation, Y, 992), (phosphorylation, Y, 1086), (phosphorylation, Y, 1068), (phosphorylation, Y, 1173), (phosphorylation, Y, 1148)), p-6Y-EGFR(mods: (phosphorylation, Y, 1045), (phosphorylation, Y, 992), (phosphorylation, Y, 1086), (phosphorylation, Y, 1068), (phosphorylation, Y, 1173), (phosphorylation, Y, 1148)), p-Y371-CBL(mods: (phosphorylation, Y, 371)), p-Y371-CBL(mods: (phosphorylation, Y, 371)), EGF(), EGF(), UBC(457-532)(), UBC(609-684)())\n",
      "190 Complex(p-6Y-EGFR(mods: (phosphorylation, Y, 1045), (phosphorylation, Y, 992), (phosphorylation, Y, 1086), (phosphorylation, Y, 1068), (phosphorylation, Y, 1173), (phosphorylation, Y, 1148)), p-6Y-EGFR(mods: (phosphorylation, Y, 1045), (phosphorylation, Y, 992), (phosphorylation, Y, 1086), (phosphorylation, Y, 1068), (phosphorylation, Y, 1173), (phosphorylation, Y, 1148)), p-Y371-CBL(mods: (phosphorylation, Y, 371)), p-Y371-CBL(mods: (phosphorylation, Y, 371)), EGF(), EGF(), UBC(457-532)(), UBA52())\n",
      "191 Complex(p-6Y-EGFR(mods: (phosphorylation, Y, 1045), (phosphorylation, Y, 992), (phosphorylation, Y, 1086), (phosphorylation, Y, 1068), (phosphorylation, Y, 1173), (phosphorylation, Y, 1148)), p-6Y-EGFR(mods: (phosphorylation, Y, 1045), (phosphorylation, Y, 992), (phosphorylation, Y, 1086), (phosphorylation, Y, 1068), (phosphorylation, Y, 1173), (phosphorylation, Y, 1148)), p-Y371-CBL(mods: (phosphorylation, Y, 371)), p-Y371-CBL(mods: (phosphorylation, Y, 371)), EGF(), EGF(), UBC(457-532)(), UBC(533-608)())\n",
      "192 Complex(p-6Y-EGFR(mods: (phosphorylation, Y, 1045), (phosphorylation, Y, 992), (phosphorylation, Y, 1086), (phosphorylation, Y, 1068), (phosphorylation, Y, 1173), (phosphorylation, Y, 1148)), p-6Y-EGFR(mods: (phosphorylation, Y, 1045), (phosphorylation, Y, 992), (phosphorylation, Y, 1086), (phosphorylation, Y, 1068), (phosphorylation, Y, 1173), (phosphorylation, Y, 1148)), p-Y371-CBL(mods: (phosphorylation, Y, 371)), p-Y371-CBL(mods: (phosphorylation, Y, 371)), EGF(), EGF(), UBC(381-456)(), UBB(153-228)())\n",
      "193 Complex(p-6Y-EGFR(mods: (phosphorylation, Y, 1045), (phosphorylation, Y, 992), (phosphorylation, Y, 1086), (phosphorylation, Y, 1068), (phosphorylation, Y, 1173), (phosphorylation, Y, 1148)), p-6Y-EGFR(mods: (phosphorylation, Y, 1045), (phosphorylation, Y, 992), (phosphorylation, Y, 1086), (phosphorylation, Y, 1068), (phosphorylation, Y, 1173), (phosphorylation, Y, 1148)), p-Y371-CBL(mods: (phosphorylation, Y, 371)), p-Y371-CBL(mods: (phosphorylation, Y, 371)), EGF(), EGF(), UBC(381-456)(), UBB(77-152)())\n",
      "194 Complex(p-6Y-EGFR(mods: (phosphorylation, Y, 1045), (phosphorylation, Y, 992), (phosphorylation, Y, 1086), (phosphorylation, Y, 1068), (phosphorylation, Y, 1173), (phosphorylation, Y, 1148)), p-6Y-EGFR(mods: (phosphorylation, Y, 1045), (phosphorylation, Y, 992), (phosphorylation, Y, 1086), (phosphorylation, Y, 1068), (phosphorylation, Y, 1173), (phosphorylation, Y, 1148)), p-Y371-CBL(mods: (phosphorylation, Y, 371)), p-Y371-CBL(mods: (phosphorylation, Y, 371)), EGF(), EGF(), UBC(381-456)(), UBC(77-152)())\n",
      "195 Complex(p-6Y-EGFR(mods: (phosphorylation, Y, 1045), (phosphorylation, Y, 992), (phosphorylation, Y, 1086), (phosphorylation, Y, 1068), (phosphorylation, Y, 1173), (phosphorylation, Y, 1148)), p-6Y-EGFR(mods: (phosphorylation, Y, 1045), (phosphorylation, Y, 992), (phosphorylation, Y, 1086), (phosphorylation, Y, 1068), (phosphorylation, Y, 1173), (phosphorylation, Y, 1148)), p-Y371-CBL(mods: (phosphorylation, Y, 371)), p-Y371-CBL(mods: (phosphorylation, Y, 371)), EGF(), EGF(), UBC(381-456)(), UBC())\n",
      "196 Complex(p-6Y-EGFR(mods: (phosphorylation, Y, 1045), (phosphorylation, Y, 992), (phosphorylation, Y, 1086), (phosphorylation, Y, 1068), (phosphorylation, Y, 1173), (phosphorylation, Y, 1148)), p-6Y-EGFR(mods: (phosphorylation, Y, 1045), (phosphorylation, Y, 992), (phosphorylation, Y, 1086), (phosphorylation, Y, 1068), (phosphorylation, Y, 1173), (phosphorylation, Y, 1148)), p-Y371-CBL(mods: (phosphorylation, Y, 371)), p-Y371-CBL(mods: (phosphorylation, Y, 371)), EGF(), EGF(), UBC(381-456)(), UBC(229-304)())\n",
      "197 Complex(p-6Y-EGFR(mods: (phosphorylation, Y, 1045), (phosphorylation, Y, 992), (phosphorylation, Y, 1086), (phosphorylation, Y, 1068), (phosphorylation, Y, 1173), (phosphorylation, Y, 1148)), p-6Y-EGFR(mods: (phosphorylation, Y, 1045), (phosphorylation, Y, 992), (phosphorylation, Y, 1086), (phosphorylation, Y, 1068), (phosphorylation, Y, 1173), (phosphorylation, Y, 1148)), p-Y371-CBL(mods: (phosphorylation, Y, 371)), p-Y371-CBL(mods: (phosphorylation, Y, 371)), EGF(), EGF(), UBC(381-456)(), UBC(153-228)())\n",
      "198 Complex(p-6Y-EGFR(mods: (phosphorylation, Y, 1045), (phosphorylation, Y, 992), (phosphorylation, Y, 1086), (phosphorylation, Y, 1068), (phosphorylation, Y, 1173), (phosphorylation, Y, 1148)), p-6Y-EGFR(mods: (phosphorylation, Y, 1045), (phosphorylation, Y, 992), (phosphorylation, Y, 1086), (phosphorylation, Y, 1068), (phosphorylation, Y, 1173), (phosphorylation, Y, 1148)), p-Y371-CBL(mods: (phosphorylation, Y, 371)), p-Y371-CBL(mods: (phosphorylation, Y, 371)), EGF(), EGF(), UBC(381-456)(), UBC(305-380)())\n",
      "199 Complex(p-6Y-EGFR(mods: (phosphorylation, Y, 1045), (phosphorylation, Y, 992), (phosphorylation, Y, 1086), (phosphorylation, Y, 1068), (phosphorylation, Y, 1173), (phosphorylation, Y, 1148)), p-6Y-EGFR(mods: (phosphorylation, Y, 1045), (phosphorylation, Y, 992), (phosphorylation, Y, 1086), (phosphorylation, Y, 1068), (phosphorylation, Y, 1173), (phosphorylation, Y, 1148)), p-Y371-CBL(mods: (phosphorylation, Y, 371)), p-Y371-CBL(mods: (phosphorylation, Y, 371)), EGF(), EGF(), UBC(381-456)(), RPS27A())\n",
      "200 Complex(p-6Y-EGFR(mods: (phosphorylation, Y, 1045), (phosphorylation, Y, 992), (phosphorylation, Y, 1086), (phosphorylation, Y, 1068), (phosphorylation, Y, 1173), (phosphorylation, Y, 1148)), p-6Y-EGFR(mods: (phosphorylation, Y, 1045), (phosphorylation, Y, 992), (phosphorylation, Y, 1086), (phosphorylation, Y, 1068), (phosphorylation, Y, 1173), (phosphorylation, Y, 1148)), p-Y371-CBL(mods: (phosphorylation, Y, 371)), p-Y371-CBL(mods: (phosphorylation, Y, 371)), EGF(), EGF(), UBC(381-456)(), UBC(457-532)())\n",
      "201 Complex(p-6Y-EGFR(mods: (phosphorylation, Y, 1045), (phosphorylation, Y, 992), (phosphorylation, Y, 1086), (phosphorylation, Y, 1068), (phosphorylation, Y, 1173), (phosphorylation, Y, 1148)), p-6Y-EGFR(mods: (phosphorylation, Y, 1045), (phosphorylation, Y, 992), (phosphorylation, Y, 1086), (phosphorylation, Y, 1068), (phosphorylation, Y, 1173), (phosphorylation, Y, 1148)), p-Y371-CBL(mods: (phosphorylation, Y, 371)), p-Y371-CBL(mods: (phosphorylation, Y, 371)), EGF(), EGF(), UBC(381-456)(), UBC(381-456)())\n",
      "202 Complex(p-6Y-EGFR(mods: (phosphorylation, Y, 1045), (phosphorylation, Y, 992), (phosphorylation, Y, 1086), (phosphorylation, Y, 1068), (phosphorylation, Y, 1173), (phosphorylation, Y, 1148)), p-6Y-EGFR(mods: (phosphorylation, Y, 1045), (phosphorylation, Y, 992), (phosphorylation, Y, 1086), (phosphorylation, Y, 1068), (phosphorylation, Y, 1173), (phosphorylation, Y, 1148)), p-Y371-CBL(mods: (phosphorylation, Y, 371)), p-Y371-CBL(mods: (phosphorylation, Y, 371)), EGF(), EGF(), UBC(381-456)(), UBB())\n",
      "203 Complex(p-6Y-EGFR(mods: (phosphorylation, Y, 1045), (phosphorylation, Y, 992), (phosphorylation, Y, 1086), (phosphorylation, Y, 1068), (phosphorylation, Y, 1173), (phosphorylation, Y, 1148)), p-6Y-EGFR(mods: (phosphorylation, Y, 1045), (phosphorylation, Y, 992), (phosphorylation, Y, 1086), (phosphorylation, Y, 1068), (phosphorylation, Y, 1173), (phosphorylation, Y, 1148)), p-Y371-CBL(mods: (phosphorylation, Y, 371)), p-Y371-CBL(mods: (phosphorylation, Y, 371)), EGF(), EGF(), UBC(381-456)(), UBC(609-684)())\n",
      "204 Complex(p-6Y-EGFR(mods: (phosphorylation, Y, 1045), (phosphorylation, Y, 992), (phosphorylation, Y, 1086), (phosphorylation, Y, 1068), (phosphorylation, Y, 1173), (phosphorylation, Y, 1148)), p-6Y-EGFR(mods: (phosphorylation, Y, 1045), (phosphorylation, Y, 992), (phosphorylation, Y, 1086), (phosphorylation, Y, 1068), (phosphorylation, Y, 1173), (phosphorylation, Y, 1148)), p-Y371-CBL(mods: (phosphorylation, Y, 371)), p-Y371-CBL(mods: (phosphorylation, Y, 371)), EGF(), EGF(), UBC(381-456)(), UBA52())\n",
      "205 Complex(p-6Y-EGFR(mods: (phosphorylation, Y, 1045), (phosphorylation, Y, 992), (phosphorylation, Y, 1086), (phosphorylation, Y, 1068), (phosphorylation, Y, 1173), (phosphorylation, Y, 1148)), p-6Y-EGFR(mods: (phosphorylation, Y, 1045), (phosphorylation, Y, 992), (phosphorylation, Y, 1086), (phosphorylation, Y, 1068), (phosphorylation, Y, 1173), (phosphorylation, Y, 1148)), p-Y371-CBL(mods: (phosphorylation, Y, 371)), p-Y371-CBL(mods: (phosphorylation, Y, 371)), EGF(), EGF(), UBC(381-456)(), UBC(533-608)())\n",
      "206 Complex(p-6Y-EGFR(mods: (phosphorylation, Y, 1045), (phosphorylation, Y, 992), (phosphorylation, Y, 1086), (phosphorylation, Y, 1068), (phosphorylation, Y, 1173), (phosphorylation, Y, 1148)), p-6Y-EGFR(mods: (phosphorylation, Y, 1045), (phosphorylation, Y, 992), (phosphorylation, Y, 1086), (phosphorylation, Y, 1068), (phosphorylation, Y, 1173), (phosphorylation, Y, 1148)), p-Y371-CBL(mods: (phosphorylation, Y, 371)), p-Y371-CBL(mods: (phosphorylation, Y, 371)), EGF(), EGF(), UBB(), UBB(153-228)())\n",
      "207 Complex(p-6Y-EGFR(mods: (phosphorylation, Y, 1045), (phosphorylation, Y, 992), (phosphorylation, Y, 1086), (phosphorylation, Y, 1068), (phosphorylation, Y, 1173), (phosphorylation, Y, 1148)), p-6Y-EGFR(mods: (phosphorylation, Y, 1045), (phosphorylation, Y, 992), (phosphorylation, Y, 1086), (phosphorylation, Y, 1068), (phosphorylation, Y, 1173), (phosphorylation, Y, 1148)), p-Y371-CBL(mods: (phosphorylation, Y, 371)), p-Y371-CBL(mods: (phosphorylation, Y, 371)), EGF(), EGF(), UBB(), UBB(77-152)())\n",
      "208 Complex(p-6Y-EGFR(mods: (phosphorylation, Y, 1045), (phosphorylation, Y, 992), (phosphorylation, Y, 1086), (phosphorylation, Y, 1068), (phosphorylation, Y, 1173), (phosphorylation, Y, 1148)), p-6Y-EGFR(mods: (phosphorylation, Y, 1045), (phosphorylation, Y, 992), (phosphorylation, Y, 1086), (phosphorylation, Y, 1068), (phosphorylation, Y, 1173), (phosphorylation, Y, 1148)), p-Y371-CBL(mods: (phosphorylation, Y, 371)), p-Y371-CBL(mods: (phosphorylation, Y, 371)), EGF(), EGF(), UBB(), UBC(77-152)())\n",
      "209 Complex(p-6Y-EGFR(mods: (phosphorylation, Y, 1045), (phosphorylation, Y, 992), (phosphorylation, Y, 1086), (phosphorylation, Y, 1068), (phosphorylation, Y, 1173), (phosphorylation, Y, 1148)), p-6Y-EGFR(mods: (phosphorylation, Y, 1045), (phosphorylation, Y, 992), (phosphorylation, Y, 1086), (phosphorylation, Y, 1068), (phosphorylation, Y, 1173), (phosphorylation, Y, 1148)), p-Y371-CBL(mods: (phosphorylation, Y, 371)), p-Y371-CBL(mods: (phosphorylation, Y, 371)), EGF(), EGF(), UBB(), UBC())\n",
      "210 Complex(p-6Y-EGFR(mods: (phosphorylation, Y, 1045), (phosphorylation, Y, 992), (phosphorylation, Y, 1086), (phosphorylation, Y, 1068), (phosphorylation, Y, 1173), (phosphorylation, Y, 1148)), p-6Y-EGFR(mods: (phosphorylation, Y, 1045), (phosphorylation, Y, 992), (phosphorylation, Y, 1086), (phosphorylation, Y, 1068), (phosphorylation, Y, 1173), (phosphorylation, Y, 1148)), p-Y371-CBL(mods: (phosphorylation, Y, 371)), p-Y371-CBL(mods: (phosphorylation, Y, 371)), EGF(), EGF(), UBB(), UBC(229-304)())\n",
      "211 Complex(p-6Y-EGFR(mods: (phosphorylation, Y, 1045), (phosphorylation, Y, 992), (phosphorylation, Y, 1086), (phosphorylation, Y, 1068), (phosphorylation, Y, 1173), (phosphorylation, Y, 1148)), p-6Y-EGFR(mods: (phosphorylation, Y, 1045), (phosphorylation, Y, 992), (phosphorylation, Y, 1086), (phosphorylation, Y, 1068), (phosphorylation, Y, 1173), (phosphorylation, Y, 1148)), p-Y371-CBL(mods: (phosphorylation, Y, 371)), p-Y371-CBL(mods: (phosphorylation, Y, 371)), EGF(), EGF(), UBB(), UBC(153-228)())\n",
      "212 Complex(p-6Y-EGFR(mods: (phosphorylation, Y, 1045), (phosphorylation, Y, 992), (phosphorylation, Y, 1086), (phosphorylation, Y, 1068), (phosphorylation, Y, 1173), (phosphorylation, Y, 1148)), p-6Y-EGFR(mods: (phosphorylation, Y, 1045), (phosphorylation, Y, 992), (phosphorylation, Y, 1086), (phosphorylation, Y, 1068), (phosphorylation, Y, 1173), (phosphorylation, Y, 1148)), p-Y371-CBL(mods: (phosphorylation, Y, 371)), p-Y371-CBL(mods: (phosphorylation, Y, 371)), EGF(), EGF(), UBB(), UBC(305-380)())\n",
      "213 Complex(p-6Y-EGFR(mods: (phosphorylation, Y, 1045), (phosphorylation, Y, 992), (phosphorylation, Y, 1086), (phosphorylation, Y, 1068), (phosphorylation, Y, 1173), (phosphorylation, Y, 1148)), p-6Y-EGFR(mods: (phosphorylation, Y, 1045), (phosphorylation, Y, 992), (phosphorylation, Y, 1086), (phosphorylation, Y, 1068), (phosphorylation, Y, 1173), (phosphorylation, Y, 1148)), p-Y371-CBL(mods: (phosphorylation, Y, 371)), p-Y371-CBL(mods: (phosphorylation, Y, 371)), EGF(), EGF(), UBB(), RPS27A())\n",
      "214 Complex(p-6Y-EGFR(mods: (phosphorylation, Y, 1045), (phosphorylation, Y, 992), (phosphorylation, Y, 1086), (phosphorylation, Y, 1068), (phosphorylation, Y, 1173), (phosphorylation, Y, 1148)), p-6Y-EGFR(mods: (phosphorylation, Y, 1045), (phosphorylation, Y, 992), (phosphorylation, Y, 1086), (phosphorylation, Y, 1068), (phosphorylation, Y, 1173), (phosphorylation, Y, 1148)), p-Y371-CBL(mods: (phosphorylation, Y, 371)), p-Y371-CBL(mods: (phosphorylation, Y, 371)), EGF(), EGF(), UBB(), UBC(457-532)())\n",
      "215 Complex(p-6Y-EGFR(mods: (phosphorylation, Y, 1045), (phosphorylation, Y, 992), (phosphorylation, Y, 1086), (phosphorylation, Y, 1068), (phosphorylation, Y, 1173), (phosphorylation, Y, 1148)), p-6Y-EGFR(mods: (phosphorylation, Y, 1045), (phosphorylation, Y, 992), (phosphorylation, Y, 1086), (phosphorylation, Y, 1068), (phosphorylation, Y, 1173), (phosphorylation, Y, 1148)), p-Y371-CBL(mods: (phosphorylation, Y, 371)), p-Y371-CBL(mods: (phosphorylation, Y, 371)), EGF(), EGF(), UBB(), UBC(381-456)())\n",
      "216 Complex(p-6Y-EGFR(mods: (phosphorylation, Y, 1045), (phosphorylation, Y, 992), (phosphorylation, Y, 1086), (phosphorylation, Y, 1068), (phosphorylation, Y, 1173), (phosphorylation, Y, 1148)), p-6Y-EGFR(mods: (phosphorylation, Y, 1045), (phosphorylation, Y, 992), (phosphorylation, Y, 1086), (phosphorylation, Y, 1068), (phosphorylation, Y, 1173), (phosphorylation, Y, 1148)), p-Y371-CBL(mods: (phosphorylation, Y, 371)), p-Y371-CBL(mods: (phosphorylation, Y, 371)), EGF(), EGF(), UBB(), UBB())\n",
      "217 Complex(p-6Y-EGFR(mods: (phosphorylation, Y, 1045), (phosphorylation, Y, 992), (phosphorylation, Y, 1086), (phosphorylation, Y, 1068), (phosphorylation, Y, 1173), (phosphorylation, Y, 1148)), p-6Y-EGFR(mods: (phosphorylation, Y, 1045), (phosphorylation, Y, 992), (phosphorylation, Y, 1086), (phosphorylation, Y, 1068), (phosphorylation, Y, 1173), (phosphorylation, Y, 1148)), p-Y371-CBL(mods: (phosphorylation, Y, 371)), p-Y371-CBL(mods: (phosphorylation, Y, 371)), EGF(), EGF(), UBB(), UBC(609-684)())\n",
      "218 Complex(p-6Y-EGFR(mods: (phosphorylation, Y, 1045), (phosphorylation, Y, 992), (phosphorylation, Y, 1086), (phosphorylation, Y, 1068), (phosphorylation, Y, 1173), (phosphorylation, Y, 1148)), p-6Y-EGFR(mods: (phosphorylation, Y, 1045), (phosphorylation, Y, 992), (phosphorylation, Y, 1086), (phosphorylation, Y, 1068), (phosphorylation, Y, 1173), (phosphorylation, Y, 1148)), p-Y371-CBL(mods: (phosphorylation, Y, 371)), p-Y371-CBL(mods: (phosphorylation, Y, 371)), EGF(), EGF(), UBB(), UBA52())\n",
      "219 Complex(p-6Y-EGFR(mods: (phosphorylation, Y, 1045), (phosphorylation, Y, 992), (phosphorylation, Y, 1086), (phosphorylation, Y, 1068), (phosphorylation, Y, 1173), (phosphorylation, Y, 1148)), p-6Y-EGFR(mods: (phosphorylation, Y, 1045), (phosphorylation, Y, 992), (phosphorylation, Y, 1086), (phosphorylation, Y, 1068), (phosphorylation, Y, 1173), (phosphorylation, Y, 1148)), p-Y371-CBL(mods: (phosphorylation, Y, 371)), p-Y371-CBL(mods: (phosphorylation, Y, 371)), EGF(), EGF(), UBB(), UBC(533-608)())\n",
      "220 Complex(p-6Y-EGFR(mods: (phosphorylation, Y, 1045), (phosphorylation, Y, 992), (phosphorylation, Y, 1086), (phosphorylation, Y, 1068), (phosphorylation, Y, 1173), (phosphorylation, Y, 1148)), p-6Y-EGFR(mods: (phosphorylation, Y, 1045), (phosphorylation, Y, 992), (phosphorylation, Y, 1086), (phosphorylation, Y, 1068), (phosphorylation, Y, 1173), (phosphorylation, Y, 1148)), p-Y371-CBL(mods: (phosphorylation, Y, 371)), p-Y371-CBL(mods: (phosphorylation, Y, 371)), EGF(), EGF(), UBC(609-684)(), UBB(153-228)())\n",
      "221 Complex(p-6Y-EGFR(mods: (phosphorylation, Y, 1045), (phosphorylation, Y, 992), (phosphorylation, Y, 1086), (phosphorylation, Y, 1068), (phosphorylation, Y, 1173), (phosphorylation, Y, 1148)), p-6Y-EGFR(mods: (phosphorylation, Y, 1045), (phosphorylation, Y, 992), (phosphorylation, Y, 1086), (phosphorylation, Y, 1068), (phosphorylation, Y, 1173), (phosphorylation, Y, 1148)), p-Y371-CBL(mods: (phosphorylation, Y, 371)), p-Y371-CBL(mods: (phosphorylation, Y, 371)), EGF(), EGF(), UBC(609-684)(), UBB(77-152)())\n",
      "222 Complex(p-6Y-EGFR(mods: (phosphorylation, Y, 1045), (phosphorylation, Y, 992), (phosphorylation, Y, 1086), (phosphorylation, Y, 1068), (phosphorylation, Y, 1173), (phosphorylation, Y, 1148)), p-6Y-EGFR(mods: (phosphorylation, Y, 1045), (phosphorylation, Y, 992), (phosphorylation, Y, 1086), (phosphorylation, Y, 1068), (phosphorylation, Y, 1173), (phosphorylation, Y, 1148)), p-Y371-CBL(mods: (phosphorylation, Y, 371)), p-Y371-CBL(mods: (phosphorylation, Y, 371)), EGF(), EGF(), UBC(609-684)(), UBC(77-152)())\n",
      "223 Complex(p-6Y-EGFR(mods: (phosphorylation, Y, 1045), (phosphorylation, Y, 992), (phosphorylation, Y, 1086), (phosphorylation, Y, 1068), (phosphorylation, Y, 1173), (phosphorylation, Y, 1148)), p-6Y-EGFR(mods: (phosphorylation, Y, 1045), (phosphorylation, Y, 992), (phosphorylation, Y, 1086), (phosphorylation, Y, 1068), (phosphorylation, Y, 1173), (phosphorylation, Y, 1148)), p-Y371-CBL(mods: (phosphorylation, Y, 371)), p-Y371-CBL(mods: (phosphorylation, Y, 371)), EGF(), EGF(), UBC(609-684)(), UBC())\n",
      "224 Complex(p-6Y-EGFR(mods: (phosphorylation, Y, 1045), (phosphorylation, Y, 992), (phosphorylation, Y, 1086), (phosphorylation, Y, 1068), (phosphorylation, Y, 1173), (phosphorylation, Y, 1148)), p-6Y-EGFR(mods: (phosphorylation, Y, 1045), (phosphorylation, Y, 992), (phosphorylation, Y, 1086), (phosphorylation, Y, 1068), (phosphorylation, Y, 1173), (phosphorylation, Y, 1148)), p-Y371-CBL(mods: (phosphorylation, Y, 371)), p-Y371-CBL(mods: (phosphorylation, Y, 371)), EGF(), EGF(), UBC(609-684)(), UBC(229-304)())\n",
      "225 Complex(p-6Y-EGFR(mods: (phosphorylation, Y, 1045), (phosphorylation, Y, 992), (phosphorylation, Y, 1086), (phosphorylation, Y, 1068), (phosphorylation, Y, 1173), (phosphorylation, Y, 1148)), p-6Y-EGFR(mods: (phosphorylation, Y, 1045), (phosphorylation, Y, 992), (phosphorylation, Y, 1086), (phosphorylation, Y, 1068), (phosphorylation, Y, 1173), (phosphorylation, Y, 1148)), p-Y371-CBL(mods: (phosphorylation, Y, 371)), p-Y371-CBL(mods: (phosphorylation, Y, 371)), EGF(), EGF(), UBC(609-684)(), UBC(153-228)())\n",
      "226 Complex(p-6Y-EGFR(mods: (phosphorylation, Y, 1045), (phosphorylation, Y, 992), (phosphorylation, Y, 1086), (phosphorylation, Y, 1068), (phosphorylation, Y, 1173), (phosphorylation, Y, 1148)), p-6Y-EGFR(mods: (phosphorylation, Y, 1045), (phosphorylation, Y, 992), (phosphorylation, Y, 1086), (phosphorylation, Y, 1068), (phosphorylation, Y, 1173), (phosphorylation, Y, 1148)), p-Y371-CBL(mods: (phosphorylation, Y, 371)), p-Y371-CBL(mods: (phosphorylation, Y, 371)), EGF(), EGF(), UBC(609-684)(), UBC(305-380)())\n",
      "227 Complex(p-6Y-EGFR(mods: (phosphorylation, Y, 1045), (phosphorylation, Y, 992), (phosphorylation, Y, 1086), (phosphorylation, Y, 1068), (phosphorylation, Y, 1173), (phosphorylation, Y, 1148)), p-6Y-EGFR(mods: (phosphorylation, Y, 1045), (phosphorylation, Y, 992), (phosphorylation, Y, 1086), (phosphorylation, Y, 1068), (phosphorylation, Y, 1173), (phosphorylation, Y, 1148)), p-Y371-CBL(mods: (phosphorylation, Y, 371)), p-Y371-CBL(mods: (phosphorylation, Y, 371)), EGF(), EGF(), UBC(609-684)(), RPS27A())\n",
      "228 Complex(p-6Y-EGFR(mods: (phosphorylation, Y, 1045), (phosphorylation, Y, 992), (phosphorylation, Y, 1086), (phosphorylation, Y, 1068), (phosphorylation, Y, 1173), (phosphorylation, Y, 1148)), p-6Y-EGFR(mods: (phosphorylation, Y, 1045), (phosphorylation, Y, 992), (phosphorylation, Y, 1086), (phosphorylation, Y, 1068), (phosphorylation, Y, 1173), (phosphorylation, Y, 1148)), p-Y371-CBL(mods: (phosphorylation, Y, 371)), p-Y371-CBL(mods: (phosphorylation, Y, 371)), EGF(), EGF(), UBC(609-684)(), UBC(457-532)())\n",
      "229 Complex(p-6Y-EGFR(mods: (phosphorylation, Y, 1045), (phosphorylation, Y, 992), (phosphorylation, Y, 1086), (phosphorylation, Y, 1068), (phosphorylation, Y, 1173), (phosphorylation, Y, 1148)), p-6Y-EGFR(mods: (phosphorylation, Y, 1045), (phosphorylation, Y, 992), (phosphorylation, Y, 1086), (phosphorylation, Y, 1068), (phosphorylation, Y, 1173), (phosphorylation, Y, 1148)), p-Y371-CBL(mods: (phosphorylation, Y, 371)), p-Y371-CBL(mods: (phosphorylation, Y, 371)), EGF(), EGF(), UBC(609-684)(), UBC(381-456)())\n",
      "230 Complex(p-6Y-EGFR(mods: (phosphorylation, Y, 1045), (phosphorylation, Y, 992), (phosphorylation, Y, 1086), (phosphorylation, Y, 1068), (phosphorylation, Y, 1173), (phosphorylation, Y, 1148)), p-6Y-EGFR(mods: (phosphorylation, Y, 1045), (phosphorylation, Y, 992), (phosphorylation, Y, 1086), (phosphorylation, Y, 1068), (phosphorylation, Y, 1173), (phosphorylation, Y, 1148)), p-Y371-CBL(mods: (phosphorylation, Y, 371)), p-Y371-CBL(mods: (phosphorylation, Y, 371)), EGF(), EGF(), UBC(609-684)(), UBB())\n",
      "231 Complex(p-6Y-EGFR(mods: (phosphorylation, Y, 1045), (phosphorylation, Y, 992), (phosphorylation, Y, 1086), (phosphorylation, Y, 1068), (phosphorylation, Y, 1173), (phosphorylation, Y, 1148)), p-6Y-EGFR(mods: (phosphorylation, Y, 1045), (phosphorylation, Y, 992), (phosphorylation, Y, 1086), (phosphorylation, Y, 1068), (phosphorylation, Y, 1173), (phosphorylation, Y, 1148)), p-Y371-CBL(mods: (phosphorylation, Y, 371)), p-Y371-CBL(mods: (phosphorylation, Y, 371)), EGF(), EGF(), UBC(609-684)(), UBC(609-684)())\n",
      "232 Complex(p-6Y-EGFR(mods: (phosphorylation, Y, 1045), (phosphorylation, Y, 992), (phosphorylation, Y, 1086), (phosphorylation, Y, 1068), (phosphorylation, Y, 1173), (phosphorylation, Y, 1148)), p-6Y-EGFR(mods: (phosphorylation, Y, 1045), (phosphorylation, Y, 992), (phosphorylation, Y, 1086), (phosphorylation, Y, 1068), (phosphorylation, Y, 1173), (phosphorylation, Y, 1148)), p-Y371-CBL(mods: (phosphorylation, Y, 371)), p-Y371-CBL(mods: (phosphorylation, Y, 371)), EGF(), EGF(), UBC(609-684)(), UBA52())\n",
      "233 Complex(p-6Y-EGFR(mods: (phosphorylation, Y, 1045), (phosphorylation, Y, 992), (phosphorylation, Y, 1086), (phosphorylation, Y, 1068), (phosphorylation, Y, 1173), (phosphorylation, Y, 1148)), p-6Y-EGFR(mods: (phosphorylation, Y, 1045), (phosphorylation, Y, 992), (phosphorylation, Y, 1086), (phosphorylation, Y, 1068), (phosphorylation, Y, 1173), (phosphorylation, Y, 1148)), p-Y371-CBL(mods: (phosphorylation, Y, 371)), p-Y371-CBL(mods: (phosphorylation, Y, 371)), EGF(), EGF(), UBC(609-684)(), UBC(533-608)())\n",
      "234 Complex(p-6Y-EGFR(mods: (phosphorylation, Y, 1045), (phosphorylation, Y, 992), (phosphorylation, Y, 1086), (phosphorylation, Y, 1068), (phosphorylation, Y, 1173), (phosphorylation, Y, 1148)), p-6Y-EGFR(mods: (phosphorylation, Y, 1045), (phosphorylation, Y, 992), (phosphorylation, Y, 1086), (phosphorylation, Y, 1068), (phosphorylation, Y, 1173), (phosphorylation, Y, 1148)), p-Y371-CBL(mods: (phosphorylation, Y, 371)), p-Y371-CBL(mods: (phosphorylation, Y, 371)), EGF(), EGF(), UBA52(), UBB(153-228)())\n",
      "235 Complex(p-6Y-EGFR(mods: (phosphorylation, Y, 1045), (phosphorylation, Y, 992), (phosphorylation, Y, 1086), (phosphorylation, Y, 1068), (phosphorylation, Y, 1173), (phosphorylation, Y, 1148)), p-6Y-EGFR(mods: (phosphorylation, Y, 1045), (phosphorylation, Y, 992), (phosphorylation, Y, 1086), (phosphorylation, Y, 1068), (phosphorylation, Y, 1173), (phosphorylation, Y, 1148)), p-Y371-CBL(mods: (phosphorylation, Y, 371)), p-Y371-CBL(mods: (phosphorylation, Y, 371)), EGF(), EGF(), UBA52(), UBB(77-152)())\n",
      "236 Complex(p-6Y-EGFR(mods: (phosphorylation, Y, 1045), (phosphorylation, Y, 992), (phosphorylation, Y, 1086), (phosphorylation, Y, 1068), (phosphorylation, Y, 1173), (phosphorylation, Y, 1148)), p-6Y-EGFR(mods: (phosphorylation, Y, 1045), (phosphorylation, Y, 992), (phosphorylation, Y, 1086), (phosphorylation, Y, 1068), (phosphorylation, Y, 1173), (phosphorylation, Y, 1148)), p-Y371-CBL(mods: (phosphorylation, Y, 371)), p-Y371-CBL(mods: (phosphorylation, Y, 371)), EGF(), EGF(), UBA52(), UBC(77-152)())\n",
      "237 Complex(p-6Y-EGFR(mods: (phosphorylation, Y, 1045), (phosphorylation, Y, 992), (phosphorylation, Y, 1086), (phosphorylation, Y, 1068), (phosphorylation, Y, 1173), (phosphorylation, Y, 1148)), p-6Y-EGFR(mods: (phosphorylation, Y, 1045), (phosphorylation, Y, 992), (phosphorylation, Y, 1086), (phosphorylation, Y, 1068), (phosphorylation, Y, 1173), (phosphorylation, Y, 1148)), p-Y371-CBL(mods: (phosphorylation, Y, 371)), p-Y371-CBL(mods: (phosphorylation, Y, 371)), EGF(), EGF(), UBA52(), UBC())\n",
      "238 Complex(p-6Y-EGFR(mods: (phosphorylation, Y, 1045), (phosphorylation, Y, 992), (phosphorylation, Y, 1086), (phosphorylation, Y, 1068), (phosphorylation, Y, 1173), (phosphorylation, Y, 1148)), p-6Y-EGFR(mods: (phosphorylation, Y, 1045), (phosphorylation, Y, 992), (phosphorylation, Y, 1086), (phosphorylation, Y, 1068), (phosphorylation, Y, 1173), (phosphorylation, Y, 1148)), p-Y371-CBL(mods: (phosphorylation, Y, 371)), p-Y371-CBL(mods: (phosphorylation, Y, 371)), EGF(), EGF(), UBA52(), UBC(229-304)())\n",
      "239 Complex(p-6Y-EGFR(mods: (phosphorylation, Y, 1045), (phosphorylation, Y, 992), (phosphorylation, Y, 1086), (phosphorylation, Y, 1068), (phosphorylation, Y, 1173), (phosphorylation, Y, 1148)), p-6Y-EGFR(mods: (phosphorylation, Y, 1045), (phosphorylation, Y, 992), (phosphorylation, Y, 1086), (phosphorylation, Y, 1068), (phosphorylation, Y, 1173), (phosphorylation, Y, 1148)), p-Y371-CBL(mods: (phosphorylation, Y, 371)), p-Y371-CBL(mods: (phosphorylation, Y, 371)), EGF(), EGF(), UBA52(), UBC(153-228)())\n",
      "240 Complex(p-6Y-EGFR(mods: (phosphorylation, Y, 1045), (phosphorylation, Y, 992), (phosphorylation, Y, 1086), (phosphorylation, Y, 1068), (phosphorylation, Y, 1173), (phosphorylation, Y, 1148)), p-6Y-EGFR(mods: (phosphorylation, Y, 1045), (phosphorylation, Y, 992), (phosphorylation, Y, 1086), (phosphorylation, Y, 1068), (phosphorylation, Y, 1173), (phosphorylation, Y, 1148)), p-Y371-CBL(mods: (phosphorylation, Y, 371)), p-Y371-CBL(mods: (phosphorylation, Y, 371)), EGF(), EGF(), UBA52(), UBC(305-380)())\n",
      "241 Complex(p-6Y-EGFR(mods: (phosphorylation, Y, 1045), (phosphorylation, Y, 992), (phosphorylation, Y, 1086), (phosphorylation, Y, 1068), (phosphorylation, Y, 1173), (phosphorylation, Y, 1148)), p-6Y-EGFR(mods: (phosphorylation, Y, 1045), (phosphorylation, Y, 992), (phosphorylation, Y, 1086), (phosphorylation, Y, 1068), (phosphorylation, Y, 1173), (phosphorylation, Y, 1148)), p-Y371-CBL(mods: (phosphorylation, Y, 371)), p-Y371-CBL(mods: (phosphorylation, Y, 371)), EGF(), EGF(), UBA52(), RPS27A())\n",
      "242 Complex(p-6Y-EGFR(mods: (phosphorylation, Y, 1045), (phosphorylation, Y, 992), (phosphorylation, Y, 1086), (phosphorylation, Y, 1068), (phosphorylation, Y, 1173), (phosphorylation, Y, 1148)), p-6Y-EGFR(mods: (phosphorylation, Y, 1045), (phosphorylation, Y, 992), (phosphorylation, Y, 1086), (phosphorylation, Y, 1068), (phosphorylation, Y, 1173), (phosphorylation, Y, 1148)), p-Y371-CBL(mods: (phosphorylation, Y, 371)), p-Y371-CBL(mods: (phosphorylation, Y, 371)), EGF(), EGF(), UBA52(), UBC(457-532)())\n",
      "243 Complex(p-6Y-EGFR(mods: (phosphorylation, Y, 1045), (phosphorylation, Y, 992), (phosphorylation, Y, 1086), (phosphorylation, Y, 1068), (phosphorylation, Y, 1173), (phosphorylation, Y, 1148)), p-6Y-EGFR(mods: (phosphorylation, Y, 1045), (phosphorylation, Y, 992), (phosphorylation, Y, 1086), (phosphorylation, Y, 1068), (phosphorylation, Y, 1173), (phosphorylation, Y, 1148)), p-Y371-CBL(mods: (phosphorylation, Y, 371)), p-Y371-CBL(mods: (phosphorylation, Y, 371)), EGF(), EGF(), UBA52(), UBC(381-456)())\n",
      "244 Complex(p-6Y-EGFR(mods: (phosphorylation, Y, 1045), (phosphorylation, Y, 992), (phosphorylation, Y, 1086), (phosphorylation, Y, 1068), (phosphorylation, Y, 1173), (phosphorylation, Y, 1148)), p-6Y-EGFR(mods: (phosphorylation, Y, 1045), (phosphorylation, Y, 992), (phosphorylation, Y, 1086), (phosphorylation, Y, 1068), (phosphorylation, Y, 1173), (phosphorylation, Y, 1148)), p-Y371-CBL(mods: (phosphorylation, Y, 371)), p-Y371-CBL(mods: (phosphorylation, Y, 371)), EGF(), EGF(), UBA52(), UBB())\n",
      "245 Complex(p-6Y-EGFR(mods: (phosphorylation, Y, 1045), (phosphorylation, Y, 992), (phosphorylation, Y, 1086), (phosphorylation, Y, 1068), (phosphorylation, Y, 1173), (phosphorylation, Y, 1148)), p-6Y-EGFR(mods: (phosphorylation, Y, 1045), (phosphorylation, Y, 992), (phosphorylation, Y, 1086), (phosphorylation, Y, 1068), (phosphorylation, Y, 1173), (phosphorylation, Y, 1148)), p-Y371-CBL(mods: (phosphorylation, Y, 371)), p-Y371-CBL(mods: (phosphorylation, Y, 371)), EGF(), EGF(), UBA52(), UBC(609-684)())\n",
      "246 Complex(p-6Y-EGFR(mods: (phosphorylation, Y, 1045), (phosphorylation, Y, 992), (phosphorylation, Y, 1086), (phosphorylation, Y, 1068), (phosphorylation, Y, 1173), (phosphorylation, Y, 1148)), p-6Y-EGFR(mods: (phosphorylation, Y, 1045), (phosphorylation, Y, 992), (phosphorylation, Y, 1086), (phosphorylation, Y, 1068), (phosphorylation, Y, 1173), (phosphorylation, Y, 1148)), p-Y371-CBL(mods: (phosphorylation, Y, 371)), p-Y371-CBL(mods: (phosphorylation, Y, 371)), EGF(), EGF(), UBA52(), UBA52())\n",
      "247 Complex(p-6Y-EGFR(mods: (phosphorylation, Y, 1045), (phosphorylation, Y, 992), (phosphorylation, Y, 1086), (phosphorylation, Y, 1068), (phosphorylation, Y, 1173), (phosphorylation, Y, 1148)), p-6Y-EGFR(mods: (phosphorylation, Y, 1045), (phosphorylation, Y, 992), (phosphorylation, Y, 1086), (phosphorylation, Y, 1068), (phosphorylation, Y, 1173), (phosphorylation, Y, 1148)), p-Y371-CBL(mods: (phosphorylation, Y, 371)), p-Y371-CBL(mods: (phosphorylation, Y, 371)), EGF(), EGF(), UBA52(), UBC(533-608)())\n",
      "248 Complex(p-6Y-EGFR(mods: (phosphorylation, Y, 1045), (phosphorylation, Y, 992), (phosphorylation, Y, 1086), (phosphorylation, Y, 1068), (phosphorylation, Y, 1173), (phosphorylation, Y, 1148)), p-6Y-EGFR(mods: (phosphorylation, Y, 1045), (phosphorylation, Y, 992), (phosphorylation, Y, 1086), (phosphorylation, Y, 1068), (phosphorylation, Y, 1173), (phosphorylation, Y, 1148)), p-Y371-CBL(mods: (phosphorylation, Y, 371)), p-Y371-CBL(mods: (phosphorylation, Y, 371)), EGF(), EGF(), UBC(533-608)(), UBB(153-228)())\n",
      "249 Complex(p-6Y-EGFR(mods: (phosphorylation, Y, 1045), (phosphorylation, Y, 992), (phosphorylation, Y, 1086), (phosphorylation, Y, 1068), (phosphorylation, Y, 1173), (phosphorylation, Y, 1148)), p-6Y-EGFR(mods: (phosphorylation, Y, 1045), (phosphorylation, Y, 992), (phosphorylation, Y, 1086), (phosphorylation, Y, 1068), (phosphorylation, Y, 1173), (phosphorylation, Y, 1148)), p-Y371-CBL(mods: (phosphorylation, Y, 371)), p-Y371-CBL(mods: (phosphorylation, Y, 371)), EGF(), EGF(), UBC(533-608)(), UBB(77-152)())\n",
      "250 Complex(p-6Y-EGFR(mods: (phosphorylation, Y, 1045), (phosphorylation, Y, 992), (phosphorylation, Y, 1086), (phosphorylation, Y, 1068), (phosphorylation, Y, 1173), (phosphorylation, Y, 1148)), p-6Y-EGFR(mods: (phosphorylation, Y, 1045), (phosphorylation, Y, 992), (phosphorylation, Y, 1086), (phosphorylation, Y, 1068), (phosphorylation, Y, 1173), (phosphorylation, Y, 1148)), p-Y371-CBL(mods: (phosphorylation, Y, 371)), p-Y371-CBL(mods: (phosphorylation, Y, 371)), EGF(), EGF(), UBC(533-608)(), UBC(77-152)())\n",
      "251 Complex(p-6Y-EGFR(mods: (phosphorylation, Y, 1045), (phosphorylation, Y, 992), (phosphorylation, Y, 1086), (phosphorylation, Y, 1068), (phosphorylation, Y, 1173), (phosphorylation, Y, 1148)), p-6Y-EGFR(mods: (phosphorylation, Y, 1045), (phosphorylation, Y, 992), (phosphorylation, Y, 1086), (phosphorylation, Y, 1068), (phosphorylation, Y, 1173), (phosphorylation, Y, 1148)), p-Y371-CBL(mods: (phosphorylation, Y, 371)), p-Y371-CBL(mods: (phosphorylation, Y, 371)), EGF(), EGF(), UBC(533-608)(), UBC())\n",
      "252 Complex(p-6Y-EGFR(mods: (phosphorylation, Y, 1045), (phosphorylation, Y, 992), (phosphorylation, Y, 1086), (phosphorylation, Y, 1068), (phosphorylation, Y, 1173), (phosphorylation, Y, 1148)), p-6Y-EGFR(mods: (phosphorylation, Y, 1045), (phosphorylation, Y, 992), (phosphorylation, Y, 1086), (phosphorylation, Y, 1068), (phosphorylation, Y, 1173), (phosphorylation, Y, 1148)), p-Y371-CBL(mods: (phosphorylation, Y, 371)), p-Y371-CBL(mods: (phosphorylation, Y, 371)), EGF(), EGF(), UBC(533-608)(), UBC(229-304)())\n",
      "253 Complex(p-6Y-EGFR(mods: (phosphorylation, Y, 1045), (phosphorylation, Y, 992), (phosphorylation, Y, 1086), (phosphorylation, Y, 1068), (phosphorylation, Y, 1173), (phosphorylation, Y, 1148)), p-6Y-EGFR(mods: (phosphorylation, Y, 1045), (phosphorylation, Y, 992), (phosphorylation, Y, 1086), (phosphorylation, Y, 1068), (phosphorylation, Y, 1173), (phosphorylation, Y, 1148)), p-Y371-CBL(mods: (phosphorylation, Y, 371)), p-Y371-CBL(mods: (phosphorylation, Y, 371)), EGF(), EGF(), UBC(533-608)(), UBC(153-228)())\n",
      "254 Complex(p-6Y-EGFR(mods: (phosphorylation, Y, 1045), (phosphorylation, Y, 992), (phosphorylation, Y, 1086), (phosphorylation, Y, 1068), (phosphorylation, Y, 1173), (phosphorylation, Y, 1148)), p-6Y-EGFR(mods: (phosphorylation, Y, 1045), (phosphorylation, Y, 992), (phosphorylation, Y, 1086), (phosphorylation, Y, 1068), (phosphorylation, Y, 1173), (phosphorylation, Y, 1148)), p-Y371-CBL(mods: (phosphorylation, Y, 371)), p-Y371-CBL(mods: (phosphorylation, Y, 371)), EGF(), EGF(), UBC(533-608)(), UBC(305-380)())\n",
      "255 Complex(p-6Y-EGFR(mods: (phosphorylation, Y, 1045), (phosphorylation, Y, 992), (phosphorylation, Y, 1086), (phosphorylation, Y, 1068), (phosphorylation, Y, 1173), (phosphorylation, Y, 1148)), p-6Y-EGFR(mods: (phosphorylation, Y, 1045), (phosphorylation, Y, 992), (phosphorylation, Y, 1086), (phosphorylation, Y, 1068), (phosphorylation, Y, 1173), (phosphorylation, Y, 1148)), p-Y371-CBL(mods: (phosphorylation, Y, 371)), p-Y371-CBL(mods: (phosphorylation, Y, 371)), EGF(), EGF(), UBC(533-608)(), RPS27A())\n",
      "256 Complex(p-6Y-EGFR(mods: (phosphorylation, Y, 1045), (phosphorylation, Y, 992), (phosphorylation, Y, 1086), (phosphorylation, Y, 1068), (phosphorylation, Y, 1173), (phosphorylation, Y, 1148)), p-6Y-EGFR(mods: (phosphorylation, Y, 1045), (phosphorylation, Y, 992), (phosphorylation, Y, 1086), (phosphorylation, Y, 1068), (phosphorylation, Y, 1173), (phosphorylation, Y, 1148)), p-Y371-CBL(mods: (phosphorylation, Y, 371)), p-Y371-CBL(mods: (phosphorylation, Y, 371)), EGF(), EGF(), UBC(533-608)(), UBC(457-532)())\n",
      "257 Complex(p-6Y-EGFR(mods: (phosphorylation, Y, 1045), (phosphorylation, Y, 992), (phosphorylation, Y, 1086), (phosphorylation, Y, 1068), (phosphorylation, Y, 1173), (phosphorylation, Y, 1148)), p-6Y-EGFR(mods: (phosphorylation, Y, 1045), (phosphorylation, Y, 992), (phosphorylation, Y, 1086), (phosphorylation, Y, 1068), (phosphorylation, Y, 1173), (phosphorylation, Y, 1148)), p-Y371-CBL(mods: (phosphorylation, Y, 371)), p-Y371-CBL(mods: (phosphorylation, Y, 371)), EGF(), EGF(), UBC(533-608)(), UBC(381-456)())\n",
      "258 Complex(p-6Y-EGFR(mods: (phosphorylation, Y, 1045), (phosphorylation, Y, 992), (phosphorylation, Y, 1086), (phosphorylation, Y, 1068), (phosphorylation, Y, 1173), (phosphorylation, Y, 1148)), p-6Y-EGFR(mods: (phosphorylation, Y, 1045), (phosphorylation, Y, 992), (phosphorylation, Y, 1086), (phosphorylation, Y, 1068), (phosphorylation, Y, 1173), (phosphorylation, Y, 1148)), p-Y371-CBL(mods: (phosphorylation, Y, 371)), p-Y371-CBL(mods: (phosphorylation, Y, 371)), EGF(), EGF(), UBC(533-608)(), UBB())\n",
      "259 Complex(p-6Y-EGFR(mods: (phosphorylation, Y, 1045), (phosphorylation, Y, 992), (phosphorylation, Y, 1086), (phosphorylation, Y, 1068), (phosphorylation, Y, 1173), (phosphorylation, Y, 1148)), p-6Y-EGFR(mods: (phosphorylation, Y, 1045), (phosphorylation, Y, 992), (phosphorylation, Y, 1086), (phosphorylation, Y, 1068), (phosphorylation, Y, 1173), (phosphorylation, Y, 1148)), p-Y371-CBL(mods: (phosphorylation, Y, 371)), p-Y371-CBL(mods: (phosphorylation, Y, 371)), EGF(), EGF(), UBC(533-608)(), UBC(609-684)())\n",
      "260 Complex(p-6Y-EGFR(mods: (phosphorylation, Y, 1045), (phosphorylation, Y, 992), (phosphorylation, Y, 1086), (phosphorylation, Y, 1068), (phosphorylation, Y, 1173), (phosphorylation, Y, 1148)), p-6Y-EGFR(mods: (phosphorylation, Y, 1045), (phosphorylation, Y, 992), (phosphorylation, Y, 1086), (phosphorylation, Y, 1068), (phosphorylation, Y, 1173), (phosphorylation, Y, 1148)), p-Y371-CBL(mods: (phosphorylation, Y, 371)), p-Y371-CBL(mods: (phosphorylation, Y, 371)), EGF(), EGF(), UBC(533-608)(), UBA52())\n",
      "261 Complex(p-6Y-EGFR(mods: (phosphorylation, Y, 1045), (phosphorylation, Y, 992), (phosphorylation, Y, 1086), (phosphorylation, Y, 1068), (phosphorylation, Y, 1173), (phosphorylation, Y, 1148)), p-6Y-EGFR(mods: (phosphorylation, Y, 1045), (phosphorylation, Y, 992), (phosphorylation, Y, 1086), (phosphorylation, Y, 1068), (phosphorylation, Y, 1173), (phosphorylation, Y, 1148)), p-Y371-CBL(mods: (phosphorylation, Y, 371)), p-Y371-CBL(mods: (phosphorylation, Y, 371)), EGF(), EGF(), UBC(533-608)(), UBC(533-608)())\n",
      "262 Complex(p-Y53-SPRY1(mods: (phosphorylation, Y, 53)), UBB(153-228)())\n",
      "263 Complex(p-Y53-SPRY1(mods: (phosphorylation, Y, 53)), UBB(77-152)())\n",
      "264 Complex(p-Y53-SPRY1(mods: (phosphorylation, Y, 53)), UBC(77-152)())\n",
      "265 Complex(p-Y53-SPRY1(mods: (phosphorylation, Y, 53)), UBC())\n",
      "266 Complex(p-Y53-SPRY1(mods: (phosphorylation, Y, 53)), UBC(229-304)())\n",
      "267 Complex(p-Y53-SPRY1(mods: (phosphorylation, Y, 53)), UBC(153-228)())\n",
      "268 Complex(p-Y53-SPRY1(mods: (phosphorylation, Y, 53)), UBC(305-380)())\n",
      "269 Complex(p-Y53-SPRY1(mods: (phosphorylation, Y, 53)), RPS27A())\n",
      "270 Complex(p-Y53-SPRY1(mods: (phosphorylation, Y, 53)), UBC(457-532)())\n",
      "271 Complex(p-Y53-SPRY1(mods: (phosphorylation, Y, 53)), UBC(381-456)())\n",
      "272 Complex(p-Y53-SPRY1(mods: (phosphorylation, Y, 53)), UBB())\n",
      "273 Complex(p-Y53-SPRY1(mods: (phosphorylation, Y, 53)), UBC(609-684)())\n",
      "274 Complex(p-Y53-SPRY1(mods: (phosphorylation, Y, 53)), UBA52())\n",
      "275 Complex(p-Y53-SPRY1(mods: (phosphorylation, Y, 53)), UBC(533-608)())\n",
      "276 Complex(p-Y55-SPRY2(mods: (phosphorylation, Y, 55)), UBB(153-228)())\n",
      "277 Complex(p-Y55-SPRY2(mods: (phosphorylation, Y, 55)), UBB(77-152)())\n",
      "278 Complex(p-Y55-SPRY2(mods: (phosphorylation, Y, 55)), UBC(77-152)())\n",
      "279 Complex(p-Y55-SPRY2(mods: (phosphorylation, Y, 55)), UBC())\n",
      "280 Complex(p-Y55-SPRY2(mods: (phosphorylation, Y, 55)), UBC(229-304)())\n",
      "281 Complex(p-Y55-SPRY2(mods: (phosphorylation, Y, 55)), UBC(153-228)())\n",
      "282 Complex(p-Y55-SPRY2(mods: (phosphorylation, Y, 55)), UBC(305-380)())\n",
      "283 Complex(p-Y55-SPRY2(mods: (phosphorylation, Y, 55)), RPS27A())\n",
      "284 Complex(p-Y55-SPRY2(mods: (phosphorylation, Y, 55)), UBC(457-532)())\n",
      "285 Complex(p-Y55-SPRY2(mods: (phosphorylation, Y, 55)), UBC(381-456)())\n",
      "286 Complex(p-Y55-SPRY2(mods: (phosphorylation, Y, 55)), UBB())\n",
      "287 Complex(p-Y55-SPRY2(mods: (phosphorylation, Y, 55)), UBC(609-684)())\n",
      "288 Complex(p-Y55-SPRY2(mods: (phosphorylation, Y, 55)), UBA52())\n",
      "289 Complex(p-Y55-SPRY2(mods: (phosphorylation, Y, 55)), UBC(533-608)())\n",
      "290 Complex(p-Y-PXN(mods: (phosphorylation, Y)), CSK(), p(Y530)-SRC(mods: (myristoylation, G, 2), (phosphorylation, Y, 530)))\n",
      "291 Complex(p-4Y-EGFR(mods: (phosphorylation, Y, 1086), (phosphorylation, Y, 1068), (phosphorylation, Y, 1173), (phosphorylation, Y, 1148)), EGF())\n",
      "292 Complex(p-6Y-EGFR(mods: (phosphorylation, Y, 1045), (phosphorylation, Y, 992), (phosphorylation, Y, 1086), (phosphorylation, Y, 1068), (phosphorylation, Y, 1173), (phosphorylation, Y, 1148)), EGF(), CBL(), CBL())\n",
      "293 Complex(MyrG-SRC(mods: (myristoylation, G, 2)), PXN())\n",
      "294 Complex(p-4Y-EGFR(mods: (phosphorylation, Y, 1086), (phosphorylation, Y, 1068), (phosphorylation, Y, 1173), (phosphorylation, Y, 1148)), EGF())\n",
      "295 Complex(SHP2(), PIP3(), p-5Y-GAB1(mods: (phosphorylation, Y, 659), (phosphorylation, Y, 447), (phosphorylation, Y, 627), (phosphorylation, Y, 472), (phosphorylation, Y, 589)), Ash-L(), p-5Y-GAB1(mods: (phosphorylation, Y, 659), (phosphorylation, Y, 447), (phosphorylation, Y, 627), (phosphorylation, Y, 472), (phosphorylation, Y, 589)), Ash-L(), p-4Y-EGFR(mods: (phosphorylation, Y, 1086), (phosphorylation, Y, 1068), (phosphorylation, Y, 1173), (phosphorylation, Y, 1148)), EGF())\n",
      "296 Complex(CBL(), GTP(), CDC42(), PIX())\n",
      "297 Complex(GTP(), CDC42())\n",
      "298 Complex(p-Y371-CBL(mods: (phosphorylation, Y, 371)), Ash-L())\n",
      "299 Complex(p-6Y-EGFR(mods: (phosphorylation, Y, 1045), (phosphorylation, Y, 992), (phosphorylation, Y, 1086), (phosphorylation, Y, 1068), (phosphorylation, Y, 1173), (phosphorylation, Y, 1148)), p-6Y-EGFR(mods: (phosphorylation, Y, 1045), (phosphorylation, Y, 992), (phosphorylation, Y, 1086), (phosphorylation, Y, 1068), (phosphorylation, Y, 1173), (phosphorylation, Y, 1148)), p-Y371-CBL(mods: (phosphorylation, Y, 371)), Ash-L(), EGF(), EGF(), UBB(153-228)(), UBB(153-228)())\n",
      "300 Complex(p-6Y-EGFR(mods: (phosphorylation, Y, 1045), (phosphorylation, Y, 992), (phosphorylation, Y, 1086), (phosphorylation, Y, 1068), (phosphorylation, Y, 1173), (phosphorylation, Y, 1148)), p-6Y-EGFR(mods: (phosphorylation, Y, 1045), (phosphorylation, Y, 992), (phosphorylation, Y, 1086), (phosphorylation, Y, 1068), (phosphorylation, Y, 1173), (phosphorylation, Y, 1148)), p-Y371-CBL(mods: (phosphorylation, Y, 371)), Ash-L(), EGF(), EGF(), UBB(153-228)(), UBB(77-152)())\n",
      "301 Complex(p-6Y-EGFR(mods: (phosphorylation, Y, 1045), (phosphorylation, Y, 992), (phosphorylation, Y, 1086), (phosphorylation, Y, 1068), (phosphorylation, Y, 1173), (phosphorylation, Y, 1148)), p-6Y-EGFR(mods: (phosphorylation, Y, 1045), (phosphorylation, Y, 992), (phosphorylation, Y, 1086), (phosphorylation, Y, 1068), (phosphorylation, Y, 1173), (phosphorylation, Y, 1148)), p-Y371-CBL(mods: (phosphorylation, Y, 371)), Ash-L(), EGF(), EGF(), UBB(153-228)(), UBC(77-152)())\n",
      "302 Complex(p-6Y-EGFR(mods: (phosphorylation, Y, 1045), (phosphorylation, Y, 992), (phosphorylation, Y, 1086), (phosphorylation, Y, 1068), (phosphorylation, Y, 1173), (phosphorylation, Y, 1148)), p-6Y-EGFR(mods: (phosphorylation, Y, 1045), (phosphorylation, Y, 992), (phosphorylation, Y, 1086), (phosphorylation, Y, 1068), (phosphorylation, Y, 1173), (phosphorylation, Y, 1148)), p-Y371-CBL(mods: (phosphorylation, Y, 371)), Ash-L(), EGF(), EGF(), UBB(153-228)(), UBC())\n",
      "303 Complex(p-6Y-EGFR(mods: (phosphorylation, Y, 1045), (phosphorylation, Y, 992), (phosphorylation, Y, 1086), (phosphorylation, Y, 1068), (phosphorylation, Y, 1173), (phosphorylation, Y, 1148)), p-6Y-EGFR(mods: (phosphorylation, Y, 1045), (phosphorylation, Y, 992), (phosphorylation, Y, 1086), (phosphorylation, Y, 1068), (phosphorylation, Y, 1173), (phosphorylation, Y, 1148)), p-Y371-CBL(mods: (phosphorylation, Y, 371)), Ash-L(), EGF(), EGF(), UBB(153-228)(), UBC(229-304)())\n",
      "304 Complex(p-6Y-EGFR(mods: (phosphorylation, Y, 1045), (phosphorylation, Y, 992), (phosphorylation, Y, 1086), (phosphorylation, Y, 1068), (phosphorylation, Y, 1173), (phosphorylation, Y, 1148)), p-6Y-EGFR(mods: (phosphorylation, Y, 1045), (phosphorylation, Y, 992), (phosphorylation, Y, 1086), (phosphorylation, Y, 1068), (phosphorylation, Y, 1173), (phosphorylation, Y, 1148)), p-Y371-CBL(mods: (phosphorylation, Y, 371)), Ash-L(), EGF(), EGF(), UBB(153-228)(), UBC(153-228)())\n",
      "305 Complex(p-6Y-EGFR(mods: (phosphorylation, Y, 1045), (phosphorylation, Y, 992), (phosphorylation, Y, 1086), (phosphorylation, Y, 1068), (phosphorylation, Y, 1173), (phosphorylation, Y, 1148)), p-6Y-EGFR(mods: (phosphorylation, Y, 1045), (phosphorylation, Y, 992), (phosphorylation, Y, 1086), (phosphorylation, Y, 1068), (phosphorylation, Y, 1173), (phosphorylation, Y, 1148)), p-Y371-CBL(mods: (phosphorylation, Y, 371)), Ash-L(), EGF(), EGF(), UBB(153-228)(), UBC(305-380)())\n",
      "306 Complex(p-6Y-EGFR(mods: (phosphorylation, Y, 1045), (phosphorylation, Y, 992), (phosphorylation, Y, 1086), (phosphorylation, Y, 1068), (phosphorylation, Y, 1173), (phosphorylation, Y, 1148)), p-6Y-EGFR(mods: (phosphorylation, Y, 1045), (phosphorylation, Y, 992), (phosphorylation, Y, 1086), (phosphorylation, Y, 1068), (phosphorylation, Y, 1173), (phosphorylation, Y, 1148)), p-Y371-CBL(mods: (phosphorylation, Y, 371)), Ash-L(), EGF(), EGF(), UBB(153-228)(), RPS27A())\n",
      "307 Complex(p-6Y-EGFR(mods: (phosphorylation, Y, 1045), (phosphorylation, Y, 992), (phosphorylation, Y, 1086), (phosphorylation, Y, 1068), (phosphorylation, Y, 1173), (phosphorylation, Y, 1148)), p-6Y-EGFR(mods: (phosphorylation, Y, 1045), (phosphorylation, Y, 992), (phosphorylation, Y, 1086), (phosphorylation, Y, 1068), (phosphorylation, Y, 1173), (phosphorylation, Y, 1148)), p-Y371-CBL(mods: (phosphorylation, Y, 371)), Ash-L(), EGF(), EGF(), UBB(153-228)(), UBC(457-532)())\n",
      "308 Complex(p-6Y-EGFR(mods: (phosphorylation, Y, 1045), (phosphorylation, Y, 992), (phosphorylation, Y, 1086), (phosphorylation, Y, 1068), (phosphorylation, Y, 1173), (phosphorylation, Y, 1148)), p-6Y-EGFR(mods: (phosphorylation, Y, 1045), (phosphorylation, Y, 992), (phosphorylation, Y, 1086), (phosphorylation, Y, 1068), (phosphorylation, Y, 1173), (phosphorylation, Y, 1148)), p-Y371-CBL(mods: (phosphorylation, Y, 371)), Ash-L(), EGF(), EGF(), UBB(153-228)(), UBC(381-456)())\n",
      "309 Complex(p-6Y-EGFR(mods: (phosphorylation, Y, 1045), (phosphorylation, Y, 992), (phosphorylation, Y, 1086), (phosphorylation, Y, 1068), (phosphorylation, Y, 1173), (phosphorylation, Y, 1148)), p-6Y-EGFR(mods: (phosphorylation, Y, 1045), (phosphorylation, Y, 992), (phosphorylation, Y, 1086), (phosphorylation, Y, 1068), (phosphorylation, Y, 1173), (phosphorylation, Y, 1148)), p-Y371-CBL(mods: (phosphorylation, Y, 371)), Ash-L(), EGF(), EGF(), UBB(153-228)(), UBB())\n",
      "310 Complex(p-6Y-EGFR(mods: (phosphorylation, Y, 1045), (phosphorylation, Y, 992), (phosphorylation, Y, 1086), (phosphorylation, Y, 1068), (phosphorylation, Y, 1173), (phosphorylation, Y, 1148)), p-6Y-EGFR(mods: (phosphorylation, Y, 1045), (phosphorylation, Y, 992), (phosphorylation, Y, 1086), (phosphorylation, Y, 1068), (phosphorylation, Y, 1173), (phosphorylation, Y, 1148)), p-Y371-CBL(mods: (phosphorylation, Y, 371)), Ash-L(), EGF(), EGF(), UBB(153-228)(), UBC(609-684)())\n",
      "311 Complex(p-6Y-EGFR(mods: (phosphorylation, Y, 1045), (phosphorylation, Y, 992), (phosphorylation, Y, 1086), (phosphorylation, Y, 1068), (phosphorylation, Y, 1173), (phosphorylation, Y, 1148)), p-6Y-EGFR(mods: (phosphorylation, Y, 1045), (phosphorylation, Y, 992), (phosphorylation, Y, 1086), (phosphorylation, Y, 1068), (phosphorylation, Y, 1173), (phosphorylation, Y, 1148)), p-Y371-CBL(mods: (phosphorylation, Y, 371)), Ash-L(), EGF(), EGF(), UBB(153-228)(), UBA52())\n",
      "312 Complex(p-6Y-EGFR(mods: (phosphorylation, Y, 1045), (phosphorylation, Y, 992), (phosphorylation, Y, 1086), (phosphorylation, Y, 1068), (phosphorylation, Y, 1173), (phosphorylation, Y, 1148)), p-6Y-EGFR(mods: (phosphorylation, Y, 1045), (phosphorylation, Y, 992), (phosphorylation, Y, 1086), (phosphorylation, Y, 1068), (phosphorylation, Y, 1173), (phosphorylation, Y, 1148)), p-Y371-CBL(mods: (phosphorylation, Y, 371)), Ash-L(), EGF(), EGF(), UBB(153-228)(), UBC(533-608)())\n",
      "313 Complex(p-6Y-EGFR(mods: (phosphorylation, Y, 1045), (phosphorylation, Y, 992), (phosphorylation, Y, 1086), (phosphorylation, Y, 1068), (phosphorylation, Y, 1173), (phosphorylation, Y, 1148)), p-6Y-EGFR(mods: (phosphorylation, Y, 1045), (phosphorylation, Y, 992), (phosphorylation, Y, 1086), (phosphorylation, Y, 1068), (phosphorylation, Y, 1173), (phosphorylation, Y, 1148)), p-Y371-CBL(mods: (phosphorylation, Y, 371)), Ash-L(), EGF(), EGF(), UBB(77-152)(), UBB(153-228)())\n",
      "314 Complex(p-6Y-EGFR(mods: (phosphorylation, Y, 1045), (phosphorylation, Y, 992), (phosphorylation, Y, 1086), (phosphorylation, Y, 1068), (phosphorylation, Y, 1173), (phosphorylation, Y, 1148)), p-6Y-EGFR(mods: (phosphorylation, Y, 1045), (phosphorylation, Y, 992), (phosphorylation, Y, 1086), (phosphorylation, Y, 1068), (phosphorylation, Y, 1173), (phosphorylation, Y, 1148)), p-Y371-CBL(mods: (phosphorylation, Y, 371)), Ash-L(), EGF(), EGF(), UBB(77-152)(), UBB(77-152)())\n",
      "315 Complex(p-6Y-EGFR(mods: (phosphorylation, Y, 1045), (phosphorylation, Y, 992), (phosphorylation, Y, 1086), (phosphorylation, Y, 1068), (phosphorylation, Y, 1173), (phosphorylation, Y, 1148)), p-6Y-EGFR(mods: (phosphorylation, Y, 1045), (phosphorylation, Y, 992), (phosphorylation, Y, 1086), (phosphorylation, Y, 1068), (phosphorylation, Y, 1173), (phosphorylation, Y, 1148)), p-Y371-CBL(mods: (phosphorylation, Y, 371)), Ash-L(), EGF(), EGF(), UBB(77-152)(), UBC(77-152)())\n",
      "316 Complex(p-6Y-EGFR(mods: (phosphorylation, Y, 1045), (phosphorylation, Y, 992), (phosphorylation, Y, 1086), (phosphorylation, Y, 1068), (phosphorylation, Y, 1173), (phosphorylation, Y, 1148)), p-6Y-EGFR(mods: (phosphorylation, Y, 1045), (phosphorylation, Y, 992), (phosphorylation, Y, 1086), (phosphorylation, Y, 1068), (phosphorylation, Y, 1173), (phosphorylation, Y, 1148)), p-Y371-CBL(mods: (phosphorylation, Y, 371)), Ash-L(), EGF(), EGF(), UBB(77-152)(), UBC())\n",
      "317 Complex(p-6Y-EGFR(mods: (phosphorylation, Y, 1045), (phosphorylation, Y, 992), (phosphorylation, Y, 1086), (phosphorylation, Y, 1068), (phosphorylation, Y, 1173), (phosphorylation, Y, 1148)), p-6Y-EGFR(mods: (phosphorylation, Y, 1045), (phosphorylation, Y, 992), (phosphorylation, Y, 1086), (phosphorylation, Y, 1068), (phosphorylation, Y, 1173), (phosphorylation, Y, 1148)), p-Y371-CBL(mods: (phosphorylation, Y, 371)), Ash-L(), EGF(), EGF(), UBB(77-152)(), UBC(229-304)())\n",
      "318 Complex(p-6Y-EGFR(mods: (phosphorylation, Y, 1045), (phosphorylation, Y, 992), (phosphorylation, Y, 1086), (phosphorylation, Y, 1068), (phosphorylation, Y, 1173), (phosphorylation, Y, 1148)), p-6Y-EGFR(mods: (phosphorylation, Y, 1045), (phosphorylation, Y, 992), (phosphorylation, Y, 1086), (phosphorylation, Y, 1068), (phosphorylation, Y, 1173), (phosphorylation, Y, 1148)), p-Y371-CBL(mods: (phosphorylation, Y, 371)), Ash-L(), EGF(), EGF(), UBB(77-152)(), UBC(153-228)())\n",
      "319 Complex(p-6Y-EGFR(mods: (phosphorylation, Y, 1045), (phosphorylation, Y, 992), (phosphorylation, Y, 1086), (phosphorylation, Y, 1068), (phosphorylation, Y, 1173), (phosphorylation, Y, 1148)), p-6Y-EGFR(mods: (phosphorylation, Y, 1045), (phosphorylation, Y, 992), (phosphorylation, Y, 1086), (phosphorylation, Y, 1068), (phosphorylation, Y, 1173), (phosphorylation, Y, 1148)), p-Y371-CBL(mods: (phosphorylation, Y, 371)), Ash-L(), EGF(), EGF(), UBB(77-152)(), UBC(305-380)())\n",
      "320 Complex(p-6Y-EGFR(mods: (phosphorylation, Y, 1045), (phosphorylation, Y, 992), (phosphorylation, Y, 1086), (phosphorylation, Y, 1068), (phosphorylation, Y, 1173), (phosphorylation, Y, 1148)), p-6Y-EGFR(mods: (phosphorylation, Y, 1045), (phosphorylation, Y, 992), (phosphorylation, Y, 1086), (phosphorylation, Y, 1068), (phosphorylation, Y, 1173), (phosphorylation, Y, 1148)), p-Y371-CBL(mods: (phosphorylation, Y, 371)), Ash-L(), EGF(), EGF(), UBB(77-152)(), RPS27A())\n",
      "321 Complex(p-6Y-EGFR(mods: (phosphorylation, Y, 1045), (phosphorylation, Y, 992), (phosphorylation, Y, 1086), (phosphorylation, Y, 1068), (phosphorylation, Y, 1173), (phosphorylation, Y, 1148)), p-6Y-EGFR(mods: (phosphorylation, Y, 1045), (phosphorylation, Y, 992), (phosphorylation, Y, 1086), (phosphorylation, Y, 1068), (phosphorylation, Y, 1173), (phosphorylation, Y, 1148)), p-Y371-CBL(mods: (phosphorylation, Y, 371)), Ash-L(), EGF(), EGF(), UBB(77-152)(), UBC(457-532)())\n",
      "322 Complex(p-6Y-EGFR(mods: (phosphorylation, Y, 1045), (phosphorylation, Y, 992), (phosphorylation, Y, 1086), (phosphorylation, Y, 1068), (phosphorylation, Y, 1173), (phosphorylation, Y, 1148)), p-6Y-EGFR(mods: (phosphorylation, Y, 1045), (phosphorylation, Y, 992), (phosphorylation, Y, 1086), (phosphorylation, Y, 1068), (phosphorylation, Y, 1173), (phosphorylation, Y, 1148)), p-Y371-CBL(mods: (phosphorylation, Y, 371)), Ash-L(), EGF(), EGF(), UBB(77-152)(), UBC(381-456)())\n",
      "323 Complex(p-6Y-EGFR(mods: (phosphorylation, Y, 1045), (phosphorylation, Y, 992), (phosphorylation, Y, 1086), (phosphorylation, Y, 1068), (phosphorylation, Y, 1173), (phosphorylation, Y, 1148)), p-6Y-EGFR(mods: (phosphorylation, Y, 1045), (phosphorylation, Y, 992), (phosphorylation, Y, 1086), (phosphorylation, Y, 1068), (phosphorylation, Y, 1173), (phosphorylation, Y, 1148)), p-Y371-CBL(mods: (phosphorylation, Y, 371)), Ash-L(), EGF(), EGF(), UBB(77-152)(), UBB())\n",
      "324 Complex(p-6Y-EGFR(mods: (phosphorylation, Y, 1045), (phosphorylation, Y, 992), (phosphorylation, Y, 1086), (phosphorylation, Y, 1068), (phosphorylation, Y, 1173), (phosphorylation, Y, 1148)), p-6Y-EGFR(mods: (phosphorylation, Y, 1045), (phosphorylation, Y, 992), (phosphorylation, Y, 1086), (phosphorylation, Y, 1068), (phosphorylation, Y, 1173), (phosphorylation, Y, 1148)), p-Y371-CBL(mods: (phosphorylation, Y, 371)), Ash-L(), EGF(), EGF(), UBB(77-152)(), UBC(609-684)())\n",
      "325 Complex(p-6Y-EGFR(mods: (phosphorylation, Y, 1045), (phosphorylation, Y, 992), (phosphorylation, Y, 1086), (phosphorylation, Y, 1068), (phosphorylation, Y, 1173), (phosphorylation, Y, 1148)), p-6Y-EGFR(mods: (phosphorylation, Y, 1045), (phosphorylation, Y, 992), (phosphorylation, Y, 1086), (phosphorylation, Y, 1068), (phosphorylation, Y, 1173), (phosphorylation, Y, 1148)), p-Y371-CBL(mods: (phosphorylation, Y, 371)), Ash-L(), EGF(), EGF(), UBB(77-152)(), UBA52())\n",
      "326 Complex(p-6Y-EGFR(mods: (phosphorylation, Y, 1045), (phosphorylation, Y, 992), (phosphorylation, Y, 1086), (phosphorylation, Y, 1068), (phosphorylation, Y, 1173), (phosphorylation, Y, 1148)), p-6Y-EGFR(mods: (phosphorylation, Y, 1045), (phosphorylation, Y, 992), (phosphorylation, Y, 1086), (phosphorylation, Y, 1068), (phosphorylation, Y, 1173), (phosphorylation, Y, 1148)), p-Y371-CBL(mods: (phosphorylation, Y, 371)), Ash-L(), EGF(), EGF(), UBB(77-152)(), UBC(533-608)())\n",
      "327 Complex(p-6Y-EGFR(mods: (phosphorylation, Y, 1045), (phosphorylation, Y, 992), (phosphorylation, Y, 1086), (phosphorylation, Y, 1068), (phosphorylation, Y, 1173), (phosphorylation, Y, 1148)), p-6Y-EGFR(mods: (phosphorylation, Y, 1045), (phosphorylation, Y, 992), (phosphorylation, Y, 1086), (phosphorylation, Y, 1068), (phosphorylation, Y, 1173), (phosphorylation, Y, 1148)), p-Y371-CBL(mods: (phosphorylation, Y, 371)), Ash-L(), EGF(), EGF(), UBC(77-152)(), UBB(153-228)())\n",
      "328 Complex(p-6Y-EGFR(mods: (phosphorylation, Y, 1045), (phosphorylation, Y, 992), (phosphorylation, Y, 1086), (phosphorylation, Y, 1068), (phosphorylation, Y, 1173), (phosphorylation, Y, 1148)), p-6Y-EGFR(mods: (phosphorylation, Y, 1045), (phosphorylation, Y, 992), (phosphorylation, Y, 1086), (phosphorylation, Y, 1068), (phosphorylation, Y, 1173), (phosphorylation, Y, 1148)), p-Y371-CBL(mods: (phosphorylation, Y, 371)), Ash-L(), EGF(), EGF(), UBC(77-152)(), UBB(77-152)())\n",
      "329 Complex(p-6Y-EGFR(mods: (phosphorylation, Y, 1045), (phosphorylation, Y, 992), (phosphorylation, Y, 1086), (phosphorylation, Y, 1068), (phosphorylation, Y, 1173), (phosphorylation, Y, 1148)), p-6Y-EGFR(mods: (phosphorylation, Y, 1045), (phosphorylation, Y, 992), (phosphorylation, Y, 1086), (phosphorylation, Y, 1068), (phosphorylation, Y, 1173), (phosphorylation, Y, 1148)), p-Y371-CBL(mods: (phosphorylation, Y, 371)), Ash-L(), EGF(), EGF(), UBC(77-152)(), UBC(77-152)())\n",
      "330 Complex(p-6Y-EGFR(mods: (phosphorylation, Y, 1045), (phosphorylation, Y, 992), (phosphorylation, Y, 1086), (phosphorylation, Y, 1068), (phosphorylation, Y, 1173), (phosphorylation, Y, 1148)), p-6Y-EGFR(mods: (phosphorylation, Y, 1045), (phosphorylation, Y, 992), (phosphorylation, Y, 1086), (phosphorylation, Y, 1068), (phosphorylation, Y, 1173), (phosphorylation, Y, 1148)), p-Y371-CBL(mods: (phosphorylation, Y, 371)), Ash-L(), EGF(), EGF(), UBC(77-152)(), UBC())\n",
      "331 Complex(p-6Y-EGFR(mods: (phosphorylation, Y, 1045), (phosphorylation, Y, 992), (phosphorylation, Y, 1086), (phosphorylation, Y, 1068), (phosphorylation, Y, 1173), (phosphorylation, Y, 1148)), p-6Y-EGFR(mods: (phosphorylation, Y, 1045), (phosphorylation, Y, 992), (phosphorylation, Y, 1086), (phosphorylation, Y, 1068), (phosphorylation, Y, 1173), (phosphorylation, Y, 1148)), p-Y371-CBL(mods: (phosphorylation, Y, 371)), Ash-L(), EGF(), EGF(), UBC(77-152)(), UBC(229-304)())\n",
      "332 Complex(p-6Y-EGFR(mods: (phosphorylation, Y, 1045), (phosphorylation, Y, 992), (phosphorylation, Y, 1086), (phosphorylation, Y, 1068), (phosphorylation, Y, 1173), (phosphorylation, Y, 1148)), p-6Y-EGFR(mods: (phosphorylation, Y, 1045), (phosphorylation, Y, 992), (phosphorylation, Y, 1086), (phosphorylation, Y, 1068), (phosphorylation, Y, 1173), (phosphorylation, Y, 1148)), p-Y371-CBL(mods: (phosphorylation, Y, 371)), Ash-L(), EGF(), EGF(), UBC(77-152)(), UBC(153-228)())\n",
      "333 Complex(p-6Y-EGFR(mods: (phosphorylation, Y, 1045), (phosphorylation, Y, 992), (phosphorylation, Y, 1086), (phosphorylation, Y, 1068), (phosphorylation, Y, 1173), (phosphorylation, Y, 1148)), p-6Y-EGFR(mods: (phosphorylation, Y, 1045), (phosphorylation, Y, 992), (phosphorylation, Y, 1086), (phosphorylation, Y, 1068), (phosphorylation, Y, 1173), (phosphorylation, Y, 1148)), p-Y371-CBL(mods: (phosphorylation, Y, 371)), Ash-L(), EGF(), EGF(), UBC(77-152)(), UBC(305-380)())\n",
      "334 Complex(p-6Y-EGFR(mods: (phosphorylation, Y, 1045), (phosphorylation, Y, 992), (phosphorylation, Y, 1086), (phosphorylation, Y, 1068), (phosphorylation, Y, 1173), (phosphorylation, Y, 1148)), p-6Y-EGFR(mods: (phosphorylation, Y, 1045), (phosphorylation, Y, 992), (phosphorylation, Y, 1086), (phosphorylation, Y, 1068), (phosphorylation, Y, 1173), (phosphorylation, Y, 1148)), p-Y371-CBL(mods: (phosphorylation, Y, 371)), Ash-L(), EGF(), EGF(), UBC(77-152)(), RPS27A())\n",
      "335 Complex(p-6Y-EGFR(mods: (phosphorylation, Y, 1045), (phosphorylation, Y, 992), (phosphorylation, Y, 1086), (phosphorylation, Y, 1068), (phosphorylation, Y, 1173), (phosphorylation, Y, 1148)), p-6Y-EGFR(mods: (phosphorylation, Y, 1045), (phosphorylation, Y, 992), (phosphorylation, Y, 1086), (phosphorylation, Y, 1068), (phosphorylation, Y, 1173), (phosphorylation, Y, 1148)), p-Y371-CBL(mods: (phosphorylation, Y, 371)), Ash-L(), EGF(), EGF(), UBC(77-152)(), UBC(457-532)())\n",
      "336 Complex(p-6Y-EGFR(mods: (phosphorylation, Y, 1045), (phosphorylation, Y, 992), (phosphorylation, Y, 1086), (phosphorylation, Y, 1068), (phosphorylation, Y, 1173), (phosphorylation, Y, 1148)), p-6Y-EGFR(mods: (phosphorylation, Y, 1045), (phosphorylation, Y, 992), (phosphorylation, Y, 1086), (phosphorylation, Y, 1068), (phosphorylation, Y, 1173), (phosphorylation, Y, 1148)), p-Y371-CBL(mods: (phosphorylation, Y, 371)), Ash-L(), EGF(), EGF(), UBC(77-152)(), UBC(381-456)())\n",
      "337 Complex(p-6Y-EGFR(mods: (phosphorylation, Y, 1045), (phosphorylation, Y, 992), (phosphorylation, Y, 1086), (phosphorylation, Y, 1068), (phosphorylation, Y, 1173), (phosphorylation, Y, 1148)), p-6Y-EGFR(mods: (phosphorylation, Y, 1045), (phosphorylation, Y, 992), (phosphorylation, Y, 1086), (phosphorylation, Y, 1068), (phosphorylation, Y, 1173), (phosphorylation, Y, 1148)), p-Y371-CBL(mods: (phosphorylation, Y, 371)), Ash-L(), EGF(), EGF(), UBC(77-152)(), UBB())\n",
      "338 Complex(p-6Y-EGFR(mods: (phosphorylation, Y, 1045), (phosphorylation, Y, 992), (phosphorylation, Y, 1086), (phosphorylation, Y, 1068), (phosphorylation, Y, 1173), (phosphorylation, Y, 1148)), p-6Y-EGFR(mods: (phosphorylation, Y, 1045), (phosphorylation, Y, 992), (phosphorylation, Y, 1086), (phosphorylation, Y, 1068), (phosphorylation, Y, 1173), (phosphorylation, Y, 1148)), p-Y371-CBL(mods: (phosphorylation, Y, 371)), Ash-L(), EGF(), EGF(), UBC(77-152)(), UBC(609-684)())\n",
      "339 Complex(p-6Y-EGFR(mods: (phosphorylation, Y, 1045), (phosphorylation, Y, 992), (phosphorylation, Y, 1086), (phosphorylation, Y, 1068), (phosphorylation, Y, 1173), (phosphorylation, Y, 1148)), p-6Y-EGFR(mods: (phosphorylation, Y, 1045), (phosphorylation, Y, 992), (phosphorylation, Y, 1086), (phosphorylation, Y, 1068), (phosphorylation, Y, 1173), (phosphorylation, Y, 1148)), p-Y371-CBL(mods: (phosphorylation, Y, 371)), Ash-L(), EGF(), EGF(), UBC(77-152)(), UBA52())\n",
      "340 Complex(p-6Y-EGFR(mods: (phosphorylation, Y, 1045), (phosphorylation, Y, 992), (phosphorylation, Y, 1086), (phosphorylation, Y, 1068), (phosphorylation, Y, 1173), (phosphorylation, Y, 1148)), p-6Y-EGFR(mods: (phosphorylation, Y, 1045), (phosphorylation, Y, 992), (phosphorylation, Y, 1086), (phosphorylation, Y, 1068), (phosphorylation, Y, 1173), (phosphorylation, Y, 1148)), p-Y371-CBL(mods: (phosphorylation, Y, 371)), Ash-L(), EGF(), EGF(), UBC(77-152)(), UBC(533-608)())\n",
      "341 Complex(p-6Y-EGFR(mods: (phosphorylation, Y, 1045), (phosphorylation, Y, 992), (phosphorylation, Y, 1086), (phosphorylation, Y, 1068), (phosphorylation, Y, 1173), (phosphorylation, Y, 1148)), p-6Y-EGFR(mods: (phosphorylation, Y, 1045), (phosphorylation, Y, 992), (phosphorylation, Y, 1086), (phosphorylation, Y, 1068), (phosphorylation, Y, 1173), (phosphorylation, Y, 1148)), p-Y371-CBL(mods: (phosphorylation, Y, 371)), Ash-L(), EGF(), EGF(), UBC(), UBB(153-228)())\n",
      "342 Complex(p-6Y-EGFR(mods: (phosphorylation, Y, 1045), (phosphorylation, Y, 992), (phosphorylation, Y, 1086), (phosphorylation, Y, 1068), (phosphorylation, Y, 1173), (phosphorylation, Y, 1148)), p-6Y-EGFR(mods: (phosphorylation, Y, 1045), (phosphorylation, Y, 992), (phosphorylation, Y, 1086), (phosphorylation, Y, 1068), (phosphorylation, Y, 1173), (phosphorylation, Y, 1148)), p-Y371-CBL(mods: (phosphorylation, Y, 371)), Ash-L(), EGF(), EGF(), UBC(), UBB(77-152)())\n",
      "343 Complex(p-6Y-EGFR(mods: (phosphorylation, Y, 1045), (phosphorylation, Y, 992), (phosphorylation, Y, 1086), (phosphorylation, Y, 1068), (phosphorylation, Y, 1173), (phosphorylation, Y, 1148)), p-6Y-EGFR(mods: (phosphorylation, Y, 1045), (phosphorylation, Y, 992), (phosphorylation, Y, 1086), (phosphorylation, Y, 1068), (phosphorylation, Y, 1173), (phosphorylation, Y, 1148)), p-Y371-CBL(mods: (phosphorylation, Y, 371)), Ash-L(), EGF(), EGF(), UBC(), UBC(77-152)())\n",
      "344 Complex(p-6Y-EGFR(mods: (phosphorylation, Y, 1045), (phosphorylation, Y, 992), (phosphorylation, Y, 1086), (phosphorylation, Y, 1068), (phosphorylation, Y, 1173), (phosphorylation, Y, 1148)), p-6Y-EGFR(mods: (phosphorylation, Y, 1045), (phosphorylation, Y, 992), (phosphorylation, Y, 1086), (phosphorylation, Y, 1068), (phosphorylation, Y, 1173), (phosphorylation, Y, 1148)), p-Y371-CBL(mods: (phosphorylation, Y, 371)), Ash-L(), EGF(), EGF(), UBC(), UBC())\n",
      "345 Complex(p-6Y-EGFR(mods: (phosphorylation, Y, 1045), (phosphorylation, Y, 992), (phosphorylation, Y, 1086), (phosphorylation, Y, 1068), (phosphorylation, Y, 1173), (phosphorylation, Y, 1148)), p-6Y-EGFR(mods: (phosphorylation, Y, 1045), (phosphorylation, Y, 992), (phosphorylation, Y, 1086), (phosphorylation, Y, 1068), (phosphorylation, Y, 1173), (phosphorylation, Y, 1148)), p-Y371-CBL(mods: (phosphorylation, Y, 371)), Ash-L(), EGF(), EGF(), UBC(), UBC(229-304)())\n",
      "346 Complex(p-6Y-EGFR(mods: (phosphorylation, Y, 1045), (phosphorylation, Y, 992), (phosphorylation, Y, 1086), (phosphorylation, Y, 1068), (phosphorylation, Y, 1173), (phosphorylation, Y, 1148)), p-6Y-EGFR(mods: (phosphorylation, Y, 1045), (phosphorylation, Y, 992), (phosphorylation, Y, 1086), (phosphorylation, Y, 1068), (phosphorylation, Y, 1173), (phosphorylation, Y, 1148)), p-Y371-CBL(mods: (phosphorylation, Y, 371)), Ash-L(), EGF(), EGF(), UBC(), UBC(153-228)())\n",
      "347 Complex(p-6Y-EGFR(mods: (phosphorylation, Y, 1045), (phosphorylation, Y, 992), (phosphorylation, Y, 1086), (phosphorylation, Y, 1068), (phosphorylation, Y, 1173), (phosphorylation, Y, 1148)), p-6Y-EGFR(mods: (phosphorylation, Y, 1045), (phosphorylation, Y, 992), (phosphorylation, Y, 1086), (phosphorylation, Y, 1068), (phosphorylation, Y, 1173), (phosphorylation, Y, 1148)), p-Y371-CBL(mods: (phosphorylation, Y, 371)), Ash-L(), EGF(), EGF(), UBC(), UBC(305-380)())\n",
      "348 Complex(p-6Y-EGFR(mods: (phosphorylation, Y, 1045), (phosphorylation, Y, 992), (phosphorylation, Y, 1086), (phosphorylation, Y, 1068), (phosphorylation, Y, 1173), (phosphorylation, Y, 1148)), p-6Y-EGFR(mods: (phosphorylation, Y, 1045), (phosphorylation, Y, 992), (phosphorylation, Y, 1086), (phosphorylation, Y, 1068), (phosphorylation, Y, 1173), (phosphorylation, Y, 1148)), p-Y371-CBL(mods: (phosphorylation, Y, 371)), Ash-L(), EGF(), EGF(), UBC(), RPS27A())\n",
      "349 Complex(p-6Y-EGFR(mods: (phosphorylation, Y, 1045), (phosphorylation, Y, 992), (phosphorylation, Y, 1086), (phosphorylation, Y, 1068), (phosphorylation, Y, 1173), (phosphorylation, Y, 1148)), p-6Y-EGFR(mods: (phosphorylation, Y, 1045), (phosphorylation, Y, 992), (phosphorylation, Y, 1086), (phosphorylation, Y, 1068), (phosphorylation, Y, 1173), (phosphorylation, Y, 1148)), p-Y371-CBL(mods: (phosphorylation, Y, 371)), Ash-L(), EGF(), EGF(), UBC(), UBC(457-532)())\n",
      "350 Complex(p-6Y-EGFR(mods: (phosphorylation, Y, 1045), (phosphorylation, Y, 992), (phosphorylation, Y, 1086), (phosphorylation, Y, 1068), (phosphorylation, Y, 1173), (phosphorylation, Y, 1148)), p-6Y-EGFR(mods: (phosphorylation, Y, 1045), (phosphorylation, Y, 992), (phosphorylation, Y, 1086), (phosphorylation, Y, 1068), (phosphorylation, Y, 1173), (phosphorylation, Y, 1148)), p-Y371-CBL(mods: (phosphorylation, Y, 371)), Ash-L(), EGF(), EGF(), UBC(), UBC(381-456)())\n",
      "351 Complex(p-6Y-EGFR(mods: (phosphorylation, Y, 1045), (phosphorylation, Y, 992), (phosphorylation, Y, 1086), (phosphorylation, Y, 1068), (phosphorylation, Y, 1173), (phosphorylation, Y, 1148)), p-6Y-EGFR(mods: (phosphorylation, Y, 1045), (phosphorylation, Y, 992), (phosphorylation, Y, 1086), (phosphorylation, Y, 1068), (phosphorylation, Y, 1173), (phosphorylation, Y, 1148)), p-Y371-CBL(mods: (phosphorylation, Y, 371)), Ash-L(), EGF(), EGF(), UBC(), UBB())\n",
      "352 Complex(p-6Y-EGFR(mods: (phosphorylation, Y, 1045), (phosphorylation, Y, 992), (phosphorylation, Y, 1086), (phosphorylation, Y, 1068), (phosphorylation, Y, 1173), (phosphorylation, Y, 1148)), p-6Y-EGFR(mods: (phosphorylation, Y, 1045), (phosphorylation, Y, 992), (phosphorylation, Y, 1086), (phosphorylation, Y, 1068), (phosphorylation, Y, 1173), (phosphorylation, Y, 1148)), p-Y371-CBL(mods: (phosphorylation, Y, 371)), Ash-L(), EGF(), EGF(), UBC(), UBC(609-684)())\n",
      "353 Complex(p-6Y-EGFR(mods: (phosphorylation, Y, 1045), (phosphorylation, Y, 992), (phosphorylation, Y, 1086), (phosphorylation, Y, 1068), (phosphorylation, Y, 1173), (phosphorylation, Y, 1148)), p-6Y-EGFR(mods: (phosphorylation, Y, 1045), (phosphorylation, Y, 992), (phosphorylation, Y, 1086), (phosphorylation, Y, 1068), (phosphorylation, Y, 1173), (phosphorylation, Y, 1148)), p-Y371-CBL(mods: (phosphorylation, Y, 371)), Ash-L(), EGF(), EGF(), UBC(), UBA52())\n",
      "354 Complex(p-6Y-EGFR(mods: (phosphorylation, Y, 1045), (phosphorylation, Y, 992), (phosphorylation, Y, 1086), (phosphorylation, Y, 1068), (phosphorylation, Y, 1173), (phosphorylation, Y, 1148)), p-6Y-EGFR(mods: (phosphorylation, Y, 1045), (phosphorylation, Y, 992), (phosphorylation, Y, 1086), (phosphorylation, Y, 1068), (phosphorylation, Y, 1173), (phosphorylation, Y, 1148)), p-Y371-CBL(mods: (phosphorylation, Y, 371)), Ash-L(), EGF(), EGF(), UBC(), UBC(533-608)())\n",
      "355 Complex(p-6Y-EGFR(mods: (phosphorylation, Y, 1045), (phosphorylation, Y, 992), (phosphorylation, Y, 1086), (phosphorylation, Y, 1068), (phosphorylation, Y, 1173), (phosphorylation, Y, 1148)), p-6Y-EGFR(mods: (phosphorylation, Y, 1045), (phosphorylation, Y, 992), (phosphorylation, Y, 1086), (phosphorylation, Y, 1068), (phosphorylation, Y, 1173), (phosphorylation, Y, 1148)), p-Y371-CBL(mods: (phosphorylation, Y, 371)), Ash-L(), EGF(), EGF(), UBC(229-304)(), UBB(153-228)())\n",
      "356 Complex(p-6Y-EGFR(mods: (phosphorylation, Y, 1045), (phosphorylation, Y, 992), (phosphorylation, Y, 1086), (phosphorylation, Y, 1068), (phosphorylation, Y, 1173), (phosphorylation, Y, 1148)), p-6Y-EGFR(mods: (phosphorylation, Y, 1045), (phosphorylation, Y, 992), (phosphorylation, Y, 1086), (phosphorylation, Y, 1068), (phosphorylation, Y, 1173), (phosphorylation, Y, 1148)), p-Y371-CBL(mods: (phosphorylation, Y, 371)), Ash-L(), EGF(), EGF(), UBC(229-304)(), UBB(77-152)())\n",
      "357 Complex(p-6Y-EGFR(mods: (phosphorylation, Y, 1045), (phosphorylation, Y, 992), (phosphorylation, Y, 1086), (phosphorylation, Y, 1068), (phosphorylation, Y, 1173), (phosphorylation, Y, 1148)), p-6Y-EGFR(mods: (phosphorylation, Y, 1045), (phosphorylation, Y, 992), (phosphorylation, Y, 1086), (phosphorylation, Y, 1068), (phosphorylation, Y, 1173), (phosphorylation, Y, 1148)), p-Y371-CBL(mods: (phosphorylation, Y, 371)), Ash-L(), EGF(), EGF(), UBC(229-304)(), UBC(77-152)())\n",
      "358 Complex(p-6Y-EGFR(mods: (phosphorylation, Y, 1045), (phosphorylation, Y, 992), (phosphorylation, Y, 1086), (phosphorylation, Y, 1068), (phosphorylation, Y, 1173), (phosphorylation, Y, 1148)), p-6Y-EGFR(mods: (phosphorylation, Y, 1045), (phosphorylation, Y, 992), (phosphorylation, Y, 1086), (phosphorylation, Y, 1068), (phosphorylation, Y, 1173), (phosphorylation, Y, 1148)), p-Y371-CBL(mods: (phosphorylation, Y, 371)), Ash-L(), EGF(), EGF(), UBC(229-304)(), UBC())\n",
      "359 Complex(p-6Y-EGFR(mods: (phosphorylation, Y, 1045), (phosphorylation, Y, 992), (phosphorylation, Y, 1086), (phosphorylation, Y, 1068), (phosphorylation, Y, 1173), (phosphorylation, Y, 1148)), p-6Y-EGFR(mods: (phosphorylation, Y, 1045), (phosphorylation, Y, 992), (phosphorylation, Y, 1086), (phosphorylation, Y, 1068), (phosphorylation, Y, 1173), (phosphorylation, Y, 1148)), p-Y371-CBL(mods: (phosphorylation, Y, 371)), Ash-L(), EGF(), EGF(), UBC(229-304)(), UBC(229-304)())\n",
      "360 Complex(p-6Y-EGFR(mods: (phosphorylation, Y, 1045), (phosphorylation, Y, 992), (phosphorylation, Y, 1086), (phosphorylation, Y, 1068), (phosphorylation, Y, 1173), (phosphorylation, Y, 1148)), p-6Y-EGFR(mods: (phosphorylation, Y, 1045), (phosphorylation, Y, 992), (phosphorylation, Y, 1086), (phosphorylation, Y, 1068), (phosphorylation, Y, 1173), (phosphorylation, Y, 1148)), p-Y371-CBL(mods: (phosphorylation, Y, 371)), Ash-L(), EGF(), EGF(), UBC(229-304)(), UBC(153-228)())\n",
      "361 Complex(p-6Y-EGFR(mods: (phosphorylation, Y, 1045), (phosphorylation, Y, 992), (phosphorylation, Y, 1086), (phosphorylation, Y, 1068), (phosphorylation, Y, 1173), (phosphorylation, Y, 1148)), p-6Y-EGFR(mods: (phosphorylation, Y, 1045), (phosphorylation, Y, 992), (phosphorylation, Y, 1086), (phosphorylation, Y, 1068), (phosphorylation, Y, 1173), (phosphorylation, Y, 1148)), p-Y371-CBL(mods: (phosphorylation, Y, 371)), Ash-L(), EGF(), EGF(), UBC(229-304)(), UBC(305-380)())\n",
      "362 Complex(p-6Y-EGFR(mods: (phosphorylation, Y, 1045), (phosphorylation, Y, 992), (phosphorylation, Y, 1086), (phosphorylation, Y, 1068), (phosphorylation, Y, 1173), (phosphorylation, Y, 1148)), p-6Y-EGFR(mods: (phosphorylation, Y, 1045), (phosphorylation, Y, 992), (phosphorylation, Y, 1086), (phosphorylation, Y, 1068), (phosphorylation, Y, 1173), (phosphorylation, Y, 1148)), p-Y371-CBL(mods: (phosphorylation, Y, 371)), Ash-L(), EGF(), EGF(), UBC(229-304)(), RPS27A())\n",
      "363 Complex(p-6Y-EGFR(mods: (phosphorylation, Y, 1045), (phosphorylation, Y, 992), (phosphorylation, Y, 1086), (phosphorylation, Y, 1068), (phosphorylation, Y, 1173), (phosphorylation, Y, 1148)), p-6Y-EGFR(mods: (phosphorylation, Y, 1045), (phosphorylation, Y, 992), (phosphorylation, Y, 1086), (phosphorylation, Y, 1068), (phosphorylation, Y, 1173), (phosphorylation, Y, 1148)), p-Y371-CBL(mods: (phosphorylation, Y, 371)), Ash-L(), EGF(), EGF(), UBC(229-304)(), UBC(457-532)())\n",
      "364 Complex(p-6Y-EGFR(mods: (phosphorylation, Y, 1045), (phosphorylation, Y, 992), (phosphorylation, Y, 1086), (phosphorylation, Y, 1068), (phosphorylation, Y, 1173), (phosphorylation, Y, 1148)), p-6Y-EGFR(mods: (phosphorylation, Y, 1045), (phosphorylation, Y, 992), (phosphorylation, Y, 1086), (phosphorylation, Y, 1068), (phosphorylation, Y, 1173), (phosphorylation, Y, 1148)), p-Y371-CBL(mods: (phosphorylation, Y, 371)), Ash-L(), EGF(), EGF(), UBC(229-304)(), UBC(381-456)())\n",
      "365 Complex(p-6Y-EGFR(mods: (phosphorylation, Y, 1045), (phosphorylation, Y, 992), (phosphorylation, Y, 1086), (phosphorylation, Y, 1068), (phosphorylation, Y, 1173), (phosphorylation, Y, 1148)), p-6Y-EGFR(mods: (phosphorylation, Y, 1045), (phosphorylation, Y, 992), (phosphorylation, Y, 1086), (phosphorylation, Y, 1068), (phosphorylation, Y, 1173), (phosphorylation, Y, 1148)), p-Y371-CBL(mods: (phosphorylation, Y, 371)), Ash-L(), EGF(), EGF(), UBC(229-304)(), UBB())\n",
      "366 Complex(p-6Y-EGFR(mods: (phosphorylation, Y, 1045), (phosphorylation, Y, 992), (phosphorylation, Y, 1086), (phosphorylation, Y, 1068), (phosphorylation, Y, 1173), (phosphorylation, Y, 1148)), p-6Y-EGFR(mods: (phosphorylation, Y, 1045), (phosphorylation, Y, 992), (phosphorylation, Y, 1086), (phosphorylation, Y, 1068), (phosphorylation, Y, 1173), (phosphorylation, Y, 1148)), p-Y371-CBL(mods: (phosphorylation, Y, 371)), Ash-L(), EGF(), EGF(), UBC(229-304)(), UBC(609-684)())\n",
      "367 Complex(p-6Y-EGFR(mods: (phosphorylation, Y, 1045), (phosphorylation, Y, 992), (phosphorylation, Y, 1086), (phosphorylation, Y, 1068), (phosphorylation, Y, 1173), (phosphorylation, Y, 1148)), p-6Y-EGFR(mods: (phosphorylation, Y, 1045), (phosphorylation, Y, 992), (phosphorylation, Y, 1086), (phosphorylation, Y, 1068), (phosphorylation, Y, 1173), (phosphorylation, Y, 1148)), p-Y371-CBL(mods: (phosphorylation, Y, 371)), Ash-L(), EGF(), EGF(), UBC(229-304)(), UBA52())\n",
      "368 Complex(p-6Y-EGFR(mods: (phosphorylation, Y, 1045), (phosphorylation, Y, 992), (phosphorylation, Y, 1086), (phosphorylation, Y, 1068), (phosphorylation, Y, 1173), (phosphorylation, Y, 1148)), p-6Y-EGFR(mods: (phosphorylation, Y, 1045), (phosphorylation, Y, 992), (phosphorylation, Y, 1086), (phosphorylation, Y, 1068), (phosphorylation, Y, 1173), (phosphorylation, Y, 1148)), p-Y371-CBL(mods: (phosphorylation, Y, 371)), Ash-L(), EGF(), EGF(), UBC(229-304)(), UBC(533-608)())\n",
      "369 Complex(p-6Y-EGFR(mods: (phosphorylation, Y, 1045), (phosphorylation, Y, 992), (phosphorylation, Y, 1086), (phosphorylation, Y, 1068), (phosphorylation, Y, 1173), (phosphorylation, Y, 1148)), p-6Y-EGFR(mods: (phosphorylation, Y, 1045), (phosphorylation, Y, 992), (phosphorylation, Y, 1086), (phosphorylation, Y, 1068), (phosphorylation, Y, 1173), (phosphorylation, Y, 1148)), p-Y371-CBL(mods: (phosphorylation, Y, 371)), Ash-L(), EGF(), EGF(), UBC(153-228)(), UBB(153-228)())\n",
      "370 Complex(p-6Y-EGFR(mods: (phosphorylation, Y, 1045), (phosphorylation, Y, 992), (phosphorylation, Y, 1086), (phosphorylation, Y, 1068), (phosphorylation, Y, 1173), (phosphorylation, Y, 1148)), p-6Y-EGFR(mods: (phosphorylation, Y, 1045), (phosphorylation, Y, 992), (phosphorylation, Y, 1086), (phosphorylation, Y, 1068), (phosphorylation, Y, 1173), (phosphorylation, Y, 1148)), p-Y371-CBL(mods: (phosphorylation, Y, 371)), Ash-L(), EGF(), EGF(), UBC(153-228)(), UBB(77-152)())\n",
      "371 Complex(p-6Y-EGFR(mods: (phosphorylation, Y, 1045), (phosphorylation, Y, 992), (phosphorylation, Y, 1086), (phosphorylation, Y, 1068), (phosphorylation, Y, 1173), (phosphorylation, Y, 1148)), p-6Y-EGFR(mods: (phosphorylation, Y, 1045), (phosphorylation, Y, 992), (phosphorylation, Y, 1086), (phosphorylation, Y, 1068), (phosphorylation, Y, 1173), (phosphorylation, Y, 1148)), p-Y371-CBL(mods: (phosphorylation, Y, 371)), Ash-L(), EGF(), EGF(), UBC(153-228)(), UBC(77-152)())\n",
      "372 Complex(p-6Y-EGFR(mods: (phosphorylation, Y, 1045), (phosphorylation, Y, 992), (phosphorylation, Y, 1086), (phosphorylation, Y, 1068), (phosphorylation, Y, 1173), (phosphorylation, Y, 1148)), p-6Y-EGFR(mods: (phosphorylation, Y, 1045), (phosphorylation, Y, 992), (phosphorylation, Y, 1086), (phosphorylation, Y, 1068), (phosphorylation, Y, 1173), (phosphorylation, Y, 1148)), p-Y371-CBL(mods: (phosphorylation, Y, 371)), Ash-L(), EGF(), EGF(), UBC(153-228)(), UBC())\n",
      "373 Complex(p-6Y-EGFR(mods: (phosphorylation, Y, 1045), (phosphorylation, Y, 992), (phosphorylation, Y, 1086), (phosphorylation, Y, 1068), (phosphorylation, Y, 1173), (phosphorylation, Y, 1148)), p-6Y-EGFR(mods: (phosphorylation, Y, 1045), (phosphorylation, Y, 992), (phosphorylation, Y, 1086), (phosphorylation, Y, 1068), (phosphorylation, Y, 1173), (phosphorylation, Y, 1148)), p-Y371-CBL(mods: (phosphorylation, Y, 371)), Ash-L(), EGF(), EGF(), UBC(153-228)(), UBC(229-304)())\n",
      "374 Complex(p-6Y-EGFR(mods: (phosphorylation, Y, 1045), (phosphorylation, Y, 992), (phosphorylation, Y, 1086), (phosphorylation, Y, 1068), (phosphorylation, Y, 1173), (phosphorylation, Y, 1148)), p-6Y-EGFR(mods: (phosphorylation, Y, 1045), (phosphorylation, Y, 992), (phosphorylation, Y, 1086), (phosphorylation, Y, 1068), (phosphorylation, Y, 1173), (phosphorylation, Y, 1148)), p-Y371-CBL(mods: (phosphorylation, Y, 371)), Ash-L(), EGF(), EGF(), UBC(153-228)(), UBC(153-228)())\n",
      "375 Complex(p-6Y-EGFR(mods: (phosphorylation, Y, 1045), (phosphorylation, Y, 992), (phosphorylation, Y, 1086), (phosphorylation, Y, 1068), (phosphorylation, Y, 1173), (phosphorylation, Y, 1148)), p-6Y-EGFR(mods: (phosphorylation, Y, 1045), (phosphorylation, Y, 992), (phosphorylation, Y, 1086), (phosphorylation, Y, 1068), (phosphorylation, Y, 1173), (phosphorylation, Y, 1148)), p-Y371-CBL(mods: (phosphorylation, Y, 371)), Ash-L(), EGF(), EGF(), UBC(153-228)(), UBC(305-380)())\n",
      "376 Complex(p-6Y-EGFR(mods: (phosphorylation, Y, 1045), (phosphorylation, Y, 992), (phosphorylation, Y, 1086), (phosphorylation, Y, 1068), (phosphorylation, Y, 1173), (phosphorylation, Y, 1148)), p-6Y-EGFR(mods: (phosphorylation, Y, 1045), (phosphorylation, Y, 992), (phosphorylation, Y, 1086), (phosphorylation, Y, 1068), (phosphorylation, Y, 1173), (phosphorylation, Y, 1148)), p-Y371-CBL(mods: (phosphorylation, Y, 371)), Ash-L(), EGF(), EGF(), UBC(153-228)(), RPS27A())\n",
      "377 Complex(p-6Y-EGFR(mods: (phosphorylation, Y, 1045), (phosphorylation, Y, 992), (phosphorylation, Y, 1086), (phosphorylation, Y, 1068), (phosphorylation, Y, 1173), (phosphorylation, Y, 1148)), p-6Y-EGFR(mods: (phosphorylation, Y, 1045), (phosphorylation, Y, 992), (phosphorylation, Y, 1086), (phosphorylation, Y, 1068), (phosphorylation, Y, 1173), (phosphorylation, Y, 1148)), p-Y371-CBL(mods: (phosphorylation, Y, 371)), Ash-L(), EGF(), EGF(), UBC(153-228)(), UBC(457-532)())\n",
      "378 Complex(p-6Y-EGFR(mods: (phosphorylation, Y, 1045), (phosphorylation, Y, 992), (phosphorylation, Y, 1086), (phosphorylation, Y, 1068), (phosphorylation, Y, 1173), (phosphorylation, Y, 1148)), p-6Y-EGFR(mods: (phosphorylation, Y, 1045), (phosphorylation, Y, 992), (phosphorylation, Y, 1086), (phosphorylation, Y, 1068), (phosphorylation, Y, 1173), (phosphorylation, Y, 1148)), p-Y371-CBL(mods: (phosphorylation, Y, 371)), Ash-L(), EGF(), EGF(), UBC(153-228)(), UBC(381-456)())\n",
      "379 Complex(p-6Y-EGFR(mods: (phosphorylation, Y, 1045), (phosphorylation, Y, 992), (phosphorylation, Y, 1086), (phosphorylation, Y, 1068), (phosphorylation, Y, 1173), (phosphorylation, Y, 1148)), p-6Y-EGFR(mods: (phosphorylation, Y, 1045), (phosphorylation, Y, 992), (phosphorylation, Y, 1086), (phosphorylation, Y, 1068), (phosphorylation, Y, 1173), (phosphorylation, Y, 1148)), p-Y371-CBL(mods: (phosphorylation, Y, 371)), Ash-L(), EGF(), EGF(), UBC(153-228)(), UBB())\n",
      "380 Complex(p-6Y-EGFR(mods: (phosphorylation, Y, 1045), (phosphorylation, Y, 992), (phosphorylation, Y, 1086), (phosphorylation, Y, 1068), (phosphorylation, Y, 1173), (phosphorylation, Y, 1148)), p-6Y-EGFR(mods: (phosphorylation, Y, 1045), (phosphorylation, Y, 992), (phosphorylation, Y, 1086), (phosphorylation, Y, 1068), (phosphorylation, Y, 1173), (phosphorylation, Y, 1148)), p-Y371-CBL(mods: (phosphorylation, Y, 371)), Ash-L(), EGF(), EGF(), UBC(153-228)(), UBC(609-684)())\n",
      "381 Complex(p-6Y-EGFR(mods: (phosphorylation, Y, 1045), (phosphorylation, Y, 992), (phosphorylation, Y, 1086), (phosphorylation, Y, 1068), (phosphorylation, Y, 1173), (phosphorylation, Y, 1148)), p-6Y-EGFR(mods: (phosphorylation, Y, 1045), (phosphorylation, Y, 992), (phosphorylation, Y, 1086), (phosphorylation, Y, 1068), (phosphorylation, Y, 1173), (phosphorylation, Y, 1148)), p-Y371-CBL(mods: (phosphorylation, Y, 371)), Ash-L(), EGF(), EGF(), UBC(153-228)(), UBA52())\n",
      "382 Complex(p-6Y-EGFR(mods: (phosphorylation, Y, 1045), (phosphorylation, Y, 992), (phosphorylation, Y, 1086), (phosphorylation, Y, 1068), (phosphorylation, Y, 1173), (phosphorylation, Y, 1148)), p-6Y-EGFR(mods: (phosphorylation, Y, 1045), (phosphorylation, Y, 992), (phosphorylation, Y, 1086), (phosphorylation, Y, 1068), (phosphorylation, Y, 1173), (phosphorylation, Y, 1148)), p-Y371-CBL(mods: (phosphorylation, Y, 371)), Ash-L(), EGF(), EGF(), UBC(153-228)(), UBC(533-608)())\n",
      "383 Complex(p-6Y-EGFR(mods: (phosphorylation, Y, 1045), (phosphorylation, Y, 992), (phosphorylation, Y, 1086), (phosphorylation, Y, 1068), (phosphorylation, Y, 1173), (phosphorylation, Y, 1148)), p-6Y-EGFR(mods: (phosphorylation, Y, 1045), (phosphorylation, Y, 992), (phosphorylation, Y, 1086), (phosphorylation, Y, 1068), (phosphorylation, Y, 1173), (phosphorylation, Y, 1148)), p-Y371-CBL(mods: (phosphorylation, Y, 371)), Ash-L(), EGF(), EGF(), UBC(305-380)(), UBB(153-228)())\n",
      "384 Complex(p-6Y-EGFR(mods: (phosphorylation, Y, 1045), (phosphorylation, Y, 992), (phosphorylation, Y, 1086), (phosphorylation, Y, 1068), (phosphorylation, Y, 1173), (phosphorylation, Y, 1148)), p-6Y-EGFR(mods: (phosphorylation, Y, 1045), (phosphorylation, Y, 992), (phosphorylation, Y, 1086), (phosphorylation, Y, 1068), (phosphorylation, Y, 1173), (phosphorylation, Y, 1148)), p-Y371-CBL(mods: (phosphorylation, Y, 371)), Ash-L(), EGF(), EGF(), UBC(305-380)(), UBB(77-152)())\n",
      "385 Complex(p-6Y-EGFR(mods: (phosphorylation, Y, 1045), (phosphorylation, Y, 992), (phosphorylation, Y, 1086), (phosphorylation, Y, 1068), (phosphorylation, Y, 1173), (phosphorylation, Y, 1148)), p-6Y-EGFR(mods: (phosphorylation, Y, 1045), (phosphorylation, Y, 992), (phosphorylation, Y, 1086), (phosphorylation, Y, 1068), (phosphorylation, Y, 1173), (phosphorylation, Y, 1148)), p-Y371-CBL(mods: (phosphorylation, Y, 371)), Ash-L(), EGF(), EGF(), UBC(305-380)(), UBC(77-152)())\n",
      "386 Complex(p-6Y-EGFR(mods: (phosphorylation, Y, 1045), (phosphorylation, Y, 992), (phosphorylation, Y, 1086), (phosphorylation, Y, 1068), (phosphorylation, Y, 1173), (phosphorylation, Y, 1148)), p-6Y-EGFR(mods: (phosphorylation, Y, 1045), (phosphorylation, Y, 992), (phosphorylation, Y, 1086), (phosphorylation, Y, 1068), (phosphorylation, Y, 1173), (phosphorylation, Y, 1148)), p-Y371-CBL(mods: (phosphorylation, Y, 371)), Ash-L(), EGF(), EGF(), UBC(305-380)(), UBC())\n",
      "387 Complex(p-6Y-EGFR(mods: (phosphorylation, Y, 1045), (phosphorylation, Y, 992), (phosphorylation, Y, 1086), (phosphorylation, Y, 1068), (phosphorylation, Y, 1173), (phosphorylation, Y, 1148)), p-6Y-EGFR(mods: (phosphorylation, Y, 1045), (phosphorylation, Y, 992), (phosphorylation, Y, 1086), (phosphorylation, Y, 1068), (phosphorylation, Y, 1173), (phosphorylation, Y, 1148)), p-Y371-CBL(mods: (phosphorylation, Y, 371)), Ash-L(), EGF(), EGF(), UBC(305-380)(), UBC(229-304)())\n",
      "388 Complex(p-6Y-EGFR(mods: (phosphorylation, Y, 1045), (phosphorylation, Y, 992), (phosphorylation, Y, 1086), (phosphorylation, Y, 1068), (phosphorylation, Y, 1173), (phosphorylation, Y, 1148)), p-6Y-EGFR(mods: (phosphorylation, Y, 1045), (phosphorylation, Y, 992), (phosphorylation, Y, 1086), (phosphorylation, Y, 1068), (phosphorylation, Y, 1173), (phosphorylation, Y, 1148)), p-Y371-CBL(mods: (phosphorylation, Y, 371)), Ash-L(), EGF(), EGF(), UBC(305-380)(), UBC(153-228)())\n",
      "389 Complex(p-6Y-EGFR(mods: (phosphorylation, Y, 1045), (phosphorylation, Y, 992), (phosphorylation, Y, 1086), (phosphorylation, Y, 1068), (phosphorylation, Y, 1173), (phosphorylation, Y, 1148)), p-6Y-EGFR(mods: (phosphorylation, Y, 1045), (phosphorylation, Y, 992), (phosphorylation, Y, 1086), (phosphorylation, Y, 1068), (phosphorylation, Y, 1173), (phosphorylation, Y, 1148)), p-Y371-CBL(mods: (phosphorylation, Y, 371)), Ash-L(), EGF(), EGF(), UBC(305-380)(), UBC(305-380)())\n",
      "390 Complex(p-6Y-EGFR(mods: (phosphorylation, Y, 1045), (phosphorylation, Y, 992), (phosphorylation, Y, 1086), (phosphorylation, Y, 1068), (phosphorylation, Y, 1173), (phosphorylation, Y, 1148)), p-6Y-EGFR(mods: (phosphorylation, Y, 1045), (phosphorylation, Y, 992), (phosphorylation, Y, 1086), (phosphorylation, Y, 1068), (phosphorylation, Y, 1173), (phosphorylation, Y, 1148)), p-Y371-CBL(mods: (phosphorylation, Y, 371)), Ash-L(), EGF(), EGF(), UBC(305-380)(), RPS27A())\n",
      "391 Complex(p-6Y-EGFR(mods: (phosphorylation, Y, 1045), (phosphorylation, Y, 992), (phosphorylation, Y, 1086), (phosphorylation, Y, 1068), (phosphorylation, Y, 1173), (phosphorylation, Y, 1148)), p-6Y-EGFR(mods: (phosphorylation, Y, 1045), (phosphorylation, Y, 992), (phosphorylation, Y, 1086), (phosphorylation, Y, 1068), (phosphorylation, Y, 1173), (phosphorylation, Y, 1148)), p-Y371-CBL(mods: (phosphorylation, Y, 371)), Ash-L(), EGF(), EGF(), UBC(305-380)(), UBC(457-532)())\n",
      "392 Complex(p-6Y-EGFR(mods: (phosphorylation, Y, 1045), (phosphorylation, Y, 992), (phosphorylation, Y, 1086), (phosphorylation, Y, 1068), (phosphorylation, Y, 1173), (phosphorylation, Y, 1148)), p-6Y-EGFR(mods: (phosphorylation, Y, 1045), (phosphorylation, Y, 992), (phosphorylation, Y, 1086), (phosphorylation, Y, 1068), (phosphorylation, Y, 1173), (phosphorylation, Y, 1148)), p-Y371-CBL(mods: (phosphorylation, Y, 371)), Ash-L(), EGF(), EGF(), UBC(305-380)(), UBC(381-456)())\n",
      "393 Complex(p-6Y-EGFR(mods: (phosphorylation, Y, 1045), (phosphorylation, Y, 992), (phosphorylation, Y, 1086), (phosphorylation, Y, 1068), (phosphorylation, Y, 1173), (phosphorylation, Y, 1148)), p-6Y-EGFR(mods: (phosphorylation, Y, 1045), (phosphorylation, Y, 992), (phosphorylation, Y, 1086), (phosphorylation, Y, 1068), (phosphorylation, Y, 1173), (phosphorylation, Y, 1148)), p-Y371-CBL(mods: (phosphorylation, Y, 371)), Ash-L(), EGF(), EGF(), UBC(305-380)(), UBB())\n",
      "394 Complex(p-6Y-EGFR(mods: (phosphorylation, Y, 1045), (phosphorylation, Y, 992), (phosphorylation, Y, 1086), (phosphorylation, Y, 1068), (phosphorylation, Y, 1173), (phosphorylation, Y, 1148)), p-6Y-EGFR(mods: (phosphorylation, Y, 1045), (phosphorylation, Y, 992), (phosphorylation, Y, 1086), (phosphorylation, Y, 1068), (phosphorylation, Y, 1173), (phosphorylation, Y, 1148)), p-Y371-CBL(mods: (phosphorylation, Y, 371)), Ash-L(), EGF(), EGF(), UBC(305-380)(), UBC(609-684)())\n",
      "395 Complex(p-6Y-EGFR(mods: (phosphorylation, Y, 1045), (phosphorylation, Y, 992), (phosphorylation, Y, 1086), (phosphorylation, Y, 1068), (phosphorylation, Y, 1173), (phosphorylation, Y, 1148)), p-6Y-EGFR(mods: (phosphorylation, Y, 1045), (phosphorylation, Y, 992), (phosphorylation, Y, 1086), (phosphorylation, Y, 1068), (phosphorylation, Y, 1173), (phosphorylation, Y, 1148)), p-Y371-CBL(mods: (phosphorylation, Y, 371)), Ash-L(), EGF(), EGF(), UBC(305-380)(), UBA52())\n",
      "396 Complex(p-6Y-EGFR(mods: (phosphorylation, Y, 1045), (phosphorylation, Y, 992), (phosphorylation, Y, 1086), (phosphorylation, Y, 1068), (phosphorylation, Y, 1173), (phosphorylation, Y, 1148)), p-6Y-EGFR(mods: (phosphorylation, Y, 1045), (phosphorylation, Y, 992), (phosphorylation, Y, 1086), (phosphorylation, Y, 1068), (phosphorylation, Y, 1173), (phosphorylation, Y, 1148)), p-Y371-CBL(mods: (phosphorylation, Y, 371)), Ash-L(), EGF(), EGF(), UBC(305-380)(), UBC(533-608)())\n",
      "397 Complex(p-6Y-EGFR(mods: (phosphorylation, Y, 1045), (phosphorylation, Y, 992), (phosphorylation, Y, 1086), (phosphorylation, Y, 1068), (phosphorylation, Y, 1173), (phosphorylation, Y, 1148)), p-6Y-EGFR(mods: (phosphorylation, Y, 1045), (phosphorylation, Y, 992), (phosphorylation, Y, 1086), (phosphorylation, Y, 1068), (phosphorylation, Y, 1173), (phosphorylation, Y, 1148)), p-Y371-CBL(mods: (phosphorylation, Y, 371)), Ash-L(), EGF(), EGF(), RPS27A(), UBB(153-228)())\n",
      "398 Complex(p-6Y-EGFR(mods: (phosphorylation, Y, 1045), (phosphorylation, Y, 992), (phosphorylation, Y, 1086), (phosphorylation, Y, 1068), (phosphorylation, Y, 1173), (phosphorylation, Y, 1148)), p-6Y-EGFR(mods: (phosphorylation, Y, 1045), (phosphorylation, Y, 992), (phosphorylation, Y, 1086), (phosphorylation, Y, 1068), (phosphorylation, Y, 1173), (phosphorylation, Y, 1148)), p-Y371-CBL(mods: (phosphorylation, Y, 371)), Ash-L(), EGF(), EGF(), RPS27A(), UBB(77-152)())\n",
      "399 Complex(p-6Y-EGFR(mods: (phosphorylation, Y, 1045), (phosphorylation, Y, 992), (phosphorylation, Y, 1086), (phosphorylation, Y, 1068), (phosphorylation, Y, 1173), (phosphorylation, Y, 1148)), p-6Y-EGFR(mods: (phosphorylation, Y, 1045), (phosphorylation, Y, 992), (phosphorylation, Y, 1086), (phosphorylation, Y, 1068), (phosphorylation, Y, 1173), (phosphorylation, Y, 1148)), p-Y371-CBL(mods: (phosphorylation, Y, 371)), Ash-L(), EGF(), EGF(), RPS27A(), UBC(77-152)())\n",
      "400 Complex(p-6Y-EGFR(mods: (phosphorylation, Y, 1045), (phosphorylation, Y, 992), (phosphorylation, Y, 1086), (phosphorylation, Y, 1068), (phosphorylation, Y, 1173), (phosphorylation, Y, 1148)), p-6Y-EGFR(mods: (phosphorylation, Y, 1045), (phosphorylation, Y, 992), (phosphorylation, Y, 1086), (phosphorylation, Y, 1068), (phosphorylation, Y, 1173), (phosphorylation, Y, 1148)), p-Y371-CBL(mods: (phosphorylation, Y, 371)), Ash-L(), EGF(), EGF(), RPS27A(), UBC())\n",
      "401 Complex(p-6Y-EGFR(mods: (phosphorylation, Y, 1045), (phosphorylation, Y, 992), (phosphorylation, Y, 1086), (phosphorylation, Y, 1068), (phosphorylation, Y, 1173), (phosphorylation, Y, 1148)), p-6Y-EGFR(mods: (phosphorylation, Y, 1045), (phosphorylation, Y, 992), (phosphorylation, Y, 1086), (phosphorylation, Y, 1068), (phosphorylation, Y, 1173), (phosphorylation, Y, 1148)), p-Y371-CBL(mods: (phosphorylation, Y, 371)), Ash-L(), EGF(), EGF(), RPS27A(), UBC(229-304)())\n",
      "402 Complex(p-6Y-EGFR(mods: (phosphorylation, Y, 1045), (phosphorylation, Y, 992), (phosphorylation, Y, 1086), (phosphorylation, Y, 1068), (phosphorylation, Y, 1173), (phosphorylation, Y, 1148)), p-6Y-EGFR(mods: (phosphorylation, Y, 1045), (phosphorylation, Y, 992), (phosphorylation, Y, 1086), (phosphorylation, Y, 1068), (phosphorylation, Y, 1173), (phosphorylation, Y, 1148)), p-Y371-CBL(mods: (phosphorylation, Y, 371)), Ash-L(), EGF(), EGF(), RPS27A(), UBC(153-228)())\n",
      "403 Complex(p-6Y-EGFR(mods: (phosphorylation, Y, 1045), (phosphorylation, Y, 992), (phosphorylation, Y, 1086), (phosphorylation, Y, 1068), (phosphorylation, Y, 1173), (phosphorylation, Y, 1148)), p-6Y-EGFR(mods: (phosphorylation, Y, 1045), (phosphorylation, Y, 992), (phosphorylation, Y, 1086), (phosphorylation, Y, 1068), (phosphorylation, Y, 1173), (phosphorylation, Y, 1148)), p-Y371-CBL(mods: (phosphorylation, Y, 371)), Ash-L(), EGF(), EGF(), RPS27A(), UBC(305-380)())\n",
      "404 Complex(p-6Y-EGFR(mods: (phosphorylation, Y, 1045), (phosphorylation, Y, 992), (phosphorylation, Y, 1086), (phosphorylation, Y, 1068), (phosphorylation, Y, 1173), (phosphorylation, Y, 1148)), p-6Y-EGFR(mods: (phosphorylation, Y, 1045), (phosphorylation, Y, 992), (phosphorylation, Y, 1086), (phosphorylation, Y, 1068), (phosphorylation, Y, 1173), (phosphorylation, Y, 1148)), p-Y371-CBL(mods: (phosphorylation, Y, 371)), Ash-L(), EGF(), EGF(), RPS27A(), RPS27A())\n",
      "405 Complex(p-6Y-EGFR(mods: (phosphorylation, Y, 1045), (phosphorylation, Y, 992), (phosphorylation, Y, 1086), (phosphorylation, Y, 1068), (phosphorylation, Y, 1173), (phosphorylation, Y, 1148)), p-6Y-EGFR(mods: (phosphorylation, Y, 1045), (phosphorylation, Y, 992), (phosphorylation, Y, 1086), (phosphorylation, Y, 1068), (phosphorylation, Y, 1173), (phosphorylation, Y, 1148)), p-Y371-CBL(mods: (phosphorylation, Y, 371)), Ash-L(), EGF(), EGF(), RPS27A(), UBC(457-532)())\n",
      "406 Complex(p-6Y-EGFR(mods: (phosphorylation, Y, 1045), (phosphorylation, Y, 992), (phosphorylation, Y, 1086), (phosphorylation, Y, 1068), (phosphorylation, Y, 1173), (phosphorylation, Y, 1148)), p-6Y-EGFR(mods: (phosphorylation, Y, 1045), (phosphorylation, Y, 992), (phosphorylation, Y, 1086), (phosphorylation, Y, 1068), (phosphorylation, Y, 1173), (phosphorylation, Y, 1148)), p-Y371-CBL(mods: (phosphorylation, Y, 371)), Ash-L(), EGF(), EGF(), RPS27A(), UBC(381-456)())\n",
      "407 Complex(p-6Y-EGFR(mods: (phosphorylation, Y, 1045), (phosphorylation, Y, 992), (phosphorylation, Y, 1086), (phosphorylation, Y, 1068), (phosphorylation, Y, 1173), (phosphorylation, Y, 1148)), p-6Y-EGFR(mods: (phosphorylation, Y, 1045), (phosphorylation, Y, 992), (phosphorylation, Y, 1086), (phosphorylation, Y, 1068), (phosphorylation, Y, 1173), (phosphorylation, Y, 1148)), p-Y371-CBL(mods: (phosphorylation, Y, 371)), Ash-L(), EGF(), EGF(), RPS27A(), UBB())\n",
      "408 Complex(p-6Y-EGFR(mods: (phosphorylation, Y, 1045), (phosphorylation, Y, 992), (phosphorylation, Y, 1086), (phosphorylation, Y, 1068), (phosphorylation, Y, 1173), (phosphorylation, Y, 1148)), p-6Y-EGFR(mods: (phosphorylation, Y, 1045), (phosphorylation, Y, 992), (phosphorylation, Y, 1086), (phosphorylation, Y, 1068), (phosphorylation, Y, 1173), (phosphorylation, Y, 1148)), p-Y371-CBL(mods: (phosphorylation, Y, 371)), Ash-L(), EGF(), EGF(), RPS27A(), UBC(609-684)())\n",
      "409 Complex(p-6Y-EGFR(mods: (phosphorylation, Y, 1045), (phosphorylation, Y, 992), (phosphorylation, Y, 1086), (phosphorylation, Y, 1068), (phosphorylation, Y, 1173), (phosphorylation, Y, 1148)), p-6Y-EGFR(mods: (phosphorylation, Y, 1045), (phosphorylation, Y, 992), (phosphorylation, Y, 1086), (phosphorylation, Y, 1068), (phosphorylation, Y, 1173), (phosphorylation, Y, 1148)), p-Y371-CBL(mods: (phosphorylation, Y, 371)), Ash-L(), EGF(), EGF(), RPS27A(), UBA52())\n",
      "410 Complex(p-6Y-EGFR(mods: (phosphorylation, Y, 1045), (phosphorylation, Y, 992), (phosphorylation, Y, 1086), (phosphorylation, Y, 1068), (phosphorylation, Y, 1173), (phosphorylation, Y, 1148)), p-6Y-EGFR(mods: (phosphorylation, Y, 1045), (phosphorylation, Y, 992), (phosphorylation, Y, 1086), (phosphorylation, Y, 1068), (phosphorylation, Y, 1173), (phosphorylation, Y, 1148)), p-Y371-CBL(mods: (phosphorylation, Y, 371)), Ash-L(), EGF(), EGF(), RPS27A(), UBC(533-608)())\n",
      "411 Complex(p-6Y-EGFR(mods: (phosphorylation, Y, 1045), (phosphorylation, Y, 992), (phosphorylation, Y, 1086), (phosphorylation, Y, 1068), (phosphorylation, Y, 1173), (phosphorylation, Y, 1148)), p-6Y-EGFR(mods: (phosphorylation, Y, 1045), (phosphorylation, Y, 992), (phosphorylation, Y, 1086), (phosphorylation, Y, 1068), (phosphorylation, Y, 1173), (phosphorylation, Y, 1148)), p-Y371-CBL(mods: (phosphorylation, Y, 371)), Ash-L(), EGF(), EGF(), UBC(457-532)(), UBB(153-228)())\n",
      "412 Complex(p-6Y-EGFR(mods: (phosphorylation, Y, 1045), (phosphorylation, Y, 992), (phosphorylation, Y, 1086), (phosphorylation, Y, 1068), (phosphorylation, Y, 1173), (phosphorylation, Y, 1148)), p-6Y-EGFR(mods: (phosphorylation, Y, 1045), (phosphorylation, Y, 992), (phosphorylation, Y, 1086), (phosphorylation, Y, 1068), (phosphorylation, Y, 1173), (phosphorylation, Y, 1148)), p-Y371-CBL(mods: (phosphorylation, Y, 371)), Ash-L(), EGF(), EGF(), UBC(457-532)(), UBB(77-152)())\n",
      "413 Complex(p-6Y-EGFR(mods: (phosphorylation, Y, 1045), (phosphorylation, Y, 992), (phosphorylation, Y, 1086), (phosphorylation, Y, 1068), (phosphorylation, Y, 1173), (phosphorylation, Y, 1148)), p-6Y-EGFR(mods: (phosphorylation, Y, 1045), (phosphorylation, Y, 992), (phosphorylation, Y, 1086), (phosphorylation, Y, 1068), (phosphorylation, Y, 1173), (phosphorylation, Y, 1148)), p-Y371-CBL(mods: (phosphorylation, Y, 371)), Ash-L(), EGF(), EGF(), UBC(457-532)(), UBC(77-152)())\n",
      "414 Complex(p-6Y-EGFR(mods: (phosphorylation, Y, 1045), (phosphorylation, Y, 992), (phosphorylation, Y, 1086), (phosphorylation, Y, 1068), (phosphorylation, Y, 1173), (phosphorylation, Y, 1148)), p-6Y-EGFR(mods: (phosphorylation, Y, 1045), (phosphorylation, Y, 992), (phosphorylation, Y, 1086), (phosphorylation, Y, 1068), (phosphorylation, Y, 1173), (phosphorylation, Y, 1148)), p-Y371-CBL(mods: (phosphorylation, Y, 371)), Ash-L(), EGF(), EGF(), UBC(457-532)(), UBC())\n",
      "415 Complex(p-6Y-EGFR(mods: (phosphorylation, Y, 1045), (phosphorylation, Y, 992), (phosphorylation, Y, 1086), (phosphorylation, Y, 1068), (phosphorylation, Y, 1173), (phosphorylation, Y, 1148)), p-6Y-EGFR(mods: (phosphorylation, Y, 1045), (phosphorylation, Y, 992), (phosphorylation, Y, 1086), (phosphorylation, Y, 1068), (phosphorylation, Y, 1173), (phosphorylation, Y, 1148)), p-Y371-CBL(mods: (phosphorylation, Y, 371)), Ash-L(), EGF(), EGF(), UBC(457-532)(), UBC(229-304)())\n",
      "416 Complex(p-6Y-EGFR(mods: (phosphorylation, Y, 1045), (phosphorylation, Y, 992), (phosphorylation, Y, 1086), (phosphorylation, Y, 1068), (phosphorylation, Y, 1173), (phosphorylation, Y, 1148)), p-6Y-EGFR(mods: (phosphorylation, Y, 1045), (phosphorylation, Y, 992), (phosphorylation, Y, 1086), (phosphorylation, Y, 1068), (phosphorylation, Y, 1173), (phosphorylation, Y, 1148)), p-Y371-CBL(mods: (phosphorylation, Y, 371)), Ash-L(), EGF(), EGF(), UBC(457-532)(), UBC(153-228)())\n",
      "417 Complex(p-6Y-EGFR(mods: (phosphorylation, Y, 1045), (phosphorylation, Y, 992), (phosphorylation, Y, 1086), (phosphorylation, Y, 1068), (phosphorylation, Y, 1173), (phosphorylation, Y, 1148)), p-6Y-EGFR(mods: (phosphorylation, Y, 1045), (phosphorylation, Y, 992), (phosphorylation, Y, 1086), (phosphorylation, Y, 1068), (phosphorylation, Y, 1173), (phosphorylation, Y, 1148)), p-Y371-CBL(mods: (phosphorylation, Y, 371)), Ash-L(), EGF(), EGF(), UBC(457-532)(), UBC(305-380)())\n",
      "418 Complex(p-6Y-EGFR(mods: (phosphorylation, Y, 1045), (phosphorylation, Y, 992), (phosphorylation, Y, 1086), (phosphorylation, Y, 1068), (phosphorylation, Y, 1173), (phosphorylation, Y, 1148)), p-6Y-EGFR(mods: (phosphorylation, Y, 1045), (phosphorylation, Y, 992), (phosphorylation, Y, 1086), (phosphorylation, Y, 1068), (phosphorylation, Y, 1173), (phosphorylation, Y, 1148)), p-Y371-CBL(mods: (phosphorylation, Y, 371)), Ash-L(), EGF(), EGF(), UBC(457-532)(), RPS27A())\n",
      "419 Complex(p-6Y-EGFR(mods: (phosphorylation, Y, 1045), (phosphorylation, Y, 992), (phosphorylation, Y, 1086), (phosphorylation, Y, 1068), (phosphorylation, Y, 1173), (phosphorylation, Y, 1148)), p-6Y-EGFR(mods: (phosphorylation, Y, 1045), (phosphorylation, Y, 992), (phosphorylation, Y, 1086), (phosphorylation, Y, 1068), (phosphorylation, Y, 1173), (phosphorylation, Y, 1148)), p-Y371-CBL(mods: (phosphorylation, Y, 371)), Ash-L(), EGF(), EGF(), UBC(457-532)(), UBC(457-532)())\n",
      "420 Complex(p-6Y-EGFR(mods: (phosphorylation, Y, 1045), (phosphorylation, Y, 992), (phosphorylation, Y, 1086), (phosphorylation, Y, 1068), (phosphorylation, Y, 1173), (phosphorylation, Y, 1148)), p-6Y-EGFR(mods: (phosphorylation, Y, 1045), (phosphorylation, Y, 992), (phosphorylation, Y, 1086), (phosphorylation, Y, 1068), (phosphorylation, Y, 1173), (phosphorylation, Y, 1148)), p-Y371-CBL(mods: (phosphorylation, Y, 371)), Ash-L(), EGF(), EGF(), UBC(457-532)(), UBC(381-456)())\n",
      "421 Complex(p-6Y-EGFR(mods: (phosphorylation, Y, 1045), (phosphorylation, Y, 992), (phosphorylation, Y, 1086), (phosphorylation, Y, 1068), (phosphorylation, Y, 1173), (phosphorylation, Y, 1148)), p-6Y-EGFR(mods: (phosphorylation, Y, 1045), (phosphorylation, Y, 992), (phosphorylation, Y, 1086), (phosphorylation, Y, 1068), (phosphorylation, Y, 1173), (phosphorylation, Y, 1148)), p-Y371-CBL(mods: (phosphorylation, Y, 371)), Ash-L(), EGF(), EGF(), UBC(457-532)(), UBB())\n",
      "422 Complex(p-6Y-EGFR(mods: (phosphorylation, Y, 1045), (phosphorylation, Y, 992), (phosphorylation, Y, 1086), (phosphorylation, Y, 1068), (phosphorylation, Y, 1173), (phosphorylation, Y, 1148)), p-6Y-EGFR(mods: (phosphorylation, Y, 1045), (phosphorylation, Y, 992), (phosphorylation, Y, 1086), (phosphorylation, Y, 1068), (phosphorylation, Y, 1173), (phosphorylation, Y, 1148)), p-Y371-CBL(mods: (phosphorylation, Y, 371)), Ash-L(), EGF(), EGF(), UBC(457-532)(), UBC(609-684)())\n",
      "423 Complex(p-6Y-EGFR(mods: (phosphorylation, Y, 1045), (phosphorylation, Y, 992), (phosphorylation, Y, 1086), (phosphorylation, Y, 1068), (phosphorylation, Y, 1173), (phosphorylation, Y, 1148)), p-6Y-EGFR(mods: (phosphorylation, Y, 1045), (phosphorylation, Y, 992), (phosphorylation, Y, 1086), (phosphorylation, Y, 1068), (phosphorylation, Y, 1173), (phosphorylation, Y, 1148)), p-Y371-CBL(mods: (phosphorylation, Y, 371)), Ash-L(), EGF(), EGF(), UBC(457-532)(), UBA52())\n",
      "424 Complex(p-6Y-EGFR(mods: (phosphorylation, Y, 1045), (phosphorylation, Y, 992), (phosphorylation, Y, 1086), (phosphorylation, Y, 1068), (phosphorylation, Y, 1173), (phosphorylation, Y, 1148)), p-6Y-EGFR(mods: (phosphorylation, Y, 1045), (phosphorylation, Y, 992), (phosphorylation, Y, 1086), (phosphorylation, Y, 1068), (phosphorylation, Y, 1173), (phosphorylation, Y, 1148)), p-Y371-CBL(mods: (phosphorylation, Y, 371)), Ash-L(), EGF(), EGF(), UBC(457-532)(), UBC(533-608)())\n",
      "425 Complex(p-6Y-EGFR(mods: (phosphorylation, Y, 1045), (phosphorylation, Y, 992), (phosphorylation, Y, 1086), (phosphorylation, Y, 1068), (phosphorylation, Y, 1173), (phosphorylation, Y, 1148)), p-6Y-EGFR(mods: (phosphorylation, Y, 1045), (phosphorylation, Y, 992), (phosphorylation, Y, 1086), (phosphorylation, Y, 1068), (phosphorylation, Y, 1173), (phosphorylation, Y, 1148)), p-Y371-CBL(mods: (phosphorylation, Y, 371)), Ash-L(), EGF(), EGF(), UBC(381-456)(), UBB(153-228)())\n",
      "426 Complex(p-6Y-EGFR(mods: (phosphorylation, Y, 1045), (phosphorylation, Y, 992), (phosphorylation, Y, 1086), (phosphorylation, Y, 1068), (phosphorylation, Y, 1173), (phosphorylation, Y, 1148)), p-6Y-EGFR(mods: (phosphorylation, Y, 1045), (phosphorylation, Y, 992), (phosphorylation, Y, 1086), (phosphorylation, Y, 1068), (phosphorylation, Y, 1173), (phosphorylation, Y, 1148)), p-Y371-CBL(mods: (phosphorylation, Y, 371)), Ash-L(), EGF(), EGF(), UBC(381-456)(), UBB(77-152)())\n",
      "427 Complex(p-6Y-EGFR(mods: (phosphorylation, Y, 1045), (phosphorylation, Y, 992), (phosphorylation, Y, 1086), (phosphorylation, Y, 1068), (phosphorylation, Y, 1173), (phosphorylation, Y, 1148)), p-6Y-EGFR(mods: (phosphorylation, Y, 1045), (phosphorylation, Y, 992), (phosphorylation, Y, 1086), (phosphorylation, Y, 1068), (phosphorylation, Y, 1173), (phosphorylation, Y, 1148)), p-Y371-CBL(mods: (phosphorylation, Y, 371)), Ash-L(), EGF(), EGF(), UBC(381-456)(), UBC(77-152)())\n",
      "428 Complex(p-6Y-EGFR(mods: (phosphorylation, Y, 1045), (phosphorylation, Y, 992), (phosphorylation, Y, 1086), (phosphorylation, Y, 1068), (phosphorylation, Y, 1173), (phosphorylation, Y, 1148)), p-6Y-EGFR(mods: (phosphorylation, Y, 1045), (phosphorylation, Y, 992), (phosphorylation, Y, 1086), (phosphorylation, Y, 1068), (phosphorylation, Y, 1173), (phosphorylation, Y, 1148)), p-Y371-CBL(mods: (phosphorylation, Y, 371)), Ash-L(), EGF(), EGF(), UBC(381-456)(), UBC())\n",
      "429 Complex(p-6Y-EGFR(mods: (phosphorylation, Y, 1045), (phosphorylation, Y, 992), (phosphorylation, Y, 1086), (phosphorylation, Y, 1068), (phosphorylation, Y, 1173), (phosphorylation, Y, 1148)), p-6Y-EGFR(mods: (phosphorylation, Y, 1045), (phosphorylation, Y, 992), (phosphorylation, Y, 1086), (phosphorylation, Y, 1068), (phosphorylation, Y, 1173), (phosphorylation, Y, 1148)), p-Y371-CBL(mods: (phosphorylation, Y, 371)), Ash-L(), EGF(), EGF(), UBC(381-456)(), UBC(229-304)())\n",
      "430 Complex(p-6Y-EGFR(mods: (phosphorylation, Y, 1045), (phosphorylation, Y, 992), (phosphorylation, Y, 1086), (phosphorylation, Y, 1068), (phosphorylation, Y, 1173), (phosphorylation, Y, 1148)), p-6Y-EGFR(mods: (phosphorylation, Y, 1045), (phosphorylation, Y, 992), (phosphorylation, Y, 1086), (phosphorylation, Y, 1068), (phosphorylation, Y, 1173), (phosphorylation, Y, 1148)), p-Y371-CBL(mods: (phosphorylation, Y, 371)), Ash-L(), EGF(), EGF(), UBC(381-456)(), UBC(153-228)())\n",
      "431 Complex(p-6Y-EGFR(mods: (phosphorylation, Y, 1045), (phosphorylation, Y, 992), (phosphorylation, Y, 1086), (phosphorylation, Y, 1068), (phosphorylation, Y, 1173), (phosphorylation, Y, 1148)), p-6Y-EGFR(mods: (phosphorylation, Y, 1045), (phosphorylation, Y, 992), (phosphorylation, Y, 1086), (phosphorylation, Y, 1068), (phosphorylation, Y, 1173), (phosphorylation, Y, 1148)), p-Y371-CBL(mods: (phosphorylation, Y, 371)), Ash-L(), EGF(), EGF(), UBC(381-456)(), UBC(305-380)())\n",
      "432 Complex(p-6Y-EGFR(mods: (phosphorylation, Y, 1045), (phosphorylation, Y, 992), (phosphorylation, Y, 1086), (phosphorylation, Y, 1068), (phosphorylation, Y, 1173), (phosphorylation, Y, 1148)), p-6Y-EGFR(mods: (phosphorylation, Y, 1045), (phosphorylation, Y, 992), (phosphorylation, Y, 1086), (phosphorylation, Y, 1068), (phosphorylation, Y, 1173), (phosphorylation, Y, 1148)), p-Y371-CBL(mods: (phosphorylation, Y, 371)), Ash-L(), EGF(), EGF(), UBC(381-456)(), RPS27A())\n",
      "433 Complex(p-6Y-EGFR(mods: (phosphorylation, Y, 1045), (phosphorylation, Y, 992), (phosphorylation, Y, 1086), (phosphorylation, Y, 1068), (phosphorylation, Y, 1173), (phosphorylation, Y, 1148)), p-6Y-EGFR(mods: (phosphorylation, Y, 1045), (phosphorylation, Y, 992), (phosphorylation, Y, 1086), (phosphorylation, Y, 1068), (phosphorylation, Y, 1173), (phosphorylation, Y, 1148)), p-Y371-CBL(mods: (phosphorylation, Y, 371)), Ash-L(), EGF(), EGF(), UBC(381-456)(), UBC(457-532)())\n",
      "434 Complex(p-6Y-EGFR(mods: (phosphorylation, Y, 1045), (phosphorylation, Y, 992), (phosphorylation, Y, 1086), (phosphorylation, Y, 1068), (phosphorylation, Y, 1173), (phosphorylation, Y, 1148)), p-6Y-EGFR(mods: (phosphorylation, Y, 1045), (phosphorylation, Y, 992), (phosphorylation, Y, 1086), (phosphorylation, Y, 1068), (phosphorylation, Y, 1173), (phosphorylation, Y, 1148)), p-Y371-CBL(mods: (phosphorylation, Y, 371)), Ash-L(), EGF(), EGF(), UBC(381-456)(), UBC(381-456)())\n",
      "435 Complex(p-6Y-EGFR(mods: (phosphorylation, Y, 1045), (phosphorylation, Y, 992), (phosphorylation, Y, 1086), (phosphorylation, Y, 1068), (phosphorylation, Y, 1173), (phosphorylation, Y, 1148)), p-6Y-EGFR(mods: (phosphorylation, Y, 1045), (phosphorylation, Y, 992), (phosphorylation, Y, 1086), (phosphorylation, Y, 1068), (phosphorylation, Y, 1173), (phosphorylation, Y, 1148)), p-Y371-CBL(mods: (phosphorylation, Y, 371)), Ash-L(), EGF(), EGF(), UBC(381-456)(), UBB())\n",
      "436 Complex(p-6Y-EGFR(mods: (phosphorylation, Y, 1045), (phosphorylation, Y, 992), (phosphorylation, Y, 1086), (phosphorylation, Y, 1068), (phosphorylation, Y, 1173), (phosphorylation, Y, 1148)), p-6Y-EGFR(mods: (phosphorylation, Y, 1045), (phosphorylation, Y, 992), (phosphorylation, Y, 1086), (phosphorylation, Y, 1068), (phosphorylation, Y, 1173), (phosphorylation, Y, 1148)), p-Y371-CBL(mods: (phosphorylation, Y, 371)), Ash-L(), EGF(), EGF(), UBC(381-456)(), UBC(609-684)())\n",
      "437 Complex(p-6Y-EGFR(mods: (phosphorylation, Y, 1045), (phosphorylation, Y, 992), (phosphorylation, Y, 1086), (phosphorylation, Y, 1068), (phosphorylation, Y, 1173), (phosphorylation, Y, 1148)), p-6Y-EGFR(mods: (phosphorylation, Y, 1045), (phosphorylation, Y, 992), (phosphorylation, Y, 1086), (phosphorylation, Y, 1068), (phosphorylation, Y, 1173), (phosphorylation, Y, 1148)), p-Y371-CBL(mods: (phosphorylation, Y, 371)), Ash-L(), EGF(), EGF(), UBC(381-456)(), UBA52())\n",
      "438 Complex(p-6Y-EGFR(mods: (phosphorylation, Y, 1045), (phosphorylation, Y, 992), (phosphorylation, Y, 1086), (phosphorylation, Y, 1068), (phosphorylation, Y, 1173), (phosphorylation, Y, 1148)), p-6Y-EGFR(mods: (phosphorylation, Y, 1045), (phosphorylation, Y, 992), (phosphorylation, Y, 1086), (phosphorylation, Y, 1068), (phosphorylation, Y, 1173), (phosphorylation, Y, 1148)), p-Y371-CBL(mods: (phosphorylation, Y, 371)), Ash-L(), EGF(), EGF(), UBC(381-456)(), UBC(533-608)())\n",
      "439 Complex(p-6Y-EGFR(mods: (phosphorylation, Y, 1045), (phosphorylation, Y, 992), (phosphorylation, Y, 1086), (phosphorylation, Y, 1068), (phosphorylation, Y, 1173), (phosphorylation, Y, 1148)), p-6Y-EGFR(mods: (phosphorylation, Y, 1045), (phosphorylation, Y, 992), (phosphorylation, Y, 1086), (phosphorylation, Y, 1068), (phosphorylation, Y, 1173), (phosphorylation, Y, 1148)), p-Y371-CBL(mods: (phosphorylation, Y, 371)), Ash-L(), EGF(), EGF(), UBB(), UBB(153-228)())\n",
      "440 Complex(p-6Y-EGFR(mods: (phosphorylation, Y, 1045), (phosphorylation, Y, 992), (phosphorylation, Y, 1086), (phosphorylation, Y, 1068), (phosphorylation, Y, 1173), (phosphorylation, Y, 1148)), p-6Y-EGFR(mods: (phosphorylation, Y, 1045), (phosphorylation, Y, 992), (phosphorylation, Y, 1086), (phosphorylation, Y, 1068), (phosphorylation, Y, 1173), (phosphorylation, Y, 1148)), p-Y371-CBL(mods: (phosphorylation, Y, 371)), Ash-L(), EGF(), EGF(), UBB(), UBB(77-152)())\n",
      "441 Complex(p-6Y-EGFR(mods: (phosphorylation, Y, 1045), (phosphorylation, Y, 992), (phosphorylation, Y, 1086), (phosphorylation, Y, 1068), (phosphorylation, Y, 1173), (phosphorylation, Y, 1148)), p-6Y-EGFR(mods: (phosphorylation, Y, 1045), (phosphorylation, Y, 992), (phosphorylation, Y, 1086), (phosphorylation, Y, 1068), (phosphorylation, Y, 1173), (phosphorylation, Y, 1148)), p-Y371-CBL(mods: (phosphorylation, Y, 371)), Ash-L(), EGF(), EGF(), UBB(), UBC(77-152)())\n",
      "442 Complex(p-6Y-EGFR(mods: (phosphorylation, Y, 1045), (phosphorylation, Y, 992), (phosphorylation, Y, 1086), (phosphorylation, Y, 1068), (phosphorylation, Y, 1173), (phosphorylation, Y, 1148)), p-6Y-EGFR(mods: (phosphorylation, Y, 1045), (phosphorylation, Y, 992), (phosphorylation, Y, 1086), (phosphorylation, Y, 1068), (phosphorylation, Y, 1173), (phosphorylation, Y, 1148)), p-Y371-CBL(mods: (phosphorylation, Y, 371)), Ash-L(), EGF(), EGF(), UBB(), UBC())\n",
      "443 Complex(p-6Y-EGFR(mods: (phosphorylation, Y, 1045), (phosphorylation, Y, 992), (phosphorylation, Y, 1086), (phosphorylation, Y, 1068), (phosphorylation, Y, 1173), (phosphorylation, Y, 1148)), p-6Y-EGFR(mods: (phosphorylation, Y, 1045), (phosphorylation, Y, 992), (phosphorylation, Y, 1086), (phosphorylation, Y, 1068), (phosphorylation, Y, 1173), (phosphorylation, Y, 1148)), p-Y371-CBL(mods: (phosphorylation, Y, 371)), Ash-L(), EGF(), EGF(), UBB(), UBC(229-304)())\n",
      "444 Complex(p-6Y-EGFR(mods: (phosphorylation, Y, 1045), (phosphorylation, Y, 992), (phosphorylation, Y, 1086), (phosphorylation, Y, 1068), (phosphorylation, Y, 1173), (phosphorylation, Y, 1148)), p-6Y-EGFR(mods: (phosphorylation, Y, 1045), (phosphorylation, Y, 992), (phosphorylation, Y, 1086), (phosphorylation, Y, 1068), (phosphorylation, Y, 1173), (phosphorylation, Y, 1148)), p-Y371-CBL(mods: (phosphorylation, Y, 371)), Ash-L(), EGF(), EGF(), UBB(), UBC(153-228)())\n",
      "445 Complex(p-6Y-EGFR(mods: (phosphorylation, Y, 1045), (phosphorylation, Y, 992), (phosphorylation, Y, 1086), (phosphorylation, Y, 1068), (phosphorylation, Y, 1173), (phosphorylation, Y, 1148)), p-6Y-EGFR(mods: (phosphorylation, Y, 1045), (phosphorylation, Y, 992), (phosphorylation, Y, 1086), (phosphorylation, Y, 1068), (phosphorylation, Y, 1173), (phosphorylation, Y, 1148)), p-Y371-CBL(mods: (phosphorylation, Y, 371)), Ash-L(), EGF(), EGF(), UBB(), UBC(305-380)())\n",
      "446 Complex(p-6Y-EGFR(mods: (phosphorylation, Y, 1045), (phosphorylation, Y, 992), (phosphorylation, Y, 1086), (phosphorylation, Y, 1068), (phosphorylation, Y, 1173), (phosphorylation, Y, 1148)), p-6Y-EGFR(mods: (phosphorylation, Y, 1045), (phosphorylation, Y, 992), (phosphorylation, Y, 1086), (phosphorylation, Y, 1068), (phosphorylation, Y, 1173), (phosphorylation, Y, 1148)), p-Y371-CBL(mods: (phosphorylation, Y, 371)), Ash-L(), EGF(), EGF(), UBB(), RPS27A())\n",
      "447 Complex(p-6Y-EGFR(mods: (phosphorylation, Y, 1045), (phosphorylation, Y, 992), (phosphorylation, Y, 1086), (phosphorylation, Y, 1068), (phosphorylation, Y, 1173), (phosphorylation, Y, 1148)), p-6Y-EGFR(mods: (phosphorylation, Y, 1045), (phosphorylation, Y, 992), (phosphorylation, Y, 1086), (phosphorylation, Y, 1068), (phosphorylation, Y, 1173), (phosphorylation, Y, 1148)), p-Y371-CBL(mods: (phosphorylation, Y, 371)), Ash-L(), EGF(), EGF(), UBB(), UBC(457-532)())\n",
      "448 Complex(p-6Y-EGFR(mods: (phosphorylation, Y, 1045), (phosphorylation, Y, 992), (phosphorylation, Y, 1086), (phosphorylation, Y, 1068), (phosphorylation, Y, 1173), (phosphorylation, Y, 1148)), p-6Y-EGFR(mods: (phosphorylation, Y, 1045), (phosphorylation, Y, 992), (phosphorylation, Y, 1086), (phosphorylation, Y, 1068), (phosphorylation, Y, 1173), (phosphorylation, Y, 1148)), p-Y371-CBL(mods: (phosphorylation, Y, 371)), Ash-L(), EGF(), EGF(), UBB(), UBC(381-456)())\n",
      "449 Complex(p-6Y-EGFR(mods: (phosphorylation, Y, 1045), (phosphorylation, Y, 992), (phosphorylation, Y, 1086), (phosphorylation, Y, 1068), (phosphorylation, Y, 1173), (phosphorylation, Y, 1148)), p-6Y-EGFR(mods: (phosphorylation, Y, 1045), (phosphorylation, Y, 992), (phosphorylation, Y, 1086), (phosphorylation, Y, 1068), (phosphorylation, Y, 1173), (phosphorylation, Y, 1148)), p-Y371-CBL(mods: (phosphorylation, Y, 371)), Ash-L(), EGF(), EGF(), UBB(), UBB())\n",
      "450 Complex(p-6Y-EGFR(mods: (phosphorylation, Y, 1045), (phosphorylation, Y, 992), (phosphorylation, Y, 1086), (phosphorylation, Y, 1068), (phosphorylation, Y, 1173), (phosphorylation, Y, 1148)), p-6Y-EGFR(mods: (phosphorylation, Y, 1045), (phosphorylation, Y, 992), (phosphorylation, Y, 1086), (phosphorylation, Y, 1068), (phosphorylation, Y, 1173), (phosphorylation, Y, 1148)), p-Y371-CBL(mods: (phosphorylation, Y, 371)), Ash-L(), EGF(), EGF(), UBB(), UBC(609-684)())\n",
      "451 Complex(p-6Y-EGFR(mods: (phosphorylation, Y, 1045), (phosphorylation, Y, 992), (phosphorylation, Y, 1086), (phosphorylation, Y, 1068), (phosphorylation, Y, 1173), (phosphorylation, Y, 1148)), p-6Y-EGFR(mods: (phosphorylation, Y, 1045), (phosphorylation, Y, 992), (phosphorylation, Y, 1086), (phosphorylation, Y, 1068), (phosphorylation, Y, 1173), (phosphorylation, Y, 1148)), p-Y371-CBL(mods: (phosphorylation, Y, 371)), Ash-L(), EGF(), EGF(), UBB(), UBA52())\n",
      "452 Complex(p-6Y-EGFR(mods: (phosphorylation, Y, 1045), (phosphorylation, Y, 992), (phosphorylation, Y, 1086), (phosphorylation, Y, 1068), (phosphorylation, Y, 1173), (phosphorylation, Y, 1148)), p-6Y-EGFR(mods: (phosphorylation, Y, 1045), (phosphorylation, Y, 992), (phosphorylation, Y, 1086), (phosphorylation, Y, 1068), (phosphorylation, Y, 1173), (phosphorylation, Y, 1148)), p-Y371-CBL(mods: (phosphorylation, Y, 371)), Ash-L(), EGF(), EGF(), UBB(), UBC(533-608)())\n",
      "453 Complex(p-6Y-EGFR(mods: (phosphorylation, Y, 1045), (phosphorylation, Y, 992), (phosphorylation, Y, 1086), (phosphorylation, Y, 1068), (phosphorylation, Y, 1173), (phosphorylation, Y, 1148)), p-6Y-EGFR(mods: (phosphorylation, Y, 1045), (phosphorylation, Y, 992), (phosphorylation, Y, 1086), (phosphorylation, Y, 1068), (phosphorylation, Y, 1173), (phosphorylation, Y, 1148)), p-Y371-CBL(mods: (phosphorylation, Y, 371)), Ash-L(), EGF(), EGF(), UBC(609-684)(), UBB(153-228)())\n",
      "454 Complex(p-6Y-EGFR(mods: (phosphorylation, Y, 1045), (phosphorylation, Y, 992), (phosphorylation, Y, 1086), (phosphorylation, Y, 1068), (phosphorylation, Y, 1173), (phosphorylation, Y, 1148)), p-6Y-EGFR(mods: (phosphorylation, Y, 1045), (phosphorylation, Y, 992), (phosphorylation, Y, 1086), (phosphorylation, Y, 1068), (phosphorylation, Y, 1173), (phosphorylation, Y, 1148)), p-Y371-CBL(mods: (phosphorylation, Y, 371)), Ash-L(), EGF(), EGF(), UBC(609-684)(), UBB(77-152)())\n",
      "455 Complex(p-6Y-EGFR(mods: (phosphorylation, Y, 1045), (phosphorylation, Y, 992), (phosphorylation, Y, 1086), (phosphorylation, Y, 1068), (phosphorylation, Y, 1173), (phosphorylation, Y, 1148)), p-6Y-EGFR(mods: (phosphorylation, Y, 1045), (phosphorylation, Y, 992), (phosphorylation, Y, 1086), (phosphorylation, Y, 1068), (phosphorylation, Y, 1173), (phosphorylation, Y, 1148)), p-Y371-CBL(mods: (phosphorylation, Y, 371)), Ash-L(), EGF(), EGF(), UBC(609-684)(), UBC(77-152)())\n",
      "456 Complex(p-6Y-EGFR(mods: (phosphorylation, Y, 1045), (phosphorylation, Y, 992), (phosphorylation, Y, 1086), (phosphorylation, Y, 1068), (phosphorylation, Y, 1173), (phosphorylation, Y, 1148)), p-6Y-EGFR(mods: (phosphorylation, Y, 1045), (phosphorylation, Y, 992), (phosphorylation, Y, 1086), (phosphorylation, Y, 1068), (phosphorylation, Y, 1173), (phosphorylation, Y, 1148)), p-Y371-CBL(mods: (phosphorylation, Y, 371)), Ash-L(), EGF(), EGF(), UBC(609-684)(), UBC())\n",
      "457 Complex(p-6Y-EGFR(mods: (phosphorylation, Y, 1045), (phosphorylation, Y, 992), (phosphorylation, Y, 1086), (phosphorylation, Y, 1068), (phosphorylation, Y, 1173), (phosphorylation, Y, 1148)), p-6Y-EGFR(mods: (phosphorylation, Y, 1045), (phosphorylation, Y, 992), (phosphorylation, Y, 1086), (phosphorylation, Y, 1068), (phosphorylation, Y, 1173), (phosphorylation, Y, 1148)), p-Y371-CBL(mods: (phosphorylation, Y, 371)), Ash-L(), EGF(), EGF(), UBC(609-684)(), UBC(229-304)())\n",
      "458 Complex(p-6Y-EGFR(mods: (phosphorylation, Y, 1045), (phosphorylation, Y, 992), (phosphorylation, Y, 1086), (phosphorylation, Y, 1068), (phosphorylation, Y, 1173), (phosphorylation, Y, 1148)), p-6Y-EGFR(mods: (phosphorylation, Y, 1045), (phosphorylation, Y, 992), (phosphorylation, Y, 1086), (phosphorylation, Y, 1068), (phosphorylation, Y, 1173), (phosphorylation, Y, 1148)), p-Y371-CBL(mods: (phosphorylation, Y, 371)), Ash-L(), EGF(), EGF(), UBC(609-684)(), UBC(153-228)())\n",
      "459 Complex(p-6Y-EGFR(mods: (phosphorylation, Y, 1045), (phosphorylation, Y, 992), (phosphorylation, Y, 1086), (phosphorylation, Y, 1068), (phosphorylation, Y, 1173), (phosphorylation, Y, 1148)), p-6Y-EGFR(mods: (phosphorylation, Y, 1045), (phosphorylation, Y, 992), (phosphorylation, Y, 1086), (phosphorylation, Y, 1068), (phosphorylation, Y, 1173), (phosphorylation, Y, 1148)), p-Y371-CBL(mods: (phosphorylation, Y, 371)), Ash-L(), EGF(), EGF(), UBC(609-684)(), UBC(305-380)())\n",
      "460 Complex(p-6Y-EGFR(mods: (phosphorylation, Y, 1045), (phosphorylation, Y, 992), (phosphorylation, Y, 1086), (phosphorylation, Y, 1068), (phosphorylation, Y, 1173), (phosphorylation, Y, 1148)), p-6Y-EGFR(mods: (phosphorylation, Y, 1045), (phosphorylation, Y, 992), (phosphorylation, Y, 1086), (phosphorylation, Y, 1068), (phosphorylation, Y, 1173), (phosphorylation, Y, 1148)), p-Y371-CBL(mods: (phosphorylation, Y, 371)), Ash-L(), EGF(), EGF(), UBC(609-684)(), RPS27A())\n",
      "461 Complex(p-6Y-EGFR(mods: (phosphorylation, Y, 1045), (phosphorylation, Y, 992), (phosphorylation, Y, 1086), (phosphorylation, Y, 1068), (phosphorylation, Y, 1173), (phosphorylation, Y, 1148)), p-6Y-EGFR(mods: (phosphorylation, Y, 1045), (phosphorylation, Y, 992), (phosphorylation, Y, 1086), (phosphorylation, Y, 1068), (phosphorylation, Y, 1173), (phosphorylation, Y, 1148)), p-Y371-CBL(mods: (phosphorylation, Y, 371)), Ash-L(), EGF(), EGF(), UBC(609-684)(), UBC(457-532)())\n",
      "462 Complex(p-6Y-EGFR(mods: (phosphorylation, Y, 1045), (phosphorylation, Y, 992), (phosphorylation, Y, 1086), (phosphorylation, Y, 1068), (phosphorylation, Y, 1173), (phosphorylation, Y, 1148)), p-6Y-EGFR(mods: (phosphorylation, Y, 1045), (phosphorylation, Y, 992), (phosphorylation, Y, 1086), (phosphorylation, Y, 1068), (phosphorylation, Y, 1173), (phosphorylation, Y, 1148)), p-Y371-CBL(mods: (phosphorylation, Y, 371)), Ash-L(), EGF(), EGF(), UBC(609-684)(), UBC(381-456)())\n",
      "463 Complex(p-6Y-EGFR(mods: (phosphorylation, Y, 1045), (phosphorylation, Y, 992), (phosphorylation, Y, 1086), (phosphorylation, Y, 1068), (phosphorylation, Y, 1173), (phosphorylation, Y, 1148)), p-6Y-EGFR(mods: (phosphorylation, Y, 1045), (phosphorylation, Y, 992), (phosphorylation, Y, 1086), (phosphorylation, Y, 1068), (phosphorylation, Y, 1173), (phosphorylation, Y, 1148)), p-Y371-CBL(mods: (phosphorylation, Y, 371)), Ash-L(), EGF(), EGF(), UBC(609-684)(), UBB())\n",
      "464 Complex(p-6Y-EGFR(mods: (phosphorylation, Y, 1045), (phosphorylation, Y, 992), (phosphorylation, Y, 1086), (phosphorylation, Y, 1068), (phosphorylation, Y, 1173), (phosphorylation, Y, 1148)), p-6Y-EGFR(mods: (phosphorylation, Y, 1045), (phosphorylation, Y, 992), (phosphorylation, Y, 1086), (phosphorylation, Y, 1068), (phosphorylation, Y, 1173), (phosphorylation, Y, 1148)), p-Y371-CBL(mods: (phosphorylation, Y, 371)), Ash-L(), EGF(), EGF(), UBC(609-684)(), UBC(609-684)())\n",
      "465 Complex(p-6Y-EGFR(mods: (phosphorylation, Y, 1045), (phosphorylation, Y, 992), (phosphorylation, Y, 1086), (phosphorylation, Y, 1068), (phosphorylation, Y, 1173), (phosphorylation, Y, 1148)), p-6Y-EGFR(mods: (phosphorylation, Y, 1045), (phosphorylation, Y, 992), (phosphorylation, Y, 1086), (phosphorylation, Y, 1068), (phosphorylation, Y, 1173), (phosphorylation, Y, 1148)), p-Y371-CBL(mods: (phosphorylation, Y, 371)), Ash-L(), EGF(), EGF(), UBC(609-684)(), UBA52())\n",
      "466 Complex(p-6Y-EGFR(mods: (phosphorylation, Y, 1045), (phosphorylation, Y, 992), (phosphorylation, Y, 1086), (phosphorylation, Y, 1068), (phosphorylation, Y, 1173), (phosphorylation, Y, 1148)), p-6Y-EGFR(mods: (phosphorylation, Y, 1045), (phosphorylation, Y, 992), (phosphorylation, Y, 1086), (phosphorylation, Y, 1068), (phosphorylation, Y, 1173), (phosphorylation, Y, 1148)), p-Y371-CBL(mods: (phosphorylation, Y, 371)), Ash-L(), EGF(), EGF(), UBC(609-684)(), UBC(533-608)())\n",
      "467 Complex(p-6Y-EGFR(mods: (phosphorylation, Y, 1045), (phosphorylation, Y, 992), (phosphorylation, Y, 1086), (phosphorylation, Y, 1068), (phosphorylation, Y, 1173), (phosphorylation, Y, 1148)), p-6Y-EGFR(mods: (phosphorylation, Y, 1045), (phosphorylation, Y, 992), (phosphorylation, Y, 1086), (phosphorylation, Y, 1068), (phosphorylation, Y, 1173), (phosphorylation, Y, 1148)), p-Y371-CBL(mods: (phosphorylation, Y, 371)), Ash-L(), EGF(), EGF(), UBA52(), UBB(153-228)())\n",
      "468 Complex(p-6Y-EGFR(mods: (phosphorylation, Y, 1045), (phosphorylation, Y, 992), (phosphorylation, Y, 1086), (phosphorylation, Y, 1068), (phosphorylation, Y, 1173), (phosphorylation, Y, 1148)), p-6Y-EGFR(mods: (phosphorylation, Y, 1045), (phosphorylation, Y, 992), (phosphorylation, Y, 1086), (phosphorylation, Y, 1068), (phosphorylation, Y, 1173), (phosphorylation, Y, 1148)), p-Y371-CBL(mods: (phosphorylation, Y, 371)), Ash-L(), EGF(), EGF(), UBA52(), UBB(77-152)())\n",
      "469 Complex(p-6Y-EGFR(mods: (phosphorylation, Y, 1045), (phosphorylation, Y, 992), (phosphorylation, Y, 1086), (phosphorylation, Y, 1068), (phosphorylation, Y, 1173), (phosphorylation, Y, 1148)), p-6Y-EGFR(mods: (phosphorylation, Y, 1045), (phosphorylation, Y, 992), (phosphorylation, Y, 1086), (phosphorylation, Y, 1068), (phosphorylation, Y, 1173), (phosphorylation, Y, 1148)), p-Y371-CBL(mods: (phosphorylation, Y, 371)), Ash-L(), EGF(), EGF(), UBA52(), UBC(77-152)())\n",
      "470 Complex(p-6Y-EGFR(mods: (phosphorylation, Y, 1045), (phosphorylation, Y, 992), (phosphorylation, Y, 1086), (phosphorylation, Y, 1068), (phosphorylation, Y, 1173), (phosphorylation, Y, 1148)), p-6Y-EGFR(mods: (phosphorylation, Y, 1045), (phosphorylation, Y, 992), (phosphorylation, Y, 1086), (phosphorylation, Y, 1068), (phosphorylation, Y, 1173), (phosphorylation, Y, 1148)), p-Y371-CBL(mods: (phosphorylation, Y, 371)), Ash-L(), EGF(), EGF(), UBA52(), UBC())\n",
      "471 Complex(p-6Y-EGFR(mods: (phosphorylation, Y, 1045), (phosphorylation, Y, 992), (phosphorylation, Y, 1086), (phosphorylation, Y, 1068), (phosphorylation, Y, 1173), (phosphorylation, Y, 1148)), p-6Y-EGFR(mods: (phosphorylation, Y, 1045), (phosphorylation, Y, 992), (phosphorylation, Y, 1086), (phosphorylation, Y, 1068), (phosphorylation, Y, 1173), (phosphorylation, Y, 1148)), p-Y371-CBL(mods: (phosphorylation, Y, 371)), Ash-L(), EGF(), EGF(), UBA52(), UBC(229-304)())\n",
      "472 Complex(p-6Y-EGFR(mods: (phosphorylation, Y, 1045), (phosphorylation, Y, 992), (phosphorylation, Y, 1086), (phosphorylation, Y, 1068), (phosphorylation, Y, 1173), (phosphorylation, Y, 1148)), p-6Y-EGFR(mods: (phosphorylation, Y, 1045), (phosphorylation, Y, 992), (phosphorylation, Y, 1086), (phosphorylation, Y, 1068), (phosphorylation, Y, 1173), (phosphorylation, Y, 1148)), p-Y371-CBL(mods: (phosphorylation, Y, 371)), Ash-L(), EGF(), EGF(), UBA52(), UBC(153-228)())\n",
      "473 Complex(p-6Y-EGFR(mods: (phosphorylation, Y, 1045), (phosphorylation, Y, 992), (phosphorylation, Y, 1086), (phosphorylation, Y, 1068), (phosphorylation, Y, 1173), (phosphorylation, Y, 1148)), p-6Y-EGFR(mods: (phosphorylation, Y, 1045), (phosphorylation, Y, 992), (phosphorylation, Y, 1086), (phosphorylation, Y, 1068), (phosphorylation, Y, 1173), (phosphorylation, Y, 1148)), p-Y371-CBL(mods: (phosphorylation, Y, 371)), Ash-L(), EGF(), EGF(), UBA52(), UBC(305-380)())\n",
      "474 Complex(p-6Y-EGFR(mods: (phosphorylation, Y, 1045), (phosphorylation, Y, 992), (phosphorylation, Y, 1086), (phosphorylation, Y, 1068), (phosphorylation, Y, 1173), (phosphorylation, Y, 1148)), p-6Y-EGFR(mods: (phosphorylation, Y, 1045), (phosphorylation, Y, 992), (phosphorylation, Y, 1086), (phosphorylation, Y, 1068), (phosphorylation, Y, 1173), (phosphorylation, Y, 1148)), p-Y371-CBL(mods: (phosphorylation, Y, 371)), Ash-L(), EGF(), EGF(), UBA52(), RPS27A())\n",
      "475 Complex(p-6Y-EGFR(mods: (phosphorylation, Y, 1045), (phosphorylation, Y, 992), (phosphorylation, Y, 1086), (phosphorylation, Y, 1068), (phosphorylation, Y, 1173), (phosphorylation, Y, 1148)), p-6Y-EGFR(mods: (phosphorylation, Y, 1045), (phosphorylation, Y, 992), (phosphorylation, Y, 1086), (phosphorylation, Y, 1068), (phosphorylation, Y, 1173), (phosphorylation, Y, 1148)), p-Y371-CBL(mods: (phosphorylation, Y, 371)), Ash-L(), EGF(), EGF(), UBA52(), UBC(457-532)())\n",
      "476 Complex(p-6Y-EGFR(mods: (phosphorylation, Y, 1045), (phosphorylation, Y, 992), (phosphorylation, Y, 1086), (phosphorylation, Y, 1068), (phosphorylation, Y, 1173), (phosphorylation, Y, 1148)), p-6Y-EGFR(mods: (phosphorylation, Y, 1045), (phosphorylation, Y, 992), (phosphorylation, Y, 1086), (phosphorylation, Y, 1068), (phosphorylation, Y, 1173), (phosphorylation, Y, 1148)), p-Y371-CBL(mods: (phosphorylation, Y, 371)), Ash-L(), EGF(), EGF(), UBA52(), UBC(381-456)())\n",
      "477 Complex(p-6Y-EGFR(mods: (phosphorylation, Y, 1045), (phosphorylation, Y, 992), (phosphorylation, Y, 1086), (phosphorylation, Y, 1068), (phosphorylation, Y, 1173), (phosphorylation, Y, 1148)), p-6Y-EGFR(mods: (phosphorylation, Y, 1045), (phosphorylation, Y, 992), (phosphorylation, Y, 1086), (phosphorylation, Y, 1068), (phosphorylation, Y, 1173), (phosphorylation, Y, 1148)), p-Y371-CBL(mods: (phosphorylation, Y, 371)), Ash-L(), EGF(), EGF(), UBA52(), UBB())\n",
      "478 Complex(p-6Y-EGFR(mods: (phosphorylation, Y, 1045), (phosphorylation, Y, 992), (phosphorylation, Y, 1086), (phosphorylation, Y, 1068), (phosphorylation, Y, 1173), (phosphorylation, Y, 1148)), p-6Y-EGFR(mods: (phosphorylation, Y, 1045), (phosphorylation, Y, 992), (phosphorylation, Y, 1086), (phosphorylation, Y, 1068), (phosphorylation, Y, 1173), (phosphorylation, Y, 1148)), p-Y371-CBL(mods: (phosphorylation, Y, 371)), Ash-L(), EGF(), EGF(), UBA52(), UBC(609-684)())\n",
      "479 Complex(p-6Y-EGFR(mods: (phosphorylation, Y, 1045), (phosphorylation, Y, 992), (phosphorylation, Y, 1086), (phosphorylation, Y, 1068), (phosphorylation, Y, 1173), (phosphorylation, Y, 1148)), p-6Y-EGFR(mods: (phosphorylation, Y, 1045), (phosphorylation, Y, 992), (phosphorylation, Y, 1086), (phosphorylation, Y, 1068), (phosphorylation, Y, 1173), (phosphorylation, Y, 1148)), p-Y371-CBL(mods: (phosphorylation, Y, 371)), Ash-L(), EGF(), EGF(), UBA52(), UBA52())\n",
      "480 Complex(p-6Y-EGFR(mods: (phosphorylation, Y, 1045), (phosphorylation, Y, 992), (phosphorylation, Y, 1086), (phosphorylation, Y, 1068), (phosphorylation, Y, 1173), (phosphorylation, Y, 1148)), p-6Y-EGFR(mods: (phosphorylation, Y, 1045), (phosphorylation, Y, 992), (phosphorylation, Y, 1086), (phosphorylation, Y, 1068), (phosphorylation, Y, 1173), (phosphorylation, Y, 1148)), p-Y371-CBL(mods: (phosphorylation, Y, 371)), Ash-L(), EGF(), EGF(), UBA52(), UBC(533-608)())\n",
      "481 Complex(p-6Y-EGFR(mods: (phosphorylation, Y, 1045), (phosphorylation, Y, 992), (phosphorylation, Y, 1086), (phosphorylation, Y, 1068), (phosphorylation, Y, 1173), (phosphorylation, Y, 1148)), p-6Y-EGFR(mods: (phosphorylation, Y, 1045), (phosphorylation, Y, 992), (phosphorylation, Y, 1086), (phosphorylation, Y, 1068), (phosphorylation, Y, 1173), (phosphorylation, Y, 1148)), p-Y371-CBL(mods: (phosphorylation, Y, 371)), Ash-L(), EGF(), EGF(), UBC(533-608)(), UBB(153-228)())\n",
      "482 Complex(p-6Y-EGFR(mods: (phosphorylation, Y, 1045), (phosphorylation, Y, 992), (phosphorylation, Y, 1086), (phosphorylation, Y, 1068), (phosphorylation, Y, 1173), (phosphorylation, Y, 1148)), p-6Y-EGFR(mods: (phosphorylation, Y, 1045), (phosphorylation, Y, 992), (phosphorylation, Y, 1086), (phosphorylation, Y, 1068), (phosphorylation, Y, 1173), (phosphorylation, Y, 1148)), p-Y371-CBL(mods: (phosphorylation, Y, 371)), Ash-L(), EGF(), EGF(), UBC(533-608)(), UBB(77-152)())\n",
      "483 Complex(p-6Y-EGFR(mods: (phosphorylation, Y, 1045), (phosphorylation, Y, 992), (phosphorylation, Y, 1086), (phosphorylation, Y, 1068), (phosphorylation, Y, 1173), (phosphorylation, Y, 1148)), p-6Y-EGFR(mods: (phosphorylation, Y, 1045), (phosphorylation, Y, 992), (phosphorylation, Y, 1086), (phosphorylation, Y, 1068), (phosphorylation, Y, 1173), (phosphorylation, Y, 1148)), p-Y371-CBL(mods: (phosphorylation, Y, 371)), Ash-L(), EGF(), EGF(), UBC(533-608)(), UBC(77-152)())\n",
      "484 Complex(p-6Y-EGFR(mods: (phosphorylation, Y, 1045), (phosphorylation, Y, 992), (phosphorylation, Y, 1086), (phosphorylation, Y, 1068), (phosphorylation, Y, 1173), (phosphorylation, Y, 1148)), p-6Y-EGFR(mods: (phosphorylation, Y, 1045), (phosphorylation, Y, 992), (phosphorylation, Y, 1086), (phosphorylation, Y, 1068), (phosphorylation, Y, 1173), (phosphorylation, Y, 1148)), p-Y371-CBL(mods: (phosphorylation, Y, 371)), Ash-L(), EGF(), EGF(), UBC(533-608)(), UBC())\n",
      "485 Complex(p-6Y-EGFR(mods: (phosphorylation, Y, 1045), (phosphorylation, Y, 992), (phosphorylation, Y, 1086), (phosphorylation, Y, 1068), (phosphorylation, Y, 1173), (phosphorylation, Y, 1148)), p-6Y-EGFR(mods: (phosphorylation, Y, 1045), (phosphorylation, Y, 992), (phosphorylation, Y, 1086), (phosphorylation, Y, 1068), (phosphorylation, Y, 1173), (phosphorylation, Y, 1148)), p-Y371-CBL(mods: (phosphorylation, Y, 371)), Ash-L(), EGF(), EGF(), UBC(533-608)(), UBC(229-304)())\n",
      "486 Complex(p-6Y-EGFR(mods: (phosphorylation, Y, 1045), (phosphorylation, Y, 992), (phosphorylation, Y, 1086), (phosphorylation, Y, 1068), (phosphorylation, Y, 1173), (phosphorylation, Y, 1148)), p-6Y-EGFR(mods: (phosphorylation, Y, 1045), (phosphorylation, Y, 992), (phosphorylation, Y, 1086), (phosphorylation, Y, 1068), (phosphorylation, Y, 1173), (phosphorylation, Y, 1148)), p-Y371-CBL(mods: (phosphorylation, Y, 371)), Ash-L(), EGF(), EGF(), UBC(533-608)(), UBC(153-228)())\n",
      "487 Complex(p-6Y-EGFR(mods: (phosphorylation, Y, 1045), (phosphorylation, Y, 992), (phosphorylation, Y, 1086), (phosphorylation, Y, 1068), (phosphorylation, Y, 1173), (phosphorylation, Y, 1148)), p-6Y-EGFR(mods: (phosphorylation, Y, 1045), (phosphorylation, Y, 992), (phosphorylation, Y, 1086), (phosphorylation, Y, 1068), (phosphorylation, Y, 1173), (phosphorylation, Y, 1148)), p-Y371-CBL(mods: (phosphorylation, Y, 371)), Ash-L(), EGF(), EGF(), UBC(533-608)(), UBC(305-380)())\n",
      "488 Complex(p-6Y-EGFR(mods: (phosphorylation, Y, 1045), (phosphorylation, Y, 992), (phosphorylation, Y, 1086), (phosphorylation, Y, 1068), (phosphorylation, Y, 1173), (phosphorylation, Y, 1148)), p-6Y-EGFR(mods: (phosphorylation, Y, 1045), (phosphorylation, Y, 992), (phosphorylation, Y, 1086), (phosphorylation, Y, 1068), (phosphorylation, Y, 1173), (phosphorylation, Y, 1148)), p-Y371-CBL(mods: (phosphorylation, Y, 371)), Ash-L(), EGF(), EGF(), UBC(533-608)(), RPS27A())\n",
      "489 Complex(p-6Y-EGFR(mods: (phosphorylation, Y, 1045), (phosphorylation, Y, 992), (phosphorylation, Y, 1086), (phosphorylation, Y, 1068), (phosphorylation, Y, 1173), (phosphorylation, Y, 1148)), p-6Y-EGFR(mods: (phosphorylation, Y, 1045), (phosphorylation, Y, 992), (phosphorylation, Y, 1086), (phosphorylation, Y, 1068), (phosphorylation, Y, 1173), (phosphorylation, Y, 1148)), p-Y371-CBL(mods: (phosphorylation, Y, 371)), Ash-L(), EGF(), EGF(), UBC(533-608)(), UBC(457-532)())\n",
      "490 Complex(p-6Y-EGFR(mods: (phosphorylation, Y, 1045), (phosphorylation, Y, 992), (phosphorylation, Y, 1086), (phosphorylation, Y, 1068), (phosphorylation, Y, 1173), (phosphorylation, Y, 1148)), p-6Y-EGFR(mods: (phosphorylation, Y, 1045), (phosphorylation, Y, 992), (phosphorylation, Y, 1086), (phosphorylation, Y, 1068), (phosphorylation, Y, 1173), (phosphorylation, Y, 1148)), p-Y371-CBL(mods: (phosphorylation, Y, 371)), Ash-L(), EGF(), EGF(), UBC(533-608)(), UBC(381-456)())\n",
      "491 Complex(p-6Y-EGFR(mods: (phosphorylation, Y, 1045), (phosphorylation, Y, 992), (phosphorylation, Y, 1086), (phosphorylation, Y, 1068), (phosphorylation, Y, 1173), (phosphorylation, Y, 1148)), p-6Y-EGFR(mods: (phosphorylation, Y, 1045), (phosphorylation, Y, 992), (phosphorylation, Y, 1086), (phosphorylation, Y, 1068), (phosphorylation, Y, 1173), (phosphorylation, Y, 1148)), p-Y371-CBL(mods: (phosphorylation, Y, 371)), Ash-L(), EGF(), EGF(), UBC(533-608)(), UBB())\n",
      "492 Complex(p-6Y-EGFR(mods: (phosphorylation, Y, 1045), (phosphorylation, Y, 992), (phosphorylation, Y, 1086), (phosphorylation, Y, 1068), (phosphorylation, Y, 1173), (phosphorylation, Y, 1148)), p-6Y-EGFR(mods: (phosphorylation, Y, 1045), (phosphorylation, Y, 992), (phosphorylation, Y, 1086), (phosphorylation, Y, 1068), (phosphorylation, Y, 1173), (phosphorylation, Y, 1148)), p-Y371-CBL(mods: (phosphorylation, Y, 371)), Ash-L(), EGF(), EGF(), UBC(533-608)(), UBC(609-684)())\n",
      "493 Complex(p-6Y-EGFR(mods: (phosphorylation, Y, 1045), (phosphorylation, Y, 992), (phosphorylation, Y, 1086), (phosphorylation, Y, 1068), (phosphorylation, Y, 1173), (phosphorylation, Y, 1148)), p-6Y-EGFR(mods: (phosphorylation, Y, 1045), (phosphorylation, Y, 992), (phosphorylation, Y, 1086), (phosphorylation, Y, 1068), (phosphorylation, Y, 1173), (phosphorylation, Y, 1148)), p-Y371-CBL(mods: (phosphorylation, Y, 371)), Ash-L(), EGF(), EGF(), UBC(533-608)(), UBA52())\n",
      "494 Complex(p-6Y-EGFR(mods: (phosphorylation, Y, 1045), (phosphorylation, Y, 992), (phosphorylation, Y, 1086), (phosphorylation, Y, 1068), (phosphorylation, Y, 1173), (phosphorylation, Y, 1148)), p-6Y-EGFR(mods: (phosphorylation, Y, 1045), (phosphorylation, Y, 992), (phosphorylation, Y, 1086), (phosphorylation, Y, 1068), (phosphorylation, Y, 1173), (phosphorylation, Y, 1148)), p-Y371-CBL(mods: (phosphorylation, Y, 371)), Ash-L(), EGF(), EGF(), UBC(533-608)(), UBC(533-608)())\n",
      "495 Complex(GTP(), CDC42(), PIX())\n",
      "496 Complex(CBL(), SPRY1())\n",
      "497 Complex(CBL(), SPRY2())\n",
      "498 Complex(Ash-L(), CBL())\n",
      "499 Complex(p-6Y-EGFR(mods: (phosphorylation, Y, 1045), (phosphorylation, Y, 992), (phosphorylation, Y, 1086), (phosphorylation, Y, 1068), (phosphorylation, Y, 1173), (phosphorylation, Y, 1148)), p-6Y-EGFR(mods: (phosphorylation, Y, 1045), (phosphorylation, Y, 992), (phosphorylation, Y, 1086), (phosphorylation, Y, 1068), (phosphorylation, Y, 1173), (phosphorylation, Y, 1148)), p-Y371-CBL(mods: (phosphorylation, Y, 371)), p-Y371-CBL(mods: (phosphorylation, Y, 371)), Ash-L(), Ash-L(), EGF(), EGF())\n",
      "500 Complex(p-6Y-EGFR(mods: (phosphorylation, Y, 1045), (phosphorylation, Y, 992), (phosphorylation, Y, 1086), (phosphorylation, Y, 1068), (phosphorylation, Y, 1173), (phosphorylation, Y, 1148)), EGF(), Ash-L(), CBL())\n",
      "501 Complex(EPS15(), HGS(), STAM2())\n",
      "502 Complex(EPS15(), HGS(), STAM())\n",
      "503 Complex(GTP(), CDC42(), PIX(), UBB(153-228)())\n",
      "504 Complex(GTP(), CDC42(), PIX(), UBB(77-152)())\n",
      "505 Complex(GTP(), CDC42(), PIX(), UBC(77-152)())\n",
      "506 Complex(GTP(), CDC42(), PIX(), UBC())\n",
      "507 Complex(GTP(), CDC42(), PIX(), UBC(229-304)())\n",
      "508 Complex(GTP(), CDC42(), PIX(), UBC(153-228)())\n",
      "509 Complex(GTP(), CDC42(), PIX(), UBC(305-380)())\n",
      "510 Complex(GTP(), CDC42(), PIX(), RPS27A())\n",
      "511 Complex(GTP(), CDC42(), PIX(), UBC(457-532)())\n",
      "512 Complex(GTP(), CDC42(), PIX(), UBC(381-456)())\n",
      "513 Complex(GTP(), CDC42(), PIX(), UBB())\n",
      "514 Complex(GTP(), CDC42(), PIX(), UBC(609-684)())\n",
      "515 Complex(GTP(), CDC42(), PIX(), UBA52())\n",
      "516 Complex(GTP(), CDC42(), PIX(), UBC(533-608)())\n",
      "517 Complex(CIN85(), CIN85(), CIN85(), CIN85())\n",
      "518 Complex(SH3GL3(), SH3GL3())\n",
      "519 Complex(SH3GL3(), SH3GL3(), SH3GL1(), SH3GL1(), SH3GL2(), SH3GL2())\n",
      "520 Complex(CIN85(), CIN85(), CIN85(), CIN85(), SH3GL3(), SH3GL3(), SH3GL1(), SH3GL1(), SH3GL2(), SH3GL2())\n",
      "521 Complex(SH3GL1(), SH3GL1())\n",
      "522 Complex(SH3GL2(), SH3GL2())\n",
      "523 Complex(p-6Y-EGFR(mods: (phosphorylation, Y, 1045), (phosphorylation, Y, 992), (phosphorylation, Y, 1086), (phosphorylation, Y, 1068), (phosphorylation, Y, 1173), (phosphorylation, Y, 1148)), EGF(), PIP3(), p-5Y-GAB1(mods: (phosphorylation, Y, 659), (phosphorylation, Y, 447), (phosphorylation, Y, 627), (phosphorylation, Y, 472), (phosphorylation, Y, 589)), Ash-L(), p-5Y-GAB1(mods: (phosphorylation, Y, 659), (phosphorylation, Y, 447), (phosphorylation, Y, 627), (phosphorylation, Y, 472), (phosphorylation, Y, 589)), Ash-L())\n",
      "524 Complex(p-6Y-EGFR(mods: (phosphorylation, Y, 1045), (phosphorylation, Y, 992), (phosphorylation, Y, 1086), (phosphorylation, Y, 1068), (phosphorylation, Y, 1173), (phosphorylation, Y, 1148)), EGF(), Ash-L(), GAB1(), PIP3(), Ash-L(), GAB1())\n",
      "525 Complex(Ash-L(), GAB1())\n",
      "526 Complex(p-6Y-EGFR(mods: (phosphorylation, Y, 1045), (phosphorylation, Y, 992), (phosphorylation, Y, 1086), (phosphorylation, Y, 1068), (phosphorylation, Y, 1173), (phosphorylation, Y, 1148)), EGF(), p-Y349,Y350-SHC1(mods: (phosphorylation, Y, 350), (phosphorylation, Y, 349)), SOS1(), Ash-L())\n",
      "527 Complex(PIP3(), Ash-L(), GAB1())\n",
      "528 Complex(Ash-L(), GAB1(), PIP3(), Ash-L(), GAB1())\n",
      "529 Complex(HRAS(), GTP())\n",
      "530 Complex(NRAS(), GTP())\n",
      "531 Complex(KRAS(), GTP())\n",
      "532 Complex(HRAS(), GDP())\n",
      "533 Complex(NRAS(), GDP())\n",
      "534 Complex(KRAS(), GDP())\n",
      "535 Complex(p-6Y-EGFR(mods: (phosphorylation, Y, 1045), (phosphorylation, Y, 992), (phosphorylation, Y, 1086), (phosphorylation, Y, 1068), (phosphorylation, Y, 1173), (phosphorylation, Y, 1148)), EGF(), p-Y349,Y350-SHC1(mods: (phosphorylation, Y, 350), (phosphorylation, Y, 349)))\n",
      "536 Complex(p-6Y-EGFR(mods: (phosphorylation, Y, 1045), (phosphorylation, Y, 992), (phosphorylation, Y, 1086), (phosphorylation, Y, 1068), (phosphorylation, Y, 1173), (phosphorylation, Y, 1148)), EGF(), SHC())\n"
     ]
    }
   ],
   "source": [
    "get(\"get_complexes\", filename)"
   ]
  },
  {
   "cell_type": "markdown",
   "metadata": {
    "cell_style": "split",
    "heading_collapsed": true
   },
   "source": [
    "### get_conversions()\n",
    "pulls nothing"
   ]
  },
  {
   "cell_type": "code",
   "execution_count": null,
   "metadata": {
    "cell_style": "split",
    "hidden": true,
    "scrolled": true
   },
   "outputs": [],
   "source": [
    "get(\"get_conversions\", filename)"
   ]
  },
  {
   "cell_type": "markdown",
   "metadata": {
    "cell_style": "split",
    "heading_collapsed": true
   },
   "source": [
    "### get_gap()\n",
    "pulls nothing"
   ]
  },
  {
   "cell_type": "code",
   "execution_count": null,
   "metadata": {
    "cell_style": "split",
    "hidden": true,
    "scrolled": true
   },
   "outputs": [],
   "source": [
    "get(\"get_gap\", filename)"
   ]
  },
  {
   "cell_type": "markdown",
   "metadata": {
    "cell_style": "split",
    "heading_collapsed": true
   },
   "source": [
    "### get_gef()\n",
    "pulls nothing"
   ]
  },
  {
   "cell_type": "code",
   "execution_count": null,
   "metadata": {
    "cell_style": "split",
    "hidden": true
   },
   "outputs": [],
   "source": [
    "get(\"get_gef\", filename)"
   ]
  },
  {
   "cell_type": "markdown",
   "metadata": {
    "cell_style": "split",
    "heading_collapsed": true
   },
   "source": [
    "### get_modifications()\n",
    "pulls nothing"
   ]
  },
  {
   "cell_type": "code",
   "execution_count": null,
   "metadata": {
    "cell_style": "split",
    "hidden": true
   },
   "outputs": [],
   "source": [
    "get(\"get_modifications\", filename)"
   ]
  },
  {
   "cell_type": "markdown",
   "metadata": {
    "cell_style": "split",
    "heading_collapsed": true
   },
   "source": [
    "### get_regulate_activities()\n",
    "pulls nothing"
   ]
  },
  {
   "cell_type": "code",
   "execution_count": null,
   "metadata": {
    "cell_style": "split",
    "hidden": true,
    "scrolled": true
   },
   "outputs": [],
   "source": [
    "get(\"get_regulate_activities\", filename)"
   ]
  },
  {
   "cell_type": "markdown",
   "metadata": {
    "cell_style": "split",
    "heading_collapsed": true
   },
   "source": [
    "### get_regulate_amounts()\n",
    "pulls nothing"
   ]
  },
  {
   "cell_type": "code",
   "execution_count": null,
   "metadata": {
    "cell_style": "split",
    "hidden": true
   },
   "outputs": [],
   "source": [
    "get(\"get_regulate_amounts\", filename)"
   ]
  },
  {
   "cell_type": "markdown",
   "metadata": {},
   "source": [
    "# View Results\n",
    "\n",
    "Here we review the indra statements. ([statement documentation](https://indra.readthedocs.io/en/latest/modules/statements.html))"
   ]
  },
  {
   "cell_type": "markdown",
   "metadata": {},
   "source": [
    "## Create Statements"
   ]
  },
  {
   "cell_type": "code",
   "execution_count": 133,
   "metadata": {},
   "outputs": [],
   "source": [
    "biopax_processor = biopax.biopax_api.process_owl( filename )\n",
    "biopax_processor.get_complexes()\n",
    "statements = np.array( biopax_processor.statements )"
   ]
  },
  {
   "cell_type": "markdown",
   "metadata": {},
   "source": [
    "## View JSON"
   ]
  },
  {
   "cell_type": "markdown",
   "metadata": {},
   "source": [
    "### Helper Class"
   ]
  },
  {
   "cell_type": "code",
   "execution_count": 150,
   "metadata": {
    "code_folding": [
     4
    ]
   },
   "outputs": [],
   "source": [
    "import uuid\n",
    "from IPython.core.display import display, HTML\n",
    "import json\n",
    "\n",
    "class RenderJSON(object):\n",
    "    def __init__(self, json_data):\n",
    "        if isinstance(json_data, dict):\n",
    "            self.json_str = json.dumps(json_data)\n",
    "        else:\n",
    "            self.json_str = json_data\n",
    "        self.uuid = str(uuid.uuid4())\n",
    "        # This line is missed out in most of the versions of this script across the web, it is essential for this to work interleaved with print statements\n",
    "        self._ipython_display_()\n",
    "        \n",
    "    def _ipython_display_(self):\n",
    "        display(HTML('<div id=\"{}\" style=\"height: auto; width:100%;\"></div>'.format(self.uuid)))\n",
    "        display(HTML(\"\"\"<script>\n",
    "        require([\"https://rawgit.com/caldwell/renderjson/master/renderjson.js\"], function() {\n",
    "          renderjson.set_show_to_level(1)\n",
    "          document.getElementById('%s').appendChild(renderjson(%s))\n",
    "        });</script>\n",
    "        \"\"\" % (self.uuid, self.json_str)))"
   ]
  },
  {
   "cell_type": "markdown",
   "metadata": {},
   "source": [
    "### View Statement Data"
   ]
  },
  {
   "cell_type": "markdown",
   "metadata": {},
   "source": [
    "get category type for each statement ([see documentation](https://indra.readthedocs.io/en/latest/modules/statements.html))"
   ]
  },
  {
   "cell_type": "code",
   "execution_count": 137,
   "metadata": {},
   "outputs": [],
   "source": [
    "categories =  np.array([ x.__class__.__name__ for x in statements ]) \n",
    "unique_categories = list(set( categories ))"
   ]
  },
  {
   "cell_type": "code",
   "execution_count": 149,
   "metadata": {
    "code_folding": [
     1
    ],
    "scrolled": false
   },
   "outputs": [
    {
     "data": {
      "application/vnd.jupyter.widget-view+json": {
       "model_id": "e3e2a2a9bf024b59873729b8467498c4",
       "version_major": 2,
       "version_minor": 0
      },
      "text/plain": [
       "interactive(children=(Dropdown(description='category', options=('Phosphorylation', 'Complex', 'Dephosphorylati…"
      ]
     },
     "metadata": {},
     "output_type": "display_data"
    }
   ],
   "source": [
    "@interact( category= unique_categories )\n",
    "def statement_json(category):\n",
    "    ites = np.where( np.array(categories) == category )[0]\n",
    "    to_show = np.array(statements)[ites]\n",
    "    \n",
    "    @interact( statement= ( 0, len(to_show)-1 )  )\n",
    "    def statement_json2(statement):\n",
    "        \n",
    "        test = to_show[statement]\n",
    "        display(HTML(\"\"\"<h2>Statement</h2> <p>{0}<p> <h2>Dict</h2>\"\"\".format( str(test) )))\n",
    "        RenderJSON(test.__dict__)\n",
    "\n",
    "        display(HTML(\"<h2>JSON</h2>\"))\n",
    "        RenderJSON( test.to_json() )"
   ]
  },
  {
   "cell_type": "code",
   "execution_count": null,
   "metadata": {},
   "outputs": [],
   "source": []
  },
  {
   "cell_type": "markdown",
   "metadata": {},
   "source": [
    "## Scratch Paper"
   ]
  },
  {
   "cell_type": "code",
   "execution_count": 101,
   "metadata": {},
   "outputs": [
    {
     "data": {
      "text/plain": [
       "indra.statements.Phosphorylation"
      ]
     },
     "execution_count": 101,
     "metadata": {},
     "output_type": "execute_result"
    }
   ],
   "source": [
    "test.__class__"
   ]
  },
  {
   "cell_type": "code",
   "execution_count": 82,
   "metadata": {},
   "outputs": [
    {
     "data": {
      "text/plain": [
       "'Phosphorylation'"
      ]
     },
     "execution_count": 82,
     "metadata": {},
     "output_type": "execute_result"
    }
   ],
   "source": [
    "test.__class__.__name__"
   ]
  },
  {
   "cell_type": "code",
   "execution_count": 34,
   "metadata": {},
   "outputs": [],
   "source": [
    "test= biopax_processor.statements[2]"
   ]
  },
  {
   "cell_type": "code",
   "execution_count": 36,
   "metadata": {},
   "outputs": [
    {
     "data": {
      "text/plain": [
       "['__class__',\n",
       " '__delattr__',\n",
       " '__dict__',\n",
       " '__dir__',\n",
       " '__doc__',\n",
       " '__eq__',\n",
       " '__format__',\n",
       " '__ge__',\n",
       " '__getattribute__',\n",
       " '__gt__',\n",
       " '__hash__',\n",
       " '__init__',\n",
       " '__le__',\n",
       " '__lt__',\n",
       " '__module__',\n",
       " '__ne__',\n",
       " '__new__',\n",
       " '__reduce__',\n",
       " '__reduce_ex__',\n",
       " '__repr__',\n",
       " '__setattr__',\n",
       " '__sizeof__',\n",
       " '__str__',\n",
       " '__subclasshook__',\n",
       " '__weakref__',\n",
       " '_from_json',\n",
       " '_get_mod_condition',\n",
       " 'agent_list',\n",
       " 'agent_list_with_bound_condition_agents',\n",
       " 'belief',\n",
       " 'contradicts',\n",
       " 'entities_match',\n",
       " 'entities_match_key',\n",
       " 'enz',\n",
       " 'equals',\n",
       " 'evidence',\n",
       " 'make_generic_copy',\n",
       " 'matches',\n",
       " 'matches_key',\n",
       " 'position',\n",
       " 'print_supports',\n",
       " 'refinement_of',\n",
       " 'residue',\n",
       " 'set_agent_list',\n",
       " 'sub',\n",
       " 'supported_by',\n",
       " 'supports',\n",
       " 'to_graph',\n",
       " 'to_json',\n",
       " 'uuid']"
      ]
     },
     "execution_count": 36,
     "metadata": {},
     "output_type": "execute_result"
    }
   ],
   "source": [
    "dir(test)"
   ]
  },
  {
   "cell_type": "code",
   "execution_count": 44,
   "metadata": {},
   "outputs": [
    {
     "data": {
      "text/plain": [
       "collections.OrderedDict"
      ]
     },
     "execution_count": 44,
     "metadata": {},
     "output_type": "execute_result"
    }
   ],
   "source": []
  },
  {
   "cell_type": "code",
   "execution_count": null,
   "metadata": {},
   "outputs": [],
   "source": []
  },
  {
   "cell_type": "markdown",
   "metadata": {
    "heading_collapsed": true
   },
   "source": [
    "# Scratch Paper"
   ]
  },
  {
   "cell_type": "code",
   "execution_count": 42,
   "metadata": {
    "hidden": true
   },
   "outputs": [
    {
     "name": "stdout",
     "output_type": "stream",
     "text": [
      "0 Dephosphorylation(PTPN12(), p-6Y-EGFR(mods: (phosphorylation, Y, 1045), (phosphorylation, Y, 992), (phosphorylation, Y, 1086), (phosphorylation, Y, 1068), (phosphorylation, Y, 1173)), Y, 1148)\n",
      "1 Dephosphorylation(PTPN3(), Eps15(), Y, 850)\n",
      "2 Phosphorylation(SRC-1(), EGFR(), Y, 1045)\n",
      "3 Phosphorylation(SRC-1(), EGFR(), Y, 992)\n",
      "4 Phosphorylation(SRC-1(), EGFR(), Y, 1086)\n",
      "5 Phosphorylation(SRC-1(), EGFR(), Y, 1068)\n",
      "6 Phosphorylation(SRC-1(), EGFR(), Y, 1173)\n",
      "7 Phosphorylation(SRC-1(), EGFR(), Y, 1148)\n"
     ]
    }
   ],
   "source": [
    "for idx, stmt in enumerate(biopax_processor.statements): print(idx, stmt)"
   ]
  },
  {
   "cell_type": "code",
   "execution_count": null,
   "metadata": {
    "hidden": true
   },
   "outputs": [],
   "source": []
  }
 ],
 "metadata": {
  "hide_input": false,
  "kernelspec": {
   "display_name": "Python 3",
   "language": "python",
   "name": "python3"
  },
  "language_info": {
   "codemirror_mode": {
    "name": "ipython",
    "version": 3
   },
   "file_extension": ".py",
   "mimetype": "text/x-python",
   "name": "python",
   "nbconvert_exporter": "python",
   "pygments_lexer": "ipython3",
   "version": "3.5.5"
  },
  "toc": {
   "base_numbering": 1,
   "nav_menu": {},
   "number_sections": true,
   "sideBar": true,
   "skip_h1_title": false,
   "title_cell": "Table of Contents",
   "title_sidebar": "Contents",
   "toc_cell": false,
   "toc_position": {},
   "toc_section_display": true,
   "toc_window_display": false
  },
  "varInspector": {
   "cols": {
    "lenName": 16,
    "lenType": 16,
    "lenVar": 40
   },
   "kernels_config": {
    "python": {
     "delete_cmd_postfix": "",
     "delete_cmd_prefix": "del ",
     "library": "var_list.py",
     "varRefreshCmd": "print(var_dic_list())"
    },
    "r": {
     "delete_cmd_postfix": ") ",
     "delete_cmd_prefix": "rm(",
     "library": "var_list.r",
     "varRefreshCmd": "cat(var_dic_list()) "
    }
   },
   "types_to_exclude": [
    "module",
    "function",
    "builtin_function_or_method",
    "instance",
    "_Feature"
   ],
   "window_display": false
  }
 },
 "nbformat": 4,
 "nbformat_minor": 2
}
