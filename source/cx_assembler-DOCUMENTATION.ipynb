{
 "cells": [
  {
   "cell_type": "markdown",
   "metadata": {},
   "source": [
    "<p></p><font size=\"7\" face=\"courier\" color=\"magenta\">cx_assembler </font> **<font size=\"7\" color=red>Documentation </font>**"
   ]
  },
  {
   "cell_type": "markdown",
   "metadata": {},
   "source": [
    "This notebook explains the how the purpose and implementation of the  [cx_assembler](http://indra.akintunde.org/notebooks/source/cx_assembler.ipynb) file. We explain how each <font color=\"magenta\">aspect</font> in an outputted CX file is created. Below is a list of the 4 main aspects, as well as the other aspects:\n",
    "* **<font color=magenta>nodes</font>** : Stores all of the nodes' identifiers\n",
    "* **<font color=magenta>edges</font>** : Stores all of the edges' identifiers\n",
    "* **<font color=magenta>nodeAttributes</font>** : Stores additional info about each node\n",
    "* **<font color=magenta>edgeAttributes</font>** : Stores additional info about each edge\n",
    "* **<font color=magenta>other</font>** : numberVerification, metaData, @Context, networkAttributes, status"
   ]
  },
  {
   "cell_type": "markdown",
   "metadata": {
    "heading_collapsed": true
   },
   "source": [
    "### <font color=red>Issues and Future Work :</font>"
   ]
  },
  {
   "cell_type": "markdown",
   "metadata": {
    "hidden": true
   },
   "source": [
    "* <font color=orange>Have statementCreator file call indraView to make code more concise</font>\n",
    "* <font color=red>If there is no name id's in _get_agent_alias we simply print \"NA\"</font>\n",
    "* <font color=red>Too many of the nodes are of type \"other\" check out the function,</font><font color=blue>_get_agent_type</font>\n",
    "* <font color=red>Figure out how to deal with the following warnings:</font>\n",
    "<img src=\"../data/Images/bel_warnings.png\" width=700>"
   ]
  },
  {
   "cell_type": "markdown",
   "metadata": {
    "heading_collapsed": true
   },
   "source": [
    "# Basic Summary"
   ]
  },
  {
   "cell_type": "markdown",
   "metadata": {
    "heading_collapsed": true,
    "hidden": true
   },
   "source": [
    "## What is an <font color=orange>Indra Statement?</font>"
   ]
  },
  {
   "cell_type": "markdown",
   "metadata": {
    "hidden": true
   },
   "source": [
    " An <font color=orange>indra statement</font> can be thought of as an **edge** between $2$ **nodes**, containing info about both the **edge** and its $2$ **nodes**. <font color=orange>Indra statements</font> have a pretty complex class structure, with there being [10 different sub-classes](https://indra.readthedocs.io/en/latest/modules/statements.html) of <font color=orange>indra statements</font>. The [Indra Objects](#Indra-Objects) section goes into more detail about what the indra objects are and how they map to the **CX** format. "
   ]
  },
  {
   "cell_type": "markdown",
   "metadata": {
    "heading_collapsed": true,
    "hidden": true
   },
   "source": [
    "## How are the <font color=magenta>aspects</font> created?"
   ]
  },
  {
   "cell_type": "markdown",
   "metadata": {
    "hidden": true
   },
   "source": [
    "The vast majority of the data in a `.cx` file is stored inside $4$ main aspects <font color=magenta>nodes, edges, nodeAttributes, edgeAttributes</font>. The <font color=blue>_add...</font> functions are used to by **Indra** to  collect all the <font color=orange>indra statements</font>. A `for loop` is ran over each <font color=orange>indra statement</font>, adding its information to the $4$ main aspects."
   ]
  },
  {
   "cell_type": "markdown",
   "metadata": {
    "hidden": true
   },
   "source": [
    "The <font color=magenta>other</font> aspects basically just store metadata about the `.cx` dataset. The values of these aspects are mostly hard-coded inside of the functions <font color=blue>make_model</font> and <font color=blue>print_cx</font>"
   ]
  },
  {
   "cell_type": "markdown",
   "metadata": {
    "heading_collapsed": true,
    "hidden": true
   },
   "source": [
    "## Video Tutorial <font color=red>-Not Implemented</font>"
   ]
  },
  {
   "cell_type": "markdown",
   "metadata": {
    "hidden": true
   },
   "source": [
    "**Below is a video summary** of  how `.cx` files are made. "
   ]
  },
  {
   "cell_type": "code",
   "execution_count": 1,
   "metadata": {
    "code_folding": [],
    "hidden": true
   },
   "outputs": [
    {
     "data": {
      "text/html": [
       "\n",
       "<div class=\"row\"><div class=\"col-xs-12 col-md-offset-3 col-md-6\">\n",
       "<div class=\"embed-responsive embed-responsive-16by9\">\n",
       "  <iframe class=\"embed-responsive-item\" \n",
       "  src='https://www.youtube.com/embed/eV8wWzhIN80'></iframe></div>\n",
       "</div></div>\n"
      ],
      "text/plain": [
       "<IPython.core.display.HTML object>"
      ]
     },
     "metadata": {},
     "output_type": "display_data"
    }
   ],
   "source": [
    "# Show youtube video\n",
    "from IPython.core.display import HTML, display\n",
    "display(HTML(\"\"\"\n",
    "<div class=\"row\"><div class=\"col-xs-12 col-md-offset-3 col-md-6\">\n",
    "<div class=\"embed-responsive embed-responsive-16by9\">\n",
    "  <iframe class=\"embed-responsive-item\" \n",
    "  src='https://www.youtube.com/embed/eV8wWzhIN80'></iframe></div>\n",
    "</div></div>\n",
    "\"\"\"))"
   ]
  },
  {
   "cell_type": "markdown",
   "metadata": {
    "heading_collapsed": true,
    "hidden": true
   },
   "source": [
    "## `.cx` Example File"
   ]
  },
  {
   "cell_type": "markdown",
   "metadata": {
    "hidden": true
   },
   "source": [
    "**Run the cell below** to see a very basic example of the <font color=blue>CX layout</font>"
   ]
  },
  {
   "cell_type": "code",
   "execution_count": 34,
   "metadata": {
    "hidden": true
   },
   "outputs": [],
   "source": [
    "%less /root/Documents/data/CX_output/mini.cx"
   ]
  },
  {
   "cell_type": "markdown",
   "metadata": {},
   "source": [
    "#  NDEx Common Network Format\n",
    "\n",
    "In this current implementation of the <font color=magenta>CxAssembler</font> class. We output a `.cx` files that conforms to the <font color=green>NC2</font> NDEx common network format. The document below gives and indepth description of the specification for this data format."
   ]
  },
  {
   "cell_type": "markdown",
   "metadata": {
    "heading_collapsed": true
   },
   "source": [
    "## <font color=green>NC2:</font>"
   ]
  },
  {
   "cell_type": "code",
   "execution_count": 6,
   "metadata": {
    "code_folding": [
     0
    ],
    "hidden": true,
    "scrolled": false
   },
   "outputs": [
    {
     "data": {
      "text/html": [
       "\n",
       "  <iframe class=\"embed-responsive-item\" width=\"100%\" height=\"900\"\n",
       "      src=\"https://docs.google.com/document/d/13ZKcFBH-E5oiJP2D5zrdFqxLlS9yGtGiiX5Lj92g4EU/edit#heading=h.1t5lf4irpgyj\">\n",
       "  </iframe>"
      ],
      "text/plain": [
       "<IPython.core.display.HTML object>"
      ]
     },
     "metadata": {},
     "output_type": "display_data"
    }
   ],
   "source": [
    "# Displays google doc of CX \n",
    "display(HTML(\"\"\"\n",
    "  <iframe class=\"embed-responsive-item\" width=\"100%\" height=\"900\"\n",
    "      src=\"https://docs.google.com/document/d/13ZKcFBH-E5oiJP2D5zrdFqxLlS9yGtGiiX5Lj92g4EU/edit#heading=h.1t5lf4irpgyj\">\n",
    "  </iframe>\"\"\"))\n"
   ]
  },
  {
   "cell_type": "markdown",
   "metadata": {
    "heading_collapsed": true
   },
   "source": [
    "## <font color=green>NC3</font>"
   ]
  },
  {
   "cell_type": "code",
   "execution_count": 2,
   "metadata": {
    "code_folding": [
     0
    ],
    "hidden": true
   },
   "outputs": [
    {
     "data": {
      "text/html": [
       "\n",
       "  <iframe class=\"embed-responsive-item\" width=\"100%\" height=\"900\"\n",
       "      src=\"https://docs.google.com/document/d/1EbYQKdsImKp93eh5LnwOsFsxdxs7Hte-g97AuNrT1mo\">\n",
       "  </iframe>"
      ],
      "text/plain": [
       "<IPython.core.display.HTML object>"
      ]
     },
     "metadata": {},
     "output_type": "display_data"
    }
   ],
   "source": [
    "# Displays google doc of CX \n",
    "display(HTML(\"\"\"\n",
    "  <iframe class=\"embed-responsive-item\" width=\"100%\" height=\"900\"\n",
    "      src=\"https://docs.google.com/document/d/1EbYQKdsImKp93eh5LnwOsFsxdxs7Hte-g97AuNrT1mo\">\n",
    "  </iframe>\"\"\"))\n"
   ]
  },
  {
   "cell_type": "code",
   "execution_count": null,
   "metadata": {
    "hidden": true
   },
   "outputs": [],
   "source": []
  },
  {
   "cell_type": "markdown",
   "metadata": {
    "heading_collapsed": true
   },
   "source": [
    "# Indra Objects\n",
    "\n",
    " An <font color=orange>indra statement</font> can be thought of as an **edge** between $2$ **nodes**, containing info about both the **edge** and its $2$ **nodes**. There are [10 different sub-classes](https://indra.readthedocs.io/en/latest/modules/statements.html) of <font color=orange>indra statements</font> which can be mapped over to the **CX** format:"
   ]
  },
  {
   "cell_type": "markdown",
   "metadata": {
    "cell_style": "center",
    "hidden": true
   },
   "source": [
    "1. **Modification** <font color=gray>- represents modification of a protein</font>\n",
    "1. **SelfModification** <font color=gray>- represents self-modification of a protein</font>\n",
    "1. **Complex** <font color=gray>- represents set of proteins within a complex</font>\n",
    "1. **RegulateAmount** <font color=gray>- operations on directed, two-element interactions</font>\n",
    "1. **Gef** <font color=gray>- Exchange of GTP for GDP on a small GTPase protein mediated by a GEF</font>\n",
    "1. **Gap** <font color=gray>- Acceleration of a GTPase protein’s GTP hydrolysis rate by a GAP</font>\n",
    "1. **RegulateActivity**\n",
    "1. **ActiveForm**\n",
    "1. **Translocation**\n",
    "\n",
    "1. **Conversion**"
   ]
  },
  {
   "cell_type": "markdown",
   "metadata": {
    "heading_collapsed": true,
    "hidden": true
   },
   "source": [
    "## Nodes and Edges"
   ]
  },
  {
   "cell_type": "markdown",
   "metadata": {
    "hidden": true
   },
   "source": [
    "The first step in creating a `.cx` file from <font color=orange>indra statements</font> is to  figure out how to get dredge the $2$ nodes out of the statements as well as the edge between them. The <font color=orange>indra statements</font> sub-classes can store node and edge data in slightly different ways. So how this info is retreived depends on the type of statement. In the sections below we break down the process of dredging nodes and edges by statement type."
   ]
  },
  {
   "cell_type": "markdown",
   "metadata": {
    "hidden": true
   },
   "source": [
    "TO DO : Add node edge explanation:"
   ]
  },
  {
   "cell_type": "markdown",
   "metadata": {
    "heading_collapsed": true,
    "hidden": true
   },
   "source": [
    "### Modification"
   ]
  },
  {
   "cell_type": "markdown",
   "metadata": {
    "cell_style": "split",
    "hidden": true
   },
   "source": [
    "**Nodes**\n",
    "<font color=orange>Modification</font>.enz\n",
    "<font color=orange>Modification</font>.sub"
   ]
  },
  {
   "cell_type": "markdown",
   "metadata": {
    "cell_style": "split",
    "hidden": true
   },
   "source": [
    "**Edge**\n",
    "\n",
    "$($ <font color=orange>Modification</font>.enz , <font color=orange>Modification</font>.sub  $)$ "
   ]
  },
  {
   "cell_type": "markdown",
   "metadata": {
    "hidden": true
   },
   "source": [
    "``` JSON\n",
    "{\n",
    "    '@id' : some_id\n",
    "    'n' : entit \n",
    "    'r' : ( the identifier)\n",
    "\n",
    "}\n",
    "```"
   ]
  },
  {
   "cell_type": "markdown",
   "metadata": {
    "heading_collapsed": true,
    "hidden": true
   },
   "source": [
    "### SelfModification"
   ]
  },
  {
   "cell_type": "markdown",
   "metadata": {
    "cell_style": "split",
    "hidden": true
   },
   "source": [
    "**Node**\n",
    "\n",
    "<font color=orange>SelfModification</font>.enz"
   ]
  },
  {
   "cell_type": "markdown",
   "metadata": {
    "cell_style": "split",
    "hidden": true
   },
   "source": [
    "** Edge **\n",
    "\n",
    "$($ <font color=orange>Modification</font>.enz , <font color=orange>Modification</font>.enz  $)$ "
   ]
  },
  {
   "cell_type": "markdown",
   "metadata": {
    "heading_collapsed": true,
    "hidden": true
   },
   "source": [
    "### Complex"
   ]
  },
  {
   "cell_type": "markdown",
   "metadata": {
    "hidden": true
   },
   "source": [
    "The <font color=orange>Complex</font> sub-class represents a set of proteins in a complex. Each protein in the complex becomes a node and and edge is drawn between all proteins <font color=gray>(all nodes)</font> that are part of the complex"
   ]
  },
  {
   "cell_type": "markdown",
   "metadata": {
    "cell_style": "split",
    "hidden": true
   },
   "source": [
    "**Nodes**\n",
    "\n",
    "<font color=orange>Complex</font>.members$[\\ i\\ ]\\ \\leftarrow \\forall \\  i \\in $ members  "
   ]
  },
  {
   "cell_type": "markdown",
   "metadata": {
    "cell_style": "center",
    "hidden": true
   },
   "source": [
    "**Edges**\n",
    "\n",
    "$($ <font color=orange>Complex</font>.members$[\\ i\\ ]$ , <font color=orange>Complex</font>.members$[\\ j\\ ]\\ )\\ \\ \n",
    "\\leftarrow \\forall \\  i\\neq j \\in $ members  "
   ]
  },
  {
   "cell_type": "markdown",
   "metadata": {
    "heading_collapsed": true,
    "hidden": true
   },
   "source": [
    "#### Code"
   ]
  },
  {
   "cell_type": "markdown",
   "metadata": {
    "hidden": true
   },
   "source": [
    "``` python\n",
    "def _add_complex(self, stmt):\n",
    "    for m1, m2 in itertools.combinations(stmt.members, 2):\n",
    "        m1_id = self._add_node(m1)\n",
    "        m2_id = self._add_node(m2)\n",
    "        self._add_edge(m1_id, m2_id, 'Complex', stmt)\n",
    "```"
   ]
  },
  {
   "cell_type": "markdown",
   "metadata": {
    "heading_collapsed": true,
    "hidden": true
   },
   "source": [
    "### RegulateActivity , RegulateAmount"
   ]
  },
  {
   "cell_type": "markdown",
   "metadata": {
    "hidden": true
   },
   "source": [
    "Here <font color=orange>stmt</font> represents either  <font color=orange>RegulateActivity</font>  **or** <font color=orange>RegulateAmount</font> "
   ]
  },
  {
   "cell_type": "markdown",
   "metadata": {
    "cell_style": "split",
    "hidden": true
   },
   "source": [
    "**Nodes**\n",
    "<font color=orange>stmt</font>.subj\n",
    "<font color=orange>stmt</font>.obj"
   ]
  },
  {
   "cell_type": "markdown",
   "metadata": {
    "cell_style": "split",
    "hidden": true
   },
   "source": [
    "** Edge **\n",
    "\n",
    "$($ <font color=orange>stmt</font>.subj , <font color=orange>stmt</font>.obj  $)$ "
   ]
  },
  {
   "cell_type": "markdown",
   "metadata": {
    "heading_collapsed": true,
    "hidden": true
   },
   "source": [
    "### Gef"
   ]
  },
  {
   "cell_type": "markdown",
   "metadata": {
    "cell_style": "split",
    "hidden": true
   },
   "source": [
    "**Nodes**\n",
    "<font color=orange>Gef</font>.gef\n",
    "<font color=orange>Gef</font>.ras"
   ]
  },
  {
   "cell_type": "markdown",
   "metadata": {
    "cell_style": "split",
    "hidden": true
   },
   "source": [
    "**Edge**\n",
    "\n",
    "$($ <font color=orange>Gef</font>.gef , <font color=orange>Gef</font>.ras  $)$ "
   ]
  },
  {
   "cell_type": "markdown",
   "metadata": {
    "heading_collapsed": true,
    "hidden": true
   },
   "source": [
    "### Gap"
   ]
  },
  {
   "cell_type": "markdown",
   "metadata": {
    "cell_style": "split",
    "hidden": true
   },
   "source": [
    "**Nodes**\n",
    "<font color=orange>Gap</font>.gap\n",
    "<font color=orange>Gap</font>.ras"
   ]
  },
  {
   "cell_type": "markdown",
   "metadata": {
    "cell_style": "split",
    "hidden": true
   },
   "source": [
    "**Edge**\n",
    "\n",
    "$($ <font color=orange>Gef</font>.gap , <font color=orange>Gef</font>.ras  $)$ "
   ]
  },
  {
   "cell_type": "markdown",
   "metadata": {
    "heading_collapsed": true,
    "hidden": true
   },
   "source": [
    "## Data Attributes"
   ]
  },
  {
   "cell_type": "markdown",
   "metadata": {
    "heading_collapsed": true,
    "hidden": true
   },
   "source": [
    "### <font color=magenta>Node Attributes</font>"
   ]
  },
  {
   "cell_type": "markdown",
   "metadata": {
    "hidden": true
   },
   "source": [
    "Below we show how <font color=magenta>Node Attributes</font> are added for a single <font color=orange>node</font>, where a <font color=orange>node</font> can be any type of node defined in the [section above](#Nodes-and-Edges) "
   ]
  },
  {
   "cell_type": "markdown",
   "metadata": {
    "hidden": true
   },
   "source": [
    "<font color=green>type</font> $=$ <font color=blue>_get_agent_type</font> $($ <font color=orange>node</font> $)$"
   ]
  },
  {
   "cell_type": "markdown",
   "metadata": {
    "hidden": true
   },
   "source": [
    "<font color=green>alias</font> $=$ <font color=blue>_get_agent_alias</font> $($ <font color=orange>node</font> $)$"
   ]
  },
  {
   "cell_type": "markdown",
   "metadata": {
    "heading_collapsed": true,
    "hidden": true
   },
   "source": [
    "### <font color=magenta>Edge Attributes</font>"
   ]
  },
  {
   "cell_type": "markdown",
   "metadata": {
    "hidden": true
   },
   "source": [
    "Below we show how <font color=magenta>Edge Attributes</font> are added for a single <font color=orange>edge</font>. The following function act on the <font color=orange>statement</font> which contains the corresponding <font color=orange>edge</font> of interest."
   ]
  },
  {
   "cell_type": "markdown",
   "metadata": {
    "hidden": true
   },
   "source": [
    "<font color=green>mechanism</font> $=$ <font color=orange>statement</font>.\\__class__.\\__name__"
   ]
  },
  {
   "cell_type": "markdown",
   "metadata": {
    "hidden": true
   },
   "source": [
    "<font color=green>polarity</font> $=$ <font color=blue>_get_stmt_type</font> $($ <font color=orange>statement</font> $)[\\ 1\\ ]$"
   ]
  },
  {
   "cell_type": "markdown",
   "metadata": {
    "hidden": true
   },
   "source": [
    "<font color=green>citations</font> $=$ <font color=blue>_get_stmt_citations</font> $($ <font color=orange>statement</font> $)$"
   ]
  },
  {
   "cell_type": "markdown",
   "metadata": {
    "hidden": true
   },
   "source": [
    "<font color=gray>causality $=$ <font color=orange>statement</font>.evidence.epistemics \n",
    "\n",
    " $\\ \\leftarrow\\ $ leave out for now</font>"
   ]
  },
  {
   "cell_type": "markdown",
   "metadata": {
    "heading_collapsed": true
   },
   "source": [
    "# <font color=blue>Functions</font> for Indra to CX"
   ]
  },
  {
   "cell_type": "markdown",
   "metadata": {
    "heading_collapsed": true,
    "hidden": true
   },
   "source": [
    "## How <font color=magenta>Nodes</font> are Added\n"
   ]
  },
  {
   "cell_type": "markdown",
   "metadata": {
    "hidden": true
   },
   "source": [
    "The <font color=blue>_add_node</font> function is used to add a node to the <font color=magenta>nodes</font> aspect. Each <font color=orange>indra statement</font> contains $2$ nodes that are added to <font color=magenta>nodes</font>. The methodology on how a statement's nodes are added varies a little bit [based on the sub-class](https://indra.readthedocs.io/en/latest/modules/statements.html) of the <font color=orange>indra statement</font>, as can be seen by looking at the various <font color=blue>_add...</font> functions. However, at the end of the day the <font color=blue>_add_node</font> function, is always the final thing called to add a node to <font color=magenta>nodes</font>."
   ]
  },
  {
   "cell_type": "markdown",
   "metadata": {
    "hidden": true
   },
   "source": [
    "Path of <font color=blue>function calls</font> <font color=gray>(embedded)</font> that lead to the addition of a single node to the <font color=magenta>nodes</font> aspect:  \n",
    "<p><center>\n",
    "    make_model $\\rightarrow$ print_cx $\\rightarrow$ \\_add_... $\\rightarrow$ _add_node\n",
    "</center></p>"
   ]
  },
  {
   "cell_type": "markdown",
   "metadata": {
    "heading_collapsed": true,
    "hidden": true
   },
   "source": [
    "### <font color=magenta>nodes</font> format:"
   ]
  },
  {
   "cell_type": "markdown",
   "metadata": {
    "hidden": true
   },
   "source": [
    "Each node in <font color=magenta>nodes</font> has the following format:\n",
    "``` python\n",
    "node = {'@id': node_id,\n",
    "        'n': agent.name,\n",
    "        'r': agent.name} \n",
    "```"
   ]
  },
  {
   "cell_type": "markdown",
   "metadata": {
    "heading_collapsed": true,
    "hidden": true
   },
   "source": [
    "## How <font color=magenta>Nodes Attributes</font> are Added"
   ]
  },
  {
   "cell_type": "markdown",
   "metadata": {
    "hidden": true
   },
   "source": [
    "When the <font color=blue>_add_node</font> is called to add a node <font color=gray>(see above section)</font>, it calls a sub-function, <font color=blue>_add_node_metadata</font> which put's the node's information in the <font color=magenta>nodeAttributes</font> aspect. <font color=blue>_add_node_metadata</font> adds the node's <font color=green>type</font> <font color=gray>(gene, protein,... )</font> as well at the node's <font color=green>alias</font> names <font color=gray>(uniprot, PubChem,... )</font> to <font color=magenta>nodeAttributes</font>."
   ]
  },
  {
   "cell_type": "markdown",
   "metadata": {
    "hidden": true
   },
   "source": [
    "Path of the <font color=blue>function calls</font> <font color=gray>(embedded)</font> that lead to the addition of a single node attribute to the <font color=magenta>nodeAttributes</font> aspect:  \n",
    "<p><center>\n",
    "make_model $\\rightarrow$ print_cx $\\rightarrow$ \\_add_... $\\rightarrow$ _add_node $\\rightarrow$ _add_node_metadata\n",
    "</center></p>"
   ]
  },
  {
   "cell_type": "markdown",
   "metadata": {
    "heading_collapsed": true,
    "hidden": true
   },
   "source": [
    "## How <font color=magenta>Edges</font> are Added"
   ]
  },
  {
   "cell_type": "markdown",
   "metadata": {
    "hidden": true
   },
   "source": [
    "The <font color=blue>_add_edge</font> function is used to add an edge to the <font color=magenta>edges</font> aspect. Each <font color=orange>indra statement</font> has $1$ edge that is added to <font color=magenta>edges</font>. The methodology on how a statement's edge is added varies a little bit [based on the sub-class](https://indra.readthedocs.io/en/latest/modules/statements.html) of the <font color=orange>indra statement</font>, as can be seen by looking at the various <font color=blue>_add...</font> functions. However, at the end of the day the <font color=blue>_add_edge</font> function, is always the final thing called to add an edge to <font color=magenta>edges</font>.\n"
   ]
  },
  {
   "cell_type": "markdown",
   "metadata": {
    "hidden": true
   },
   "source": [
    "Path of the <font color=blue>function calls</font> <font color=gray>(embedded)</font> that lead to the addition of a single edge to the <font color=magenta>edges</font> aspect  \n",
    "<p><center>\n",
    "make_model $\\rightarrow$ print_cx $\\rightarrow$ \\_add_... $\\rightarrow$ _add_edge\n",
    "</center></p>"
   ]
  },
  {
   "cell_type": "markdown",
   "metadata": {
    "heading_collapsed": true,
    "hidden": true
   },
   "source": [
    "### <font color=magenta>edges</font> format\n"
   ]
  },
  {
   "cell_type": "markdown",
   "metadata": {
    "hidden": true
   },
   "source": [
    "Each edge in <font color=magenta>edges</font> follows the following basic format:\n",
    "``` python\n",
    "edge = {'@id': edge_id,\n",
    "        's': source,\n",
    "        't': target,\n",
    "        'i': interaction}\n",
    "```"
   ]
  },
  {
   "cell_type": "markdown",
   "metadata": {
    "heading_collapsed": true,
    "hidden": true
   },
   "source": [
    "## How <font color=magenta>Edge Attributes</font> are Added"
   ]
  },
  {
   "cell_type": "markdown",
   "metadata": {
    "hidden": true
   },
   "source": [
    "When the <font color=blue>_add_edge</font> is called to add an edge <font color=gray>(see above section)</font>, it calls a sub-function, <font color=blue>_add_edge_metadata</font> which put's the edge's information in the <font color=magenta>edgeAttributes</font> aspect. "
   ]
  },
  {
   "cell_type": "markdown",
   "metadata": {
    "hidden": true
   },
   "source": [
    "Path of the <font color=blue>function calls</font> <font color=gray>(embedded)</font> that lead to the addition of a single edge attribute to the <font color=magenta>edgeAttributes</font> aspect  \n",
    "\n",
    "<p><center>\n",
    "make_model $\\rightarrow$ print_cx $\\rightarrow$ \\_add_... $\\rightarrow$ _add_edge $\\rightarrow$ _add_edge_metadata\n",
    "</center></p>"
   ]
  },
  {
   "cell_type": "markdown",
   "metadata": {
    "heading_collapsed": true,
    "hidden": true
   },
   "source": [
    "## How <font color=magenta>Other</font> Aspects are Added"
   ]
  },
  {
   "cell_type": "markdown",
   "metadata": {
    "heading_collapsed": true,
    "hidden": true
   },
   "source": [
    "### <font color=magenta>numberVerification</font>"
   ]
  },
  {
   "cell_type": "markdown",
   "metadata": {
    "hidden": true
   },
   "source": [
    "This aspect is manually hardcoded in the funct <font color=blue>print_cx</font>. The code for this is as follows:\n",
    "\n",
    "``` python\n",
    "full_cx['numberVerification'] = [{'longNumber': 281474976710655}]\n",
    "```"
   ]
  },
  {
   "cell_type": "markdown",
   "metadata": {
    "heading_collapsed": true,
    "hidden": true
   },
   "source": [
    "### <font color=magenta>metaData</font>"
   ]
  },
  {
   "cell_type": "markdown",
   "metadata": {
    "hidden": true
   },
   "source": [
    "<font color=magenta>metaData</font> a little some summary metadata for the aspects <font color=magenta>@Context, networkAttributes, nodes, edges, nodeAttributes, edgeAttributes</font>. It's values are set in the function <font color=blue>make_model</font>. It uses the helper function <font color=blue>_get_aspect_metadata</font>, whose code can also be found within the <font color=blue>make_model</font> function.\n",
    "\n",
    "``` python\n",
    "aspects = ['@Context','networkAttributes','nodes', 'edges','nodeAttributes','edgeAttributes']\n",
    "for aspect in aspects:\n",
    "    metadata = _get_aspect_metadata(aspect)\n",
    "```\n",
    "\n"
   ]
  },
  {
   "cell_type": "markdown",
   "metadata": {
    "heading_collapsed": true,
    "hidden": true
   },
   "source": [
    "### <font color=magenta>@Context</font>"
   ]
  },
  {
   "cell_type": "markdown",
   "metadata": {
    "hidden": true
   },
   "source": [
    "<font color=magenta>@Context</font> is added in the initialisation <font color=gray>(\\__init__)</font> of <font color=magenta>CxAssembler</font>. The code is as follows:\n",
    "\n",
    "``` python\n",
    "self.cx = {'@Context':[ _add_context() ],\n",
    "```"
   ]
  },
  {
   "cell_type": "markdown",
   "metadata": {
    "heading_collapsed": true,
    "hidden": true
   },
   "source": [
    "### <font color=magenta>networkAttributes</font>"
   ]
  },
  {
   "cell_type": "markdown",
   "metadata": {
    "hidden": true
   },
   "source": [
    "All the values of <font color=magenta>networkAttributes</font> are set in the function <font color=blue>make_model</font>. These values, <font color=green>name, description, version</font> are passed as parameters to the <font color=blue>make_model</font> function:\n",
    "\n",
    "``` python\n",
    "def make_model(self, add_indra_json=True, \n",
    "               name='indra_assembled', description='An Indra Auto-Curated network', version='1.0'):\n",
    "```"
   ]
  },
  {
   "cell_type": "markdown",
   "metadata": {
    "heading_collapsed": true,
    "hidden": true
   },
   "source": [
    "### <font color=magenta>status</font>"
   ]
  },
  {
   "cell_type": "markdown",
   "metadata": {
    "hidden": true
   },
   "source": [
    "This aspect is manually hardcoded in the funct <font color=blue>print_cx</font>. The code for this is as follows:\n",
    "\n",
    "``` python\n",
    "full_cx['status'] = [{'error': '', 'success': True}]\n",
    "```"
   ]
  }
 ],
 "metadata": {
  "hide_input": false,
  "kernelspec": {
   "display_name": "Python 3",
   "language": "python",
   "name": "python3"
  },
  "language_info": {
   "codemirror_mode": {
    "name": "ipython",
    "version": 3
   },
   "file_extension": ".py",
   "mimetype": "text/x-python",
   "name": "python",
   "nbconvert_exporter": "python",
   "pygments_lexer": "ipython3",
   "version": "3.5.5"
  },
  "toc": {
   "base_numbering": 1,
   "nav_menu": {},
   "number_sections": true,
   "sideBar": true,
   "skip_h1_title": false,
   "title_cell": "Table of Contents",
   "title_sidebar": "Contents",
   "toc_cell": false,
   "toc_position": {},
   "toc_section_display": true,
   "toc_window_display": false
  },
  "varInspector": {
   "cols": {
    "lenName": 16,
    "lenType": 16,
    "lenVar": 40
   },
   "kernels_config": {
    "python": {
     "delete_cmd_postfix": "",
     "delete_cmd_prefix": "del ",
     "library": "var_list.py",
     "varRefreshCmd": "print(var_dic_list())"
    },
    "r": {
     "delete_cmd_postfix": ") ",
     "delete_cmd_prefix": "rm(",
     "library": "var_list.r",
     "varRefreshCmd": "cat(var_dic_list()) "
    }
   },
   "types_to_exclude": [
    "module",
    "function",
    "builtin_function_or_method",
    "instance",
    "_Feature"
   ],
   "window_display": false
  }
 },
 "nbformat": 4,
 "nbformat_minor": 2
}
