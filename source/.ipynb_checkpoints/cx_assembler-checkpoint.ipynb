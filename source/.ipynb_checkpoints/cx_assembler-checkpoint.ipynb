{
 "cells": [
  {
   "cell_type": "markdown",
   "metadata": {},
   "source": [
    "<p></p><font size=\"7\" face=\"courier\" color=\"magenta\">cx_assembler</font>"
   ]
  },
  {
   "cell_type": "markdown",
   "metadata": {},
   "source": [
    "This `.ipynb` file creates the class <font color=magenta>CxAssembler</font> that turns indra statements into a `.cx` file. Eventually this code is meant to replace indra's [cx_assmbler.py](\n",
    "https://github.com/sorgerlab/indra/blob/master/indra/assemblers/cx_assembler.py) file. Use the jupyter's *\"export\"* command to turn this notebook into a `.py` file. The [cx_assembler-DOCUMENTATION](http://indra.akintunde.org/notebooks/source/cx_assembler-DOCUMENTATION.ipynb) file gives a more thorough explanation about what this notebook does."
   ]
  },
  {
   "cell_type": "markdown",
   "metadata": {},
   "source": [
    "### <font color=red>Issues and Future Work :</font>"
   ]
  },
  {
   "cell_type": "markdown",
   "metadata": {},
   "source": [
    "* <font color=orange>Have statementCreator file call indraView to make code more concise</font>\n",
    "* <font color=red>If there is no name id's in _get_agent_alias we simply print \"NA\"</font>\n",
    "* <font color=red>Too many of the nodes are of type \"other\" check out the function,</font><font color=blue>_get_agent_type</font>\n",
    "* <font color=red>Figure out how to deal with the following warnings:</font>\n",
    "<img src=\"../data/Images/bel_warnings.png\" width=700>\n"
   ]
  },
  {
   "cell_type": "markdown",
   "metadata": {
    "heading_collapsed": true
   },
   "source": [
    "# Setup Notebook"
   ]
  },
  {
   "cell_type": "markdown",
   "metadata": {
    "heading_collapsed": true,
    "hidden": true
   },
   "source": [
    "## Setup Notebook Display"
   ]
  },
  {
   "cell_type": "code",
   "execution_count": 1,
   "metadata": {
    "hidden": true
   },
   "outputs": [],
   "source": [
    "from IPython.core.display import HTML, display"
   ]
  },
  {
   "cell_type": "code",
   "execution_count": 3,
   "metadata": {
    "hidden": true
   },
   "outputs": [
    {
     "data": {
      "text/html": [
       "<style> *{margin:0; padding:0;} html, body,              .container{margin:0;!important padding:0;!important}              .container { width:100% !important;}</style>"
      ],
      "text/plain": [
       "<IPython.core.display.HTML object>"
      ]
     },
     "metadata": {},
     "output_type": "display_data"
    }
   ],
   "source": [
    "# to reverse this feature restart kernel with \"restart and clear output\"\n",
    "\"\"\"\n",
    "display(HTML(\"<style> *{margin:0; padding:0;} html, body, \\\n",
    "             .container{margin:0;!important padding:0;!important} \\\n",
    "             .container { width:100% !important;}</style>\"))\n",
    "\"\"\""
   ]
  },
  {
   "cell_type": "markdown",
   "metadata": {
    "heading_collapsed": true,
    "hidden": true
   },
   "source": [
    "## Load Stuff\n",
    "\n",
    "We import the exact packages that are used by default from [cx_assmbler.py](\n",
    "http://35.202.250.158/edit/indra/indra/assemblers/cx_assembler.py)"
   ]
  },
  {
   "cell_type": "markdown",
   "metadata": {
    "hidden": true
   },
   "source": [
    "We add the path to the indra folder so that the commands of the following form work :\n",
    "``` python\n",
    "from indra... \n",
    "```"
   ]
  },
  {
   "cell_type": "code",
   "execution_count": 4,
   "metadata": {
    "hidden": true
   },
   "outputs": [],
   "source": [
    "import sys\n",
    "sys.path.append(\"/root/Documents/indra\")"
   ]
  },
  {
   "cell_type": "markdown",
   "metadata": {
    "hidden": true
   },
   "source": [
    "Import pacakges. These are the packages that the default \n"
   ]
  },
  {
   "cell_type": "code",
   "execution_count": 5,
   "metadata": {
    "hidden": true
   },
   "outputs": [],
   "source": [
    "from __future__ import absolute_import, print_function, unicode_literals\n",
    "from builtins import dict, str\n",
    "import io\n",
    "import re\n",
    "import json\n",
    "import logging\n",
    "import itertools\n",
    "from collections import OrderedDict\n",
    "from indra.statements import *\n",
    "from indra.databases import context_client, ndex_client, get_identifiers_url\n",
    "\n",
    "# Python 2\n",
    "try:\n",
    "    basestring\n",
    "# Python 3\n",
    "except:\n",
    "    basestring = str\n",
    "\n",
    "logger = logging.getLogger('cx_assembler')"
   ]
  },
  {
   "cell_type": "markdown",
   "metadata": {
    "hidden": true
   },
   "source": [
    "ndex2 (development edition) is used to create CX file"
   ]
  },
  {
   "cell_type": "code",
   "execution_count": 58,
   "metadata": {
    "hidden": true
   },
   "outputs": [],
   "source": [
    "import ndex2"
   ]
  },
  {
   "cell_type": "markdown",
   "metadata": {
    "heading_collapsed": true
   },
   "source": [
    "# <font color=\"magenta\">CxAssembler</font> Class\n",
    "This initializes the <font color=\"magenta\">CxAssembler</font> class. Then in the later sections we add functions to this class"
   ]
  },
  {
   "cell_type": "markdown",
   "metadata": {
    "heading_collapsed": true,
    "hidden": true
   },
   "source": [
    "## Class Initialisation"
   ]
  },
  {
   "cell_type": "code",
   "execution_count": 72,
   "metadata": {
    "code_folding": [
     0
    ],
    "hidden": true
   },
   "outputs": [],
   "source": [
    "class CxAssembler(object):\n",
    "    \"\"\"This class assembles a CX network from a set of INDRA Statements.\n",
    "\n",
    "    The CX format is an aspect oriented data mode for networks.\n",
    "    The format is defined at http://www.home.ndexbio.org/data-model/.\n",
    "    The CX format is the standard for NDEx and is compatible with\n",
    "    CytoScape via the CyNDEx plugin.\n",
    "\n",
    "    Parameters\n",
    "    ----------\n",
    "    stmts : Optional[list[indra.statements.Statement]]\n",
    "        A list of INDRA Statements to be assembled.\n",
    "    network_name : Optional[str]\n",
    "        The name of the network to be assembled. Default: indra_assembled\n",
    "\n",
    "    Attributes\n",
    "    ----------\n",
    "    statements : list[indra.statements.Statement]\n",
    "        A list of INDRA Statements to be assembled.\n",
    "    # network_name : str  <-- I moved this to the make_model function for consitency\n",
    "        The name of the network to be assembled.\n",
    "    cx : dict\n",
    "        The structure of the CX network that is assembled.\n",
    "    \"\"\"\n",
    "   \n",
    "    def __init__( self, stmts ):\n",
    "                \n",
    "        # We create the CX file using the NDEX2 niceCX package\n",
    "        self.myCX  = ndex2.NiceCXNetwork()\n",
    "        self.myCX.set_namespaces([{ \"pubmed\": \"http://identifiers.org/pubmed/\",\n",
    "           \"cas\": \"http://identifiers.org/cas/\", \"chebi\": \"http://identifiers.org/chebi/CHEBI:\",\n",
    "           \"hprd\": \"http://identifiers.org/hprd/\", \"uniprot knowledgebase\": \"http://identifiers.org/uniprot/\",\n",
    "           \"KEGG Compound\": \"http://identifiers.org/kegg.compound/\",\"HGNC\": \"https://www.ebi.ac.uk/miriam/main/datatypes/MIR:00000080\"  }])\n",
    "        \n",
    "     \n",
    "        # We save the save the statements setup some other helper variables\n",
    "        self.statements = stmts\n",
    "        self._existing_edges = {}\n",
    "        "
   ]
  },
  {
   "cell_type": "code",
   "execution_count": 60,
   "metadata": {
    "hidden": true
   },
   "outputs": [
    {
     "name": "stdout",
     "output_type": "stream",
     "text": [
      "Imported: CxAssembler\n"
     ]
    }
   ],
   "source": [
    "print(\"Imported: CxAssembler\")"
   ]
  },
  {
   "cell_type": "markdown",
   "metadata": {},
   "source": [
    "# <font color=\"blue\">_add</font>  Functions\n",
    "\n",
    "As the name implies, all functions that start with <font color=\"blue\">_add</font> are used to add things to already prexisting objects. The <font color=gray>Add Statements</font> subsection consists of the functions that append additional statemens to the dataset. The <font color=red>Add CX Data</font> functions are used to turn the information from indra statements into a CX file. \n",
    "\n",
    "\n",
    "\n",
    "*<font color=gray>Future Work: Creating sub-objects within the <font color=magenta>CxAssembler</font> class  and divvying up the functions into the sub-objects would make this code more clear*\n",
    "\n"
   ]
  },
  {
   "cell_type": "markdown",
   "metadata": {
    "heading_collapsed": true
   },
   "source": [
    "## <font color=\"gray\"> Dredge Statements </font> "
   ]
  },
  {
   "cell_type": "markdown",
   "metadata": {
    "heading_collapsed": true,
    "hidden": true
   },
   "source": [
    "### _add_modification "
   ]
  },
  {
   "cell_type": "code",
   "execution_count": 8,
   "metadata": {
    "hidden": true
   },
   "outputs": [],
   "source": [
    "def _add_modification(self, stmt):\n",
    "    if stmt.enz is None:\n",
    "        return\n",
    "    enz_id = self._add_node(stmt.enz)\n",
    "    sub_id = self._add_node(stmt.sub)\n",
    "    stmt_type = stmt.__class__.__name__\n",
    "    self._add_edge(enz_id, sub_id, stmt_type, stmt)"
   ]
  },
  {
   "cell_type": "code",
   "execution_count": 9,
   "metadata": {
    "hidden": true
   },
   "outputs": [],
   "source": [
    "CxAssembler._add_modification = _add_modification"
   ]
  },
  {
   "cell_type": "markdown",
   "metadata": {
    "heading_collapsed": true,
    "hidden": true
   },
   "source": [
    "### _add_self_modification"
   ]
  },
  {
   "cell_type": "code",
   "execution_count": 10,
   "metadata": {
    "hidden": true
   },
   "outputs": [],
   "source": [
    "def _add_self_modification(self, stmt):\n",
    "    enz_id = self._add_node(stmt.enz)\n",
    "    stmt_type = stmt.__class__.__name__\n",
    "    self._add_edge(enz_id, enz_id, stmt_type, stmt)"
   ]
  },
  {
   "cell_type": "code",
   "execution_count": 11,
   "metadata": {
    "hidden": true
   },
   "outputs": [],
   "source": [
    "CxAssembler._add_self_modification = _add_self_modification"
   ]
  },
  {
   "cell_type": "markdown",
   "metadata": {
    "heading_collapsed": true,
    "hidden": true
   },
   "source": [
    "### _add_complex"
   ]
  },
  {
   "cell_type": "code",
   "execution_count": 12,
   "metadata": {
    "hidden": true
   },
   "outputs": [],
   "source": [
    "def _add_complex(self, stmt):\n",
    "    for m1, m2 in itertools.combinations(stmt.members, 2):\n",
    "        m1_id = self._add_node(m1)\n",
    "        m2_id = self._add_node(m2)\n",
    "        self._add_edge(m1_id, m2_id, 'Complex', stmt)"
   ]
  },
  {
   "cell_type": "code",
   "execution_count": 13,
   "metadata": {
    "hidden": true
   },
   "outputs": [],
   "source": [
    "CxAssembler._add_complex = _add_complex"
   ]
  },
  {
   "cell_type": "markdown",
   "metadata": {
    "heading_collapsed": true,
    "hidden": true
   },
   "source": [
    "### _add_regulation"
   ]
  },
  {
   "cell_type": "code",
   "execution_count": 14,
   "metadata": {
    "hidden": true
   },
   "outputs": [],
   "source": [
    "def _add_regulation(self, stmt):\n",
    "    if stmt.subj is None:\n",
    "        return\n",
    "    subj_id = self._add_node(stmt.subj)\n",
    "    obj_id = self._add_node(stmt.obj)\n",
    "    stmt_type = stmt.__class__.__name__\n",
    "    self._add_edge(subj_id, obj_id, stmt_type, stmt)"
   ]
  },
  {
   "cell_type": "code",
   "execution_count": 15,
   "metadata": {
    "hidden": true
   },
   "outputs": [],
   "source": [
    "CxAssembler._add_regulation = _add_regulation"
   ]
  },
  {
   "cell_type": "markdown",
   "metadata": {
    "heading_collapsed": true,
    "hidden": true
   },
   "source": [
    "### _add_gef"
   ]
  },
  {
   "cell_type": "code",
   "execution_count": 16,
   "metadata": {
    "hidden": true
   },
   "outputs": [],
   "source": [
    "def _add_gef(self, stmt):\n",
    "    gef_id = self._add_node(stmt.gef)\n",
    "    ras_id = self._add_node(stmt.ras)\n",
    "    stmt_type = stmt.__class__.__name__\n",
    "    self._add_edge(gef_id, ras_id, stmt_type, stmt)"
   ]
  },
  {
   "cell_type": "code",
   "execution_count": 17,
   "metadata": {
    "hidden": true
   },
   "outputs": [],
   "source": [
    "CxAssembler._add_gef = _add_gef"
   ]
  },
  {
   "cell_type": "markdown",
   "metadata": {
    "heading_collapsed": true,
    "hidden": true
   },
   "source": [
    "### _add_gap"
   ]
  },
  {
   "cell_type": "code",
   "execution_count": 18,
   "metadata": {
    "hidden": true
   },
   "outputs": [],
   "source": [
    "def _add_gap(self, stmt):\n",
    "    gap_id = self._add_node(stmt.gap)\n",
    "    ras_id = self._add_node(stmt.ras)\n",
    "    stmt_type = stmt.__class__.__name__\n",
    "    self._add_edge(gap_id, ras_id, stmt_type, stmt)"
   ]
  },
  {
   "cell_type": "code",
   "execution_count": 19,
   "metadata": {
    "hidden": true
   },
   "outputs": [],
   "source": [
    "CxAssembler._add_gap = _add_gap"
   ]
  },
  {
   "cell_type": "markdown",
   "metadata": {},
   "source": [
    "## <font color=\"red\"> CX Aspects </font>"
   ]
  },
  {
   "cell_type": "markdown",
   "metadata": {},
   "source": [
    "### _add_node"
   ]
  },
  {
   "cell_type": "markdown",
   "metadata": {},
   "source": [
    "This functions adds a node to the <font color=magenta>nodes</font> and also adds the node's extra parameters to <font color=magenta>node attributes</font>"
   ]
  },
  {
   "cell_type": "code",
   "execution_count": 78,
   "metadata": {},
   "outputs": [],
   "source": [
    "def _add_node(self, agent):\n",
    "    \n",
    "    # If node already there, just return the node name\n",
    "    node = self.myCX.get_node( agent.name )\n",
    "    if type(node) != type(None) :\n",
    "        return agent.name\n",
    "    \n",
    "    # Add node\n",
    "    alias = _get_agent_alias( agent )\n",
    "    main_id = alias.pop()\n",
    "    self.myCX.create_node( node_name= agent.name , node_represents= main_id )\n",
    "    \n",
    "    # Add node attributes\n",
    "    self.myCX.add_node_attribute( property_of= agent.name, name='type', values= _get_agent_type(agent)  ) #<-- adds type\n",
    "    if len(alias) != 0 :\n",
    "        self.myCX.add_node_attribute( property_of= agent.name, name='alias', values= str(alias)  )  #<-- adds alias\n",
    "    return agent.name"
   ]
  },
  {
   "cell_type": "code",
   "execution_count": 62,
   "metadata": {},
   "outputs": [],
   "source": [
    "CxAssembler._add_node = _add_node"
   ]
  },
  {
   "cell_type": "markdown",
   "metadata": {
    "heading_collapsed": true
   },
   "source": [
    "### _add_edge"
   ]
  },
  {
   "cell_type": "code",
   "execution_count": 66,
   "metadata": {
    "hidden": true
   },
   "outputs": [],
   "source": [
    "def _add_edge(self, source, target, interaction, stmt):\n",
    "    \n",
    "    # if edge is already in list of existing edges, just return edge id\n",
    "    edge_key = (source, target, interaction)\n",
    "    try:\n",
    "        edge_id = self._existing_edges[edge_key]\n",
    "        return edge_id\n",
    "    except KeyError:\n",
    "        pass\n",
    "    \n",
    "    # add edge\n",
    "    edge_id = self.myCX.create_edge( edge_source=source, edge_target=target, edge_interaction=interaction )\n",
    "    self._existing_edges[edge_key] = edge_id  #<-- add edge id to list of existing edges\n",
    "    self._add_edge_metadata(edge_id, stmt)    #<-- add edge attributes\n",
    "    return edge_id\n"
   ]
  },
  {
   "cell_type": "code",
   "execution_count": 67,
   "metadata": {
    "hidden": true
   },
   "outputs": [],
   "source": [
    "CxAssembler._add_edge = _add_edge"
   ]
  },
  {
   "cell_type": "markdown",
   "metadata": {
    "heading_collapsed": true
   },
   "source": [
    "### _add_edge_metadata"
   ]
  },
  {
   "cell_type": "code",
   "execution_count": 68,
   "metadata": {
    "hidden": true
   },
   "outputs": [],
   "source": [
    "def _add_edge_metadata(self, edge_id, stmt):\n",
    "    \n",
    "    # Add the type of statement as the edge type  <-- inspired \"mechanism\" in old code\n",
    "    self.myCX.add_edge_attribute( property_of= edge_id, name='mechanism', values= stmt.__class__.__name__ )\n",
    "    \n",
    "    # Add statement polarity\n",
    "    self.myCX.add_edge_attribute( property_of= edge_id, name='polarity', values= _get_stmt_type(stmt)[1] )\n",
    "    \n",
    "    # Add the citations for the edge\n",
    "    citations = _get_stmt_citations(stmt)\n",
    "    if citations != \"[]\" :\n",
    "        self.myCX.add_edge_attribute( property_of= edge_id, name='citations', values= citations )\n",
    "        "
   ]
  },
  {
   "cell_type": "code",
   "execution_count": 69,
   "metadata": {
    "hidden": true
   },
   "outputs": [],
   "source": [
    "CxAssembler._add_edge_metadata = _add_edge_metadata"
   ]
  },
  {
   "cell_type": "markdown",
   "metadata": {},
   "source": [
    "# <font color=\"blue\">Main</font> Functions"
   ]
  },
  {
   "cell_type": "markdown",
   "metadata": {},
   "source": [
    "##  <font color=\"red\">save_model</font>"
   ]
  },
  {
   "cell_type": "markdown",
   "metadata": {},
   "source": [
    "Save the assembled CX network in a file."
   ]
  },
  {
   "cell_type": "code",
   "execution_count": 34,
   "metadata": {},
   "outputs": [],
   "source": [
    "def save_model(self, file_name='model.cx'):\n",
    "    \n",
    "    with open(file_name, 'wt') as fh:\n",
    "        fh.write( self.cx_json )\n",
    "        "
   ]
  },
  {
   "cell_type": "code",
   "execution_count": 35,
   "metadata": {},
   "outputs": [],
   "source": [
    "CxAssembler.save_model = save_model"
   ]
  },
  {
   "cell_type": "markdown",
   "metadata": {},
   "source": [
    "## <font color=\"red\">make_model</font>\n"
   ]
  },
  {
   "cell_type": "markdown",
   "metadata": {},
   "source": [
    "<font color=\"red\">make_model</font> adds the indra statements according which of the <font color=\"blue\">_add</font> commands were specified. It is also where the user decides the <font color=green>network attribute</font> properties. <font color=\"red\">make_model</font> returns the assembled CX network as a json string.\n"
   ]
  },
  {
   "cell_type": "code",
   "execution_count": 75,
   "metadata": {},
   "outputs": [],
   "source": [
    "def make_model(self, name='indra_assembled', description='An Indra Auto-Curated network', version='1.0'):\n",
    "    \n",
    "    \"\"\"Assemble the CX network from the collected INDRA Statements.\n",
    "\n",
    "    This method assembles a CX network from the set of INDRA Statements.\n",
    "    The assembled network is set as the assembler's cx argument.\n",
    "\n",
    "    Parameters\n",
    "    ----------\n",
    "    add_indra_json : Optional[bool]\n",
    "        If True, the INDRA Statement JSON annotation is added to each\n",
    "        edge in the network. Default: True\n",
    "\n",
    "    Returns\n",
    "    -------\n",
    "    cx_str : str\n",
    "        The json serialized CX model.\n",
    "    \"\"\"\n",
    "    # Add extra indra statements depending on settings\n",
    "    for stmt in self.statements:\n",
    "        if isinstance(stmt, Modification):\n",
    "            self._add_modification(stmt)\n",
    "        if isinstance(stmt, SelfModification):\n",
    "            self._add_self_modification(stmt)\n",
    "        elif isinstance(stmt, RegulateActivity) or \\\n",
    "            isinstance(stmt, RegulateAmount):\n",
    "            self._add_regulation(stmt)\n",
    "        elif isinstance(stmt, Complex):\n",
    "            self._add_complex(stmt)\n",
    "        elif isinstance(stmt, Gef):\n",
    "            self._add_gef(stmt)\n",
    "        elif isinstance(stmt, Gap):\n",
    "            self._add_gap(stmt)\n",
    "            \n",
    "    # Add network Attributes\n",
    "    self.myCX.set_name( name )\n",
    "    self.myCX.add_network_attribute(name='description', values= description, type=ATTRIBUTE_DATA_TYPE.STRING)\n",
    "    self.myCX.add_network_attribute(name='version', values= version, type=ATTRIBUTE_DATA_TYPE.STRING)\n",
    "    \n",
    "    self.cx_json = json.dumps( self.myCX.to_cx() ,indent=2)\n",
    "    return self.cx_json"
   ]
  },
  {
   "cell_type": "code",
   "execution_count": 71,
   "metadata": {},
   "outputs": [],
   "source": [
    "CxAssembler.make_model = make_model"
   ]
  },
  {
   "cell_type": "markdown",
   "metadata": {},
   "source": [
    "## <font color=\"red\">upload_model</font>"
   ]
  },
  {
   "cell_type": "markdown",
   "metadata": {},
   "source": [
    "Creates a new NDEx network of the assembled CX model.\n",
    "\n",
    "    To upload the assembled CX model to NDEx, you need to have\n",
    "    a registered account on NDEx (http://ndexbio.org/) and have\n",
    "    the `ndex` python package installed. The uploaded network\n",
    "    is private by default."
   ]
  },
  {
   "cell_type": "code",
   "execution_count": 79,
   "metadata": {},
   "outputs": [],
   "source": [
    "def upload_model(self, account, password,  url=\"http://www.ndexbio.org\"):\n",
    "    \n",
    "    try:\n",
    "        my_ndex= ndex2.client.Ndex2( url, account, password)\n",
    "        my_ndex.update_status()\n",
    "        print(\"Success.  Please continue.\")\n",
    "    except Exception as inst:\n",
    "        print(\"Could not access account %s with password %s\" % (account, password))\n",
    "        print(inst.args)\n",
    "    upload_message  = self.myCX.upload_to( url, account, password)\n",
    "    print(upload_message)"
   ]
  },
  {
   "cell_type": "code",
   "execution_count": 41,
   "metadata": {},
   "outputs": [],
   "source": [
    "CxAssembler.upload_model = upload_model"
   ]
  },
  {
   "cell_type": "markdown",
   "metadata": {},
   "source": [
    "# <font color=\"blue\">_get</font> functions "
   ]
  },
  {
   "cell_type": "markdown",
   "metadata": {
    "heading_collapsed": true
   },
   "source": [
    "## <font color=magenta>Node Attributes</font>"
   ]
  },
  {
   "cell_type": "markdown",
   "metadata": {
    "heading_collapsed": true,
    "hidden": true
   },
   "source": [
    "### _get_agent_type"
   ]
  },
  {
   "cell_type": "code",
   "execution_count": 48,
   "metadata": {
    "code_folding": [],
    "hidden": true
   },
   "outputs": [],
   "source": [
    "def _get_agent_type(agent):\n",
    "    hgnc_id = agent.db_refs.get('HGNC')\n",
    "    uniprot_id = agent.db_refs.get('UP')\n",
    "    pfam_id = agent.db_refs.get('PF')\n",
    "    fa_id = agent.db_refs.get('FA')\n",
    "    chebi_id = agent.db_refs.get('CHEBI')\n",
    "    pubchem_id = agent.db_refs.get('PUBCHEM')\n",
    "    be_id = agent.db_refs.get('FPLX')\n",
    "    go_id = agent.db_refs.get('GO')\n",
    "    if hgnc_id or uniprot_id:\n",
    "        agent_type = 'protein'\n",
    "    elif pfam_id or fa_id or be_id:\n",
    "        agent_type = 'proteinfamily'\n",
    "    elif chebi_id or pubchem_id:\n",
    "        agent_type = 'chemical'\n",
    "    elif go_id:\n",
    "        agent_type = 'biological process'\n",
    "    else:\n",
    "        agent_type = 'other'\n",
    "    return agent_type"
   ]
  },
  {
   "cell_type": "code",
   "execution_count": 49,
   "metadata": {
    "hidden": true
   },
   "outputs": [],
   "source": [
    "CxAssembler._get_agent_type = _get_agent_type"
   ]
  },
  {
   "cell_type": "markdown",
   "metadata": {
    "heading_collapsed": true,
    "hidden": true
   },
   "source": [
    "### _get_agent_alias"
   ]
  },
  {
   "cell_type": "markdown",
   "metadata": {
    "hidden": true
   },
   "source": [
    "<font color=red>Warning: in current code if there is no name id's we simply print \"NA\"</font>"
   ]
  },
  {
   "cell_type": "code",
   "execution_count": 50,
   "metadata": {
    "hidden": true
   },
   "outputs": [],
   "source": [
    "# helper function\n",
    "\n",
    "# This code add's the alias'es for a node (if they exist)\n",
    "def _get_agent_alias(agent):\n",
    "    alias = []\n",
    "    for db_name, db_ids in agent.db_refs.items():\n",
    "        if not db_ids:\n",
    "            logger.warning('Missing db_id for %s' % agent)\n",
    "            continue\n",
    "        elif isinstance(db_ids, int):\n",
    "            db_id = str(db_ids)\n",
    "        elif isinstance(db_ids, basestring):\n",
    "            db_id = db_ids\n",
    "        else:\n",
    "            db_id = db_ids[0]\n",
    "        url = get_identifiers_url(db_name, db_id)\n",
    "        if not url:\n",
    "            continue\n",
    "        db_name_map = {\n",
    "            'UP': 'uniprot knowledgebase',\n",
    "            'PUBCHEM': 'PubChem',\n",
    "            'IP': 'InterPro', 'NXPFA': 'NextProtFamily',\n",
    "            'PF': 'Pfam', 'CHEBI': 'ChEBI'}\n",
    "            # put in HGNC\n",
    "        name = db_name_map.get(db_name)\n",
    "        if not name:\n",
    "            name = db_name\n",
    "        alias.append( name+\":\"+db_id ) \n",
    "    \n",
    "    if len(alias)==0:\n",
    "        return [\"NA\"]  #raise ValueError('indra statement contains no ID!')\n",
    "    return alias"
   ]
  },
  {
   "cell_type": "code",
   "execution_count": 51,
   "metadata": {
    "hidden": true
   },
   "outputs": [],
   "source": [
    "CxAssembler._get_agent_alias = _get_agent_alias"
   ]
  },
  {
   "cell_type": "markdown",
   "metadata": {
    "heading_collapsed": true
   },
   "source": [
    "## <font color=magenta>Edge Attributes</font>"
   ]
  },
  {
   "cell_type": "markdown",
   "metadata": {
    "heading_collapsed": true,
    "hidden": true
   },
   "source": [
    "### _get_stmt_type\n",
    "\n",
    "This could be a useful spot for  creating the specified `type` attributes in the [CX Documenation](https://docs.google.com/document/d/13ZKcFBH-E5oiJP2D5zrdFqxLlS9yGtGiiX5Lj92g4EU/edit#heading=h.1t5lf4irpgyj)"
   ]
  },
  {
   "cell_type": "code",
   "execution_count": 46,
   "metadata": {
    "hidden": true
   },
   "outputs": [],
   "source": [
    "def _get_stmt_type(stmt):\n",
    "    if isinstance(stmt, AddModification):\n",
    "        edge_type = 'Modification'\n",
    "        edge_polarity = 1\n",
    "    elif isinstance(stmt, RemoveModification):\n",
    "        edge_type = 'Modification'\n",
    "        edge_polarity = -1\n",
    "    elif isinstance(stmt, SelfModification):\n",
    "        edge_type = 'SelfModification'\n",
    "        edge_polarity = 1\n",
    "    elif isinstance(stmt, Complex):\n",
    "        edge_type = 'Complex'\n",
    "        edge_polarity = 0\n",
    "    elif isinstance(stmt, Activation):\n",
    "        edge_type = 'Activation'\n",
    "        edge_polarity = 1\n",
    "    elif isinstance(stmt, Inhibition):\n",
    "        edge_type = 'Inhibition'\n",
    "        edge_polarity = -1\n",
    "    elif isinstance(stmt, DecreaseAmount):\n",
    "        edge_type = 'DecreaseAmount'\n",
    "        edge_polarity = -1\n",
    "    elif isinstance(stmt, IncreaseAmount):\n",
    "        edge_type = 'IncreaseAmount'\n",
    "        edge_polarity = 1\n",
    "    elif isinstance(stmt, Gef):\n",
    "        edge_type = 'Gef'\n",
    "        edge_polarity = 1\n",
    "    elif isinstance(stmt, Gap):\n",
    "        edge_type = 'Gap'\n",
    "        edge_polarity = -1\n",
    "    else:\n",
    "        edge_type = stmt.__class__.__str__()\n",
    "        edge_polarity = 'none'\n",
    "    return edge_type, edge_polarity\n"
   ]
  },
  {
   "cell_type": "code",
   "execution_count": 47,
   "metadata": {
    "hidden": true
   },
   "outputs": [],
   "source": [
    "CxAssembler._get_stmt_type = _get_stmt_type"
   ]
  },
  {
   "cell_type": "markdown",
   "metadata": {
    "heading_collapsed": true,
    "hidden": true
   },
   "source": [
    "### _get_agent_citations"
   ]
  },
  {
   "cell_type": "code",
   "execution_count": 52,
   "metadata": {
    "hidden": true
   },
   "outputs": [],
   "source": [
    "\n",
    "def _get_stmt_citations(stmt):\n",
    "    pmids = [e.pmid for e in stmt.evidence if e.pmid]\n",
    "    pmids_added = []\n",
    "    for pmid in pmids:\n",
    "        pmid_txt = None\n",
    "        if re.match('[0-9]+', pmid):\n",
    "            pmid_txt = 'pubmed:' + pmid\n",
    "            if pmid_txt not in pmids_added:\n",
    "                pmids_added.append(pmid_txt)\n",
    "    return str(pmids_added)\n"
   ]
  },
  {
   "cell_type": "code",
   "execution_count": 53,
   "metadata": {
    "hidden": true
   },
   "outputs": [],
   "source": [
    "CxAssembler._get_stmt_citations = _get_stmt_citations"
   ]
  },
  {
   "cell_type": "code",
   "execution_count": null,
   "metadata": {
    "hidden": true
   },
   "outputs": [],
   "source": []
  },
  {
   "cell_type": "code",
   "execution_count": null,
   "metadata": {
    "hidden": true
   },
   "outputs": [],
   "source": []
  },
  {
   "cell_type": "code",
   "execution_count": null,
   "metadata": {
    "hidden": true
   },
   "outputs": [],
   "source": []
  },
  {
   "cell_type": "code",
   "execution_count": null,
   "metadata": {
    "hidden": true
   },
   "outputs": [],
   "source": []
  },
  {
   "cell_type": "code",
   "execution_count": null,
   "metadata": {
    "hidden": true
   },
   "outputs": [],
   "source": []
  },
  {
   "cell_type": "code",
   "execution_count": null,
   "metadata": {
    "hidden": true
   },
   "outputs": [],
   "source": []
  }
 ],
 "metadata": {
  "hide_input": false,
  "kernelspec": {
   "display_name": "Python 3",
   "language": "python",
   "name": "python3"
  },
  "language_info": {
   "codemirror_mode": {
    "name": "ipython",
    "version": 3
   },
   "file_extension": ".py",
   "mimetype": "text/x-python",
   "name": "python",
   "nbconvert_exporter": "python",
   "pygments_lexer": "ipython3",
   "version": "3.5.5"
  },
  "toc": {
   "base_numbering": 1,
   "nav_menu": {
    "height": "580px",
    "width": "531px"
   },
   "number_sections": true,
   "sideBar": true,
   "skip_h1_title": false,
   "title_cell": "Table of Contents",
   "title_sidebar": "Contents",
   "toc_cell": false,
   "toc_position": {
    "height": "calc(100% - 180px)",
    "left": "10px",
    "top": "150px",
    "width": "237px"
   },
   "toc_section_display": true,
   "toc_window_display": false
  },
  "varInspector": {
   "cols": {
    "lenName": 16,
    "lenType": 16,
    "lenVar": 40
   },
   "kernels_config": {
    "python": {
     "delete_cmd_postfix": "",
     "delete_cmd_prefix": "del ",
     "library": "var_list.py",
     "varRefreshCmd": "print(var_dic_list())"
    },
    "r": {
     "delete_cmd_postfix": ") ",
     "delete_cmd_prefix": "rm(",
     "library": "var_list.r",
     "varRefreshCmd": "cat(var_dic_list()) "
    }
   },
   "types_to_exclude": [
    "module",
    "function",
    "builtin_function_or_method",
    "instance",
    "_Feature"
   ],
   "window_display": false
  }
 },
 "nbformat": 4,
 "nbformat_minor": 2
}
