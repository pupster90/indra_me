{
 "cells": [
  {
   "cell_type": "markdown",
   "metadata": {},
   "source": [
    "<p></p><font size=\"7\" face=\"courier\" color=\"magenta\">cx_assembler</font>"
   ]
  },
  {
   "cell_type": "markdown",
   "metadata": {},
   "source": [
    "This `.ipynb` file creates the class <font color=magenta>CxAssembler</font> that turns indra statements into a `.cx` file. Eventually this code is meant to replace indra's [cx_assmbler.py](\n",
    "https://github.com/sorgerlab/indra/blob/master/indra/assemblers/cx_assembler.py) file. Use the jupyter's *\"export\"* command to turn this notebook into a `.py` file. The [cx_assembler-DOCUMENTATION](http://indra.akintunde.org/notebooks/source/cx_assembler-DOCUMENTATION.ipynb) file gives a more thorough explanation about what this notebook does."
   ]
  },
  {
   "cell_type": "markdown",
   "metadata": {
    "heading_collapsed": true
   },
   "source": [
    "# Setup Notebook"
   ]
  },
  {
   "cell_type": "markdown",
   "metadata": {
    "hidden": true
   },
   "source": [
    "## Setup Notebook Display"
   ]
  },
  {
   "cell_type": "code",
   "execution_count": 8,
   "metadata": {
    "hidden": true
   },
   "outputs": [],
   "source": [
    "from IPython.core.display import HTML, display"
   ]
  },
  {
   "cell_type": "code",
   "execution_count": 138,
   "metadata": {
    "hidden": true
   },
   "outputs": [
    {
     "data": {
      "text/plain": [
       "'HTML(\\n<style>\\n\\ndiv.cell { /* Tunes the space between cells */\\nmargin-top:1em;\\nmargin-bottom:1em;\\n}\\n\\ndiv.text_cell_render h1 { /* Main titles bigger, centered */\\ntext-align:center;\\n}\\n\\ndiv.text_cell_render h2 { /*  Parts names nearer from text */\\nmargin-bottom: -0.2em;\\nmargin-bottom: -0.2em;\\n}\\n\\n\\ndiv.text_cell_render { /* Customize text cells */\\nfont-size:1.1em;\\nline-height:1.1em;\\npadding-left:2em;\\npadding-right:2em;\\ncolor: rgb(127, 127, 127);\\n}\\n</style>\\n)'"
      ]
     },
     "execution_count": 138,
     "metadata": {},
     "output_type": "execute_result"
    }
   ],
   "source": [
    "\"\"\"HTML(\n",
    "<style>\n",
    "\n",
    "div.cell { /* Tunes the space between cells */\n",
    "margin-top:1em;\n",
    "margin-bottom:1em;\n",
    "}\n",
    "\n",
    "div.text_cell_render h1 { /* Main titles bigger, centered */\n",
    "text-align:center;\n",
    "}\n",
    "\n",
    "div.text_cell_render h2 { /*  Parts names nearer from text */\n",
    "margin-bottom: -0.2em;\n",
    "margin-bottom: -0.2em;\n",
    "}\n",
    "\n",
    "\n",
    "div.text_cell_render { /* Customize text cells */\n",
    "font-size:1.1em;\n",
    "line-height:1.1em;\n",
    "padding-left:2em;\n",
    "padding-right:2em;\n",
    "color: rgb(127, 127, 127);\n",
    "}\n",
    "</style>\n",
    ")\"\"\""
   ]
  },
  {
   "cell_type": "code",
   "execution_count": 140,
   "metadata": {
    "hidden": true
   },
   "outputs": [
    {
     "data": {
      "text/plain": [
       "'\\ndisplay(HTML(\"<style> *{margin:0; padding:0;} html, body,              .container{margin:0;!important padding:0;!important}              .container { width:100% !important;}</style>\"))\\n'"
      ]
     },
     "execution_count": 140,
     "metadata": {},
     "output_type": "execute_result"
    }
   ],
   "source": [
    "# to reverse this feature restart kernel with \"restart and clear output\"\n",
    "\"\"\"\n",
    "display(HTML(\"<style> *{margin:0; padding:0;} html, body, \\\n",
    "             .container{margin:0;!important padding:0;!important} \\\n",
    "             .container { width:100% !important;}</style>\"))\n",
    "\"\"\""
   ]
  },
  {
   "cell_type": "markdown",
   "metadata": {
    "hidden": true
   },
   "source": [
    "## Load Stuff\n",
    "\n",
    "We import the exact packages that are used by default from [cx_assmbler.py](\n",
    "http://35.202.250.158/edit/indra/indra/assemblers/cx_assembler.py)"
   ]
  },
  {
   "cell_type": "markdown",
   "metadata": {
    "hidden": true
   },
   "source": [
    "We add the path to the indra folder so that the commands of the following form work :\n",
    "``` python\n",
    "from indra... \n",
    "```"
   ]
  },
  {
   "cell_type": "code",
   "execution_count": 2,
   "metadata": {
    "hidden": true
   },
   "outputs": [],
   "source": [
    "import sys\n",
    "sys.path.append(\"/root/Documents/indra\")"
   ]
  },
  {
   "cell_type": "markdown",
   "metadata": {
    "hidden": true
   },
   "source": [
    "Import pacakges. These are the packages that the default \n"
   ]
  },
  {
   "cell_type": "code",
   "execution_count": 4,
   "metadata": {
    "hidden": true
   },
   "outputs": [],
   "source": [
    "from __future__ import absolute_import, print_function, unicode_literals\n",
    "from builtins import dict, str\n",
    "import io\n",
    "import re\n",
    "import json\n",
    "import logging\n",
    "import itertools\n",
    "from collections import OrderedDict\n",
    "from indra.statements import *\n",
    "from indra.databases import context_client, ndex_client, get_identifiers_url\n",
    "\n",
    "# Python 2\n",
    "try:\n",
    "    basestring\n",
    "# Python 3\n",
    "except:\n",
    "    basestring = str\n",
    "\n",
    "logger = logging.getLogger('cx_assembler')"
   ]
  },
  {
   "cell_type": "markdown",
   "metadata": {},
   "source": [
    "# <font color=\"magenta\">CxAssembler</font> Class\n",
    "This initializes the <font color=\"magenta\">CxAssembler</font> class. Then in the later sections we add functions to this class"
   ]
  },
  {
   "cell_type": "markdown",
   "metadata": {},
   "source": [
    "## Class Initialisation"
   ]
  },
  {
   "cell_type": "code",
   "execution_count": 60,
   "metadata": {
    "code_folding": [
     0
    ]
   },
   "outputs": [],
   "source": [
    "class CxAssembler(object):\n",
    "    \"\"\"This class assembles a CX network from a set of INDRA Statements.\n",
    "\n",
    "    The CX format is an aspect oriented data mode for networks.\n",
    "    The format is defined at http://www.home.ndexbio.org/data-model/.\n",
    "    The CX format is the standard for NDEx and is compatible with\n",
    "    CytoScape via the CyNDEx plugin.\n",
    "\n",
    "    Parameters\n",
    "    ----------\n",
    "    stmts : Optional[list[indra.statements.Statement]]\n",
    "        A list of INDRA Statements to be assembled.\n",
    "    network_name : Optional[str]\n",
    "        The name of the network to be assembled. Default: indra_assembled\n",
    "\n",
    "    Attributes\n",
    "    ----------\n",
    "    statements : list[indra.statements.Statement]\n",
    "        A list of INDRA Statements to be assembled.\n",
    "    # network_name : str  <-- I moved this to the make_model function for consitency\n",
    "        The name of the network to be assembled.\n",
    "    cx : dict\n",
    "        The structure of the CX network that is assembled.\n",
    "    \"\"\"\n",
    "   \n",
    "    def __init__(self, stmts=None, network_name=None):\n",
    "        \n",
    "        def _add_context():\n",
    "            return {\"pubmed\": \"http://identifiers.org/pubmed/\",\n",
    "                    \"cas\": \"http://identifiers.org/cas/\",\n",
    "                    \"chebi\": \"http://identifiers.org/chebi/CHEBI:\",\n",
    "                    \"hprd\": \"http://identifiers.org/hprd/\",\n",
    "                    \"uniprot knowledgebase\": \"http://identifiers.org/uniprot/\",\n",
    "                    \"KEGG Compound\": \"http://identifiers.org/kegg.compound/\",\n",
    "                    \"HGNC\": \"https://www.ebi.ac.uk/miriam/main/datatypes/MIR:00000080\" }          \n",
    "        \n",
    "        if stmts is None:\n",
    "            self.statements = []\n",
    "        else:\n",
    "            self.statements = stmts\n",
    "          \n",
    "        self.cx = {'@Context':[ _add_context() ],\n",
    "                   'nodes': [], 'edges': [],\n",
    "                   'nodeAttributes': [], 'edgeAttributes': [], \n",
    "                   'networkAttributes': [] }\n",
    "        self._existing_nodes = {}\n",
    "        self._existing_edges = {}\n",
    "        self._id_counter = 0\n"
   ]
  },
  {
   "cell_type": "code",
   "execution_count": 102,
   "metadata": {},
   "outputs": [
    {
     "name": "stdout",
     "output_type": "stream",
     "text": [
      "Imported: CxAssembler\n"
     ]
    }
   ],
   "source": [
    "print(\"Imported: CxAssembler\")"
   ]
  },
  {
   "cell_type": "markdown",
   "metadata": {
    "heading_collapsed": true
   },
   "source": [
    "# <font color=\"blue\">_add</font>  Functions\n",
    "\n",
    "As the name implies, all functions that start with <font color=\"blue\">_add</font> are used to add things to already prexisting objects. The <font color=gray>Add Statements</font> subsection consists of the functions that append additional statemens to the dataset. The <font color=red>Add CX Data</font> functions are used to turn the information from indra statements into a CX file. \n",
    "\n",
    "\n",
    "\n",
    "*<font color=gray>Future Work: Creating sub-objects within the <font color=magenta>CxAssembler</font> class  and divvying up the functions into the sub-objects would make this code more clear*\n",
    "\n"
   ]
  },
  {
   "cell_type": "markdown",
   "metadata": {
    "heading_collapsed": true,
    "hidden": true
   },
   "source": [
    "## <font color=\"gray\"> Add Statements </font> "
   ]
  },
  {
   "cell_type": "markdown",
   "metadata": {
    "heading_collapsed": true,
    "hidden": true
   },
   "source": [
    "### _add_modification "
   ]
  },
  {
   "cell_type": "code",
   "execution_count": 61,
   "metadata": {
    "hidden": true
   },
   "outputs": [],
   "source": [
    "def _add_modification(self, stmt):\n",
    "    if stmt.enz is None:\n",
    "        return\n",
    "    enz_id = self._add_node(stmt.enz)\n",
    "    sub_id = self._add_node(stmt.sub)\n",
    "    stmt_type = stmt.__class__.__name__\n",
    "    self._add_edge(enz_id, sub_id, stmt_type, stmt)"
   ]
  },
  {
   "cell_type": "code",
   "execution_count": 62,
   "metadata": {
    "hidden": true
   },
   "outputs": [],
   "source": [
    "CxAssembler._add_modification = _add_modification"
   ]
  },
  {
   "cell_type": "markdown",
   "metadata": {
    "heading_collapsed": true,
    "hidden": true
   },
   "source": [
    "### _add_self_modification"
   ]
  },
  {
   "cell_type": "code",
   "execution_count": 63,
   "metadata": {
    "hidden": true
   },
   "outputs": [],
   "source": [
    "def _add_self_modification(self, stmt):\n",
    "    enz_id = self._add_node(stmt.enz)\n",
    "    stmt_type = stmt.__class__.__name__\n",
    "    self._add_edge(enz_id, enz_id, stmt_type, stmt)"
   ]
  },
  {
   "cell_type": "code",
   "execution_count": 64,
   "metadata": {
    "hidden": true
   },
   "outputs": [],
   "source": [
    "CxAssembler._add_self_modification = _add_self_modification"
   ]
  },
  {
   "cell_type": "markdown",
   "metadata": {
    "heading_collapsed": true,
    "hidden": true
   },
   "source": [
    "### _add_complex"
   ]
  },
  {
   "cell_type": "code",
   "execution_count": 65,
   "metadata": {
    "hidden": true
   },
   "outputs": [],
   "source": [
    "def _add_complex(self, stmt):\n",
    "    for m1, m2 in itertools.combinations(stmt.members, 2):\n",
    "        m1_id = self._add_node(m1)\n",
    "        m2_id = self._add_node(m2)\n",
    "        self._add_edge(m1_id, m2_id, 'Complex', stmt)"
   ]
  },
  {
   "cell_type": "code",
   "execution_count": 66,
   "metadata": {
    "hidden": true
   },
   "outputs": [],
   "source": [
    "CxAssembler._add_complex = _add_complex"
   ]
  },
  {
   "cell_type": "markdown",
   "metadata": {
    "heading_collapsed": true,
    "hidden": true
   },
   "source": [
    "### _add_regulation"
   ]
  },
  {
   "cell_type": "code",
   "execution_count": 67,
   "metadata": {
    "hidden": true
   },
   "outputs": [],
   "source": [
    "def _add_regulation(self, stmt):\n",
    "    if stmt.subj is None:\n",
    "        return\n",
    "    subj_id = self._add_node(stmt.subj)\n",
    "    obj_id = self._add_node(stmt.obj)\n",
    "    stmt_type = stmt.__class__.__name__\n",
    "    self._add_edge(subj_id, obj_id, stmt_type, stmt)"
   ]
  },
  {
   "cell_type": "code",
   "execution_count": 68,
   "metadata": {
    "hidden": true
   },
   "outputs": [],
   "source": [
    "CxAssembler._add_regulation = _add_regulation"
   ]
  },
  {
   "cell_type": "markdown",
   "metadata": {
    "heading_collapsed": true,
    "hidden": true
   },
   "source": [
    "### _add_gef"
   ]
  },
  {
   "cell_type": "code",
   "execution_count": 69,
   "metadata": {
    "hidden": true
   },
   "outputs": [],
   "source": [
    "def _add_gef(self, stmt):\n",
    "    gef_id = self._add_node(stmt.gef)\n",
    "    ras_id = self._add_node(stmt.ras)\n",
    "    stmt_type = stmt.__class__.__name__\n",
    "    self._add_edge(gef_id, ras_id, stmt_type, stmt)"
   ]
  },
  {
   "cell_type": "code",
   "execution_count": 70,
   "metadata": {
    "hidden": true
   },
   "outputs": [],
   "source": [
    "CxAssembler._add_gef = _add_gef"
   ]
  },
  {
   "cell_type": "markdown",
   "metadata": {
    "heading_collapsed": true,
    "hidden": true
   },
   "source": [
    "### _add_gap"
   ]
  },
  {
   "cell_type": "code",
   "execution_count": 71,
   "metadata": {
    "hidden": true
   },
   "outputs": [],
   "source": [
    "def _add_gap(self, stmt):\n",
    "    gap_id = self._add_node(stmt.gap)\n",
    "    ras_id = self._add_node(stmt.ras)\n",
    "    stmt_type = stmt.__class__.__name__\n",
    "    self._add_edge(gap_id, ras_id, stmt_type, stmt)"
   ]
  },
  {
   "cell_type": "code",
   "execution_count": 72,
   "metadata": {
    "hidden": true
   },
   "outputs": [],
   "source": [
    "CxAssembler._add_gap = _add_gap"
   ]
  },
  {
   "cell_type": "markdown",
   "metadata": {
    "heading_collapsed": true,
    "hidden": true
   },
   "source": [
    "## <font color=\"red\"> Add CX Data </font>"
   ]
  },
  {
   "cell_type": "markdown",
   "metadata": {
    "hidden": true
   },
   "source": [
    "### _add_node"
   ]
  },
  {
   "cell_type": "code",
   "execution_count": 73,
   "metadata": {
    "hidden": true
   },
   "outputs": [],
   "source": [
    "def _add_node(self, agent):\n",
    "    node_key = agent.name\n",
    "    node_id = self._existing_nodes.get(node_key)\n",
    "    if node_id is not None:\n",
    "        return node_id\n",
    "    node_id = self._get_new_id()\n",
    "    self._existing_nodes[node_key] = node_id\n",
    "    node = {'@id': node_id,\n",
    "            'n': agent.name,\n",
    "            'r': agent.name}       # print(node) #<-- debugging\n",
    "    self.cx['nodes'].append(node)\n",
    "    self._add_node_metadata(node_id, agent)\n",
    "    return node_id"
   ]
  },
  {
   "cell_type": "code",
   "execution_count": 74,
   "metadata": {
    "hidden": true
   },
   "outputs": [],
   "source": [
    "CxAssembler._add_node = _add_node"
   ]
  },
  {
   "cell_type": "markdown",
   "metadata": {
    "hidden": true
   },
   "source": [
    "### _add_node_metadata"
   ]
  },
  {
   "cell_type": "code",
   "execution_count": 75,
   "metadata": {
    "hidden": true
   },
   "outputs": [],
   "source": [
    "def _add_node_metadata(self, node_id, agent):\n",
    "    agent_type = _get_agent_type(agent)\n",
    "    node_attribute = {'po': node_id,\n",
    "                      'n': 'type',\n",
    "                      'v': agent_type}\n",
    "    self.cx['nodeAttributes'].append(node_attribute)\n",
    "\n",
    "\n",
    "\n",
    "    if len(alias) > 0:\n",
    "        node_attribute = {'po': node_id,\n",
    "                          'n': \"alias\",\n",
    "                          'v':  }\n",
    "        self.cx['nodeAttributes'].append(node_attribute)\n"
   ]
  },
  {
   "cell_type": "code",
   "execution_count": 76,
   "metadata": {
    "hidden": true
   },
   "outputs": [],
   "source": [
    "CxAssembler._add_node_metadata = _add_node_metadata"
   ]
  },
  {
   "cell_type": "markdown",
   "metadata": {
    "hidden": true
   },
   "source": [
    "### _add_edge"
   ]
  },
  {
   "cell_type": "code",
   "execution_count": 77,
   "metadata": {
    "hidden": true
   },
   "outputs": [],
   "source": [
    "def _add_edge(self, source, target, interaction, stmt):\n",
    "    edge_key = (source, target, interaction)\n",
    "    try:\n",
    "        edge_id = self._existing_edges[edge_key]\n",
    "        return edge_id\n",
    "    except KeyError:\n",
    "        pass\n",
    "    edge_id = self._get_new_id()\n",
    "    self._existing_nodes[edge_key] = edge_id\n",
    "    edge = {'@id': edge_id,\n",
    "            's': source,\n",
    "            't': target,\n",
    "            'i': interaction}\n",
    "    self.cx['edges'].append(edge)\n",
    "    self._add_edge_metadata(edge_id, stmt)\n",
    "    return edge_id\n"
   ]
  },
  {
   "cell_type": "code",
   "execution_count": 78,
   "metadata": {
    "hidden": true
   },
   "outputs": [],
   "source": [
    "CxAssembler._add_edge = _add_edge"
   ]
  },
  {
   "cell_type": "markdown",
   "metadata": {
    "hidden": true
   },
   "source": [
    "### _add_edge_metadata"
   ]
  },
  {
   "cell_type": "code",
   "execution_count": 8,
   "metadata": {
    "hidden": true
   },
   "outputs": [],
   "source": [
    "def _add_edge_metadata(self, edge_id, stmt):\n",
    "    # Add the string of the statement itself\n",
    "    \n",
    "    ###  Removed Edge Attribute\n",
    "    #indra_stmt_str = '%s' % stmt\n",
    "    #edge_attribute = {'po': edge_id,\n",
    "    #                  'n': 'INDRA statement',\n",
    "    #                  'v': indra_stmt_str}\n",
    "    #self.cx['edgeAttributes'].append(edge_attribute)\n",
    "\n",
    "    \n",
    "    ###  Removed Edge Attribute\n",
    "    # Add INDRA JSON\n",
    "    #if self.add_indra_json:\n",
    "    #    indra_stmt_json = json.dumps(stmt.to_json())\n",
    "    #    edge_attribute = {'po': edge_id,\n",
    "    #                      'n': 'INDRA json',\n",
    "    #                      'v': indra_stmt_json}\n",
    "    #    self.cx['edgeAttributes'].append(edge_attribute)\n",
    "\n",
    "    \n",
    "    # Add the type of statement as the edge type <-- inspired \"mechanism\" attribute\n",
    "    edge_attribute = {'po': edge_id,\n",
    "                      'n': 'mechanism',\n",
    "                      'v': stmt.__class__.__name__ }\n",
    "    self.cx['edgeAttributes'].append(edge_attribute)\n",
    "    \n",
    "    \n",
    "    # Add statement polarity\n",
    "    stmt_type, stmt_polarity = _get_stmt_type(stmt)\n",
    "    edge_attribute = {'po': edge_id,\n",
    "                      'n': 'polarity',\n",
    "                      'v': stmt_polarity}\n",
    "    self.cx['edgeAttributes'].append(edge_attribute)\n",
    "\n",
    "    ### Code I Changed ###  \n",
    "    # Add the citations for the edge\n",
    "    ### Replace with my own function that I wrote super quickly (check for errors)\n",
    "    \"\"\"\n",
    "    pmids = [e.pmid for e in stmt.evidence if e.pmid]\n",
    "    pmids_added = []\n",
    "    for pmid in pmids:\n",
    "        pmid_txt = None\n",
    "        if re.match('[0-9]+', pmid):\n",
    "            pmid_txt = 'pmid:' + pmid\n",
    "            if pmid_txt not in pmids_added:\n",
    "                citation_id = self._get_new_id()\n",
    "                citation = {'po': citation_id,\n",
    "                            'n':'citations',\n",
    "                            'v': pmid_txt}\n",
    "                self.cx['edgeAttributes'].append(citation)\n",
    "    \"\"\"\n",
    "    citations = _get_stmt_citations(stmt)\n",
    "    if citations != \"[]\" :\n",
    "        edge_attribute = {'po': edge_id,\n",
    "                          'n': 'citations',\n",
    "                          'v': citations}\n",
    "        self.cx['edgeAttributes'].append(edge_attribute)\n",
    "\n",
    "\n",
    "\n",
    "    # Add the textual supports for the edge\n",
    "    \"\"\"\n",
    "    texts = [e.text for e in stmt.evidence if e.text]\n",
    "    edge_supports = []\n",
    "    for text in texts:\n",
    "        text = text.replace('XREF_BIBR', '')\n",
    "        support_id = self._get_new_id()\n",
    "        support = { \"n\": \"support\", \n",
    "                    \"v\": text,\n",
    "                    \"po\": support_id }\n",
    "        self.cx['nodeAttributes'].append(support)\n",
    "        edge_supports.append(support_id)\n",
    "    if edge_supports:\n",
    "        edge_support = {'po': edge_id ,\n",
    "                        'n': \"supports\",\n",
    "                        'v': edge_supports}\n",
    "        self.cx['edgeAttributes'].append(edge_support)\n",
    "    \"\"\"\n",
    "    \n",
    "    ###  Removed Edge Attribute\n",
    "    #belief_str = '%.2f' % stmt.belief\n",
    "    #edge_attribute = {'po': edge_id, \n",
    "    #                  'n': 'Belief score',\n",
    "    #                  'v': belief_str }\n",
    "    #self.cx['edgeAttributes'].append(edge_attribute)\n",
    "\n",
    "    # NOTE: supports and edgeSupports are currently\n",
    "    # not shown on NDEx therefore we add text evidence as a generic\n",
    "    # edgeAttribute\n",
    "    #if texts:\n",
    "    #    text = texts[0]\n",
    "    #    edge_attribute = {'po': edge_id,\n",
    "    #                      'n': 'Text',\n",
    "    #                      'v': text}\n",
    "    #    self.cx['edgeAttributes'].append(edge_attribute)\n",
    "\n",
    "    \n",
    "    ###  Removed Edge Attribute\n",
    "    # Add the serialized JSON INDRA Statement\n",
    "    #if self.add_indra_json:\n",
    "    #    stmt_dict = stmt.to_json()\n",
    "    #    edge_attribute = {'po': edge_id, 'n': 'indra', 'v': stmt_dict}\n",
    "    #    self.cx['edgeAttributes'].append(edge_attribute)\n",
    "\n",
    "    # Add support type\n",
    "    \"\"\"\n",
    "    support_type = _get_support_type(stmt)\n",
    "    edge_attribute = {'po': edge_id, 'n': 'supportType', 'v': support_type}\n",
    "    self.cx['edgeAttributes'].append(edge_attribute)\n",
    "    \"\"\"\n",
    "\n"
   ]
  },
  {
   "cell_type": "code",
   "execution_count": 80,
   "metadata": {
    "hidden": true
   },
   "outputs": [],
   "source": [
    "CxAssembler._add_edge_metadata = _add_edge_metadata"
   ]
  },
  {
   "cell_type": "markdown",
   "metadata": {},
   "source": [
    "# <font color=\"blue\">Main</font> Functions"
   ]
  },
  {
   "cell_type": "markdown",
   "metadata": {
    "heading_collapsed": true
   },
   "source": [
    "## <font color=\"gray\">Helpers</font>\n",
    "\n",
    "These are smaller functions that help with the creation of the bigger functions"
   ]
  },
  {
   "cell_type": "markdown",
   "metadata": {
    "hidden": true
   },
   "source": [
    "### add_statements"
   ]
  },
  {
   "cell_type": "code",
   "execution_count": 103,
   "metadata": {
    "hidden": true
   },
   "outputs": [],
   "source": [
    "def add_statements(self, stmts):\n",
    "    \"\"\"Add INDRA Statements to the assembler's list of statements.\n",
    "\n",
    "    Parameters\n",
    "    ----------\n",
    "    stmts : list[indra.statements.Statement]\n",
    "        A list of :py:class:`indra.statements.Statement`\n",
    "        to be added to the statement list of the assembler.\n",
    "    \"\"\"\n",
    "    for stmt in stmts:\n",
    "        self.statements.append(stmt)"
   ]
  },
  {
   "cell_type": "code",
   "execution_count": 104,
   "metadata": {
    "hidden": true
   },
   "outputs": [],
   "source": [
    "CxAssembler.add_statements = add_statements"
   ]
  },
  {
   "cell_type": "markdown",
   "metadata": {
    "hidden": true
   },
   "source": [
    "### _get_new_id"
   ]
  },
  {
   "cell_type": "code",
   "execution_count": 83,
   "metadata": {
    "hidden": true
   },
   "outputs": [],
   "source": [
    "def _get_new_id(self):\n",
    "    ret = self._id_counter\n",
    "    self._id_counter += 1\n",
    "    return ret"
   ]
  },
  {
   "cell_type": "code",
   "execution_count": 84,
   "metadata": {
    "hidden": true
   },
   "outputs": [],
   "source": [
    "CxAssembler._get_new_id = _get_new_id"
   ]
  },
  {
   "cell_type": "markdown",
   "metadata": {
    "heading_collapsed": true
   },
   "source": [
    "##  save_model"
   ]
  },
  {
   "cell_type": "code",
   "execution_count": 105,
   "metadata": {
    "hidden": true
   },
   "outputs": [],
   "source": [
    "def save_model(self, file_name='model.cx'):\n",
    "    \"\"\"Save the assembled CX network in a file.\n",
    "\n",
    "    Parameters\n",
    "    ----------\n",
    "    file_name : Optional[str]\n",
    "        The name of the file to save the CX network to. Default: model.cx\n",
    "    \"\"\"\n",
    "    with open(file_name, 'wt') as fh:\n",
    "        cx_str = self.print_cx()\n",
    "        fh.write(cx_str)"
   ]
  },
  {
   "cell_type": "code",
   "execution_count": 106,
   "metadata": {
    "hidden": true
   },
   "outputs": [],
   "source": [
    "CxAssembler.save_model = save_model"
   ]
  },
  {
   "cell_type": "markdown",
   "metadata": {
    "heading_collapsed": true
   },
   "source": [
    "## <font color=\"red\">make_model</font>\n",
    "\n",
    "<font color=\"red\">make_model</font> adds the indra statements according which of the <font color=\"blue\">_add</font> commands were specified. It is also where the user decides the <font color=green>network attribute</font> properties. <font color=\"red\">make_model</font>  then calls  <font color=\"red\">print_cx</font> which sets up the rest of the CX JSON file.\n",
    "\n"
   ]
  },
  {
   "cell_type": "code",
   "execution_count": 107,
   "metadata": {
    "hidden": true
   },
   "outputs": [],
   "source": [
    "def make_model(self, add_indra_json=True, \n",
    "               name='indra_assembled', description='An Indra Auto-Curated network', version='1.0'):\n",
    "    \n",
    "    \"\"\"Assemble the CX network from the collected INDRA Statements.\n",
    "\n",
    "    This method assembles a CX network from the set of INDRA Statements.\n",
    "    The assembled network is set as the assembler's cx argument.\n",
    "\n",
    "    Parameters\n",
    "    ----------\n",
    "    add_indra_json : Optional[bool]\n",
    "        If True, the INDRA Statement JSON annotation is added to each\n",
    "        edge in the network. Default: True\n",
    "\n",
    "    Returns\n",
    "    -------\n",
    "    cx_str : str\n",
    "        The json serialized CX model.\n",
    "    \"\"\"\n",
    "    # Add extra indra statements depending on settings\n",
    "    self.add_indra_json = add_indra_json\n",
    "    for stmt in self.statements:\n",
    "        if isinstance(stmt, Modification):\n",
    "            self._add_modification(stmt)\n",
    "        if isinstance(stmt, SelfModification):\n",
    "            self._add_self_modification(stmt)\n",
    "        elif isinstance(stmt, RegulateActivity) or \\\n",
    "            isinstance(stmt, RegulateAmount):\n",
    "            self._add_regulation(stmt)\n",
    "        elif isinstance(stmt, Complex):\n",
    "            self._add_complex(stmt)\n",
    "        elif isinstance(stmt, Gef):\n",
    "            self._add_gef(stmt)\n",
    "        elif isinstance(stmt, Gap):\n",
    "            self._add_gap(stmt)\n",
    "            \n",
    "    # Add network Attributes\n",
    "    self.network_name = name\n",
    "    self.cx['networkAttributes'].append({'n': 'name',\n",
    "                                         'v': self.network_name})\n",
    "    self.cx['networkAttributes'].append({'n': 'description',\n",
    "                                         'v': description})\n",
    "    self.cx['networkAttributes'].append({'n': 'version',\n",
    "                                         'v': version})\n",
    "    cx_str = self.print_cx()\n",
    "    return cx_str\n",
    "\n"
   ]
  },
  {
   "cell_type": "code",
   "execution_count": 108,
   "metadata": {
    "hidden": true
   },
   "outputs": [],
   "source": [
    "CxAssembler.make_model = make_model"
   ]
  },
  {
   "cell_type": "markdown",
   "metadata": {
    "heading_collapsed": true
   },
   "source": [
    "## <font color=\"red\">print_cx</font>"
   ]
  },
  {
   "cell_type": "code",
   "execution_count": 109,
   "metadata": {
    "hidden": true
   },
   "outputs": [],
   "source": [
    " def print_cx(self, pretty=True):\n",
    "        #print(\"indside print\")\n",
    "        \"\"\"Return the assembled CX network as a json string.\n",
    "\n",
    "        Parameters\n",
    "        ----------\n",
    "        pretty : bool\n",
    "            If True, the CX string is formatted with indentation (for human\n",
    "            viewing) otherwise no indentation is used.\n",
    "\n",
    "        Returns\n",
    "        -------\n",
    "        json_str : str\n",
    "            A json formatted string representation of the CX network.\n",
    "        \"\"\"\n",
    "        def _get_aspect_metadata(aspect):\n",
    "            count = len(self.cx.get(aspect)) if self.cx.get(aspect) else 0\n",
    "            if not count:\n",
    "                return None\n",
    "            data = {'name': aspect,\n",
    "                    'idCounter': self._id_counter,\n",
    "                    'consistencyGroup': 1,\n",
    "                    'elementCount': count}\n",
    "            return data\n",
    "        \n",
    "        # full_cx holds all of the information that will be converted converted into the .CX file\n",
    "        full_cx = OrderedDict()\n",
    "        \n",
    "        # create aspect: numberVerification\n",
    "        full_cx['numberVerification'] = [{'longNumber': 281474976710655}]\n",
    "        \n",
    "        # create aspect: metadata\n",
    "        full_cx['metaData'] = []\n",
    "        aspects = ['@Context','networkAttributes','nodes', 'edges','nodeAttributes','edgeAttributes']\n",
    "        for aspect in aspects:\n",
    "            metadata = _get_aspect_metadata(aspect)\n",
    "            if metadata:\n",
    "                full_cx['metaData'].append(metadata)\n",
    "        \n",
    "        # create aspect: status\n",
    "        full_cx['status'] = [{'error': '', 'success': True}]\n",
    "        \n",
    "        for aspect in  aspects:\n",
    "            #print(k)\n",
    "            full_cx[aspect] = self.cx[aspect]\n",
    "        full_cx = [{k: v} for k, v in full_cx.items()]\n",
    "        if pretty:\n",
    "            json_str = json.dumps(full_cx, indent=2)\n",
    "        else:\n",
    "            json_str = json.dumps(full_cx)\n",
    "        return json_str\n",
    "\n"
   ]
  },
  {
   "cell_type": "code",
   "execution_count": 110,
   "metadata": {
    "hidden": true
   },
   "outputs": [],
   "source": [
    "CxAssembler.print_cx = print_cx"
   ]
  },
  {
   "cell_type": "markdown",
   "metadata": {
    "heading_collapsed": true
   },
   "source": [
    "## upload_model"
   ]
  },
  {
   "cell_type": "code",
   "execution_count": 91,
   "metadata": {
    "hidden": true
   },
   "outputs": [],
   "source": [
    "def upload_model(self, ndex_cred):\n",
    "    \"\"\"Creates a new NDEx network of the assembled CX model.\n",
    "\n",
    "    To upload the assembled CX model to NDEx, you need to have\n",
    "    a registered account on NDEx (http://ndexbio.org/) and have\n",
    "    the `ndex` python package installed. The uploaded network\n",
    "    is private by default.\n",
    "\n",
    "    Parameters\n",
    "    ----------\n",
    "    ndex_cred : dict\n",
    "        A dictionary with the following entries:\n",
    "        'user': NDEx user name\n",
    "        'password': NDEx password\n",
    "\n",
    "    Returns\n",
    "    -------\n",
    "    network_id :  str\n",
    "        The UUID of the NDEx network that was created by uploading\n",
    "        the assembled CX model.\n",
    "    \"\"\"\n",
    "    cx_str = self.print_cx()\n",
    "    network_id = ndex_client.create_network(cx_str, ndex_cred)\n",
    "    return network_id\n",
    "\n",
    "\n"
   ]
  },
  {
   "cell_type": "code",
   "execution_count": 92,
   "metadata": {
    "hidden": true
   },
   "outputs": [],
   "source": [
    "CxAssembler.upload_model = upload_model"
   ]
  },
  {
   "cell_type": "markdown",
   "metadata": {
    "heading_collapsed": true
   },
   "source": [
    "## set_context"
   ]
  },
  {
   "cell_type": "code",
   "execution_count": 111,
   "metadata": {
    "hidden": true
   },
   "outputs": [],
   "source": [
    "\n",
    "def set_context(self, cell_type):\n",
    "    \"\"\"Set protein expression data and mutational status as node attribute\n",
    "\n",
    "    This method uses :py:mod:`indra.databases.context_client` to get\n",
    "    protein expression levels and mutational status for a given cell type\n",
    "    and set a node attribute for proteins accordingly.\n",
    "\n",
    "    Parameters\n",
    "    ----------\n",
    "    cell_type : str\n",
    "        Cell type name for which expression levels are queried.\n",
    "        The cell type name follows the CCLE database conventions.\n",
    "        Example: LOXIMVI_SKIN, BT20_BREAST\n",
    "    \"\"\"\n",
    "    node_names = [node['n'] for node in self.cx['nodes']]\n",
    "    res_expr = context_client.get_protein_expression(node_names,\n",
    "                                                     [cell_type])\n",
    "    res_mut = context_client.get_mutations(node_names,\n",
    "                                           [cell_type])\n",
    "    res_expr = res_expr.get(cell_type)\n",
    "    res_mut = res_mut.get(cell_type)\n",
    "    if not res_expr:\n",
    "        msg = 'Could not get protein expression for %s cell type.' % \\\n",
    "              cell_type\n",
    "        logger.warning(msg)\n",
    "\n",
    "    if not res_mut:\n",
    "        msg = 'Could not get mutational status for %s cell type.' % \\\n",
    "              cell_type\n",
    "        logger.warning(msg)\n",
    "\n",
    "    if not res_expr and not res_mut:\n",
    "        return\n",
    "\n",
    "    self.cx['networkAttributes'].append({'n': 'cellular_context',\n",
    "                                         'v': cell_type})\n",
    "    counter = 0\n",
    "    for node in self.cx['nodes']:\n",
    "        amount = res_expr.get(node['n'])\n",
    "        mut = res_mut.get(node['n'])\n",
    "        if amount is not None:\n",
    "            node_attribute = {'po': node['@id'],\n",
    "                              'n': 'expression_amount',\n",
    "                              'v': int(amount)}\n",
    "            self.cx['nodeAttributes'].append(node_attribute)\n",
    "        if mut is not None:\n",
    "            is_mutated = 1 if mut else 0\n",
    "            node_attribute = {'po': node['@id'],\n",
    "                              'n': 'is_mutated',\n",
    "                              'v': is_mutated}\n",
    "            self.cx['nodeAttributes'].append(node_attribute)\n",
    "        if mut is not None or amount is not None:\n",
    "            counter += 1\n",
    "    logger.info('Set context for %d nodes.' % counter)"
   ]
  },
  {
   "cell_type": "code",
   "execution_count": 112,
   "metadata": {
    "hidden": true
   },
   "outputs": [],
   "source": [
    "CxAssembler.set_context = set_context"
   ]
  },
  {
   "cell_type": "markdown",
   "metadata": {
    "heading_collapsed": true
   },
   "source": [
    "# <font color=\"blue\">_get</font> functions "
   ]
  },
  {
   "cell_type": "markdown",
   "metadata": {
    "heading_collapsed": true,
    "hidden": true
   },
   "source": [
    "## _get_support_type"
   ]
  },
  {
   "cell_type": "code",
   "execution_count": 96,
   "metadata": {
    "hidden": true
   },
   "outputs": [],
   "source": [
    "def _get_support_type(stmt):\n",
    "    dbs = ['bel', 'biopax', 'phosphosite', 'biogrid']\n",
    "    readers = ['reach', 'trips', 'sparser', 'r3']\n",
    "    has_db = False\n",
    "    has_reading = False\n",
    "    for ev in stmt.evidence:\n",
    "        if ev.source_api in dbs:\n",
    "            has_db = True\n",
    "        if ev.source_api in readers:\n",
    "            has_reading = True\n",
    "    if has_db and not has_reading:\n",
    "        return 'database'\n",
    "    elif has_db and has_db:\n",
    "        return 'database and literature'\n",
    "    elif not has_db and has_reading:\n",
    "        return 'literature'\n"
   ]
  },
  {
   "cell_type": "code",
   "execution_count": 97,
   "metadata": {
    "hidden": true
   },
   "outputs": [],
   "source": [
    "CxAssembler._get_support_type = _get_support_type"
   ]
  },
  {
   "cell_type": "markdown",
   "metadata": {
    "hidden": true
   },
   "source": [
    "## <font color=\"orange\">_get_stmt_type</font>\n",
    "\n",
    "This could be a useful spot for  creating the specified `type` attributes in the [CX Documenation](https://docs.google.com/document/d/13ZKcFBH-E5oiJP2D5zrdFqxLlS9yGtGiiX5Lj92g4EU/edit#heading=h.1t5lf4irpgyj)"
   ]
  },
  {
   "cell_type": "code",
   "execution_count": 98,
   "metadata": {
    "hidden": true
   },
   "outputs": [],
   "source": [
    "def _get_stmt_type(stmt):\n",
    "    if isinstance(stmt, AddModification):\n",
    "        edge_type = 'Modification'\n",
    "        edge_polarity = 1\n",
    "    elif isinstance(stmt, RemoveModification):\n",
    "        edge_type = 'Modification'\n",
    "        edge_polarity = -1\n",
    "    elif isinstance(stmt, SelfModification):\n",
    "        edge_type = 'SelfModification'\n",
    "        edge_polarity = 1\n",
    "    elif isinstance(stmt, Complex):\n",
    "        edge_type = 'Complex'\n",
    "        edge_polarity = 0\n",
    "    elif isinstance(stmt, Activation):\n",
    "        edge_type = 'Activation'\n",
    "        edge_polarity = 1\n",
    "    elif isinstance(stmt, Inhibition):\n",
    "        edge_type = 'Inhibition'\n",
    "        edge_polarity = -1\n",
    "    elif isinstance(stmt, DecreaseAmount):\n",
    "        edge_type = 'DecreaseAmount'\n",
    "        edge_polarity = -1\n",
    "    elif isinstance(stmt, IncreaseAmount):\n",
    "        edge_type = 'IncreaseAmount'\n",
    "        edge_polarity = 1\n",
    "    elif isinstance(stmt, Gef):\n",
    "        edge_type = 'Gef'\n",
    "        edge_polarity = 1\n",
    "    elif isinstance(stmt, Gap):\n",
    "        edge_type = 'Gap'\n",
    "        edge_polarity = -1\n",
    "    else:\n",
    "        edge_type = stmt.__class__.__str__()\n",
    "        edge_polarity = 'none'\n",
    "    return edge_type, edge_polarity\n"
   ]
  },
  {
   "cell_type": "code",
   "execution_count": 99,
   "metadata": {
    "hidden": true
   },
   "outputs": [],
   "source": [
    "CxAssembler._get_stmt_type = _get_stmt_type"
   ]
  },
  {
   "cell_type": "markdown",
   "metadata": {
    "hidden": true
   },
   "source": [
    "## _get_agent_type"
   ]
  },
  {
   "cell_type": "code",
   "execution_count": 100,
   "metadata": {
    "code_folding": [],
    "hidden": true
   },
   "outputs": [],
   "source": [
    "def _get_agent_type(agent):\n",
    "    hgnc_id = agent.db_refs.get('HGNC')\n",
    "    uniprot_id = agent.db_refs.get('UP')\n",
    "    pfam_id = agent.db_refs.get('PF')\n",
    "    fa_id = agent.db_refs.get('FA')\n",
    "    chebi_id = agent.db_refs.get('CHEBI')\n",
    "    pubchem_id = agent.db_refs.get('PUBCHEM')\n",
    "    be_id = agent.db_refs.get('FPLX')\n",
    "    go_id = agent.db_refs.get('GO')\n",
    "    if hgnc_id or uniprot_id:\n",
    "        agent_type = 'protein'\n",
    "    elif pfam_id or fa_id or be_id:\n",
    "        agent_type = 'proteinfamily'\n",
    "    elif chebi_id or pubchem_id:\n",
    "        agent_type = 'chemical'\n",
    "    elif go_id:\n",
    "        agent_type = 'biological process'\n",
    "    else:\n",
    "        agent_type = 'other'\n",
    "    return agent_type"
   ]
  },
  {
   "cell_type": "code",
   "execution_count": 101,
   "metadata": {
    "hidden": true
   },
   "outputs": [],
   "source": [
    "CxAssembler._get_agent_type = _get_agent_type"
   ]
  },
  {
   "cell_type": "markdown",
   "metadata": {
    "hidden": true
   },
   "source": [
    "## _get_agent_alias"
   ]
  },
  {
   "cell_type": "code",
   "execution_count": 6,
   "metadata": {
    "hidden": true
   },
   "outputs": [],
   "source": [
    "# helper function\n",
    "\n",
    "# This code add's the alias'es for a node (if they exist)\n",
    "def _get_agent_alias(agent):\n",
    "    alias = []\n",
    "    for db_name, db_ids in agent.db_refs.items():\n",
    "        if not db_ids:\n",
    "            logger.warning('Missing db_id for %s' % agent)\n",
    "            continue\n",
    "        elif isinstance(db_ids, int):\n",
    "            db_id = str(db_ids)\n",
    "        elif isinstance(db_ids, basestring):\n",
    "            db_id = db_ids\n",
    "        else:\n",
    "            db_id = db_ids[0]\n",
    "        url = get_identifiers_url(db_name, db_id)\n",
    "        if not url:\n",
    "            continue\n",
    "        db_name_map = {\n",
    "            'UP': 'uniprot knowledgebase',\n",
    "            'PUBCHEM': 'PubChem',\n",
    "            'IP': 'InterPro', 'NXPFA': 'NextProtFamily',\n",
    "            'PF': 'Pfam', 'CHEBI': 'ChEBI'}\n",
    "        name = db_name_map.get(db_name)\n",
    "        if not name:\n",
    "            name = db_name\n",
    "        alias.append( name+\":\"+db_id ) \n",
    "    alias = str(alias)\n",
    "    return alias"
   ]
  },
  {
   "cell_type": "code",
   "execution_count": 7,
   "metadata": {
    "hidden": true
   },
   "outputs": [
    {
     "ename": "NameError",
     "evalue": "name 'CxAssembler' is not defined",
     "output_type": "error",
     "traceback": [
      "\u001b[0;31m---------------------------------------------------------------------------\u001b[0m",
      "\u001b[0;31mNameError\u001b[0m                                 Traceback (most recent call last)",
      "\u001b[0;32m<ipython-input-7-9289607ab179>\u001b[0m in \u001b[0;36m<module>\u001b[0;34m()\u001b[0m\n\u001b[0;32m----> 1\u001b[0;31m \u001b[0mCxAssembler\u001b[0m\u001b[0;34m.\u001b[0m\u001b[0m_get_agent_alias\u001b[0m \u001b[0;34m=\u001b[0m \u001b[0m_get_agent_alias\u001b[0m\u001b[0;34m\u001b[0m\u001b[0m\n\u001b[0m",
      "\u001b[0;31mNameError\u001b[0m: name 'CxAssembler' is not defined"
     ]
    }
   ],
   "source": [
    "CxAssembler._get_agent_alias = _get_agent_alias"
   ]
  },
  {
   "cell_type": "markdown",
   "metadata": {
    "hidden": true
   },
   "source": [
    "## _get_agent_citations"
   ]
  },
  {
   "cell_type": "code",
   "execution_count": 12,
   "metadata": {
    "hidden": true
   },
   "outputs": [],
   "source": [
    "\n",
    "def _get_stmt_citations(stmt):\n",
    "    pmids = [e.pmid for e in stmt.evidence if e.pmid]\n",
    "    pmids_added = []\n",
    "    for pmid in pmids:\n",
    "        pmid_txt = None\n",
    "        if re.match('[0-9]+', pmid):\n",
    "            pmid_txt = 'pmid:' + pmid\n",
    "            if pmid_txt not in pmids_added:\n",
    "                pmids_added.append(pmid_txt)\n",
    "    return str(pmids_added)\n"
   ]
  },
  {
   "cell_type": "code",
   "execution_count": 13,
   "metadata": {
    "hidden": true
   },
   "outputs": [
    {
     "ename": "NameError",
     "evalue": "name 'CxAssembler' is not defined",
     "output_type": "error",
     "traceback": [
      "\u001b[0;31m---------------------------------------------------------------------------\u001b[0m",
      "\u001b[0;31mNameError\u001b[0m                                 Traceback (most recent call last)",
      "\u001b[0;32m<ipython-input-13-f975762891d9>\u001b[0m in \u001b[0;36m<module>\u001b[0;34m()\u001b[0m\n\u001b[0;32m----> 1\u001b[0;31m \u001b[0mCxAssembler\u001b[0m\u001b[0;34m.\u001b[0m\u001b[0m_get_stmt_citations\u001b[0m \u001b[0;34m=\u001b[0m \u001b[0m_get_stmt_citations\u001b[0m\u001b[0;34m\u001b[0m\u001b[0m\n\u001b[0m",
      "\u001b[0;31mNameError\u001b[0m: name 'CxAssembler' is not defined"
     ]
    }
   ],
   "source": [
    "CxAssembler._get_stmt_citations = _get_stmt_citations"
   ]
  },
  {
   "cell_type": "code",
   "execution_count": null,
   "metadata": {
    "hidden": true
   },
   "outputs": [],
   "source": []
  },
  {
   "cell_type": "code",
   "execution_count": null,
   "metadata": {
    "hidden": true
   },
   "outputs": [],
   "source": []
  }
 ],
 "metadata": {
  "hide_input": false,
  "kernelspec": {
   "display_name": "Python 3",
   "language": "python",
   "name": "python3"
  },
  "language_info": {
   "codemirror_mode": {
    "name": "ipython",
    "version": 3
   },
   "file_extension": ".py",
   "mimetype": "text/x-python",
   "name": "python",
   "nbconvert_exporter": "python",
   "pygments_lexer": "ipython3",
   "version": "3.5.5"
  },
  "toc": {
   "base_numbering": 1,
   "nav_menu": {},
   "number_sections": true,
   "sideBar": true,
   "skip_h1_title": false,
   "title_cell": "Table of Contents",
   "title_sidebar": "Contents",
   "toc_cell": false,
   "toc_position": {
    "height": "calc(100% - 180px)",
    "left": "10px",
    "top": "150px",
    "width": "237px"
   },
   "toc_section_display": true,
   "toc_window_display": true
  },
  "varInspector": {
   "cols": {
    "lenName": 16,
    "lenType": 16,
    "lenVar": 40
   },
   "kernels_config": {
    "python": {
     "delete_cmd_postfix": "",
     "delete_cmd_prefix": "del ",
     "library": "var_list.py",
     "varRefreshCmd": "print(var_dic_list())"
    },
    "r": {
     "delete_cmd_postfix": ") ",
     "delete_cmd_prefix": "rm(",
     "library": "var_list.r",
     "varRefreshCmd": "cat(var_dic_list()) "
    }
   },
   "types_to_exclude": [
    "module",
    "function",
    "builtin_function_or_method",
    "instance",
    "_Feature"
   ],
   "window_display": false
  }
 },
 "nbformat": 4,
 "nbformat_minor": 2
}
