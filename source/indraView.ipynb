{
 "cells": [
  {
   "cell_type": "markdown",
   "metadata": {},
   "source": [
    "<p></p><font size=\"7\" face=\"courier\" color=\"magenta\">indraView</font>"
   ]
  },
  {
   "cell_type": "markdown",
   "metadata": {},
   "source": [
    "This notebook create the object <font color=\"magenta\"> indraViewer</font>.  <font color=\"magenta\"> indraViewer</font> contains the following functions:\n",
    "*  **<font color=\"blue\">viewStatements</font>**  - Creates gui interface for viewing statements from an indra object.\n",
    "*  **<font color=\"blue\">viewJSON</font>**  - Creates a gui for view a json file"
   ]
  },
  {
   "cell_type": "code",
   "execution_count": 1,
   "metadata": {},
   "outputs": [
    {
     "name": "stdout",
     "output_type": "stream",
     "text": [
      "Imported: indraViewer\n"
     ]
    }
   ],
   "source": [
    "print(\"Imported: IndraView\")"
   ]
  },
  {
   "cell_type": "markdown",
   "metadata": {},
   "source": [
    "# Setup Notebook"
   ]
  },
  {
   "cell_type": "code",
   "execution_count": null,
   "metadata": {},
   "outputs": [
    {
     "name": "stdout",
     "output_type": "stream",
     "text": [
      "env: GOOGLE_APPLICATION_CREDENTIALS=/root/Documents/data/NDEX-e06611c0a4d0.json\n",
      "env: JAVA_HOME=/usr/lib/jvm/java-8-openjdk-amd64\n"
     ]
    },
    {
     "data": {
      "text/html": [
       "<style> *{margin:0; padding:0;} html, body,              .container{margin:0;!important padding:0;!important}              .container { width:100% !important;}</style>"
      ],
      "text/plain": [
       "<IPython.core.display.HTML object>"
      ]
     },
     "metadata": {},
     "output_type": "display_data"
    }
   ],
   "source": [
    "#%run 'Setup Notebook.ipynb' #<-- run to setup notebook"
   ]
  },
  {
   "cell_type": "code",
   "execution_count": 3,
   "metadata": {},
   "outputs": [
    {
     "ename": "NameError",
     "evalue": "name 'HTML' is not defined",
     "output_type": "error",
     "traceback": [
      "\u001b[0;31m---------------------------------------------------------------------------\u001b[0m",
      "\u001b[0;31mNameError\u001b[0m                                 Traceback (most recent call last)",
      "\u001b[0;32m<ipython-input-3-e11cbd5a0a6b>\u001b[0m in \u001b[0;36m<module>\u001b[0;34m()\u001b[0m\n\u001b[0;32m----> 1\u001b[0;31m HTML(\n\u001b[0m\u001b[1;32m      2\u001b[0m \"\"\"\n\u001b[1;32m      3\u001b[0m \u001b[0;34m<\u001b[0m\u001b[0mstyle\u001b[0m\u001b[0;34m>\u001b[0m\u001b[0;34m\u001b[0m\u001b[0m\n\u001b[1;32m      4\u001b[0m \u001b[0;34m\u001b[0m\u001b[0m\n\u001b[1;32m      5\u001b[0m div.cell { /* Tunes the space between cells */\n",
      "\u001b[0;31mNameError\u001b[0m: name 'HTML' is not defined"
     ]
    }
   ],
   "source": [
    "HTML(\n",
    "\"\"\"\n",
    "<style>\n",
    "\n",
    "div.cell { /* Tunes the space between cells */\n",
    "margin-top:1em;\n",
    "margin-bottom:1em;\n",
    "}\n",
    "\n",
    "div.text_cell_render h1 { /* Main titles bigger, centered */\n",
    "text-align:center;\n",
    "}\n",
    "\n",
    "div.text_cell_render h2 { /*  Parts names nearer from text */\n",
    "margin-bottom: -0.4em;\n",
    "}\n",
    "\n",
    "\n",
    "div.text_cell_render { /* Customize text cells */\n",
    "font-size:1.1em;\n",
    "line-height:1.1em;\n",
    "padding-left:3em;\n",
    "padding-right:3em;\n",
    "color: rgb(127, 127, 127);\n",
    "}\n",
    "</style>\n",
    "\"\"\"\n",
    ")"
   ]
  },
  {
   "cell_type": "markdown",
   "metadata": {},
   "source": [
    "# <font color=\"magenta\"> indraViewer</font>\n",
    "\n",
    "This creates and empty object called <font color=\"magenta\"> indraViewer</font> which we then add functions to."
   ]
  },
  {
   "cell_type": "code",
   "execution_count": 8,
   "metadata": {
    "code_folding": [
     0
    ]
   },
   "outputs": [],
   "source": [
    "class IndraView():\n",
    "    pass"
   ]
  },
  {
   "cell_type": "markdown",
   "metadata": {},
   "source": [
    "# <font color=\"blue\">renderJSON</font>\n",
    "\n",
    "<font color=\"blue\">renderJSON</font> is a function that takes a json object as it's input and then creates an interactive gui for viewing it."
   ]
  },
  {
   "cell_type": "code",
   "execution_count": 10,
   "metadata": {
    "code_folding": [
     0
    ]
   },
   "outputs": [],
   "source": [
    "class renderJSON(object):\n",
    "    def __init__(self, json_data):\n",
    "        if isinstance(json_data, dict):\n",
    "            self.json_str = json.dumps(json_data)\n",
    "        else:\n",
    "            self.json_str = json_data\n",
    "        self.uuid = str(uuid.uuid4())\n",
    "        # This line is missed out in most of the versions of this script across the web, it is essential for this to work interleaved with print statements\n",
    "        self._ipython_display_()\n",
    "        \n",
    "    def _ipython_display_(self):\n",
    "        display(HTML('<div id=\"{}\" style=\"height: auto; width:100%;\"></div>'.format(self.uuid)))\n",
    "        display(HTML(\"\"\"<script>\n",
    "        require([\"https://rawgit.com/caldwell/renderjson/master/renderjson.js\"], function() {\n",
    "          renderjson.set_show_to_level(1)\n",
    "          document.getElementById('%s').appendChild(renderjson(%s))\n",
    "        });</script>\n",
    "        \"\"\" % (self.uuid, self.json_str)))"
   ]
  },
  {
   "cell_type": "code",
   "execution_count": 11,
   "metadata": {},
   "outputs": [],
   "source": [
    "IndraView.renderJSON  = renderJSON"
   ]
  },
  {
   "cell_type": "markdown",
   "metadata": {},
   "source": [
    "# <font color=\"blue\">viewStatements</font>\n",
    "\n",
    "<font color=\"blue\">viewStatements</font> uses <font color=\"blue\">renderJSON</font> to create a gui for viewing indra statements. It's input is an indra object that contains the variable <font color=\"blue\">someIndraObject.statements</font>"
   ]
  },
  {
   "cell_type": "code",
   "execution_count": 7,
   "metadata": {
    "code_folding": [
     0
    ]
   },
   "outputs": [],
   "source": [
    "def viewStatements( self, statements ): #biopax_processor): #<- replaced processor with statements\n",
    "\n",
    "    # Data processing\n",
    "    #statements = biopax_processor.statements      #<-- get all statements\n",
    "    categories =  np.array([ x.__class__.__name__ for x in statements ]) \n",
    "    unique_categories = list(set( categories ))   #<-- get all statement categories\n",
    "    \n",
    "    @interact( category= unique_categories )\n",
    "    def statement_json(category):\n",
    "        ites = np.where( np.array(categories) == category )[0]\n",
    "        to_show = np.array(statements)[ites]\n",
    "\n",
    "        @interact( statement= ( 0, len(to_show)-1 )  )\n",
    "        def statement_json2(statement):\n",
    "            display(HTML(\"<h4>Type <cod>indraView.statement</code> to access the currently visible statement using python\"))\n",
    "            self.statement = to_show[statement] #<-- saves statement to variable so that it's accesible for tests\n",
    "             \n",
    "            display(HTML(\"\"\"<h2>Statement</h2> <p>{0}<p> <h2>Dict</h2>\"\"\".format( str(self.statement) )))\n",
    "            self.renderJSON(self.statement.__dict__)\n",
    "\n",
    "            display(HTML(\"<h2>JSON</h2>\"))\n",
    "            self.renderJSON( self.statement.to_json() ) "
   ]
  },
  {
   "cell_type": "code",
   "execution_count": 8,
   "metadata": {},
   "outputs": [],
   "source": [
    "IndraView.viewStatements = viewStatements"
   ]
  },
  {
   "cell_type": "code",
   "execution_count": null,
   "metadata": {},
   "outputs": [],
   "source": []
  }
 ],
 "metadata": {
  "hide_input": false,
  "kernelspec": {
   "display_name": "Python 3",
   "language": "python",
   "name": "python3"
  },
  "language_info": {
   "codemirror_mode": {
    "name": "ipython",
    "version": 3
   },
   "file_extension": ".py",
   "mimetype": "text/x-python",
   "name": "python",
   "nbconvert_exporter": "python",
   "pygments_lexer": "ipython3",
   "version": "3.5.5"
  },
  "toc": {
   "base_numbering": 1,
   "nav_menu": {},
   "number_sections": true,
   "sideBar": true,
   "skip_h1_title": false,
   "title_cell": "Table of Contents",
   "title_sidebar": "Contents",
   "toc_cell": false,
   "toc_position": {},
   "toc_section_display": true,
   "toc_window_display": false
  },
  "varInspector": {
   "cols": {
    "lenName": 16,
    "lenType": 16,
    "lenVar": 40
   },
   "kernels_config": {
    "python": {
     "delete_cmd_postfix": "",
     "delete_cmd_prefix": "del ",
     "library": "var_list.py",
     "varRefreshCmd": "print(var_dic_list())"
    },
    "r": {
     "delete_cmd_postfix": ") ",
     "delete_cmd_prefix": "rm(",
     "library": "var_list.r",
     "varRefreshCmd": "cat(var_dic_list()) "
    }
   },
   "types_to_exclude": [
    "module",
    "function",
    "builtin_function_or_method",
    "instance",
    "_Feature"
   ],
   "window_display": false
  }
 },
 "nbformat": 4,
 "nbformat_minor": 2
}
