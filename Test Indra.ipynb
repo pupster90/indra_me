{
 "cells": [
  {
   "cell_type": "markdown",
   "metadata": {},
   "source": [
    "<font size=8 face=\"courier\" color=\"blue\">Indra Test</font>"
   ]
  },
  {
   "cell_type": "markdown",
   "metadata": {},
   "source": [
    "In this notebook we run our first initial tests of [Indra](https://indra.readthedocs.io/en/latest/)"
   ]
  },
  {
   "cell_type": "markdown",
   "metadata": {
    "heading_collapsed": true
   },
   "source": [
    "### Resources :"
   ]
  },
  {
   "cell_type": "markdown",
   "metadata": {
    "hidden": true
   },
   "source": [
    "* [Indra Documentation](https://indra.readthedocs.io/en/latest/)\n",
    "* [Academic Article](http://msb.embopress.org/content/msb/13/11/954.full.pdf)"
   ]
  },
  {
   "cell_type": "markdown",
   "metadata": {
    "heading_collapsed": true
   },
   "source": [
    "# Setup Notebook\n",
    "Download essential python packages. Setup notebook view and environmental variables."
   ]
  },
  {
   "cell_type": "code",
   "execution_count": 1,
   "metadata": {
    "hidden": true
   },
   "outputs": [
    {
     "data": {
      "text/html": [
       "<style> *{margin:0; padding:0;} html, body,              .container{margin:0;!important padding:0;!important}              .container { width:100% !important;}</style>"
      ],
      "text/plain": [
       "<IPython.core.display.HTML object>"
      ]
     },
     "metadata": {},
     "output_type": "display_data"
    }
   ],
   "source": [
    "from IPython.core.display import HTML, display\n",
    "# to reverse this feature restart kernel with \"restart and clear output\"\n",
    "display(HTML(\"<style> *{margin:0; padding:0;} html, body, \\\n",
    "             .container{margin:0;!important padding:0;!important} \\\n",
    "             .container { width:100% !important;}</style>\"))"
   ]
  },
  {
   "cell_type": "markdown",
   "metadata": {
    "hidden": true
   },
   "source": [
    "For this code to work we must install the java environment as follows:"
   ]
  },
  {
   "cell_type": "code",
   "execution_count": 2,
   "metadata": {
    "hidden": true
   },
   "outputs": [
    {
     "name": "stdout",
     "output_type": "stream",
     "text": [
      "env: JAVA_HOME=/usr/lib/jvm/java-8-openjdk-amd64\n"
     ]
    }
   ],
   "source": [
    "%env JAVA_HOME=/usr/lib/jvm/java-8-openjdk-amd64"
   ]
  },
  {
   "cell_type": "markdown",
   "metadata": {
    "hidden": true
   },
   "source": [
    "Import essential python packages"
   ]
  },
  {
   "cell_type": "code",
   "execution_count": 3,
   "metadata": {
    "hidden": true
   },
   "outputs": [],
   "source": [
    "import sys\n",
    "import numpy as np\n",
    "from pprint import pprint\n",
    "import inspect"
   ]
  },
  {
   "cell_type": "markdown",
   "metadata": {
    "hidden": true
   },
   "source": [
    "Import essential jupyter packages"
   ]
  },
  {
   "cell_type": "code",
   "execution_count": 4,
   "metadata": {
    "hidden": true
   },
   "outputs": [],
   "source": [
    "%matplotlib inline\n",
    "import matplotlib.pyplot as plt"
   ]
  },
  {
   "cell_type": "markdown",
   "metadata": {
    "hidden": true
   },
   "source": [
    "Import Indra Modules"
   ]
  },
  {
   "cell_type": "code",
   "execution_count": 5,
   "metadata": {
    "hidden": true
   },
   "outputs": [],
   "source": [
    "sys.path.append(\"/root/Documents/indra\")\n",
    "from indra.sources import biopax\n",
    "from indra.sources import trips\n",
    "from indra import assemblers\n",
    "from indra.assemblers import cx_assembler"
   ]
  },
  {
   "cell_type": "code",
   "execution_count": 6,
   "metadata": {
    "hidden": true
   },
   "outputs": [],
   "source": [
    "import ndex2"
   ]
  },
  {
   "cell_type": "markdown",
   "metadata": {
    "heading_collapsed": true
   },
   "source": [
    "# Example from Paper\n",
    "Here we test the example from this [Academic Article](http://msb.embopress.org/content/msb/13/11/954.full.pdf)"
   ]
  },
  {
   "cell_type": "code",
   "execution_count": 7,
   "metadata": {
    "hidden": true
   },
   "outputs": [
    {
     "data": {
      "text/plain": [
       "[Phosphorylation(MAP2K1(), MAPK1(), T, 185),\n",
       " Phosphorylation(MAP2K1(), MAPK1(), Y, 187)]"
      ]
     },
     "execution_count": 7,
     "metadata": {},
     "output_type": "execute_result"
    }
   ],
   "source": [
    "# parse text description into indra statements\n",
    "text = 'MEK1 phosphorylates ERK2 at threonine 185 and tyrosine 187'\n",
    "trips_processor = trips.process_text(text)\n",
    "statements = trips_processor.statements\n",
    "statements"
   ]
  },
  {
   "cell_type": "code",
   "execution_count": 8,
   "metadata": {
    "hidden": true
   },
   "outputs": [
    {
     "name": "stderr",
     "output_type": "stream",
     "text": [
      "INFO: [2018-05-31 19:17:59] indra/pysb_assembler - Running PySB Preassembler replace activities\n",
      "WARNING: [2018-05-31 19:17:59] indra/pysb_assembler - Rule MAP2K1_dissoc_MAPK1 already in model! Skipping.\n"
     ]
    }
   ],
   "source": [
    "# Assemble statements into executable model\n",
    "pa = assemblers.PysbAssembler()\n",
    "pa.add_statements(statements)\n",
    "model = pa.make_model(policies='two_step')"
   ]
  },
  {
   "cell_type": "markdown",
   "metadata": {
    "hidden": true
   },
   "source": [
    "<font color=\"magenta\">sigh... I guess I need to instal [BioNetGen](http://www.csb.pitt.edu/Faculty/Faeder/?page_id=409) to simulate]</font>"
   ]
  },
  {
   "cell_type": "code",
   "execution_count": 9,
   "metadata": {
    "code_folding": [],
    "hidden": true,
    "scrolled": true
   },
   "outputs": [
    {
     "ename": "NameError",
     "evalue": "name 'odesolve' is not defined",
     "output_type": "error",
     "traceback": [
      "\u001b[0;31m---------------------------------------------------------------------------\u001b[0m",
      "\u001b[0;31mNameError\u001b[0m                                 Traceback (most recent call last)",
      "\u001b[0;32m<ipython-input-9-4e87a35076bf>\u001b[0m in \u001b[0;36m<module>\u001b[0;34m()\u001b[0m\n\u001b[1;32m      1\u001b[0m \u001b[0;31m# simulate model\u001b[0m\u001b[0;34m\u001b[0m\u001b[0;34m\u001b[0m\u001b[0m\n\u001b[1;32m      2\u001b[0m \u001b[0mtime\u001b[0m \u001b[0;34m=\u001b[0m \u001b[0mnp\u001b[0m\u001b[0;34m.\u001b[0m\u001b[0mlinspace\u001b[0m\u001b[0;34m(\u001b[0m\u001b[0;36m0\u001b[0m\u001b[0;34m,\u001b[0m\u001b[0;36m300\u001b[0m\u001b[0;34m)\u001b[0m\u001b[0;34m\u001b[0m\u001b[0m\n\u001b[0;32m----> 3\u001b[0;31m \u001b[0msim_result\u001b[0m \u001b[0;34m=\u001b[0m \u001b[0modesolve\u001b[0m\u001b[0;34m(\u001b[0m\u001b[0mmodel\u001b[0m\u001b[0;34m,\u001b[0m \u001b[0mtime\u001b[0m\u001b[0;34m)\u001b[0m\u001b[0;34m\u001b[0m\u001b[0m\n\u001b[0m\u001b[1;32m      4\u001b[0m \u001b[0;34m\u001b[0m\u001b[0m\n\u001b[1;32m      5\u001b[0m \u001b[0;31m#plt.plot(tspan, y['substrate'], label=\"substrate\")\u001b[0m\u001b[0;34m\u001b[0m\u001b[0;34m\u001b[0m\u001b[0m\n",
      "\u001b[0;31mNameError\u001b[0m: name 'odesolve' is not defined"
     ]
    }
   ],
   "source": [
    "# simulate model\n",
    "time = np.linspace(0,300)\n",
    "sim_result = odesolve(model, time)\n",
    "\n",
    "#plt.plot(tspan, y['substrate'], label=\"substrate\")\n",
    "#plt.plot(tspan, y['e_total'], label=\"e_total\")\n",
    "#plt.plot(tspan, y['e_free'], label=\"e_free\")\n",
    "#plt.plot(tspan, y['product'], label=\"product\")\n",
    "#plt.plot(tspan, y['complex'], label=\"complex\")\n",
    "#plt.xlabel('time')\n",
    "#plt.ylabel('population')\n",
    "#plt.ylim(0,110)\n",
    "#plt.legend(loc=0)\n",
    "#plt.show()"
   ]
  },
  {
   "cell_type": "markdown",
   "metadata": {
    "heading_collapsed": true
   },
   "source": [
    "# QuickStart BioPax Example\n",
    "This notebook runs the basic [getting started](https://indra.readthedocs.io/en/latest/getting_started.html) example of the biopax module."
   ]
  },
  {
   "cell_type": "markdown",
   "metadata": {
    "hidden": true
   },
   "source": [
    "Here is the example code"
   ]
  },
  {
   "cell_type": "code",
   "execution_count": 10,
   "metadata": {
    "hidden": true
   },
   "outputs": [
    {
     "name": "stderr",
     "output_type": "stream",
     "text": [
      "INFO: [2018-05-31 19:18:20] indra/biopax - Sending Pathway Commons query with parameters: \n",
      "INFO: [2018-05-31 19:18:20] indra/biopax -  datasource: ['wp', 'smpdb', 'reconx', 'reactome', 'psp', 'pid', 'panther', 'netpath', 'msigdb', 'mirtarbase', 'kegg', 'intact', 'inoh', 'humancyc', 'hprd', 'drugbank', 'dip', 'corum']\n",
      "INFO: [2018-05-31 19:18:20] indra/biopax -  source: BRAF,MAPK3\n",
      "INFO: [2018-05-31 19:18:20] indra/biopax -  organism: 9606\n",
      "INFO: [2018-05-31 19:18:20] indra/biopax -  limit: 2\n",
      "INFO: [2018-05-31 19:18:20] indra/biopax -  format: BIOPAX\n",
      "INFO: [2018-05-31 19:18:20] indra/biopax -  kind: pathsbetween\n",
      "INFO: [2018-05-31 19:18:20] indra/biopax - Sending Pathway Commons query...\n",
      "INFO: [2018-05-31 19:18:23] indra/biopax - Pathway Commons query returned a model...\n"
     ]
    }
   ],
   "source": [
    "proteins = ['BRAF', 'MAPK3']\n",
    "limit = 2\n",
    "biopax_processor = biopax.process_pc_pathsbetween(proteins, limit)"
   ]
  },
  {
   "cell_type": "markdown",
   "metadata": {
    "hidden": true
   },
   "source": [
    "We see that the output is indra statements."
   ]
  },
  {
   "cell_type": "code",
   "execution_count": 11,
   "metadata": {
    "hidden": true
   },
   "outputs": [
    {
     "data": {
      "text/plain": [
       "[Dephosphorylation(DUSP6(), MAPK3(), T, 201),\n",
       " Dephosphorylation(DUSP6(), MAPK3(), Y, 203),\n",
       " Dephosphorylation(DUSP6(), MAPK3(), T, 201),\n",
       " Dephosphorylation(DUSP6(), MAPK3(), Y, 203),\n",
       " Dephosphorylation(DUSP6(), MAPK1(), Y, 184),\n",
       " Dephosphorylation(DUSP6(), MAPK1(), T, 182),\n",
       " Dephosphorylation(DUSP1(), MAPK3(), T, 201),\n",
       " Dephosphorylation(DUSP1(), MAPK3(), Y, 203),\n",
       " Dephosphorylation(DUSP1(), MAPK3(), T, 201),\n",
       " Dephosphorylation(DUSP1(), MAPK3(), Y, 203),\n",
       " Dephosphorylation(DUSP1(), MAPK1(), Y, 184),\n",
       " Dephosphorylation(DUSP1(), MAPK1(), T, 182),\n",
       " Phosphorylation(ARAF(), MAP2K2()),\n",
       " Phosphorylation(ARAF(), MAP2K1()),\n",
       " Phosphorylation(BRAF(), MAP2K2()),\n",
       " Phosphorylation(BRAF(), MAP2K1()),\n",
       " Phosphorylation(RAF1(), MAP2K2()),\n",
       " Phosphorylation(RAF1(), MAP2K1()),\n",
       " Phosphorylation(BRAF(), MAP2K2(), S, 226),\n",
       " Phosphorylation(BRAF(), MAP2K2(), S, 222),\n",
       " Phosphorylation(BRAF(), MAP2K1(), S, 222),\n",
       " Phosphorylation(BRAF(), MAP2K1(), S, 218),\n",
       " Phosphorylation(BRAF(), MAP2K1(), S, 222),\n",
       " Phosphorylation(BRAF(), MAP2K1(), S, 218),\n",
       " Phosphorylation(MAP2K2(mods: (phosphorylation, S, 226), (phosphorylation, S, 222)), MAPK3(), T, 201),\n",
       " Phosphorylation(MAP2K2(mods: (phosphorylation, S, 226), (phosphorylation, S, 222)), MAPK3(), Y, 203),\n",
       " Phosphorylation(MAP2K1(mods: (phosphorylation, S, 222), (phosphorylation, S, 218)), MAPK3(), T, 201),\n",
       " Phosphorylation(MAP2K1(mods: (phosphorylation, S, 222), (phosphorylation, S, 218)), MAPK3(), Y, 203),\n",
       " Phosphorylation(MAP2K2(mods: (phosphorylation, S, 226), (phosphorylation, S, 222)), MAPK1(), Y, 184),\n",
       " Phosphorylation(MAP2K2(mods: (phosphorylation, S, 226), (phosphorylation, S, 222)), MAPK1(), T, 182),\n",
       " Phosphorylation(MAP2K1(mods: (phosphorylation, S, 222), (phosphorylation, S, 218)), MAPK1(), Y, 184),\n",
       " Phosphorylation(MAP2K1(mods: (phosphorylation, S, 222), (phosphorylation, S, 218)), MAPK1(), T, 182),\n",
       " Phosphorylation(MAP2K2(mods: (phosphorylation, S, 226), (phosphorylation, S, 222)), MAPK3(), T, 201),\n",
       " Phosphorylation(MAP2K2(mods: (phosphorylation, S, 226), (phosphorylation, S, 222)), MAPK3(), Y, 203),\n",
       " Phosphorylation(MAP2K1(mods: (phosphorylation, S, 222), (phosphorylation, S, 218)), MAPK3(), T, 201),\n",
       " Phosphorylation(MAP2K1(mods: (phosphorylation, S, 222), (phosphorylation, S, 218)), MAPK3(), Y, 203),\n",
       " Phosphorylation(MAP2K2(mods: (phosphorylation, S, 226), (phosphorylation, S, 222)), MAPK3(), T, 201),\n",
       " Phosphorylation(MAP2K2(mods: (phosphorylation, S, 226), (phosphorylation, S, 222)), MAPK3(), Y, 203),\n",
       " Phosphorylation(MAP2K1(mods: (phosphorylation, S, 222), (phosphorylation, S, 218)), MAPK3(), T, 201),\n",
       " Phosphorylation(MAP2K1(mods: (phosphorylation, S, 222), (phosphorylation, S, 218)), MAPK3(), Y, 203),\n",
       " Phosphorylation(MAP2K2(mods: (phosphorylation, S, 226), (phosphorylation, S, 222)), MAPK1(), Y, 184),\n",
       " Phosphorylation(MAP2K2(mods: (phosphorylation, S, 226), (phosphorylation, S, 222)), MAPK1(), T, 182),\n",
       " Phosphorylation(MAP2K1(mods: (phosphorylation, S, 222), (phosphorylation, S, 218)), MAPK1(), Y, 184),\n",
       " Phosphorylation(MAP2K1(mods: (phosphorylation, S, 222), (phosphorylation, S, 218)), MAPK1(), T, 182),\n",
       " Phosphorylation(MAP2K2(mods: (phosphorylation, S, 226), (phosphorylation, S, 222)), MAPK3(), T, 201),\n",
       " Phosphorylation(MAP2K2(mods: (phosphorylation, S, 226), (phosphorylation, S, 222)), MAPK3(), Y, 203),\n",
       " Phosphorylation(MAP2K1(mods: (phosphorylation, S, 222), (phosphorylation, S, 218)), MAPK3(), T, 201),\n",
       " Phosphorylation(MAP2K1(mods: (phosphorylation, S, 222), (phosphorylation, S, 218)), MAPK3(), Y, 203),\n",
       " Phosphorylation(MAP2K2(mods: (phosphorylation, S, 226), (phosphorylation, S, 222)), MAPK3(), T, 201),\n",
       " Phosphorylation(MAP2K2(mods: (phosphorylation, S, 226), (phosphorylation, S, 222)), MAPK3(), Y, 203),\n",
       " Phosphorylation(MAP2K1(mods: (phosphorylation, S, 222), (phosphorylation, S, 218)), MAPK3(), T, 201),\n",
       " Phosphorylation(MAP2K1(mods: (phosphorylation, S, 222), (phosphorylation, S, 218)), MAPK3(), Y, 203),\n",
       " Phosphorylation(MAP2K2(mods: (phosphorylation, S, 226), (phosphorylation, S, 222)), MAPK1(), Y, 184),\n",
       " Phosphorylation(MAP2K2(mods: (phosphorylation, S, 226), (phosphorylation, S, 222)), MAPK1(), T, 182),\n",
       " Phosphorylation(MAP2K1(mods: (phosphorylation, S, 222), (phosphorylation, S, 218)), MAPK1(), Y, 184),\n",
       " Phosphorylation(MAP2K1(mods: (phosphorylation, S, 222), (phosphorylation, S, 218)), MAPK1(), T, 182),\n",
       " Phosphorylation(MAP2K2(mods: (phosphorylation, S, 226), (phosphorylation, S, 222)), MAPK3(), T, 201),\n",
       " Phosphorylation(MAP2K2(mods: (phosphorylation, S, 226), (phosphorylation, S, 222)), MAPK3(), Y, 203),\n",
       " Phosphorylation(MAP2K1(mods: (phosphorylation, S, 222), (phosphorylation, S, 218)), MAPK3(), T, 201),\n",
       " Phosphorylation(MAP2K1(mods: (phosphorylation, S, 222), (phosphorylation, S, 218)), MAPK3(), Y, 203),\n",
       " Phosphorylation(MAP2K2(mods: (phosphorylation, S, 226), (phosphorylation, S, 222)), MAPK3(), T, 201),\n",
       " Phosphorylation(MAP2K2(mods: (phosphorylation, S, 226), (phosphorylation, S, 222)), MAPK3(), Y, 203),\n",
       " Phosphorylation(MAP2K1(mods: (phosphorylation, S, 222), (phosphorylation, S, 218)), MAPK3(), T, 201),\n",
       " Phosphorylation(MAP2K1(mods: (phosphorylation, S, 222), (phosphorylation, S, 218)), MAPK3(), Y, 203),\n",
       " Phosphorylation(MAP2K2(mods: (phosphorylation, S, 226), (phosphorylation, S, 222)), MAPK1(), Y, 184),\n",
       " Phosphorylation(MAP2K2(mods: (phosphorylation, S, 226), (phosphorylation, S, 222)), MAPK1(), T, 182),\n",
       " Phosphorylation(MAP2K1(mods: (phosphorylation, S, 222), (phosphorylation, S, 218)), MAPK1(), Y, 184),\n",
       " Phosphorylation(MAP2K1(mods: (phosphorylation, S, 222), (phosphorylation, S, 218)), MAPK1(), T, 182),\n",
       " Phosphorylation(MAP2K2(mods: (phosphorylation, S, 226), (phosphorylation, S, 222)), MAPK3(), T, 201),\n",
       " Phosphorylation(MAP2K2(mods: (phosphorylation, S, 226), (phosphorylation, S, 222)), MAPK3(), Y, 203),\n",
       " Phosphorylation(MAP2K1(mods: (phosphorylation, S, 222), (phosphorylation, S, 218)), MAPK3(), T, 201),\n",
       " Phosphorylation(MAP2K1(mods: (phosphorylation, S, 222), (phosphorylation, S, 218)), MAPK3(), Y, 203),\n",
       " Phosphorylation(ARAF(), MAP2K2()),\n",
       " Phosphorylation(ARAF(), MAP2K2()),\n",
       " Phosphorylation(ARAF(), MAP2K1()),\n",
       " Phosphorylation(ARAF(), MAP2K1()),\n",
       " Phosphorylation(BRAF(), MAP2K2()),\n",
       " Phosphorylation(BRAF(), MAP2K2()),\n",
       " Phosphorylation(BRAF(), MAP2K1()),\n",
       " Phosphorylation(BRAF(), MAP2K1()),\n",
       " Phosphorylation(RAF1(), MAP2K2()),\n",
       " Phosphorylation(RAF1(), MAP2K2()),\n",
       " Phosphorylation(RAF1(), MAP2K1()),\n",
       " Phosphorylation(RAF1(), MAP2K1()),\n",
       " Phosphorylation(SRC(mods: (phosphorylation, Y, 419)), RAF1(mods: (phosphorylation, S, 621)), T, 491),\n",
       " Phosphorylation(SRC(mods: (phosphorylation, Y, 419)), RAF1(mods: (phosphorylation, S, 621)), S, 338),\n",
       " Phosphorylation(SRC(mods: (phosphorylation, Y, 419)), RAF1(mods: (phosphorylation, S, 621)), S, 494),\n",
       " Phosphorylation(SRC(mods: (phosphorylation, Y, 419)), RAF1(mods: (phosphorylation, S, 621)), Y, 341),\n",
       " Phosphorylation(JAK2(), RAF1(mods: (phosphorylation, S, 621)), T, 491),\n",
       " Phosphorylation(JAK2(), RAF1(mods: (phosphorylation, S, 621)), S, 338),\n",
       " Phosphorylation(JAK2(), RAF1(mods: (phosphorylation, S, 621)), S, 494),\n",
       " Phosphorylation(JAK2(), RAF1(mods: (phosphorylation, S, 621)), Y, 341),\n",
       " Phosphorylation(BRAF(mods: (phosphorylation, S, 602), (phosphorylation, S, 729), (phosphorylation, S, 445), (phosphorylation, T, 599)), RAF1(mods: (phosphorylation, S, 621)), T, 491),\n",
       " Phosphorylation(BRAF(mods: (phosphorylation, S, 602), (phosphorylation, S, 729), (phosphorylation, S, 445), (phosphorylation, T, 599)), RAF1(mods: (phosphorylation, S, 621)), S, 338),\n",
       " Phosphorylation(BRAF(mods: (phosphorylation, S, 602), (phosphorylation, S, 729), (phosphorylation, S, 445), (phosphorylation, T, 599)), RAF1(mods: (phosphorylation, S, 621)), S, 494),\n",
       " Phosphorylation(BRAF(mods: (phosphorylation, S, 602), (phosphorylation, S, 729), (phosphorylation, S, 445), (phosphorylation, T, 599)), RAF1(mods: (phosphorylation, S, 621)), Y, 341),\n",
       " Phosphorylation(RAF1(mods: (phosphorylation, T, 491), (phosphorylation, S, 338), (phosphorylation, S, 494), (phosphorylation, S, 621), (phosphorylation, Y, 341)), RAF1(mods: (phosphorylation, S, 621)), T, 491),\n",
       " Phosphorylation(RAF1(mods: (phosphorylation, T, 491), (phosphorylation, S, 338), (phosphorylation, S, 494), (phosphorylation, S, 621), (phosphorylation, Y, 341)), RAF1(mods: (phosphorylation, S, 621)), S, 338),\n",
       " Phosphorylation(RAF1(mods: (phosphorylation, T, 491), (phosphorylation, S, 338), (phosphorylation, S, 494), (phosphorylation, S, 621), (phosphorylation, Y, 341)), RAF1(mods: (phosphorylation, S, 621)), S, 494),\n",
       " Phosphorylation(RAF1(mods: (phosphorylation, T, 491), (phosphorylation, S, 338), (phosphorylation, S, 494), (phosphorylation, S, 621), (phosphorylation, Y, 341)), RAF1(mods: (phosphorylation, S, 621)), Y, 341),\n",
       " Phosphorylation(p-2S MAP2K1:p-2S MAPK2K2 heterodimer(), RAF1(mods: (phosphorylation, S, 621)), T, 491),\n",
       " Phosphorylation(p-2S MAP2K1:p-2S MAPK2K2 heterodimer(), RAF1(mods: (phosphorylation, S, 621)), S, 338),\n",
       " Phosphorylation(p-2S MAP2K1:p-2S MAPK2K2 heterodimer(), RAF1(mods: (phosphorylation, S, 621)), S, 494),\n",
       " Phosphorylation(p-2S MAP2K1:p-2S MAPK2K2 heterodimer(), RAF1(mods: (phosphorylation, S, 621)), Y, 341),\n",
       " Phosphorylation(p-S222,S226 MAP2K2 dimer(), RAF1(mods: (phosphorylation, S, 621)), T, 491),\n",
       " Phosphorylation(p-S222,S226 MAP2K2 dimer(), RAF1(mods: (phosphorylation, S, 621)), S, 338),\n",
       " Phosphorylation(p-S222,S226 MAP2K2 dimer(), RAF1(mods: (phosphorylation, S, 621)), S, 494),\n",
       " Phosphorylation(p-S222,S226 MAP2K2 dimer(), RAF1(mods: (phosphorylation, S, 621)), Y, 341),\n",
       " Phosphorylation(p-S218,S222 MAP2K1 dimer(), RAF1(mods: (phosphorylation, S, 621)), T, 491),\n",
       " Phosphorylation(p-S218,S222 MAP2K1 dimer(), RAF1(mods: (phosphorylation, S, 621)), S, 338),\n",
       " Phosphorylation(p-S218,S222 MAP2K1 dimer(), RAF1(mods: (phosphorylation, S, 621)), S, 494),\n",
       " Phosphorylation(p-S218,S222 MAP2K1 dimer(), RAF1(mods: (phosphorylation, S, 621)), Y, 341),\n",
       " Phosphorylation(ARAF(mods: (phosphorylation, T, 452), (phosphorylation, S, 299), (phosphorylation, Y, 302), (phosphorylation, S, 576), (phosphorylation, T, 455)), RAF1(mods: (phosphorylation, S, 621)), T, 491),\n",
       " Phosphorylation(ARAF(mods: (phosphorylation, T, 452), (phosphorylation, S, 299), (phosphorylation, Y, 302), (phosphorylation, S, 576), (phosphorylation, T, 455)), RAF1(mods: (phosphorylation, S, 621)), S, 338),\n",
       " Phosphorylation(ARAF(mods: (phosphorylation, T, 452), (phosphorylation, S, 299), (phosphorylation, Y, 302), (phosphorylation, S, 576), (phosphorylation, T, 455)), RAF1(mods: (phosphorylation, S, 621)), S, 494),\n",
       " Phosphorylation(ARAF(mods: (phosphorylation, T, 452), (phosphorylation, S, 299), (phosphorylation, Y, 302), (phosphorylation, S, 576), (phosphorylation, T, 455)), RAF1(mods: (phosphorylation, S, 621)), Y, 341),\n",
       " Phosphorylation(SRC(mods: (phosphorylation, Y, 419)), ARAF(mods: (phosphorylation, S, 576)), T, 452),\n",
       " Phosphorylation(SRC(mods: (phosphorylation, Y, 419)), ARAF(mods: (phosphorylation, S, 576)), S, 299),\n",
       " Phosphorylation(SRC(mods: (phosphorylation, Y, 419)), ARAF(mods: (phosphorylation, S, 576)), Y, 302),\n",
       " Phosphorylation(SRC(mods: (phosphorylation, Y, 419)), ARAF(mods: (phosphorylation, S, 576)), T, 455),\n",
       " Phosphorylation(JAK2(), ARAF(mods: (phosphorylation, S, 576)), T, 452),\n",
       " Phosphorylation(JAK2(), ARAF(mods: (phosphorylation, S, 576)), S, 299),\n",
       " Phosphorylation(JAK2(), ARAF(mods: (phosphorylation, S, 576)), Y, 302),\n",
       " Phosphorylation(JAK2(), ARAF(mods: (phosphorylation, S, 576)), T, 455),\n",
       " Phosphorylation(BRAF(mods: (phosphorylation, S, 602), (phosphorylation, S, 729), (phosphorylation, S, 445), (phosphorylation, T, 599)), ARAF(mods: (phosphorylation, S, 576)), T, 452),\n",
       " Phosphorylation(BRAF(mods: (phosphorylation, S, 602), (phosphorylation, S, 729), (phosphorylation, S, 445), (phosphorylation, T, 599)), ARAF(mods: (phosphorylation, S, 576)), S, 299),\n",
       " Phosphorylation(BRAF(mods: (phosphorylation, S, 602), (phosphorylation, S, 729), (phosphorylation, S, 445), (phosphorylation, T, 599)), ARAF(mods: (phosphorylation, S, 576)), Y, 302),\n",
       " Phosphorylation(BRAF(mods: (phosphorylation, S, 602), (phosphorylation, S, 729), (phosphorylation, S, 445), (phosphorylation, T, 599)), ARAF(mods: (phosphorylation, S, 576)), T, 455),\n",
       " Phosphorylation(RAF1(mods: (phosphorylation, T, 491), (phosphorylation, S, 338), (phosphorylation, S, 494), (phosphorylation, S, 621), (phosphorylation, Y, 341)), ARAF(mods: (phosphorylation, S, 576)), T, 452),\n",
       " Phosphorylation(RAF1(mods: (phosphorylation, T, 491), (phosphorylation, S, 338), (phosphorylation, S, 494), (phosphorylation, S, 621), (phosphorylation, Y, 341)), ARAF(mods: (phosphorylation, S, 576)), S, 299),\n",
       " Phosphorylation(RAF1(mods: (phosphorylation, T, 491), (phosphorylation, S, 338), (phosphorylation, S, 494), (phosphorylation, S, 621), (phosphorylation, Y, 341)), ARAF(mods: (phosphorylation, S, 576)), Y, 302),\n",
       " Phosphorylation(RAF1(mods: (phosphorylation, T, 491), (phosphorylation, S, 338), (phosphorylation, S, 494), (phosphorylation, S, 621), (phosphorylation, Y, 341)), ARAF(mods: (phosphorylation, S, 576)), T, 455),\n",
       " Phosphorylation(p-2S MAP2K1:p-2S MAPK2K2 heterodimer(), ARAF(mods: (phosphorylation, S, 576)), T, 452),\n",
       " Phosphorylation(p-2S MAP2K1:p-2S MAPK2K2 heterodimer(), ARAF(mods: (phosphorylation, S, 576)), S, 299),\n",
       " Phosphorylation(p-2S MAP2K1:p-2S MAPK2K2 heterodimer(), ARAF(mods: (phosphorylation, S, 576)), Y, 302),\n",
       " Phosphorylation(p-2S MAP2K1:p-2S MAPK2K2 heterodimer(), ARAF(mods: (phosphorylation, S, 576)), T, 455),\n",
       " Phosphorylation(p-S222,S226 MAP2K2 dimer(), ARAF(mods: (phosphorylation, S, 576)), T, 452),\n",
       " Phosphorylation(p-S222,S226 MAP2K2 dimer(), ARAF(mods: (phosphorylation, S, 576)), S, 299),\n",
       " Phosphorylation(p-S222,S226 MAP2K2 dimer(), ARAF(mods: (phosphorylation, S, 576)), Y, 302),\n",
       " Phosphorylation(p-S222,S226 MAP2K2 dimer(), ARAF(mods: (phosphorylation, S, 576)), T, 455),\n",
       " Phosphorylation(p-S218,S222 MAP2K1 dimer(), ARAF(mods: (phosphorylation, S, 576)), T, 452),\n",
       " Phosphorylation(p-S218,S222 MAP2K1 dimer(), ARAF(mods: (phosphorylation, S, 576)), S, 299),\n",
       " Phosphorylation(p-S218,S222 MAP2K1 dimer(), ARAF(mods: (phosphorylation, S, 576)), Y, 302),\n",
       " Phosphorylation(p-S218,S222 MAP2K1 dimer(), ARAF(mods: (phosphorylation, S, 576)), T, 455),\n",
       " Phosphorylation(ARAF(mods: (phosphorylation, T, 452), (phosphorylation, S, 299), (phosphorylation, Y, 302), (phosphorylation, S, 576), (phosphorylation, T, 455)), ARAF(mods: (phosphorylation, S, 576)), T, 452),\n",
       " Phosphorylation(ARAF(mods: (phosphorylation, T, 452), (phosphorylation, S, 299), (phosphorylation, Y, 302), (phosphorylation, S, 576), (phosphorylation, T, 455)), ARAF(mods: (phosphorylation, S, 576)), S, 299),\n",
       " Phosphorylation(ARAF(mods: (phosphorylation, T, 452), (phosphorylation, S, 299), (phosphorylation, Y, 302), (phosphorylation, S, 576), (phosphorylation, T, 455)), ARAF(mods: (phosphorylation, S, 576)), Y, 302),\n",
       " Phosphorylation(ARAF(mods: (phosphorylation, T, 452), (phosphorylation, S, 299), (phosphorylation, Y, 302), (phosphorylation, S, 576), (phosphorylation, T, 455)), ARAF(mods: (phosphorylation, S, 576)), T, 455),\n",
       " Phosphorylation(SRC(mods: (phosphorylation, Y, 419)), KSR1(mods: (phosphorylation, S, 311)), Y, 552),\n",
       " Phosphorylation(JAK2(), KSR1(mods: (phosphorylation, S, 311)), Y, 552),\n",
       " Phosphorylation(BRAF(mods: (phosphorylation, S, 602), (phosphorylation, S, 729), (phosphorylation, S, 445), (phosphorylation, T, 599)), KSR1(mods: (phosphorylation, S, 311)), Y, 552),\n",
       " Phosphorylation(RAF1(mods: (phosphorylation, T, 491), (phosphorylation, S, 338), (phosphorylation, S, 494), (phosphorylation, S, 621), (phosphorylation, Y, 341)), KSR1(mods: (phosphorylation, S, 311)), Y, 552),\n",
       " Phosphorylation(p-2S MAP2K1:p-2S MAPK2K2 heterodimer(), KSR1(mods: (phosphorylation, S, 311)), Y, 552),\n",
       " Phosphorylation(p-S222,S226 MAP2K2 dimer(), KSR1(mods: (phosphorylation, S, 311)), Y, 552),\n",
       " Phosphorylation(p-S218,S222 MAP2K1 dimer(), KSR1(mods: (phosphorylation, S, 311)), Y, 552),\n",
       " Phosphorylation(ARAF(mods: (phosphorylation, T, 452), (phosphorylation, S, 299), (phosphorylation, Y, 302), (phosphorylation, S, 576), (phosphorylation, T, 455)), KSR1(mods: (phosphorylation, S, 311)), Y, 552),\n",
       " Phosphorylation(SRC(mods: (phosphorylation, Y, 419)), RAF1(mods: (phosphorylation, S, 621)), T, 491),\n",
       " Phosphorylation(SRC(mods: (phosphorylation, Y, 419)), RAF1(mods: (phosphorylation, S, 621)), S, 338),\n",
       " Phosphorylation(SRC(mods: (phosphorylation, Y, 419)), RAF1(mods: (phosphorylation, S, 621)), S, 494),\n",
       " Phosphorylation(SRC(mods: (phosphorylation, Y, 419)), RAF1(mods: (phosphorylation, S, 621)), Y, 341),\n",
       " Phosphorylation(JAK2(), RAF1(mods: (phosphorylation, S, 621)), T, 491),\n",
       " Phosphorylation(JAK2(), RAF1(mods: (phosphorylation, S, 621)), S, 338),\n",
       " Phosphorylation(JAK2(), RAF1(mods: (phosphorylation, S, 621)), S, 494),\n",
       " Phosphorylation(JAK2(), RAF1(mods: (phosphorylation, S, 621)), Y, 341),\n",
       " Phosphorylation(BRAF(mods: (phosphorylation, S, 602), (phosphorylation, S, 729), (phosphorylation, S, 445), (phosphorylation, T, 599)), RAF1(mods: (phosphorylation, S, 621)), T, 491),\n",
       " Phosphorylation(BRAF(mods: (phosphorylation, S, 602), (phosphorylation, S, 729), (phosphorylation, S, 445), (phosphorylation, T, 599)), RAF1(mods: (phosphorylation, S, 621)), S, 338),\n",
       " Phosphorylation(BRAF(mods: (phosphorylation, S, 602), (phosphorylation, S, 729), (phosphorylation, S, 445), (phosphorylation, T, 599)), RAF1(mods: (phosphorylation, S, 621)), S, 494),\n",
       " Phosphorylation(BRAF(mods: (phosphorylation, S, 602), (phosphorylation, S, 729), (phosphorylation, S, 445), (phosphorylation, T, 599)), RAF1(mods: (phosphorylation, S, 621)), Y, 341),\n",
       " Phosphorylation(RAF1(mods: (phosphorylation, T, 491), (phosphorylation, S, 338), (phosphorylation, S, 494), (phosphorylation, S, 621), (phosphorylation, Y, 341)), RAF1(mods: (phosphorylation, S, 621)), T, 491),\n",
       " Phosphorylation(RAF1(mods: (phosphorylation, T, 491), (phosphorylation, S, 338), (phosphorylation, S, 494), (phosphorylation, S, 621), (phosphorylation, Y, 341)), RAF1(mods: (phosphorylation, S, 621)), S, 338),\n",
       " Phosphorylation(RAF1(mods: (phosphorylation, T, 491), (phosphorylation, S, 338), (phosphorylation, S, 494), (phosphorylation, S, 621), (phosphorylation, Y, 341)), RAF1(mods: (phosphorylation, S, 621)), S, 494),\n",
       " Phosphorylation(RAF1(mods: (phosphorylation, T, 491), (phosphorylation, S, 338), (phosphorylation, S, 494), (phosphorylation, S, 621), (phosphorylation, Y, 341)), RAF1(mods: (phosphorylation, S, 621)), Y, 341),\n",
       " Phosphorylation(p-2S MAP2K1:p-2S MAPK2K2 heterodimer(), RAF1(mods: (phosphorylation, S, 621)), T, 491),\n",
       " Phosphorylation(p-2S MAP2K1:p-2S MAPK2K2 heterodimer(), RAF1(mods: (phosphorylation, S, 621)), S, 338),\n",
       " Phosphorylation(p-2S MAP2K1:p-2S MAPK2K2 heterodimer(), RAF1(mods: (phosphorylation, S, 621)), S, 494),\n",
       " Phosphorylation(p-2S MAP2K1:p-2S MAPK2K2 heterodimer(), RAF1(mods: (phosphorylation, S, 621)), Y, 341),\n",
       " Phosphorylation(p-S222,S226 MAP2K2 dimer(), RAF1(mods: (phosphorylation, S, 621)), T, 491),\n",
       " Phosphorylation(p-S222,S226 MAP2K2 dimer(), RAF1(mods: (phosphorylation, S, 621)), S, 338),\n",
       " Phosphorylation(p-S222,S226 MAP2K2 dimer(), RAF1(mods: (phosphorylation, S, 621)), S, 494),\n",
       " Phosphorylation(p-S222,S226 MAP2K2 dimer(), RAF1(mods: (phosphorylation, S, 621)), Y, 341),\n",
       " Phosphorylation(p-S218,S222 MAP2K1 dimer(), RAF1(mods: (phosphorylation, S, 621)), T, 491),\n",
       " Phosphorylation(p-S218,S222 MAP2K1 dimer(), RAF1(mods: (phosphorylation, S, 621)), S, 338),\n",
       " Phosphorylation(p-S218,S222 MAP2K1 dimer(), RAF1(mods: (phosphorylation, S, 621)), S, 494),\n",
       " Phosphorylation(p-S218,S222 MAP2K1 dimer(), RAF1(mods: (phosphorylation, S, 621)), Y, 341),\n",
       " Phosphorylation(ARAF(mods: (phosphorylation, T, 452), (phosphorylation, S, 299), (phosphorylation, Y, 302), (phosphorylation, S, 576), (phosphorylation, T, 455)), RAF1(mods: (phosphorylation, S, 621)), T, 491),\n",
       " Phosphorylation(ARAF(mods: (phosphorylation, T, 452), (phosphorylation, S, 299), (phosphorylation, Y, 302), (phosphorylation, S, 576), (phosphorylation, T, 455)), RAF1(mods: (phosphorylation, S, 621)), S, 338),\n",
       " Phosphorylation(ARAF(mods: (phosphorylation, T, 452), (phosphorylation, S, 299), (phosphorylation, Y, 302), (phosphorylation, S, 576), (phosphorylation, T, 455)), RAF1(mods: (phosphorylation, S, 621)), S, 494),\n",
       " Phosphorylation(ARAF(mods: (phosphorylation, T, 452), (phosphorylation, S, 299), (phosphorylation, Y, 302), (phosphorylation, S, 576), (phosphorylation, T, 455)), RAF1(mods: (phosphorylation, S, 621)), Y, 341),\n",
       " Phosphorylation(SRC(mods: (phosphorylation, Y, 419)), AGTRAP(mods: (phosphorylation, S, 729), (phosphorylation, S, 445)), S, 602),\n",
       " Phosphorylation(SRC(mods: (phosphorylation, Y, 419)), AGTRAP(mods: (phosphorylation, S, 729), (phosphorylation, S, 445)), T, 599),\n",
       " Phosphorylation(JAK2(), AGTRAP(mods: (phosphorylation, S, 729), (phosphorylation, S, 445)), S, 602),\n",
       " Phosphorylation(JAK2(), AGTRAP(mods: (phosphorylation, S, 729), (phosphorylation, S, 445)), T, 599),\n",
       " Phosphorylation(BRAF(mods: (phosphorylation, S, 602), (phosphorylation, S, 729), (phosphorylation, S, 445), (phosphorylation, T, 599)), AGTRAP(mods: (phosphorylation, S, 729), (phosphorylation, S, 445)), S, 602),\n",
       " Phosphorylation(BRAF(mods: (phosphorylation, S, 602), (phosphorylation, S, 729), (phosphorylation, S, 445), (phosphorylation, T, 599)), AGTRAP(mods: (phosphorylation, S, 729), (phosphorylation, S, 445)), T, 599),\n",
       " Phosphorylation(RAF1(mods: (phosphorylation, T, 491), (phosphorylation, S, 338), (phosphorylation, S, 494), (phosphorylation, S, 621), (phosphorylation, Y, 341)), AGTRAP(mods: (phosphorylation, S, 729), (phosphorylation, S, 445)), S, 602),\n",
       " Phosphorylation(RAF1(mods: (phosphorylation, T, 491), (phosphorylation, S, 338), (phosphorylation, S, 494), (phosphorylation, S, 621), (phosphorylation, Y, 341)), AGTRAP(mods: (phosphorylation, S, 729), (phosphorylation, S, 445)), T, 599),\n",
       " Phosphorylation(p-2S MAP2K1:p-2S MAPK2K2 heterodimer(), AGTRAP(mods: (phosphorylation, S, 729), (phosphorylation, S, 445)), S, 602),\n",
       " Phosphorylation(p-2S MAP2K1:p-2S MAPK2K2 heterodimer(), AGTRAP(mods: (phosphorylation, S, 729), (phosphorylation, S, 445)), T, 599),\n",
       " Phosphorylation(p-S222,S226 MAP2K2 dimer(), AGTRAP(mods: (phosphorylation, S, 729), (phosphorylation, S, 445)), S, 602),\n",
       " Phosphorylation(p-S222,S226 MAP2K2 dimer(), AGTRAP(mods: (phosphorylation, S, 729), (phosphorylation, S, 445)), T, 599),\n",
       " Phosphorylation(p-S218,S222 MAP2K1 dimer(), AGTRAP(mods: (phosphorylation, S, 729), (phosphorylation, S, 445)), S, 602),\n",
       " Phosphorylation(p-S218,S222 MAP2K1 dimer(), AGTRAP(mods: (phosphorylation, S, 729), (phosphorylation, S, 445)), T, 599),\n",
       " Phosphorylation(ARAF(mods: (phosphorylation, T, 452), (phosphorylation, S, 299), (phosphorylation, Y, 302), (phosphorylation, S, 576), (phosphorylation, T, 455)), AGTRAP(mods: (phosphorylation, S, 729), (phosphorylation, S, 445)), S, 602),\n",
       " Phosphorylation(ARAF(mods: (phosphorylation, T, 452), (phosphorylation, S, 299), (phosphorylation, Y, 302), (phosphorylation, S, 576), (phosphorylation, T, 455)), AGTRAP(mods: (phosphorylation, S, 729), (phosphorylation, S, 445)), T, 599),\n",
       " Phosphorylation(SRC(mods: (phosphorylation, Y, 419)), BCL2L11(mods: (phosphorylation, S, 729), (phosphorylation, S, 445)), S, 602),\n",
       " Phosphorylation(SRC(mods: (phosphorylation, Y, 419)), BCL2L11(mods: (phosphorylation, S, 729), (phosphorylation, S, 445)), T, 599),\n",
       " Phosphorylation(JAK2(), BCL2L11(mods: (phosphorylation, S, 729), (phosphorylation, S, 445)), S, 602),\n",
       " Phosphorylation(JAK2(), BCL2L11(mods: (phosphorylation, S, 729), (phosphorylation, S, 445)), T, 599),\n",
       " Phosphorylation(BRAF(mods: (phosphorylation, S, 602), (phosphorylation, S, 729), (phosphorylation, S, 445), (phosphorylation, T, 599)), BCL2L11(mods: (phosphorylation, S, 729), (phosphorylation, S, 445)), S, 602),\n",
       " Phosphorylation(BRAF(mods: (phosphorylation, S, 602), (phosphorylation, S, 729), (phosphorylation, S, 445), (phosphorylation, T, 599)), BCL2L11(mods: (phosphorylation, S, 729), (phosphorylation, S, 445)), T, 599),\n",
       " Phosphorylation(RAF1(mods: (phosphorylation, T, 491), (phosphorylation, S, 338), (phosphorylation, S, 494), (phosphorylation, S, 621), (phosphorylation, Y, 341)), BCL2L11(mods: (phosphorylation, S, 729), (phosphorylation, S, 445)), S, 602),\n",
       " Phosphorylation(RAF1(mods: (phosphorylation, T, 491), (phosphorylation, S, 338), (phosphorylation, S, 494), (phosphorylation, S, 621), (phosphorylation, Y, 341)), BCL2L11(mods: (phosphorylation, S, 729), (phosphorylation, S, 445)), T, 599),\n",
       " Phosphorylation(p-2S MAP2K1:p-2S MAPK2K2 heterodimer(), BCL2L11(mods: (phosphorylation, S, 729), (phosphorylation, S, 445)), S, 602),\n",
       " Phosphorylation(p-2S MAP2K1:p-2S MAPK2K2 heterodimer(), BCL2L11(mods: (phosphorylation, S, 729), (phosphorylation, S, 445)), T, 599),\n",
       " Phosphorylation(p-S222,S226 MAP2K2 dimer(), BCL2L11(mods: (phosphorylation, S, 729), (phosphorylation, S, 445)), S, 602),\n",
       " Phosphorylation(p-S222,S226 MAP2K2 dimer(), BCL2L11(mods: (phosphorylation, S, 729), (phosphorylation, S, 445)), T, 599),\n",
       " Phosphorylation(p-S218,S222 MAP2K1 dimer(), BCL2L11(mods: (phosphorylation, S, 729), (phosphorylation, S, 445)), S, 602),\n",
       " Phosphorylation(p-S218,S222 MAP2K1 dimer(), BCL2L11(mods: (phosphorylation, S, 729), (phosphorylation, S, 445)), T, 599),\n",
       " Phosphorylation(ARAF(mods: (phosphorylation, T, 452), (phosphorylation, S, 299), (phosphorylation, Y, 302), (phosphorylation, S, 576), (phosphorylation, T, 455)), BCL2L11(mods: (phosphorylation, S, 729), (phosphorylation, S, 445)), S, 602),\n",
       " Phosphorylation(ARAF(mods: (phosphorylation, T, 452), (phosphorylation, S, 299), (phosphorylation, Y, 302), (phosphorylation, S, 576), (phosphorylation, T, 455)), BCL2L11(mods: (phosphorylation, S, 729), (phosphorylation, S, 445)), T, 599),\n",
       " Phosphorylation(SRC(mods: (phosphorylation, Y, 419)), QKI(mods: (phosphorylation, S, 729), (phosphorylation, S, 445)), S, 602),\n",
       " Phosphorylation(SRC(mods: (phosphorylation, Y, 419)), QKI(mods: (phosphorylation, S, 729), (phosphorylation, S, 445)), T, 599),\n",
       " Phosphorylation(JAK2(), QKI(mods: (phosphorylation, S, 729), (phosphorylation, S, 445)), S, 602),\n",
       " Phosphorylation(JAK2(), QKI(mods: (phosphorylation, S, 729), (phosphorylation, S, 445)), T, 599),\n",
       " Phosphorylation(BRAF(mods: (phosphorylation, S, 602), (phosphorylation, S, 729), (phosphorylation, S, 445), (phosphorylation, T, 599)), QKI(mods: (phosphorylation, S, 729), (phosphorylation, S, 445)), S, 602),\n",
       " Phosphorylation(BRAF(mods: (phosphorylation, S, 602), (phosphorylation, S, 729), (phosphorylation, S, 445), (phosphorylation, T, 599)), QKI(mods: (phosphorylation, S, 729), (phosphorylation, S, 445)), T, 599),\n",
       " Phosphorylation(RAF1(mods: (phosphorylation, T, 491), (phosphorylation, S, 338), (phosphorylation, S, 494), (phosphorylation, S, 621), (phosphorylation, Y, 341)), QKI(mods: (phosphorylation, S, 729), (phosphorylation, S, 445)), S, 602),\n",
       " Phosphorylation(RAF1(mods: (phosphorylation, T, 491), (phosphorylation, S, 338), (phosphorylation, S, 494), (phosphorylation, S, 621), (phosphorylation, Y, 341)), QKI(mods: (phosphorylation, S, 729), (phosphorylation, S, 445)), T, 599),\n",
       " Phosphorylation(p-2S MAP2K1:p-2S MAPK2K2 heterodimer(), QKI(mods: (phosphorylation, S, 729), (phosphorylation, S, 445)), S, 602),\n",
       " Phosphorylation(p-2S MAP2K1:p-2S MAPK2K2 heterodimer(), QKI(mods: (phosphorylation, S, 729), (phosphorylation, S, 445)), T, 599),\n",
       " Phosphorylation(p-S222,S226 MAP2K2 dimer(), QKI(mods: (phosphorylation, S, 729), (phosphorylation, S, 445)), S, 602),\n",
       " Phosphorylation(p-S222,S226 MAP2K2 dimer(), QKI(mods: (phosphorylation, S, 729), (phosphorylation, S, 445)), T, 599),\n",
       " Phosphorylation(p-S218,S222 MAP2K1 dimer(), QKI(mods: (phosphorylation, S, 729), (phosphorylation, S, 445)), S, 602),\n",
       " Phosphorylation(p-S218,S222 MAP2K1 dimer(), QKI(mods: (phosphorylation, S, 729), (phosphorylation, S, 445)), T, 599),\n",
       " Phosphorylation(ARAF(mods: (phosphorylation, T, 452), (phosphorylation, S, 299), (phosphorylation, Y, 302), (phosphorylation, S, 576), (phosphorylation, T, 455)), QKI(mods: (phosphorylation, S, 729), (phosphorylation, S, 445)), S, 602),\n",
       " Phosphorylation(ARAF(mods: (phosphorylation, T, 452), (phosphorylation, S, 299), (phosphorylation, Y, 302), (phosphorylation, S, 576), (phosphorylation, T, 455)), QKI(mods: (phosphorylation, S, 729), (phosphorylation, S, 445)), T, 599),\n",
       " Phosphorylation(SRC(mods: (phosphorylation, Y, 419)), MPRIP(mods: (phosphorylation, S, 621)), T, 491),\n",
       " Phosphorylation(SRC(mods: (phosphorylation, Y, 419)), MPRIP(mods: (phosphorylation, S, 621)), S, 338),\n",
       " Phosphorylation(SRC(mods: (phosphorylation, Y, 419)), MPRIP(mods: (phosphorylation, S, 621)), S, 494),\n",
       " Phosphorylation(SRC(mods: (phosphorylation, Y, 419)), MPRIP(mods: (phosphorylation, S, 621)), Y, 341),\n",
       " Phosphorylation(JAK2(), MPRIP(mods: (phosphorylation, S, 621)), T, 491),\n",
       " Phosphorylation(JAK2(), MPRIP(mods: (phosphorylation, S, 621)), S, 338),\n",
       " Phosphorylation(JAK2(), MPRIP(mods: (phosphorylation, S, 621)), S, 494),\n",
       " Phosphorylation(JAK2(), MPRIP(mods: (phosphorylation, S, 621)), Y, 341),\n",
       " Phosphorylation(BRAF(mods: (phosphorylation, S, 602), (phosphorylation, S, 729), (phosphorylation, S, 445), (phosphorylation, T, 599)), MPRIP(mods: (phosphorylation, S, 621)), T, 491),\n",
       " Phosphorylation(BRAF(mods: (phosphorylation, S, 602), (phosphorylation, S, 729), (phosphorylation, S, 445), (phosphorylation, T, 599)), MPRIP(mods: (phosphorylation, S, 621)), S, 338),\n",
       " Phosphorylation(BRAF(mods: (phosphorylation, S, 602), (phosphorylation, S, 729), (phosphorylation, S, 445), (phosphorylation, T, 599)), MPRIP(mods: (phosphorylation, S, 621)), S, 494),\n",
       " Phosphorylation(BRAF(mods: (phosphorylation, S, 602), (phosphorylation, S, 729), (phosphorylation, S, 445), (phosphorylation, T, 599)), MPRIP(mods: (phosphorylation, S, 621)), Y, 341),\n",
       " Phosphorylation(RAF1(mods: (phosphorylation, T, 491), (phosphorylation, S, 338), (phosphorylation, S, 494), (phosphorylation, S, 621), (phosphorylation, Y, 341)), MPRIP(mods: (phosphorylation, S, 621)), T, 491),\n",
       " Phosphorylation(RAF1(mods: (phosphorylation, T, 491), (phosphorylation, S, 338), (phosphorylation, S, 494), (phosphorylation, S, 621), (phosphorylation, Y, 341)), MPRIP(mods: (phosphorylation, S, 621)), S, 338),\n",
       " Phosphorylation(RAF1(mods: (phosphorylation, T, 491), (phosphorylation, S, 338), (phosphorylation, S, 494), (phosphorylation, S, 621), (phosphorylation, Y, 341)), MPRIP(mods: (phosphorylation, S, 621)), S, 494),\n",
       " Phosphorylation(RAF1(mods: (phosphorylation, T, 491), (phosphorylation, S, 338), (phosphorylation, S, 494), (phosphorylation, S, 621), (phosphorylation, Y, 341)), MPRIP(mods: (phosphorylation, S, 621)), Y, 341),\n",
       " Phosphorylation(p-2S MAP2K1:p-2S MAPK2K2 heterodimer(), MPRIP(mods: (phosphorylation, S, 621)), T, 491),\n",
       " Phosphorylation(p-2S MAP2K1:p-2S MAPK2K2 heterodimer(), MPRIP(mods: (phosphorylation, S, 621)), S, 338),\n",
       " Phosphorylation(p-2S MAP2K1:p-2S MAPK2K2 heterodimer(), MPRIP(mods: (phosphorylation, S, 621)), S, 494),\n",
       " Phosphorylation(p-2S MAP2K1:p-2S MAPK2K2 heterodimer(), MPRIP(mods: (phosphorylation, S, 621)), Y, 341),\n",
       " Phosphorylation(p-S222,S226 MAP2K2 dimer(), MPRIP(mods: (phosphorylation, S, 621)), T, 491),\n",
       " Phosphorylation(p-S222,S226 MAP2K2 dimer(), MPRIP(mods: (phosphorylation, S, 621)), S, 338),\n",
       " Phosphorylation(p-S222,S226 MAP2K2 dimer(), MPRIP(mods: (phosphorylation, S, 621)), S, 494),\n",
       " Phosphorylation(p-S222,S226 MAP2K2 dimer(), MPRIP(mods: (phosphorylation, S, 621)), Y, 341),\n",
       " Phosphorylation(p-S218,S222 MAP2K1 dimer(), MPRIP(mods: (phosphorylation, S, 621)), T, 491),\n",
       " Phosphorylation(p-S218,S222 MAP2K1 dimer(), MPRIP(mods: (phosphorylation, S, 621)), S, 338),\n",
       " Phosphorylation(p-S218,S222 MAP2K1 dimer(), MPRIP(mods: (phosphorylation, S, 621)), S, 494),\n",
       " Phosphorylation(p-S218,S222 MAP2K1 dimer(), MPRIP(mods: (phosphorylation, S, 621)), Y, 341),\n",
       " Phosphorylation(ARAF(mods: (phosphorylation, T, 452), (phosphorylation, S, 299), (phosphorylation, Y, 302), (phosphorylation, S, 576), (phosphorylation, T, 455)), MPRIP(mods: (phosphorylation, S, 621)), T, 491),\n",
       " Phosphorylation(ARAF(mods: (phosphorylation, T, 452), (phosphorylation, S, 299), (phosphorylation, Y, 302), (phosphorylation, S, 576), (phosphorylation, T, 455)), MPRIP(mods: (phosphorylation, S, 621)), S, 338),\n",
       " Phosphorylation(ARAF(mods: (phosphorylation, T, 452), (phosphorylation, S, 299), (phosphorylation, Y, 302), (phosphorylation, S, 576), (phosphorylation, T, 455)), MPRIP(mods: (phosphorylation, S, 621)), S, 494),\n",
       " Phosphorylation(ARAF(mods: (phosphorylation, T, 452), (phosphorylation, S, 299), (phosphorylation, Y, 302), (phosphorylation, S, 576), (phosphorylation, T, 455)), MPRIP(mods: (phosphorylation, S, 621)), Y, 341),\n",
       " Phosphorylation(SRC(mods: (phosphorylation, Y, 419)), AGK(mods: (phosphorylation, S, 729), (phosphorylation, S, 445)), S, 602),\n",
       " Phosphorylation(SRC(mods: (phosphorylation, Y, 419)), AGK(mods: (phosphorylation, S, 729), (phosphorylation, S, 445)), T, 599),\n",
       " Phosphorylation(JAK2(), AGK(mods: (phosphorylation, S, 729), (phosphorylation, S, 445)), S, 602),\n",
       " Phosphorylation(JAK2(), AGK(mods: (phosphorylation, S, 729), (phosphorylation, S, 445)), T, 599),\n",
       " Phosphorylation(BRAF(mods: (phosphorylation, S, 602), (phosphorylation, S, 729), (phosphorylation, S, 445), (phosphorylation, T, 599)), AGK(mods: (phosphorylation, S, 729), (phosphorylation, S, 445)), S, 602),\n",
       " Phosphorylation(BRAF(mods: (phosphorylation, S, 602), (phosphorylation, S, 729), (phosphorylation, S, 445), (phosphorylation, T, 599)), AGK(mods: (phosphorylation, S, 729), (phosphorylation, S, 445)), T, 599),\n",
       " Phosphorylation(RAF1(mods: (phosphorylation, T, 491), (phosphorylation, S, 338), (phosphorylation, S, 494), (phosphorylation, S, 621), (phosphorylation, Y, 341)), AGK(mods: (phosphorylation, S, 729), (phosphorylation, S, 445)), S, 602),\n",
       " Phosphorylation(RAF1(mods: (phosphorylation, T, 491), (phosphorylation, S, 338), (phosphorylation, S, 494), (phosphorylation, S, 621), (phosphorylation, Y, 341)), AGK(mods: (phosphorylation, S, 729), (phosphorylation, S, 445)), T, 599),\n",
       " Phosphorylation(p-2S MAP2K1:p-2S MAPK2K2 heterodimer(), AGK(mods: (phosphorylation, S, 729), (phosphorylation, S, 445)), S, 602),\n",
       " Phosphorylation(p-2S MAP2K1:p-2S MAPK2K2 heterodimer(), AGK(mods: (phosphorylation, S, 729), (phosphorylation, S, 445)), T, 599),\n",
       " Phosphorylation(p-S222,S226 MAP2K2 dimer(), AGK(mods: (phosphorylation, S, 729), (phosphorylation, S, 445)), S, 602),\n",
       " Phosphorylation(p-S222,S226 MAP2K2 dimer(), AGK(mods: (phosphorylation, S, 729), (phosphorylation, S, 445)), T, 599),\n",
       " Phosphorylation(p-S218,S222 MAP2K1 dimer(), AGK(mods: (phosphorylation, S, 729), (phosphorylation, S, 445)), S, 602),\n",
       " Phosphorylation(p-S218,S222 MAP2K1 dimer(), AGK(mods: (phosphorylation, S, 729), (phosphorylation, S, 445)), T, 599),\n",
       " Phosphorylation(ARAF(mods: (phosphorylation, T, 452), (phosphorylation, S, 299), (phosphorylation, Y, 302), (phosphorylation, S, 576), (phosphorylation, T, 455)), AGK(mods: (phosphorylation, S, 729), (phosphorylation, S, 445)), S, 602),\n",
       " Phosphorylation(ARAF(mods: (phosphorylation, T, 452), (phosphorylation, S, 299), (phosphorylation, Y, 302), (phosphorylation, S, 576), (phosphorylation, T, 455)), AGK(mods: (phosphorylation, S, 729), (phosphorylation, S, 445)), T, 599),\n",
       " Phosphorylation(SRC(mods: (phosphorylation, Y, 419)), KDM7A(mods: (phosphorylation, S, 729), (phosphorylation, S, 445)), S, 602),\n",
       " Phosphorylation(SRC(mods: (phosphorylation, Y, 419)), KDM7A(mods: (phosphorylation, S, 729), (phosphorylation, S, 445)), T, 599),\n",
       " Phosphorylation(JAK2(), KDM7A(mods: (phosphorylation, S, 729), (phosphorylation, S, 445)), S, 602),\n",
       " Phosphorylation(JAK2(), KDM7A(mods: (phosphorylation, S, 729), (phosphorylation, S, 445)), T, 599),\n",
       " Phosphorylation(BRAF(mods: (phosphorylation, S, 602), (phosphorylation, S, 729), (phosphorylation, S, 445), (phosphorylation, T, 599)), KDM7A(mods: (phosphorylation, S, 729), (phosphorylation, S, 445)), S, 602),\n",
       " Phosphorylation(BRAF(mods: (phosphorylation, S, 602), (phosphorylation, S, 729), (phosphorylation, S, 445), (phosphorylation, T, 599)), KDM7A(mods: (phosphorylation, S, 729), (phosphorylation, S, 445)), T, 599),\n",
       " Phosphorylation(RAF1(mods: (phosphorylation, T, 491), (phosphorylation, S, 338), (phosphorylation, S, 494), (phosphorylation, S, 621), (phosphorylation, Y, 341)), KDM7A(mods: (phosphorylation, S, 729), (phosphorylation, S, 445)), S, 602),\n",
       " Phosphorylation(RAF1(mods: (phosphorylation, T, 491), (phosphorylation, S, 338), (phosphorylation, S, 494), (phosphorylation, S, 621), (phosphorylation, Y, 341)), KDM7A(mods: (phosphorylation, S, 729), (phosphorylation, S, 445)), T, 599),\n",
       " Phosphorylation(p-2S MAP2K1:p-2S MAPK2K2 heterodimer(), KDM7A(mods: (phosphorylation, S, 729), (phosphorylation, S, 445)), S, 602),\n",
       " Phosphorylation(p-2S MAP2K1:p-2S MAPK2K2 heterodimer(), KDM7A(mods: (phosphorylation, S, 729), (phosphorylation, S, 445)), T, 599),\n",
       " Phosphorylation(p-S222,S226 MAP2K2 dimer(), KDM7A(mods: (phosphorylation, S, 729), (phosphorylation, S, 445)), S, 602),\n",
       " Phosphorylation(p-S222,S226 MAP2K2 dimer(), KDM7A(mods: (phosphorylation, S, 729), (phosphorylation, S, 445)), T, 599),\n",
       " Phosphorylation(p-S218,S222 MAP2K1 dimer(), KDM7A(mods: (phosphorylation, S, 729), (phosphorylation, S, 445)), S, 602),\n",
       " Phosphorylation(p-S218,S222 MAP2K1 dimer(), KDM7A(mods: (phosphorylation, S, 729), (phosphorylation, S, 445)), T, 599),\n",
       " Phosphorylation(ARAF(mods: (phosphorylation, T, 452), (phosphorylation, S, 299), (phosphorylation, Y, 302), (phosphorylation, S, 576), (phosphorylation, T, 455)), KDM7A(mods: (phosphorylation, S, 729), (phosphorylation, S, 445)), S, 602),\n",
       " Phosphorylation(ARAF(mods: (phosphorylation, T, 452), (phosphorylation, S, 299), (phosphorylation, Y, 302), (phosphorylation, S, 576), (phosphorylation, T, 455)), KDM7A(mods: (phosphorylation, S, 729), (phosphorylation, S, 445)), T, 599),\n",
       " Phosphorylation(SRC(mods: (phosphorylation, Y, 419)), FXR1(mods: (phosphorylation, S, 729), (phosphorylation, S, 445)), S, 602),\n",
       " Phosphorylation(SRC(mods: (phosphorylation, Y, 419)), FXR1(mods: (phosphorylation, S, 729), (phosphorylation, S, 445)), T, 599),\n",
       " Phosphorylation(JAK2(), FXR1(mods: (phosphorylation, S, 729), (phosphorylation, S, 445)), S, 602),\n",
       " Phosphorylation(JAK2(), FXR1(mods: (phosphorylation, S, 729), (phosphorylation, S, 445)), T, 599),\n",
       " Phosphorylation(BRAF(mods: (phosphorylation, S, 602), (phosphorylation, S, 729), (phosphorylation, S, 445), (phosphorylation, T, 599)), FXR1(mods: (phosphorylation, S, 729), (phosphorylation, S, 445)), S, 602),\n",
       " Phosphorylation(BRAF(mods: (phosphorylation, S, 602), (phosphorylation, S, 729), (phosphorylation, S, 445), (phosphorylation, T, 599)), FXR1(mods: (phosphorylation, S, 729), (phosphorylation, S, 445)), T, 599),\n",
       " Phosphorylation(RAF1(mods: (phosphorylation, T, 491), (phosphorylation, S, 338), (phosphorylation, S, 494), (phosphorylation, S, 621), (phosphorylation, Y, 341)), FXR1(mods: (phosphorylation, S, 729), (phosphorylation, S, 445)), S, 602),\n",
       " Phosphorylation(RAF1(mods: (phosphorylation, T, 491), (phosphorylation, S, 338), (phosphorylation, S, 494), (phosphorylation, S, 621), (phosphorylation, Y, 341)), FXR1(mods: (phosphorylation, S, 729), (phosphorylation, S, 445)), T, 599),\n",
       " Phosphorylation(p-2S MAP2K1:p-2S MAPK2K2 heterodimer(), FXR1(mods: (phosphorylation, S, 729), (phosphorylation, S, 445)), S, 602),\n",
       " Phosphorylation(p-2S MAP2K1:p-2S MAPK2K2 heterodimer(), FXR1(mods: (phosphorylation, S, 729), (phosphorylation, S, 445)), T, 599),\n",
       " Phosphorylation(p-S222,S226 MAP2K2 dimer(), FXR1(mods: (phosphorylation, S, 729), (phosphorylation, S, 445)), S, 602),\n",
       " Phosphorylation(p-S222,S226 MAP2K2 dimer(), FXR1(mods: (phosphorylation, S, 729), (phosphorylation, S, 445)), T, 599),\n",
       " Phosphorylation(p-S218,S222 MAP2K1 dimer(), FXR1(mods: (phosphorylation, S, 729), (phosphorylation, S, 445)), S, 602),\n",
       " Phosphorylation(p-S218,S222 MAP2K1 dimer(), FXR1(mods: (phosphorylation, S, 729), (phosphorylation, S, 445)), T, 599),\n",
       " Phosphorylation(ARAF(mods: (phosphorylation, T, 452), (phosphorylation, S, 299), (phosphorylation, Y, 302), (phosphorylation, S, 576), (phosphorylation, T, 455)), FXR1(mods: (phosphorylation, S, 729), (phosphorylation, S, 445)), S, 602),\n",
       " Phosphorylation(ARAF(mods: (phosphorylation, T, 452), (phosphorylation, S, 299), (phosphorylation, Y, 302), (phosphorylation, S, 576), (phosphorylation, T, 455)), FXR1(mods: (phosphorylation, S, 729), (phosphorylation, S, 445)), T, 599),\n",
       " Phosphorylation(SRC(mods: (phosphorylation, Y, 419)), CLCN6(mods: (phosphorylation, S, 621)), T, 491),\n",
       " Phosphorylation(SRC(mods: (phosphorylation, Y, 419)), CLCN6(mods: (phosphorylation, S, 621)), S, 338),\n",
       " Phosphorylation(SRC(mods: (phosphorylation, Y, 419)), CLCN6(mods: (phosphorylation, S, 621)), S, 494),\n",
       " Phosphorylation(SRC(mods: (phosphorylation, Y, 419)), CLCN6(mods: (phosphorylation, S, 621)), Y, 341),\n",
       " Phosphorylation(JAK2(), CLCN6(mods: (phosphorylation, S, 621)), T, 491),\n",
       " Phosphorylation(JAK2(), CLCN6(mods: (phosphorylation, S, 621)), S, 338),\n",
       " Phosphorylation(JAK2(), CLCN6(mods: (phosphorylation, S, 621)), S, 494),\n",
       " Phosphorylation(JAK2(), CLCN6(mods: (phosphorylation, S, 621)), Y, 341),\n",
       " Phosphorylation(BRAF(mods: (phosphorylation, S, 602), (phosphorylation, S, 729), (phosphorylation, S, 445), (phosphorylation, T, 599)), CLCN6(mods: (phosphorylation, S, 621)), T, 491),\n",
       " Phosphorylation(BRAF(mods: (phosphorylation, S, 602), (phosphorylation, S, 729), (phosphorylation, S, 445), (phosphorylation, T, 599)), CLCN6(mods: (phosphorylation, S, 621)), S, 338),\n",
       " Phosphorylation(BRAF(mods: (phosphorylation, S, 602), (phosphorylation, S, 729), (phosphorylation, S, 445), (phosphorylation, T, 599)), CLCN6(mods: (phosphorylation, S, 621)), S, 494),\n",
       " Phosphorylation(BRAF(mods: (phosphorylation, S, 602), (phosphorylation, S, 729), (phosphorylation, S, 445), (phosphorylation, T, 599)), CLCN6(mods: (phosphorylation, S, 621)), Y, 341),\n",
       " Phosphorylation(RAF1(mods: (phosphorylation, T, 491), (phosphorylation, S, 338), (phosphorylation, S, 494), (phosphorylation, S, 621), (phosphorylation, Y, 341)), CLCN6(mods: (phosphorylation, S, 621)), T, 491),\n",
       " Phosphorylation(RAF1(mods: (phosphorylation, T, 491), (phosphorylation, S, 338), (phosphorylation, S, 494), (phosphorylation, S, 621), (phosphorylation, Y, 341)), CLCN6(mods: (phosphorylation, S, 621)), S, 338),\n",
       " Phosphorylation(RAF1(mods: (phosphorylation, T, 491), (phosphorylation, S, 338), (phosphorylation, S, 494), (phosphorylation, S, 621), (phosphorylation, Y, 341)), CLCN6(mods: (phosphorylation, S, 621)), S, 494),\n",
       " Phosphorylation(RAF1(mods: (phosphorylation, T, 491), (phosphorylation, S, 338), (phosphorylation, S, 494), (phosphorylation, S, 621), (phosphorylation, Y, 341)), CLCN6(mods: (phosphorylation, S, 621)), Y, 341),\n",
       " Phosphorylation(p-2S MAP2K1:p-2S MAPK2K2 heterodimer(), CLCN6(mods: (phosphorylation, S, 621)), T, 491),\n",
       " Phosphorylation(p-2S MAP2K1:p-2S MAPK2K2 heterodimer(), CLCN6(mods: (phosphorylation, S, 621)), S, 338),\n",
       " Phosphorylation(p-2S MAP2K1:p-2S MAPK2K2 heterodimer(), CLCN6(mods: (phosphorylation, S, 621)), S, 494),\n",
       " Phosphorylation(p-2S MAP2K1:p-2S MAPK2K2 heterodimer(), CLCN6(mods: (phosphorylation, S, 621)), Y, 341),\n",
       " Phosphorylation(p-S222,S226 MAP2K2 dimer(), CLCN6(mods: (phosphorylation, S, 621)), T, 491),\n",
       " Phosphorylation(p-S222,S226 MAP2K2 dimer(), CLCN6(mods: (phosphorylation, S, 621)), S, 338),\n",
       " Phosphorylation(p-S222,S226 MAP2K2 dimer(), CLCN6(mods: (phosphorylation, S, 621)), S, 494),\n",
       " Phosphorylation(p-S222,S226 MAP2K2 dimer(), CLCN6(mods: (phosphorylation, S, 621)), Y, 341),\n",
       " Phosphorylation(p-S218,S222 MAP2K1 dimer(), CLCN6(mods: (phosphorylation, S, 621)), T, 491),\n",
       " Phosphorylation(p-S218,S222 MAP2K1 dimer(), CLCN6(mods: (phosphorylation, S, 621)), S, 338),\n",
       " Phosphorylation(p-S218,S222 MAP2K1 dimer(), CLCN6(mods: (phosphorylation, S, 621)), S, 494),\n",
       " Phosphorylation(p-S218,S222 MAP2K1 dimer(), CLCN6(mods: (phosphorylation, S, 621)), Y, 341),\n",
       " Phosphorylation(ARAF(mods: (phosphorylation, T, 452), (phosphorylation, S, 299), (phosphorylation, Y, 302), (phosphorylation, S, 576), (phosphorylation, T, 455)), CLCN6(mods: (phosphorylation, S, 621)), T, 491),\n",
       " Phosphorylation(ARAF(mods: (phosphorylation, T, 452), (phosphorylation, S, 299), (phosphorylation, Y, 302), (phosphorylation, S, 576), (phosphorylation, T, 455)), CLCN6(mods: (phosphorylation, S, 621)), S, 338),\n",
       " Phosphorylation(ARAF(mods: (phosphorylation, T, 452), (phosphorylation, S, 299), (phosphorylation, Y, 302), (phosphorylation, S, 576), (phosphorylation, T, 455)), CLCN6(mods: (phosphorylation, S, 621)), S, 494),\n",
       " Phosphorylation(ARAF(mods: (phosphorylation, T, 452), (phosphorylation, S, 299), (phosphorylation, Y, 302), (phosphorylation, S, 576), (phosphorylation, T, 455)), CLCN6(mods: (phosphorylation, S, 621)), Y, 341),\n",
       " Phosphorylation(SRC(mods: (phosphorylation, Y, 419)), LMNA(mods: (phosphorylation, S, 621)), T, 491),\n",
       " Phosphorylation(SRC(mods: (phosphorylation, Y, 419)), LMNA(mods: (phosphorylation, S, 621)), S, 338),\n",
       " Phosphorylation(SRC(mods: (phosphorylation, Y, 419)), LMNA(mods: (phosphorylation, S, 621)), S, 494),\n",
       " Phosphorylation(SRC(mods: (phosphorylation, Y, 419)), LMNA(mods: (phosphorylation, S, 621)), Y, 341),\n",
       " Phosphorylation(JAK2(), LMNA(mods: (phosphorylation, S, 621)), T, 491),\n",
       " Phosphorylation(JAK2(), LMNA(mods: (phosphorylation, S, 621)), S, 338),\n",
       " Phosphorylation(JAK2(), LMNA(mods: (phosphorylation, S, 621)), S, 494),\n",
       " Phosphorylation(JAK2(), LMNA(mods: (phosphorylation, S, 621)), Y, 341),\n",
       " Phosphorylation(BRAF(mods: (phosphorylation, S, 602), (phosphorylation, S, 729), (phosphorylation, S, 445), (phosphorylation, T, 599)), LMNA(mods: (phosphorylation, S, 621)), T, 491),\n",
       " Phosphorylation(BRAF(mods: (phosphorylation, S, 602), (phosphorylation, S, 729), (phosphorylation, S, 445), (phosphorylation, T, 599)), LMNA(mods: (phosphorylation, S, 621)), S, 338),\n",
       " Phosphorylation(BRAF(mods: (phosphorylation, S, 602), (phosphorylation, S, 729), (phosphorylation, S, 445), (phosphorylation, T, 599)), LMNA(mods: (phosphorylation, S, 621)), S, 494),\n",
       " Phosphorylation(BRAF(mods: (phosphorylation, S, 602), (phosphorylation, S, 729), (phosphorylation, S, 445), (phosphorylation, T, 599)), LMNA(mods: (phosphorylation, S, 621)), Y, 341),\n",
       " Phosphorylation(RAF1(mods: (phosphorylation, T, 491), (phosphorylation, S, 338), (phosphorylation, S, 494), (phosphorylation, S, 621), (phosphorylation, Y, 341)), LMNA(mods: (phosphorylation, S, 621)), T, 491),\n",
       " Phosphorylation(RAF1(mods: (phosphorylation, T, 491), (phosphorylation, S, 338), (phosphorylation, S, 494), (phosphorylation, S, 621), (phosphorylation, Y, 341)), LMNA(mods: (phosphorylation, S, 621)), S, 338),\n",
       " Phosphorylation(RAF1(mods: (phosphorylation, T, 491), (phosphorylation, S, 338), (phosphorylation, S, 494), (phosphorylation, S, 621), (phosphorylation, Y, 341)), LMNA(mods: (phosphorylation, S, 621)), S, 494),\n",
       " Phosphorylation(RAF1(mods: (phosphorylation, T, 491), (phosphorylation, S, 338), (phosphorylation, S, 494), (phosphorylation, S, 621), (phosphorylation, Y, 341)), LMNA(mods: (phosphorylation, S, 621)), Y, 341),\n",
       " Phosphorylation(p-2S MAP2K1:p-2S MAPK2K2 heterodimer(), LMNA(mods: (phosphorylation, S, 621)), T, 491),\n",
       " Phosphorylation(p-2S MAP2K1:p-2S MAPK2K2 heterodimer(), LMNA(mods: (phosphorylation, S, 621)), S, 338),\n",
       " Phosphorylation(p-2S MAP2K1:p-2S MAPK2K2 heterodimer(), LMNA(mods: (phosphorylation, S, 621)), S, 494),\n",
       " Phosphorylation(p-2S MAP2K1:p-2S MAPK2K2 heterodimer(), LMNA(mods: (phosphorylation, S, 621)), Y, 341),\n",
       " Phosphorylation(p-S222,S226 MAP2K2 dimer(), LMNA(mods: (phosphorylation, S, 621)), T, 491),\n",
       " Phosphorylation(p-S222,S226 MAP2K2 dimer(), LMNA(mods: (phosphorylation, S, 621)), S, 338),\n",
       " Phosphorylation(p-S222,S226 MAP2K2 dimer(), LMNA(mods: (phosphorylation, S, 621)), S, 494),\n",
       " Phosphorylation(p-S222,S226 MAP2K2 dimer(), LMNA(mods: (phosphorylation, S, 621)), Y, 341),\n",
       " Phosphorylation(p-S218,S222 MAP2K1 dimer(), LMNA(mods: (phosphorylation, S, 621)), T, 491),\n",
       " Phosphorylation(p-S218,S222 MAP2K1 dimer(), LMNA(mods: (phosphorylation, S, 621)), S, 338),\n",
       " Phosphorylation(p-S218,S222 MAP2K1 dimer(), LMNA(mods: (phosphorylation, S, 621)), S, 494),\n",
       " Phosphorylation(p-S218,S222 MAP2K1 dimer(), LMNA(mods: (phosphorylation, S, 621)), Y, 341),\n",
       " Phosphorylation(ARAF(mods: (phosphorylation, T, 452), (phosphorylation, S, 299), (phosphorylation, Y, 302), (phosphorylation, S, 576), (phosphorylation, T, 455)), LMNA(mods: (phosphorylation, S, 621)), T, 491),\n",
       " Phosphorylation(ARAF(mods: (phosphorylation, T, 452), (phosphorylation, S, 299), (phosphorylation, Y, 302), (phosphorylation, S, 576), (phosphorylation, T, 455)), LMNA(mods: (phosphorylation, S, 621)), S, 338),\n",
       " Phosphorylation(ARAF(mods: (phosphorylation, T, 452), (phosphorylation, S, 299), (phosphorylation, Y, 302), (phosphorylation, S, 576), (phosphorylation, T, 455)), LMNA(mods: (phosphorylation, S, 621)), S, 494),\n",
       " Phosphorylation(ARAF(mods: (phosphorylation, T, 452), (phosphorylation, S, 299), (phosphorylation, Y, 302), (phosphorylation, S, 576), (phosphorylation, T, 455)), LMNA(mods: (phosphorylation, S, 621)), Y, 341),\n",
       " Phosphorylation(SRC(mods: (phosphorylation, Y, 419)), SND1(mods: (phosphorylation, S, 729), (phosphorylation, S, 445)), S, 602),\n",
       " Phosphorylation(SRC(mods: (phosphorylation, Y, 419)), SND1(mods: (phosphorylation, S, 729), (phosphorylation, S, 445)), T, 599),\n",
       " Phosphorylation(JAK2(), SND1(mods: (phosphorylation, S, 729), (phosphorylation, S, 445)), S, 602),\n",
       " Phosphorylation(JAK2(), SND1(mods: (phosphorylation, S, 729), (phosphorylation, S, 445)), T, 599),\n",
       " Phosphorylation(BRAF(mods: (phosphorylation, S, 602), (phosphorylation, S, 729), (phosphorylation, S, 445), (phosphorylation, T, 599)), SND1(mods: (phosphorylation, S, 729), (phosphorylation, S, 445)), S, 602),\n",
       " Phosphorylation(BRAF(mods: (phosphorylation, S, 602), (phosphorylation, S, 729), (phosphorylation, S, 445), (phosphorylation, T, 599)), SND1(mods: (phosphorylation, S, 729), (phosphorylation, S, 445)), T, 599),\n",
       " Phosphorylation(RAF1(mods: (phosphorylation, T, 491), (phosphorylation, S, 338), (phosphorylation, S, 494), (phosphorylation, S, 621), (phosphorylation, Y, 341)), SND1(mods: (phosphorylation, S, 729), (phosphorylation, S, 445)), S, 602),\n",
       " Phosphorylation(RAF1(mods: (phosphorylation, T, 491), (phosphorylation, S, 338), (phosphorylation, S, 494), (phosphorylation, S, 621), (phosphorylation, Y, 341)), SND1(mods: (phosphorylation, S, 729), (phosphorylation, S, 445)), T, 599),\n",
       " Phosphorylation(p-2S MAP2K1:p-2S MAPK2K2 heterodimer(), SND1(mods: (phosphorylation, S, 729), (phosphorylation, S, 445)), S, 602),\n",
       " Phosphorylation(p-2S MAP2K1:p-2S MAPK2K2 heterodimer(), SND1(mods: (phosphorylation, S, 729), (phosphorylation, S, 445)), T, 599),\n",
       " Phosphorylation(p-S222,S226 MAP2K2 dimer(), SND1(mods: (phosphorylation, S, 729), (phosphorylation, S, 445)), S, 602),\n",
       " Phosphorylation(p-S222,S226 MAP2K2 dimer(), SND1(mods: (phosphorylation, S, 729), (phosphorylation, S, 445)), T, 599),\n",
       " Phosphorylation(p-S218,S222 MAP2K1 dimer(), SND1(mods: (phosphorylation, S, 729), (phosphorylation, S, 445)), S, 602),\n",
       " Phosphorylation(p-S218,S222 MAP2K1 dimer(), SND1(mods: (phosphorylation, S, 729), (phosphorylation, S, 445)), T, 599),\n",
       " Phosphorylation(ARAF(mods: (phosphorylation, T, 452), (phosphorylation, S, 299), (phosphorylation, Y, 302), (phosphorylation, S, 576), (phosphorylation, T, 455)), SND1(mods: (phosphorylation, S, 729), (phosphorylation, S, 445)), S, 602),\n",
       " Phosphorylation(ARAF(mods: (phosphorylation, T, 452), (phosphorylation, S, 299), (phosphorylation, Y, 302), (phosphorylation, S, 576), (phosphorylation, T, 455)), SND1(mods: (phosphorylation, S, 729), (phosphorylation, S, 445)), T, 599),\n",
       " Phosphorylation(SRC(mods: (phosphorylation, Y, 419)), FAM131B(mods: (phosphorylation, S, 729), (phosphorylation, S, 445)), S, 602),\n",
       " Phosphorylation(SRC(mods: (phosphorylation, Y, 419)), FAM131B(mods: (phosphorylation, S, 729), (phosphorylation, S, 445)), T, 599),\n",
       " Phosphorylation(JAK2(), FAM131B(mods: (phosphorylation, S, 729), (phosphorylation, S, 445)), S, 602),\n",
       " Phosphorylation(JAK2(), FAM131B(mods: (phosphorylation, S, 729), (phosphorylation, S, 445)), T, 599),\n",
       " Phosphorylation(BRAF(mods: (phosphorylation, S, 602), (phosphorylation, S, 729), (phosphorylation, S, 445), (phosphorylation, T, 599)), FAM131B(mods: (phosphorylation, S, 729), (phosphorylation, S, 445)), S, 602),\n",
       " Phosphorylation(BRAF(mods: (phosphorylation, S, 602), (phosphorylation, S, 729), (phosphorylation, S, 445), (phosphorylation, T, 599)), FAM131B(mods: (phosphorylation, S, 729), (phosphorylation, S, 445)), T, 599),\n",
       " Phosphorylation(RAF1(mods: (phosphorylation, T, 491), (phosphorylation, S, 338), (phosphorylation, S, 494), (phosphorylation, S, 621), (phosphorylation, Y, 341)), FAM131B(mods: (phosphorylation, S, 729), (phosphorylation, S, 445)), S, 602),\n",
       " Phosphorylation(RAF1(mods: (phosphorylation, T, 491), (phosphorylation, S, 338), (phosphorylation, S, 494), (phosphorylation, S, 621), (phosphorylation, Y, 341)), FAM131B(mods: (phosphorylation, S, 729), (phosphorylation, S, 445)), T, 599),\n",
       " Phosphorylation(p-2S MAP2K1:p-2S MAPK2K2 heterodimer(), FAM131B(mods: (phosphorylation, S, 729), (phosphorylation, S, 445)), S, 602),\n",
       " Phosphorylation(p-2S MAP2K1:p-2S MAPK2K2 heterodimer(), FAM131B(mods: (phosphorylation, S, 729), (phosphorylation, S, 445)), T, 599),\n",
       " Phosphorylation(p-S222,S226 MAP2K2 dimer(), FAM131B(mods: (phosphorylation, S, 729), (phosphorylation, S, 445)), S, 602),\n",
       " Phosphorylation(p-S222,S226 MAP2K2 dimer(), FAM131B(mods: (phosphorylation, S, 729), (phosphorylation, S, 445)), T, 599),\n",
       " Phosphorylation(p-S218,S222 MAP2K1 dimer(), FAM131B(mods: (phosphorylation, S, 729), (phosphorylation, S, 445)), S, 602),\n",
       " Phosphorylation(p-S218,S222 MAP2K1 dimer(), FAM131B(mods: (phosphorylation, S, 729), (phosphorylation, S, 445)), T, 599),\n",
       " Phosphorylation(ARAF(mods: (phosphorylation, T, 452), (phosphorylation, S, 299), (phosphorylation, Y, 302), (phosphorylation, S, 576), (phosphorylation, T, 455)), FAM131B(mods: (phosphorylation, S, 729), (phosphorylation, S, 445)), S, 602),\n",
       " Phosphorylation(ARAF(mods: (phosphorylation, T, 452), (phosphorylation, S, 299), (phosphorylation, Y, 302), (phosphorylation, S, 576), (phosphorylation, T, 455)), FAM131B(mods: (phosphorylation, S, 729), (phosphorylation, S, 445)), T, 599),\n",
       " Phosphorylation(SRC(mods: (phosphorylation, Y, 419)), AGGF1(mods: (phosphorylation, S, 621)), T, 491),\n",
       " Phosphorylation(SRC(mods: (phosphorylation, Y, 419)), AGGF1(mods: (phosphorylation, S, 621)), S, 338),\n",
       " Phosphorylation(SRC(mods: (phosphorylation, Y, 419)), AGGF1(mods: (phosphorylation, S, 621)), S, 494),\n",
       " Phosphorylation(SRC(mods: (phosphorylation, Y, 419)), AGGF1(mods: (phosphorylation, S, 621)), Y, 341),\n",
       " Phosphorylation(JAK2(), AGGF1(mods: (phosphorylation, S, 621)), T, 491),\n",
       " Phosphorylation(JAK2(), AGGF1(mods: (phosphorylation, S, 621)), S, 338),\n",
       " Phosphorylation(JAK2(), AGGF1(mods: (phosphorylation, S, 621)), S, 494),\n",
       " Phosphorylation(JAK2(), AGGF1(mods: (phosphorylation, S, 621)), Y, 341),\n",
       " Phosphorylation(BRAF(mods: (phosphorylation, S, 602), (phosphorylation, S, 729), (phosphorylation, S, 445), (phosphorylation, T, 599)), AGGF1(mods: (phosphorylation, S, 621)), T, 491),\n",
       " Phosphorylation(BRAF(mods: (phosphorylation, S, 602), (phosphorylation, S, 729), (phosphorylation, S, 445), (phosphorylation, T, 599)), AGGF1(mods: (phosphorylation, S, 621)), S, 338),\n",
       " Phosphorylation(BRAF(mods: (phosphorylation, S, 602), (phosphorylation, S, 729), (phosphorylation, S, 445), (phosphorylation, T, 599)), AGGF1(mods: (phosphorylation, S, 621)), S, 494),\n",
       " Phosphorylation(BRAF(mods: (phosphorylation, S, 602), (phosphorylation, S, 729), (phosphorylation, S, 445), (phosphorylation, T, 599)), AGGF1(mods: (phosphorylation, S, 621)), Y, 341),\n",
       " Phosphorylation(RAF1(mods: (phosphorylation, T, 491), (phosphorylation, S, 338), (phosphorylation, S, 494), (phosphorylation, S, 621), (phosphorylation, Y, 341)), AGGF1(mods: (phosphorylation, S, 621)), T, 491),\n",
       " Phosphorylation(RAF1(mods: (phosphorylation, T, 491), (phosphorylation, S, 338), (phosphorylation, S, 494), (phosphorylation, S, 621), (phosphorylation, Y, 341)), AGGF1(mods: (phosphorylation, S, 621)), S, 338),\n",
       " Phosphorylation(RAF1(mods: (phosphorylation, T, 491), (phosphorylation, S, 338), (phosphorylation, S, 494), (phosphorylation, S, 621), (phosphorylation, Y, 341)), AGGF1(mods: (phosphorylation, S, 621)), S, 494),\n",
       " Phosphorylation(RAF1(mods: (phosphorylation, T, 491), (phosphorylation, S, 338), (phosphorylation, S, 494), (phosphorylation, S, 621), (phosphorylation, Y, 341)), AGGF1(mods: (phosphorylation, S, 621)), Y, 341),\n",
       " Phosphorylation(p-2S MAP2K1:p-2S MAPK2K2 heterodimer(), AGGF1(mods: (phosphorylation, S, 621)), T, 491),\n",
       " Phosphorylation(p-2S MAP2K1:p-2S MAPK2K2 heterodimer(), AGGF1(mods: (phosphorylation, S, 621)), S, 338),\n",
       " Phosphorylation(p-2S MAP2K1:p-2S MAPK2K2 heterodimer(), AGGF1(mods: (phosphorylation, S, 621)), S, 494),\n",
       " Phosphorylation(p-2S MAP2K1:p-2S MAPK2K2 heterodimer(), AGGF1(mods: (phosphorylation, S, 621)), Y, 341),\n",
       " Phosphorylation(p-S222,S226 MAP2K2 dimer(), AGGF1(mods: (phosphorylation, S, 621)), T, 491),\n",
       " Phosphorylation(p-S222,S226 MAP2K2 dimer(), AGGF1(mods: (phosphorylation, S, 621)), S, 338),\n",
       " Phosphorylation(p-S222,S226 MAP2K2 dimer(), AGGF1(mods: (phosphorylation, S, 621)), S, 494),\n",
       " Phosphorylation(p-S222,S226 MAP2K2 dimer(), AGGF1(mods: (phosphorylation, S, 621)), Y, 341),\n",
       " Phosphorylation(p-S218,S222 MAP2K1 dimer(), AGGF1(mods: (phosphorylation, S, 621)), T, 491),\n",
       " Phosphorylation(p-S218,S222 MAP2K1 dimer(), AGGF1(mods: (phosphorylation, S, 621)), S, 338),\n",
       " Phosphorylation(p-S218,S222 MAP2K1 dimer(), AGGF1(mods: (phosphorylation, S, 621)), S, 494),\n",
       " Phosphorylation(p-S218,S222 MAP2K1 dimer(), AGGF1(mods: (phosphorylation, S, 621)), Y, 341),\n",
       " Phosphorylation(ARAF(mods: (phosphorylation, T, 452), (phosphorylation, S, 299), (phosphorylation, Y, 302), (phosphorylation, S, 576), (phosphorylation, T, 455)), AGGF1(mods: (phosphorylation, S, 621)), T, 491),\n",
       " Phosphorylation(ARAF(mods: (phosphorylation, T, 452), (phosphorylation, S, 299), (phosphorylation, Y, 302), (phosphorylation, S, 576), (phosphorylation, T, 455)), AGGF1(mods: (phosphorylation, S, 621)), S, 338),\n",
       " Phosphorylation(ARAF(mods: (phosphorylation, T, 452), (phosphorylation, S, 299), (phosphorylation, Y, 302), (phosphorylation, S, 576), (phosphorylation, T, 455)), AGGF1(mods: (phosphorylation, S, 621)), S, 494),\n",
       " Phosphorylation(ARAF(mods: (phosphorylation, T, 452), (phosphorylation, S, 299), (phosphorylation, Y, 302), (phosphorylation, S, 576), (phosphorylation, T, 455)), AGGF1(mods: (phosphorylation, S, 621)), Y, 341),\n",
       " Phosphorylation(SRC(mods: (phosphorylation, Y, 419)), PAPSS1(mods: (phosphorylation, S, 729), (phosphorylation, S, 445)), S, 602),\n",
       " Phosphorylation(SRC(mods: (phosphorylation, Y, 419)), PAPSS1(mods: (phosphorylation, S, 729), (phosphorylation, S, 445)), T, 599),\n",
       " Phosphorylation(JAK2(), PAPSS1(mods: (phosphorylation, S, 729), (phosphorylation, S, 445)), S, 602),\n",
       " Phosphorylation(JAK2(), PAPSS1(mods: (phosphorylation, S, 729), (phosphorylation, S, 445)), T, 599),\n",
       " Phosphorylation(BRAF(mods: (phosphorylation, S, 602), (phosphorylation, S, 729), (phosphorylation, S, 445), (phosphorylation, T, 599)), PAPSS1(mods: (phosphorylation, S, 729), (phosphorylation, S, 445)), S, 602),\n",
       " Phosphorylation(BRAF(mods: (phosphorylation, S, 602), (phosphorylation, S, 729), (phosphorylation, S, 445), (phosphorylation, T, 599)), PAPSS1(mods: (phosphorylation, S, 729), (phosphorylation, S, 445)), T, 599),\n",
       " Phosphorylation(RAF1(mods: (phosphorylation, T, 491), (phosphorylation, S, 338), (phosphorylation, S, 494), (phosphorylation, S, 621), (phosphorylation, Y, 341)), PAPSS1(mods: (phosphorylation, S, 729), (phosphorylation, S, 445)), S, 602),\n",
       " Phosphorylation(RAF1(mods: (phosphorylation, T, 491), (phosphorylation, S, 338), (phosphorylation, S, 494), (phosphorylation, S, 621), (phosphorylation, Y, 341)), PAPSS1(mods: (phosphorylation, S, 729), (phosphorylation, S, 445)), T, 599),\n",
       " Phosphorylation(p-2S MAP2K1:p-2S MAPK2K2 heterodimer(), PAPSS1(mods: (phosphorylation, S, 729), (phosphorylation, S, 445)), S, 602),\n",
       " Phosphorylation(p-2S MAP2K1:p-2S MAPK2K2 heterodimer(), PAPSS1(mods: (phosphorylation, S, 729), (phosphorylation, S, 445)), T, 599),\n",
       " Phosphorylation(p-S222,S226 MAP2K2 dimer(), PAPSS1(mods: (phosphorylation, S, 729), (phosphorylation, S, 445)), S, 602),\n",
       " Phosphorylation(p-S222,S226 MAP2K2 dimer(), PAPSS1(mods: (phosphorylation, S, 729), (phosphorylation, S, 445)), T, 599),\n",
       " Phosphorylation(p-S218,S222 MAP2K1 dimer(), PAPSS1(mods: (phosphorylation, S, 729), (phosphorylation, S, 445)), S, 602),\n",
       " Phosphorylation(p-S218,S222 MAP2K1 dimer(), PAPSS1(mods: (phosphorylation, S, 729), (phosphorylation, S, 445)), T, 599),\n",
       " Phosphorylation(ARAF(mods: (phosphorylation, T, 452), (phosphorylation, S, 299), (phosphorylation, Y, 302), (phosphorylation, S, 576), (phosphorylation, T, 455)), PAPSS1(mods: (phosphorylation, S, 729), (phosphorylation, S, 445)), S, 602),\n",
       " Phosphorylation(ARAF(mods: (phosphorylation, T, 452), (phosphorylation, S, 299), (phosphorylation, Y, 302), (phosphorylation, S, 576), (phosphorylation, T, 455)), PAPSS1(mods: (phosphorylation, S, 729), (phosphorylation, S, 445)), T, 599),\n",
       " Phosphorylation(SRC(mods: (phosphorylation, Y, 419)), MACF1(mods: (phosphorylation, S, 729), (phosphorylation, S, 445)), S, 602),\n",
       " Phosphorylation(SRC(mods: (phosphorylation, Y, 419)), MACF1(mods: (phosphorylation, S, 729), (phosphorylation, S, 445)), T, 599),\n",
       " Phosphorylation(JAK2(), MACF1(mods: (phosphorylation, S, 729), (phosphorylation, S, 445)), S, 602),\n",
       " Phosphorylation(JAK2(), MACF1(mods: (phosphorylation, S, 729), (phosphorylation, S, 445)), T, 599),\n",
       " Phosphorylation(BRAF(mods: (phosphorylation, S, 602), (phosphorylation, S, 729), (phosphorylation, S, 445), (phosphorylation, T, 599)), MACF1(mods: (phosphorylation, S, 729), (phosphorylation, S, 445)), S, 602),\n",
       " Phosphorylation(BRAF(mods: (phosphorylation, S, 602), (phosphorylation, S, 729), (phosphorylation, S, 445), (phosphorylation, T, 599)), MACF1(mods: (phosphorylation, S, 729), (phosphorylation, S, 445)), T, 599),\n",
       " Phosphorylation(RAF1(mods: (phosphorylation, T, 491), (phosphorylation, S, 338), (phosphorylation, S, 494), (phosphorylation, S, 621), (phosphorylation, Y, 341)), MACF1(mods: (phosphorylation, S, 729), (phosphorylation, S, 445)), S, 602),\n",
       " Phosphorylation(RAF1(mods: (phosphorylation, T, 491), (phosphorylation, S, 338), (phosphorylation, S, 494), (phosphorylation, S, 621), (phosphorylation, Y, 341)), MACF1(mods: (phosphorylation, S, 729), (phosphorylation, S, 445)), T, 599),\n",
       " Phosphorylation(p-2S MAP2K1:p-2S MAPK2K2 heterodimer(), MACF1(mods: (phosphorylation, S, 729), (phosphorylation, S, 445)), S, 602),\n",
       " Phosphorylation(p-2S MAP2K1:p-2S MAPK2K2 heterodimer(), MACF1(mods: (phosphorylation, S, 729), (phosphorylation, S, 445)), T, 599),\n",
       " Phosphorylation(p-S222,S226 MAP2K2 dimer(), MACF1(mods: (phosphorylation, S, 729), (phosphorylation, S, 445)), S, 602),\n",
       " Phosphorylation(p-S222,S226 MAP2K2 dimer(), MACF1(mods: (phosphorylation, S, 729), (phosphorylation, S, 445)), T, 599),\n",
       " Phosphorylation(p-S218,S222 MAP2K1 dimer(), MACF1(mods: (phosphorylation, S, 729), (phosphorylation, S, 445)), S, 602),\n",
       " Phosphorylation(p-S218,S222 MAP2K1 dimer(), MACF1(mods: (phosphorylation, S, 729), (phosphorylation, S, 445)), T, 599),\n",
       " Phosphorylation(ARAF(mods: (phosphorylation, T, 452), (phosphorylation, S, 299), (phosphorylation, Y, 302), (phosphorylation, S, 576), (phosphorylation, T, 455)), MACF1(mods: (phosphorylation, S, 729), (phosphorylation, S, 445)), S, 602),\n",
       " Phosphorylation(ARAF(mods: (phosphorylation, T, 452), (phosphorylation, S, 299), (phosphorylation, Y, 302), (phosphorylation, S, 576), (phosphorylation, T, 455)), MACF1(mods: (phosphorylation, S, 729), (phosphorylation, S, 445)), T, 599),\n",
       " Phosphorylation(SRC(mods: (phosphorylation, Y, 419)), ESRP1(mods: (phosphorylation, S, 621)), T, 491),\n",
       " Phosphorylation(SRC(mods: (phosphorylation, Y, 419)), ESRP1(mods: (phosphorylation, S, 621)), S, 338),\n",
       " Phosphorylation(SRC(mods: (phosphorylation, Y, 419)), ESRP1(mods: (phosphorylation, S, 621)), S, 494),\n",
       " Phosphorylation(SRC(mods: (phosphorylation, Y, 419)), ESRP1(mods: (phosphorylation, S, 621)), Y, 341),\n",
       " Phosphorylation(JAK2(), ESRP1(mods: (phosphorylation, S, 621)), T, 491),\n",
       " Phosphorylation(JAK2(), ESRP1(mods: (phosphorylation, S, 621)), S, 338),\n",
       " Phosphorylation(JAK2(), ESRP1(mods: (phosphorylation, S, 621)), S, 494),\n",
       " Phosphorylation(JAK2(), ESRP1(mods: (phosphorylation, S, 621)), Y, 341),\n",
       " Phosphorylation(BRAF(mods: (phosphorylation, S, 602), (phosphorylation, S, 729), (phosphorylation, S, 445), (phosphorylation, T, 599)), ESRP1(mods: (phosphorylation, S, 621)), T, 491),\n",
       " Phosphorylation(BRAF(mods: (phosphorylation, S, 602), (phosphorylation, S, 729), (phosphorylation, S, 445), (phosphorylation, T, 599)), ESRP1(mods: (phosphorylation, S, 621)), S, 338),\n",
       " Phosphorylation(BRAF(mods: (phosphorylation, S, 602), (phosphorylation, S, 729), (phosphorylation, S, 445), (phosphorylation, T, 599)), ESRP1(mods: (phosphorylation, S, 621)), S, 494),\n",
       " Phosphorylation(BRAF(mods: (phosphorylation, S, 602), (phosphorylation, S, 729), (phosphorylation, S, 445), (phosphorylation, T, 599)), ESRP1(mods: (phosphorylation, S, 621)), Y, 341),\n",
       " Phosphorylation(RAF1(mods: (phosphorylation, T, 491), (phosphorylation, S, 338), (phosphorylation, S, 494), (phosphorylation, S, 621), (phosphorylation, Y, 341)), ESRP1(mods: (phosphorylation, S, 621)), T, 491),\n",
       " Phosphorylation(RAF1(mods: (phosphorylation, T, 491), (phosphorylation, S, 338), (phosphorylation, S, 494), (phosphorylation, S, 621), (phosphorylation, Y, 341)), ESRP1(mods: (phosphorylation, S, 621)), S, 338),\n",
       " Phosphorylation(RAF1(mods: (phosphorylation, T, 491), (phosphorylation, S, 338), (phosphorylation, S, 494), (phosphorylation, S, 621), (phosphorylation, Y, 341)), ESRP1(mods: (phosphorylation, S, 621)), S, 494),\n",
       " Phosphorylation(RAF1(mods: (phosphorylation, T, 491), (phosphorylation, S, 338), (phosphorylation, S, 494), (phosphorylation, S, 621), (phosphorylation, Y, 341)), ESRP1(mods: (phosphorylation, S, 621)), Y, 341),\n",
       " Phosphorylation(p-2S MAP2K1:p-2S MAPK2K2 heterodimer(), ESRP1(mods: (phosphorylation, S, 621)), T, 491),\n",
       " Phosphorylation(p-2S MAP2K1:p-2S MAPK2K2 heterodimer(), ESRP1(mods: (phosphorylation, S, 621)), S, 338),\n",
       " Phosphorylation(p-2S MAP2K1:p-2S MAPK2K2 heterodimer(), ESRP1(mods: (phosphorylation, S, 621)), S, 494),\n",
       " Phosphorylation(p-2S MAP2K1:p-2S MAPK2K2 heterodimer(), ESRP1(mods: (phosphorylation, S, 621)), Y, 341),\n",
       " Phosphorylation(p-S222,S226 MAP2K2 dimer(), ESRP1(mods: (phosphorylation, S, 621)), T, 491),\n",
       " Phosphorylation(p-S222,S226 MAP2K2 dimer(), ESRP1(mods: (phosphorylation, S, 621)), S, 338),\n",
       " Phosphorylation(p-S222,S226 MAP2K2 dimer(), ESRP1(mods: (phosphorylation, S, 621)), S, 494),\n",
       " Phosphorylation(p-S222,S226 MAP2K2 dimer(), ESRP1(mods: (phosphorylation, S, 621)), Y, 341),\n",
       " Phosphorylation(p-S218,S222 MAP2K1 dimer(), ESRP1(mods: (phosphorylation, S, 621)), T, 491),\n",
       " Phosphorylation(p-S218,S222 MAP2K1 dimer(), ESRP1(mods: (phosphorylation, S, 621)), S, 338),\n",
       " Phosphorylation(p-S218,S222 MAP2K1 dimer(), ESRP1(mods: (phosphorylation, S, 621)), S, 494),\n",
       " Phosphorylation(p-S218,S222 MAP2K1 dimer(), ESRP1(mods: (phosphorylation, S, 621)), Y, 341),\n",
       " Phosphorylation(ARAF(mods: (phosphorylation, T, 452), (phosphorylation, S, 299), (phosphorylation, Y, 302), (phosphorylation, S, 576), (phosphorylation, T, 455)), ESRP1(mods: (phosphorylation, S, 621)), T, 491),\n",
       " Phosphorylation(ARAF(mods: (phosphorylation, T, 452), (phosphorylation, S, 299), (phosphorylation, Y, 302), (phosphorylation, S, 576), (phosphorylation, T, 455)), ESRP1(mods: (phosphorylation, S, 621)), S, 338),\n",
       " Phosphorylation(ARAF(mods: (phosphorylation, T, 452), (phosphorylation, S, 299), (phosphorylation, Y, 302), (phosphorylation, S, 576), (phosphorylation, T, 455)), ESRP1(mods: (phosphorylation, S, 621)), S, 494),\n",
       " Phosphorylation(ARAF(mods: (phosphorylation, T, 452), (phosphorylation, S, 299), (phosphorylation, Y, 302), (phosphorylation, S, 576), (phosphorylation, T, 455)), ESRP1(mods: (phosphorylation, S, 621)), Y, 341),\n",
       " Phosphorylation(SRC(mods: (phosphorylation, Y, 419)), AP3B1(mods: (phosphorylation, S, 729), (phosphorylation, S, 445)), S, 602),\n",
       " Phosphorylation(SRC(mods: (phosphorylation, Y, 419)), AP3B1(mods: (phosphorylation, S, 729), (phosphorylation, S, 445)), T, 599),\n",
       " Phosphorylation(JAK2(), AP3B1(mods: (phosphorylation, S, 729), (phosphorylation, S, 445)), S, 602),\n",
       " Phosphorylation(JAK2(), AP3B1(mods: (phosphorylation, S, 729), (phosphorylation, S, 445)), T, 599),\n",
       " Phosphorylation(BRAF(mods: (phosphorylation, S, 602), (phosphorylation, S, 729), (phosphorylation, S, 445), (phosphorylation, T, 599)), AP3B1(mods: (phosphorylation, S, 729), (phosphorylation, S, 445)), S, 602),\n",
       " Phosphorylation(BRAF(mods: (phosphorylation, S, 602), (phosphorylation, S, 729), (phosphorylation, S, 445), (phosphorylation, T, 599)), AP3B1(mods: (phosphorylation, S, 729), (phosphorylation, S, 445)), T, 599),\n",
       " Phosphorylation(RAF1(mods: (phosphorylation, T, 491), (phosphorylation, S, 338), (phosphorylation, S, 494), (phosphorylation, S, 621), (phosphorylation, Y, 341)), AP3B1(mods: (phosphorylation, S, 729), (phosphorylation, S, 445)), S, 602),\n",
       " Phosphorylation(RAF1(mods: (phosphorylation, T, 491), (phosphorylation, S, 338), (phosphorylation, S, 494), (phosphorylation, S, 621), (phosphorylation, Y, 341)), AP3B1(mods: (phosphorylation, S, 729), (phosphorylation, S, 445)), T, 599),\n",
       " Phosphorylation(p-2S MAP2K1:p-2S MAPK2K2 heterodimer(), AP3B1(mods: (phosphorylation, S, 729), (phosphorylation, S, 445)), S, 602),\n",
       " Phosphorylation(p-2S MAP2K1:p-2S MAPK2K2 heterodimer(), AP3B1(mods: (phosphorylation, S, 729), (phosphorylation, S, 445)), T, 599),\n",
       " Phosphorylation(p-S222,S226 MAP2K2 dimer(), AP3B1(mods: (phosphorylation, S, 729), (phosphorylation, S, 445)), S, 602),\n",
       " Phosphorylation(p-S222,S226 MAP2K2 dimer(), AP3B1(mods: (phosphorylation, S, 729), (phosphorylation, S, 445)), T, 599),\n",
       " Phosphorylation(p-S218,S222 MAP2K1 dimer(), AP3B1(mods: (phosphorylation, S, 729), (phosphorylation, S, 445)), S, 602),\n",
       " Phosphorylation(p-S218,S222 MAP2K1 dimer(), AP3B1(mods: (phosphorylation, S, 729), (phosphorylation, S, 445)), T, 599),\n",
       " Phosphorylation(ARAF(mods: (phosphorylation, T, 452), (phosphorylation, S, 299), (phosphorylation, Y, 302), (phosphorylation, S, 576), (phosphorylation, T, 455)), AP3B1(mods: (phosphorylation, S, 729), (phosphorylation, S, 445)), S, 602),\n",
       " Phosphorylation(ARAF(mods: (phosphorylation, T, 452), (phosphorylation, S, 299), (phosphorylation, Y, 302), (phosphorylation, S, 576), (phosphorylation, T, 455)), AP3B1(mods: (phosphorylation, S, 729), (phosphorylation, S, 445)), T, 599),\n",
       " Phosphorylation(SRC(mods: (phosphorylation, Y, 419)), TRIM24(mods: (phosphorylation, S, 729), (phosphorylation, S, 445)), S, 602),\n",
       " Phosphorylation(SRC(mods: (phosphorylation, Y, 419)), TRIM24(mods: (phosphorylation, S, 729), (phosphorylation, S, 445)), T, 599),\n",
       " Phosphorylation(JAK2(), TRIM24(mods: (phosphorylation, S, 729), (phosphorylation, S, 445)), S, 602),\n",
       " Phosphorylation(JAK2(), TRIM24(mods: (phosphorylation, S, 729), (phosphorylation, S, 445)), T, 599),\n",
       " Phosphorylation(BRAF(mods: (phosphorylation, S, 602), (phosphorylation, S, 729), (phosphorylation, S, 445), (phosphorylation, T, 599)), TRIM24(mods: (phosphorylation, S, 729), (phosphorylation, S, 445)), S, 602),\n",
       " Phosphorylation(BRAF(mods: (phosphorylation, S, 602), (phosphorylation, S, 729), (phosphorylation, S, 445), (phosphorylation, T, 599)), TRIM24(mods: (phosphorylation, S, 729), (phosphorylation, S, 445)), T, 599),\n",
       " Phosphorylation(RAF1(mods: (phosphorylation, T, 491), (phosphorylation, S, 338), (phosphorylation, S, 494), (phosphorylation, S, 621), (phosphorylation, Y, 341)), TRIM24(mods: (phosphorylation, S, 729), (phosphorylation, S, 445)), S, 602),\n",
       " Phosphorylation(RAF1(mods: (phosphorylation, T, 491), (phosphorylation, S, 338), (phosphorylation, S, 494), (phosphorylation, S, 621), (phosphorylation, Y, 341)), TRIM24(mods: (phosphorylation, S, 729), (phosphorylation, S, 445)), T, 599),\n",
       " Phosphorylation(p-2S MAP2K1:p-2S MAPK2K2 heterodimer(), TRIM24(mods: (phosphorylation, S, 729), (phosphorylation, S, 445)), S, 602),\n",
       " Phosphorylation(p-2S MAP2K1:p-2S MAPK2K2 heterodimer(), TRIM24(mods: (phosphorylation, S, 729), (phosphorylation, S, 445)), T, 599),\n",
       " Phosphorylation(p-S222,S226 MAP2K2 dimer(), TRIM24(mods: (phosphorylation, S, 729), (phosphorylation, S, 445)), S, 602),\n",
       " Phosphorylation(p-S222,S226 MAP2K2 dimer(), TRIM24(mods: (phosphorylation, S, 729), (phosphorylation, S, 445)), T, 599),\n",
       " Phosphorylation(p-S218,S222 MAP2K1 dimer(), TRIM24(mods: (phosphorylation, S, 729), (phosphorylation, S, 445)), S, 602),\n",
       " Phosphorylation(p-S218,S222 MAP2K1 dimer(), TRIM24(mods: (phosphorylation, S, 729), (phosphorylation, S, 445)), T, 599),\n",
       " Phosphorylation(ARAF(mods: (phosphorylation, T, 452), (phosphorylation, S, 299), (phosphorylation, Y, 302), (phosphorylation, S, 576), (phosphorylation, T, 455)), TRIM24(mods: (phosphorylation, S, 729), (phosphorylation, S, 445)), S, 602),\n",
       " Phosphorylation(ARAF(mods: (phosphorylation, T, 452), (phosphorylation, S, 299), (phosphorylation, Y, 302), (phosphorylation, S, 576), (phosphorylation, T, 455)), TRIM24(mods: (phosphorylation, S, 729), (phosphorylation, S, 445)), T, 599),\n",
       " Phosphorylation(SRC(mods: (phosphorylation, Y, 419)), ZC3HAV1(mods: (phosphorylation, S, 729), (phosphorylation, S, 445)), S, 602),\n",
       " Phosphorylation(SRC(mods: (phosphorylation, Y, 419)), ZC3HAV1(mods: (phosphorylation, S, 729), (phosphorylation, S, 445)), T, 599),\n",
       " Phosphorylation(JAK2(), ZC3HAV1(mods: (phosphorylation, S, 729), (phosphorylation, S, 445)), S, 602),\n",
       " Phosphorylation(JAK2(), ZC3HAV1(mods: (phosphorylation, S, 729), (phosphorylation, S, 445)), T, 599),\n",
       " Phosphorylation(BRAF(mods: (phosphorylation, S, 602), (phosphorylation, S, 729), (phosphorylation, S, 445), (phosphorylation, T, 599)), ZC3HAV1(mods: (phosphorylation, S, 729), (phosphorylation, S, 445)), S, 602),\n",
       " Phosphorylation(BRAF(mods: (phosphorylation, S, 602), (phosphorylation, S, 729), (phosphorylation, S, 445), (phosphorylation, T, 599)), ZC3HAV1(mods: (phosphorylation, S, 729), (phosphorylation, S, 445)), T, 599),\n",
       " Phosphorylation(RAF1(mods: (phosphorylation, T, 491), (phosphorylation, S, 338), (phosphorylation, S, 494), (phosphorylation, S, 621), (phosphorylation, Y, 341)), ZC3HAV1(mods: (phosphorylation, S, 729), (phosphorylation, S, 445)), S, 602),\n",
       " Phosphorylation(RAF1(mods: (phosphorylation, T, 491), (phosphorylation, S, 338), (phosphorylation, S, 494), (phosphorylation, S, 621), (phosphorylation, Y, 341)), ZC3HAV1(mods: (phosphorylation, S, 729), (phosphorylation, S, 445)), T, 599),\n",
       " Phosphorylation(p-2S MAP2K1:p-2S MAPK2K2 heterodimer(), ZC3HAV1(mods: (phosphorylation, S, 729), (phosphorylation, S, 445)), S, 602),\n",
       " Phosphorylation(p-2S MAP2K1:p-2S MAPK2K2 heterodimer(), ZC3HAV1(mods: (phosphorylation, S, 729), (phosphorylation, S, 445)), T, 599),\n",
       " Phosphorylation(p-S222,S226 MAP2K2 dimer(), ZC3HAV1(mods: (phosphorylation, S, 729), (phosphorylation, S, 445)), S, 602),\n",
       " Phosphorylation(p-S222,S226 MAP2K2 dimer(), ZC3HAV1(mods: (phosphorylation, S, 729), (phosphorylation, S, 445)), T, 599),\n",
       " Phosphorylation(p-S218,S222 MAP2K1 dimer(), ZC3HAV1(mods: (phosphorylation, S, 729), (phosphorylation, S, 445)), S, 602),\n",
       " Phosphorylation(p-S218,S222 MAP2K1 dimer(), ZC3HAV1(mods: (phosphorylation, S, 729), (phosphorylation, S, 445)), T, 599),\n",
       " Phosphorylation(ARAF(mods: (phosphorylation, T, 452), (phosphorylation, S, 299), (phosphorylation, Y, 302), (phosphorylation, S, 576), (phosphorylation, T, 455)), ZC3HAV1(mods: (phosphorylation, S, 729), (phosphorylation, S, 445)), S, 602),\n",
       " Phosphorylation(ARAF(mods: (phosphorylation, T, 452), (phosphorylation, S, 299), (phosphorylation, Y, 302), (phosphorylation, S, 576), (phosphorylation, T, 455)), ZC3HAV1(mods: (phosphorylation, S, 729), (phosphorylation, S, 445)), T, 599),\n",
       " Phosphorylation(SRC(mods: (phosphorylation, Y, 419)), AKAP9(mods: (phosphorylation, S, 729), (phosphorylation, S, 445)), S, 602),\n",
       " Phosphorylation(SRC(mods: (phosphorylation, Y, 419)), AKAP9(mods: (phosphorylation, S, 729), (phosphorylation, S, 445)), T, 599),\n",
       " Phosphorylation(JAK2(), AKAP9(mods: (phosphorylation, S, 729), (phosphorylation, S, 445)), S, 602),\n",
       " Phosphorylation(JAK2(), AKAP9(mods: (phosphorylation, S, 729), (phosphorylation, S, 445)), T, 599),\n",
       " Phosphorylation(BRAF(mods: (phosphorylation, S, 602), (phosphorylation, S, 729), (phosphorylation, S, 445), (phosphorylation, T, 599)), AKAP9(mods: (phosphorylation, S, 729), (phosphorylation, S, 445)), S, 602),\n",
       " Phosphorylation(BRAF(mods: (phosphorylation, S, 602), (phosphorylation, S, 729), (phosphorylation, S, 445), (phosphorylation, T, 599)), AKAP9(mods: (phosphorylation, S, 729), (phosphorylation, S, 445)), T, 599),\n",
       " Phosphorylation(RAF1(mods: (phosphorylation, T, 491), (phosphorylation, S, 338), (phosphorylation, S, 494), (phosphorylation, S, 621), (phosphorylation, Y, 341)), AKAP9(mods: (phosphorylation, S, 729), (phosphorylation, S, 445)), S, 602),\n",
       " Phosphorylation(RAF1(mods: (phosphorylation, T, 491), (phosphorylation, S, 338), (phosphorylation, S, 494), (phosphorylation, S, 621), (phosphorylation, Y, 341)), AKAP9(mods: (phosphorylation, S, 729), (phosphorylation, S, 445)), T, 599),\n",
       " Phosphorylation(p-2S MAP2K1:p-2S MAPK2K2 heterodimer(), AKAP9(mods: (phosphorylation, S, 729), (phosphorylation, S, 445)), S, 602),\n",
       " Phosphorylation(p-2S MAP2K1:p-2S MAPK2K2 heterodimer(), AKAP9(mods: (phosphorylation, S, 729), (phosphorylation, S, 445)), T, 599),\n",
       " Phosphorylation(p-S222,S226 MAP2K2 dimer(), AKAP9(mods: (phosphorylation, S, 729), (phosphorylation, S, 445)), S, 602),\n",
       " Phosphorylation(p-S222,S226 MAP2K2 dimer(), AKAP9(mods: (phosphorylation, S, 729), (phosphorylation, S, 445)), T, 599),\n",
       " Phosphorylation(p-S218,S222 MAP2K1 dimer(), AKAP9(mods: (phosphorylation, S, 729), (phosphorylation, S, 445)), S, 602),\n",
       " Phosphorylation(p-S218,S222 MAP2K1 dimer(), AKAP9(mods: (phosphorylation, S, 729), (phosphorylation, S, 445)), T, 599),\n",
       " Phosphorylation(ARAF(mods: (phosphorylation, T, 452), (phosphorylation, S, 299), (phosphorylation, Y, 302), (phosphorylation, S, 576), (phosphorylation, T, 455)), AKAP9(mods: (phosphorylation, S, 729), (phosphorylation, S, 445)), S, 602),\n",
       " Phosphorylation(ARAF(mods: (phosphorylation, T, 452), (phosphorylation, S, 299), (phosphorylation, Y, 302), (phosphorylation, S, 576), (phosphorylation, T, 455)), AKAP9(mods: (phosphorylation, S, 729), (phosphorylation, S, 445)), T, 599),\n",
       " Phosphorylation(SRC(mods: (phosphorylation, Y, 419)), TRAK1(mods: (phosphorylation, S, 621)), T, 491),\n",
       " Phosphorylation(SRC(mods: (phosphorylation, Y, 419)), TRAK1(mods: (phosphorylation, S, 621)), S, 338),\n",
       " Phosphorylation(SRC(mods: (phosphorylation, Y, 419)), TRAK1(mods: (phosphorylation, S, 621)), S, 494),\n",
       " Phosphorylation(SRC(mods: (phosphorylation, Y, 419)), TRAK1(mods: (phosphorylation, S, 621)), Y, 341),\n",
       " Phosphorylation(JAK2(), TRAK1(mods: (phosphorylation, S, 621)), T, 491),\n",
       " Phosphorylation(JAK2(), TRAK1(mods: (phosphorylation, S, 621)), S, 338),\n",
       " Phosphorylation(JAK2(), TRAK1(mods: (phosphorylation, S, 621)), S, 494),\n",
       " Phosphorylation(JAK2(), TRAK1(mods: (phosphorylation, S, 621)), Y, 341),\n",
       " Phosphorylation(BRAF(mods: (phosphorylation, S, 602), (phosphorylation, S, 729), (phosphorylation, S, 445), (phosphorylation, T, 599)), TRAK1(mods: (phosphorylation, S, 621)), T, 491),\n",
       " Phosphorylation(BRAF(mods: (phosphorylation, S, 602), (phosphorylation, S, 729), (phosphorylation, S, 445), (phosphorylation, T, 599)), TRAK1(mods: (phosphorylation, S, 621)), S, 338),\n",
       " Phosphorylation(BRAF(mods: (phosphorylation, S, 602), (phosphorylation, S, 729), (phosphorylation, S, 445), (phosphorylation, T, 599)), TRAK1(mods: (phosphorylation, S, 621)), S, 494),\n",
       " Phosphorylation(BRAF(mods: (phosphorylation, S, 602), (phosphorylation, S, 729), (phosphorylation, S, 445), (phosphorylation, T, 599)), TRAK1(mods: (phosphorylation, S, 621)), Y, 341),\n",
       " Phosphorylation(RAF1(mods: (phosphorylation, T, 491), (phosphorylation, S, 338), (phosphorylation, S, 494), (phosphorylation, S, 621), (phosphorylation, Y, 341)), TRAK1(mods: (phosphorylation, S, 621)), T, 491),\n",
       " Phosphorylation(RAF1(mods: (phosphorylation, T, 491), (phosphorylation, S, 338), (phosphorylation, S, 494), (phosphorylation, S, 621), (phosphorylation, Y, 341)), TRAK1(mods: (phosphorylation, S, 621)), S, 338),\n",
       " Phosphorylation(RAF1(mods: (phosphorylation, T, 491), (phosphorylation, S, 338), (phosphorylation, S, 494), (phosphorylation, S, 621), (phosphorylation, Y, 341)), TRAK1(mods: (phosphorylation, S, 621)), S, 494),\n",
       " Phosphorylation(RAF1(mods: (phosphorylation, T, 491), (phosphorylation, S, 338), (phosphorylation, S, 494), (phosphorylation, S, 621), (phosphorylation, Y, 341)), TRAK1(mods: (phosphorylation, S, 621)), Y, 341),\n",
       " Phosphorylation(p-2S MAP2K1:p-2S MAPK2K2 heterodimer(), TRAK1(mods: (phosphorylation, S, 621)), T, 491),\n",
       " Phosphorylation(p-2S MAP2K1:p-2S MAPK2K2 heterodimer(), TRAK1(mods: (phosphorylation, S, 621)), S, 338),\n",
       " Phosphorylation(p-2S MAP2K1:p-2S MAPK2K2 heterodimer(), TRAK1(mods: (phosphorylation, S, 621)), S, 494),\n",
       " Phosphorylation(p-2S MAP2K1:p-2S MAPK2K2 heterodimer(), TRAK1(mods: (phosphorylation, S, 621)), Y, 341),\n",
       " Phosphorylation(p-S222,S226 MAP2K2 dimer(), TRAK1(mods: (phosphorylation, S, 621)), T, 491),\n",
       " Phosphorylation(p-S222,S226 MAP2K2 dimer(), TRAK1(mods: (phosphorylation, S, 621)), S, 338),\n",
       " Phosphorylation(p-S222,S226 MAP2K2 dimer(), TRAK1(mods: (phosphorylation, S, 621)), S, 494),\n",
       " Phosphorylation(p-S222,S226 MAP2K2 dimer(), TRAK1(mods: (phosphorylation, S, 621)), Y, 341),\n",
       " Phosphorylation(p-S218,S222 MAP2K1 dimer(), TRAK1(mods: (phosphorylation, S, 621)), T, 491),\n",
       " Phosphorylation(p-S218,S222 MAP2K1 dimer(), TRAK1(mods: (phosphorylation, S, 621)), S, 338),\n",
       " Phosphorylation(p-S218,S222 MAP2K1 dimer(), TRAK1(mods: (phosphorylation, S, 621)), S, 494),\n",
       " Phosphorylation(p-S218,S222 MAP2K1 dimer(), TRAK1(mods: (phosphorylation, S, 621)), Y, 341),\n",
       " Phosphorylation(ARAF(mods: (phosphorylation, T, 452), (phosphorylation, S, 299), (phosphorylation, Y, 302), (phosphorylation, S, 576), (phosphorylation, T, 455)), TRAK1(mods: (phosphorylation, S, 621)), T, 491),\n",
       " Phosphorylation(ARAF(mods: (phosphorylation, T, 452), (phosphorylation, S, 299), (phosphorylation, Y, 302), (phosphorylation, S, 576), (phosphorylation, T, 455)), TRAK1(mods: (phosphorylation, S, 621)), S, 338),\n",
       " Phosphorylation(ARAF(mods: (phosphorylation, T, 452), (phosphorylation, S, 299), (phosphorylation, Y, 302), (phosphorylation, S, 576), (phosphorylation, T, 455)), TRAK1(mods: (phosphorylation, S, 621)), S, 494),\n",
       " Phosphorylation(ARAF(mods: (phosphorylation, T, 452), (phosphorylation, S, 299), (phosphorylation, Y, 302), (phosphorylation, S, 576), (phosphorylation, T, 455)), TRAK1(mods: (phosphorylation, S, 621)), Y, 341),\n",
       " Phosphorylation(SRC(mods: (phosphorylation, Y, 419)), KIAA1549(mods: (phosphorylation, S, 729), (phosphorylation, S, 445)), S, 602),\n",
       " Phosphorylation(SRC(mods: (phosphorylation, Y, 419)), KIAA1549(mods: (phosphorylation, S, 729), (phosphorylation, S, 445)), T, 599),\n",
       " Phosphorylation(JAK2(), KIAA1549(mods: (phosphorylation, S, 729), (phosphorylation, S, 445)), S, 602),\n",
       " Phosphorylation(JAK2(), KIAA1549(mods: (phosphorylation, S, 729), (phosphorylation, S, 445)), T, 599),\n",
       " Phosphorylation(BRAF(mods: (phosphorylation, S, 602), (phosphorylation, S, 729), (phosphorylation, S, 445), (phosphorylation, T, 599)), KIAA1549(mods: (phosphorylation, S, 729), (phosphorylation, S, 445)), S, 602),\n",
       " Phosphorylation(BRAF(mods: (phosphorylation, S, 602), (phosphorylation, S, 729), (phosphorylation, S, 445), (phosphorylation, T, 599)), KIAA1549(mods: (phosphorylation, S, 729), (phosphorylation, S, 445)), T, 599),\n",
       " Phosphorylation(RAF1(mods: (phosphorylation, T, 491), (phosphorylation, S, 338), (phosphorylation, S, 494), (phosphorylation, S, 621), (phosphorylation, Y, 341)), KIAA1549(mods: (phosphorylation, S, 729), (phosphorylation, S, 445)), S, 602),\n",
       " Phosphorylation(RAF1(mods: (phosphorylation, T, 491), (phosphorylation, S, 338), (phosphorylation, S, 494), (phosphorylation, S, 621), (phosphorylation, Y, 341)), KIAA1549(mods: (phosphorylation, S, 729), (phosphorylation, S, 445)), T, 599),\n",
       " Phosphorylation(p-2S MAP2K1:p-2S MAPK2K2 heterodimer(), KIAA1549(mods: (phosphorylation, S, 729), (phosphorylation, S, 445)), S, 602),\n",
       " Phosphorylation(p-2S MAP2K1:p-2S MAPK2K2 heterodimer(), KIAA1549(mods: (phosphorylation, S, 729), (phosphorylation, S, 445)), T, 599),\n",
       " Phosphorylation(p-S222,S226 MAP2K2 dimer(), KIAA1549(mods: (phosphorylation, S, 729), (phosphorylation, S, 445)), S, 602),\n",
       " Phosphorylation(p-S222,S226 MAP2K2 dimer(), KIAA1549(mods: (phosphorylation, S, 729), (phosphorylation, S, 445)), T, 599),\n",
       " Phosphorylation(p-S218,S222 MAP2K1 dimer(), KIAA1549(mods: (phosphorylation, S, 729), (phosphorylation, S, 445)), S, 602),\n",
       " Phosphorylation(p-S218,S222 MAP2K1 dimer(), KIAA1549(mods: (phosphorylation, S, 729), (phosphorylation, S, 445)), T, 599),\n",
       " Phosphorylation(ARAF(mods: (phosphorylation, T, 452), (phosphorylation, S, 299), (phosphorylation, Y, 302), (phosphorylation, S, 576), (phosphorylation, T, 455)), KIAA1549(mods: (phosphorylation, S, 729), (phosphorylation, S, 445)), S, 602),\n",
       " Phosphorylation(ARAF(mods: (phosphorylation, T, 452), (phosphorylation, S, 299), (phosphorylation, Y, 302), (phosphorylation, S, 576), (phosphorylation, T, 455)), KIAA1549(mods: (phosphorylation, S, 729), (phosphorylation, S, 445)), T, 599),\n",
       " Phosphorylation(SRC(mods: (phosphorylation, Y, 419)), ATG7(mods: (phosphorylation, S, 729), (phosphorylation, S, 445)), S, 602),\n",
       " Phosphorylation(SRC(mods: (phosphorylation, Y, 419)), ATG7(mods: (phosphorylation, S, 729), (phosphorylation, S, 445)), T, 599),\n",
       " Phosphorylation(JAK2(), ATG7(mods: (phosphorylation, S, 729), (phosphorylation, S, 445)), S, 602),\n",
       " Phosphorylation(JAK2(), ATG7(mods: (phosphorylation, S, 729), (phosphorylation, S, 445)), T, 599),\n",
       " Phosphorylation(BRAF(mods: (phosphorylation, S, 602), (phosphorylation, S, 729), (phosphorylation, S, 445), (phosphorylation, T, 599)), ATG7(mods: (phosphorylation, S, 729), (phosphorylation, S, 445)), S, 602),\n",
       " Phosphorylation(BRAF(mods: (phosphorylation, S, 602), (phosphorylation, S, 729), (phosphorylation, S, 445), (phosphorylation, T, 599)), ATG7(mods: (phosphorylation, S, 729), (phosphorylation, S, 445)), T, 599),\n",
       " Phosphorylation(RAF1(mods: (phosphorylation, T, 491), (phosphorylation, S, 338), (phosphorylation, S, 494), (phosphorylation, S, 621), (phosphorylation, Y, 341)), ATG7(mods: (phosphorylation, S, 729), (phosphorylation, S, 445)), S, 602),\n",
       " Phosphorylation(RAF1(mods: (phosphorylation, T, 491), (phosphorylation, S, 338), (phosphorylation, S, 494), (phosphorylation, S, 621), (phosphorylation, Y, 341)), ATG7(mods: (phosphorylation, S, 729), (phosphorylation, S, 445)), T, 599),\n",
       " Phosphorylation(p-2S MAP2K1:p-2S MAPK2K2 heterodimer(), ATG7(mods: (phosphorylation, S, 729), (phosphorylation, S, 445)), S, 602),\n",
       " Phosphorylation(p-2S MAP2K1:p-2S MAPK2K2 heterodimer(), ATG7(mods: (phosphorylation, S, 729), (phosphorylation, S, 445)), T, 599),\n",
       " Phosphorylation(p-S222,S226 MAP2K2 dimer(), ATG7(mods: (phosphorylation, S, 729), (phosphorylation, S, 445)), S, 602),\n",
       " Phosphorylation(p-S222,S226 MAP2K2 dimer(), ATG7(mods: (phosphorylation, S, 729), (phosphorylation, S, 445)), T, 599),\n",
       " Phosphorylation(p-S218,S222 MAP2K1 dimer(), ATG7(mods: (phosphorylation, S, 729), (phosphorylation, S, 445)), S, 602),\n",
       " Phosphorylation(p-S218,S222 MAP2K1 dimer(), ATG7(mods: (phosphorylation, S, 729), (phosphorylation, S, 445)), T, 599),\n",
       " Phosphorylation(ARAF(mods: (phosphorylation, T, 452), (phosphorylation, S, 299), (phosphorylation, Y, 302), (phosphorylation, S, 576), (phosphorylation, T, 455)), ATG7(mods: (phosphorylation, S, 729), (phosphorylation, S, 445)), S, 602),\n",
       " Phosphorylation(ARAF(mods: (phosphorylation, T, 452), (phosphorylation, S, 299), (phosphorylation, Y, 302), (phosphorylation, S, 576), (phosphorylation, T, 455)), ATG7(mods: (phosphorylation, S, 729), (phosphorylation, S, 445)), T, 599),\n",
       " Phosphorylation(SRC(mods: (phosphorylation, Y, 419)), PAPD7(mods: (phosphorylation, S, 621)), T, 491),\n",
       " Phosphorylation(SRC(mods: (phosphorylation, Y, 419)), PAPD7(mods: (phosphorylation, S, 621)), S, 338),\n",
       " Phosphorylation(SRC(mods: (phosphorylation, Y, 419)), PAPD7(mods: (phosphorylation, S, 621)), S, 494),\n",
       " Phosphorylation(SRC(mods: (phosphorylation, Y, 419)), PAPD7(mods: (phosphorylation, S, 621)), Y, 341),\n",
       " Phosphorylation(JAK2(), PAPD7(mods: (phosphorylation, S, 621)), T, 491),\n",
       " Phosphorylation(JAK2(), PAPD7(mods: (phosphorylation, S, 621)), S, 338),\n",
       " Phosphorylation(JAK2(), PAPD7(mods: (phosphorylation, S, 621)), S, 494),\n",
       " Phosphorylation(JAK2(), PAPD7(mods: (phosphorylation, S, 621)), Y, 341),\n",
       " Phosphorylation(BRAF(mods: (phosphorylation, S, 602), (phosphorylation, S, 729), (phosphorylation, S, 445), (phosphorylation, T, 599)), PAPD7(mods: (phosphorylation, S, 621)), T, 491),\n",
       " Phosphorylation(BRAF(mods: (phosphorylation, S, 602), (phosphorylation, S, 729), (phosphorylation, S, 445), (phosphorylation, T, 599)), PAPD7(mods: (phosphorylation, S, 621)), S, 338),\n",
       " Phosphorylation(BRAF(mods: (phosphorylation, S, 602), (phosphorylation, S, 729), (phosphorylation, S, 445), (phosphorylation, T, 599)), PAPD7(mods: (phosphorylation, S, 621)), S, 494),\n",
       " Phosphorylation(BRAF(mods: (phosphorylation, S, 602), (phosphorylation, S, 729), (phosphorylation, S, 445), (phosphorylation, T, 599)), PAPD7(mods: (phosphorylation, S, 621)), Y, 341),\n",
       " Phosphorylation(RAF1(mods: (phosphorylation, T, 491), (phosphorylation, S, 338), (phosphorylation, S, 494), (phosphorylation, S, 621), (phosphorylation, Y, 341)), PAPD7(mods: (phosphorylation, S, 621)), T, 491),\n",
       " Phosphorylation(RAF1(mods: (phosphorylation, T, 491), (phosphorylation, S, 338), (phosphorylation, S, 494), (phosphorylation, S, 621), (phosphorylation, Y, 341)), PAPD7(mods: (phosphorylation, S, 621)), S, 338),\n",
       " Phosphorylation(RAF1(mods: (phosphorylation, T, 491), (phosphorylation, S, 338), (phosphorylation, S, 494), (phosphorylation, S, 621), (phosphorylation, Y, 341)), PAPD7(mods: (phosphorylation, S, 621)), S, 494),\n",
       " Phosphorylation(RAF1(mods: (phosphorylation, T, 491), (phosphorylation, S, 338), (phosphorylation, S, 494), (phosphorylation, S, 621), (phosphorylation, Y, 341)), PAPD7(mods: (phosphorylation, S, 621)), Y, 341),\n",
       " Phosphorylation(p-2S MAP2K1:p-2S MAPK2K2 heterodimer(), PAPD7(mods: (phosphorylation, S, 621)), T, 491),\n",
       " Phosphorylation(p-2S MAP2K1:p-2S MAPK2K2 heterodimer(), PAPD7(mods: (phosphorylation, S, 621)), S, 338),\n",
       " Phosphorylation(p-2S MAP2K1:p-2S MAPK2K2 heterodimer(), PAPD7(mods: (phosphorylation, S, 621)), S, 494),\n",
       " Phosphorylation(p-2S MAP2K1:p-2S MAPK2K2 heterodimer(), PAPD7(mods: (phosphorylation, S, 621)), Y, 341),\n",
       " Phosphorylation(p-S222,S226 MAP2K2 dimer(), PAPD7(mods: (phosphorylation, S, 621)), T, 491),\n",
       " Phosphorylation(p-S222,S226 MAP2K2 dimer(), PAPD7(mods: (phosphorylation, S, 621)), S, 338),\n",
       " Phosphorylation(p-S222,S226 MAP2K2 dimer(), PAPD7(mods: (phosphorylation, S, 621)), S, 494),\n",
       " Phosphorylation(p-S222,S226 MAP2K2 dimer(), PAPD7(mods: (phosphorylation, S, 621)), Y, 341),\n",
       " Phosphorylation(p-S218,S222 MAP2K1 dimer(), PAPD7(mods: (phosphorylation, S, 621)), T, 491),\n",
       " Phosphorylation(p-S218,S222 MAP2K1 dimer(), PAPD7(mods: (phosphorylation, S, 621)), S, 338),\n",
       " Phosphorylation(p-S218,S222 MAP2K1 dimer(), PAPD7(mods: (phosphorylation, S, 621)), S, 494),\n",
       " Phosphorylation(p-S218,S222 MAP2K1 dimer(), PAPD7(mods: (phosphorylation, S, 621)), Y, 341),\n",
       " Phosphorylation(ARAF(mods: (phosphorylation, T, 452), (phosphorylation, S, 299), (phosphorylation, Y, 302), (phosphorylation, S, 576), (phosphorylation, T, 455)), PAPD7(mods: (phosphorylation, S, 621)), T, 491),\n",
       " Phosphorylation(ARAF(mods: (phosphorylation, T, 452), (phosphorylation, S, 299), (phosphorylation, Y, 302), (phosphorylation, S, 576), (phosphorylation, T, 455)), PAPD7(mods: (phosphorylation, S, 621)), S, 338),\n",
       " Phosphorylation(ARAF(mods: (phosphorylation, T, 452), (phosphorylation, S, 299), (phosphorylation, Y, 302), (phosphorylation, S, 576), (phosphorylation, T, 455)), PAPD7(mods: (phosphorylation, S, 621)), S, 494),\n",
       " Phosphorylation(ARAF(mods: (phosphorylation, T, 452), (phosphorylation, S, 299), (phosphorylation, Y, 302), (phosphorylation, S, 576), (phosphorylation, T, 455)), PAPD7(mods: (phosphorylation, S, 621)), Y, 341),\n",
       " Phosphorylation(SRC(mods: (phosphorylation, Y, 419)), FAM114A2(mods: (phosphorylation, S, 729), (phosphorylation, S, 445)), S, 602),\n",
       " Phosphorylation(SRC(mods: (phosphorylation, Y, 419)), FAM114A2(mods: (phosphorylation, S, 729), (phosphorylation, S, 445)), T, 599),\n",
       " Phosphorylation(JAK2(), FAM114A2(mods: (phosphorylation, S, 729), (phosphorylation, S, 445)), S, 602),\n",
       " Phosphorylation(JAK2(), FAM114A2(mods: (phosphorylation, S, 729), (phosphorylation, S, 445)), T, 599),\n",
       " Phosphorylation(BRAF(mods: (phosphorylation, S, 602), (phosphorylation, S, 729), (phosphorylation, S, 445), (phosphorylation, T, 599)), FAM114A2(mods: (phosphorylation, S, 729), (phosphorylation, S, 445)), S, 602),\n",
       " Phosphorylation(BRAF(mods: (phosphorylation, S, 602), (phosphorylation, S, 729), (phosphorylation, S, 445), (phosphorylation, T, 599)), FAM114A2(mods: (phosphorylation, S, 729), (phosphorylation, S, 445)), T, 599),\n",
       " Phosphorylation(RAF1(mods: (phosphorylation, T, 491), (phosphorylation, S, 338), (phosphorylation, S, 494), (phosphorylation, S, 621), (phosphorylation, Y, 341)), FAM114A2(mods: (phosphorylation, S, 729), (phosphorylation, S, 445)), S, 602),\n",
       " Phosphorylation(RAF1(mods: (phosphorylation, T, 491), (phosphorylation, S, 338), (phosphorylation, S, 494), (phosphorylation, S, 621), (phosphorylation, Y, 341)), FAM114A2(mods: (phosphorylation, S, 729), (phosphorylation, S, 445)), T, 599),\n",
       " Phosphorylation(p-2S MAP2K1:p-2S MAPK2K2 heterodimer(), FAM114A2(mods: (phosphorylation, S, 729), (phosphorylation, S, 445)), S, 602),\n",
       " Phosphorylation(p-2S MAP2K1:p-2S MAPK2K2 heterodimer(), FAM114A2(mods: (phosphorylation, S, 729), (phosphorylation, S, 445)), T, 599),\n",
       " Phosphorylation(p-S222,S226 MAP2K2 dimer(), FAM114A2(mods: (phosphorylation, S, 729), (phosphorylation, S, 445)), S, 602),\n",
       " Phosphorylation(p-S222,S226 MAP2K2 dimer(), FAM114A2(mods: (phosphorylation, S, 729), (phosphorylation, S, 445)), T, 599),\n",
       " Phosphorylation(p-S218,S222 MAP2K1 dimer(), FAM114A2(mods: (phosphorylation, S, 729), (phosphorylation, S, 445)), S, 602),\n",
       " Phosphorylation(p-S218,S222 MAP2K1 dimer(), FAM114A2(mods: (phosphorylation, S, 729), (phosphorylation, S, 445)), T, 599),\n",
       " Phosphorylation(ARAF(mods: (phosphorylation, T, 452), (phosphorylation, S, 299), (phosphorylation, Y, 302), (phosphorylation, S, 576), (phosphorylation, T, 455)), FAM114A2(mods: (phosphorylation, S, 729), (phosphorylation, S, 445)), S, 602),\n",
       " Phosphorylation(ARAF(mods: (phosphorylation, T, 452), (phosphorylation, S, 299), (phosphorylation, Y, 302), (phosphorylation, S, 576), (phosphorylation, T, 455)), FAM114A2(mods: (phosphorylation, S, 729), (phosphorylation, S, 445)), T, 599),\n",
       " Phosphorylation(SRC(mods: (phosphorylation, Y, 419)), RAF1(mods: (phosphorylation, S, 621)), T, 491),\n",
       " Phosphorylation(SRC(mods: (phosphorylation, Y, 419)), RAF1(mods: (phosphorylation, S, 621)), S, 338),\n",
       " Phosphorylation(SRC(mods: (phosphorylation, Y, 419)), RAF1(mods: (phosphorylation, S, 621)), S, 494),\n",
       " Phosphorylation(SRC(mods: (phosphorylation, Y, 419)), RAF1(mods: (phosphorylation, S, 621)), Y, 341),\n",
       " Phosphorylation(JAK2(), RAF1(mods: (phosphorylation, S, 621)), T, 491),\n",
       " Phosphorylation(JAK2(), RAF1(mods: (phosphorylation, S, 621)), S, 338),\n",
       " Phosphorylation(JAK2(), RAF1(mods: (phosphorylation, S, 621)), S, 494),\n",
       " Phosphorylation(JAK2(), RAF1(mods: (phosphorylation, S, 621)), Y, 341),\n",
       " Phosphorylation(BRAF(mods: (phosphorylation, S, 602), (phosphorylation, S, 729), (phosphorylation, S, 445), (phosphorylation, T, 599)), RAF1(mods: (phosphorylation, S, 621)), T, 491),\n",
       " Phosphorylation(BRAF(mods: (phosphorylation, S, 602), (phosphorylation, S, 729), (phosphorylation, S, 445), (phosphorylation, T, 599)), RAF1(mods: (phosphorylation, S, 621)), S, 338),\n",
       " Phosphorylation(BRAF(mods: (phosphorylation, S, 602), (phosphorylation, S, 729), (phosphorylation, S, 445), (phosphorylation, T, 599)), RAF1(mods: (phosphorylation, S, 621)), S, 494),\n",
       " Phosphorylation(BRAF(mods: (phosphorylation, S, 602), (phosphorylation, S, 729), (phosphorylation, S, 445), (phosphorylation, T, 599)), RAF1(mods: (phosphorylation, S, 621)), Y, 341),\n",
       " Phosphorylation(RAF1(mods: (phosphorylation, T, 491), (phosphorylation, S, 338), (phosphorylation, S, 494), (phosphorylation, S, 621), (phosphorylation, Y, 341)), RAF1(mods: (phosphorylation, S, 621)), T, 491),\n",
       " Phosphorylation(RAF1(mods: (phosphorylation, T, 491), (phosphorylation, S, 338), (phosphorylation, S, 494), (phosphorylation, S, 621), (phosphorylation, Y, 341)), RAF1(mods: (phosphorylation, S, 621)), S, 338),\n",
       " Phosphorylation(RAF1(mods: (phosphorylation, T, 491), (phosphorylation, S, 338), (phosphorylation, S, 494), (phosphorylation, S, 621), (phosphorylation, Y, 341)), RAF1(mods: (phosphorylation, S, 621)), S, 494),\n",
       " Phosphorylation(RAF1(mods: (phosphorylation, T, 491), (phosphorylation, S, 338), (phosphorylation, S, 494), (phosphorylation, S, 621), (phosphorylation, Y, 341)), RAF1(mods: (phosphorylation, S, 621)), Y, 341),\n",
       " Phosphorylation(p-2S MAP2K1:p-2S MAPK2K2 heterodimer(), RAF1(mods: (phosphorylation, S, 621)), T, 491),\n",
       " Phosphorylation(p-2S MAP2K1:p-2S MAPK2K2 heterodimer(), RAF1(mods: (phosphorylation, S, 621)), S, 338),\n",
       " Phosphorylation(p-2S MAP2K1:p-2S MAPK2K2 heterodimer(), RAF1(mods: (phosphorylation, S, 621)), S, 494),\n",
       " Phosphorylation(p-2S MAP2K1:p-2S MAPK2K2 heterodimer(), RAF1(mods: (phosphorylation, S, 621)), Y, 341),\n",
       " Phosphorylation(p-S222,S226 MAP2K2 dimer(), RAF1(mods: (phosphorylation, S, 621)), T, 491),\n",
       " Phosphorylation(p-S222,S226 MAP2K2 dimer(), RAF1(mods: (phosphorylation, S, 621)), S, 338),\n",
       " Phosphorylation(p-S222,S226 MAP2K2 dimer(), RAF1(mods: (phosphorylation, S, 621)), S, 494),\n",
       " Phosphorylation(p-S222,S226 MAP2K2 dimer(), RAF1(mods: (phosphorylation, S, 621)), Y, 341),\n",
       " Phosphorylation(p-S218,S222 MAP2K1 dimer(), RAF1(mods: (phosphorylation, S, 621)), T, 491),\n",
       " Phosphorylation(p-S218,S222 MAP2K1 dimer(), RAF1(mods: (phosphorylation, S, 621)), S, 338),\n",
       " Phosphorylation(p-S218,S222 MAP2K1 dimer(), RAF1(mods: (phosphorylation, S, 621)), S, 494),\n",
       " Phosphorylation(p-S218,S222 MAP2K1 dimer(), RAF1(mods: (phosphorylation, S, 621)), Y, 341),\n",
       " Phosphorylation(ARAF(mods: (phosphorylation, T, 452), (phosphorylation, S, 299), (phosphorylation, Y, 302), (phosphorylation, S, 576), (phosphorylation, T, 455)), RAF1(mods: (phosphorylation, S, 621)), T, 491),\n",
       " Phosphorylation(ARAF(mods: (phosphorylation, T, 452), (phosphorylation, S, 299), (phosphorylation, Y, 302), (phosphorylation, S, 576), (phosphorylation, T, 455)), RAF1(mods: (phosphorylation, S, 621)), S, 338),\n",
       " Phosphorylation(ARAF(mods: (phosphorylation, T, 452), (phosphorylation, S, 299), (phosphorylation, Y, 302), (phosphorylation, S, 576), (phosphorylation, T, 455)), RAF1(mods: (phosphorylation, S, 621)), S, 494),\n",
       " Phosphorylation(ARAF(mods: (phosphorylation, T, 452), (phosphorylation, S, 299), (phosphorylation, Y, 302), (phosphorylation, S, 576), (phosphorylation, T, 455)), RAF1(mods: (phosphorylation, S, 621)), Y, 341),\n",
       " Phosphorylation(SRC(mods: (phosphorylation, Y, 419)), BRAF(mods: (phosphorylation, S, 729), (phosphorylation, S, 445)), S, 602),\n",
       " Phosphorylation(SRC(mods: (phosphorylation, Y, 419)), BRAF(mods: (phosphorylation, S, 729), (phosphorylation, S, 445)), T, 599),\n",
       " Phosphorylation(JAK2(), BRAF(mods: (phosphorylation, S, 729), (phosphorylation, S, 445)), S, 602),\n",
       " Phosphorylation(JAK2(), BRAF(mods: (phosphorylation, S, 729), (phosphorylation, S, 445)), T, 599),\n",
       " Phosphorylation(BRAF(mods: (phosphorylation, S, 602), (phosphorylation, S, 729), (phosphorylation, S, 445), (phosphorylation, T, 599)), BRAF(mods: (phosphorylation, S, 729), (phosphorylation, S, 445)), S, 602),\n",
       " Phosphorylation(BRAF(mods: (phosphorylation, S, 602), (phosphorylation, S, 729), (phosphorylation, S, 445), (phosphorylation, T, 599)), BRAF(mods: (phosphorylation, S, 729), (phosphorylation, S, 445)), T, 599),\n",
       " Phosphorylation(RAF1(mods: (phosphorylation, T, 491), (phosphorylation, S, 338), (phosphorylation, S, 494), (phosphorylation, S, 621), (phosphorylation, Y, 341)), BRAF(mods: (phosphorylation, S, 729), (phosphorylation, S, 445)), S, 602),\n",
       " Phosphorylation(RAF1(mods: (phosphorylation, T, 491), (phosphorylation, S, 338), (phosphorylation, S, 494), (phosphorylation, S, 621), (phosphorylation, Y, 341)), BRAF(mods: (phosphorylation, S, 729), (phosphorylation, S, 445)), T, 599),\n",
       " Phosphorylation(p-2S MAP2K1:p-2S MAPK2K2 heterodimer(), BRAF(mods: (phosphorylation, S, 729), (phosphorylation, S, 445)), S, 602),\n",
       " Phosphorylation(p-2S MAP2K1:p-2S MAPK2K2 heterodimer(), BRAF(mods: (phosphorylation, S, 729), (phosphorylation, S, 445)), T, 599),\n",
       " Phosphorylation(p-S222,S226 MAP2K2 dimer(), BRAF(mods: (phosphorylation, S, 729), (phosphorylation, S, 445)), S, 602),\n",
       " Phosphorylation(p-S222,S226 MAP2K2 dimer(), BRAF(mods: (phosphorylation, S, 729), (phosphorylation, S, 445)), T, 599),\n",
       " Phosphorylation(p-S218,S222 MAP2K1 dimer(), BRAF(mods: (phosphorylation, S, 729), (phosphorylation, S, 445)), S, 602),\n",
       " Phosphorylation(p-S218,S222 MAP2K1 dimer(), BRAF(mods: (phosphorylation, S, 729), (phosphorylation, S, 445)), T, 599),\n",
       " Phosphorylation(ARAF(mods: (phosphorylation, T, 452), (phosphorylation, S, 299), (phosphorylation, Y, 302), (phosphorylation, S, 576), (phosphorylation, T, 455)), BRAF(mods: (phosphorylation, S, 729), (phosphorylation, S, 445)), S, 602),\n",
       " Phosphorylation(ARAF(mods: (phosphorylation, T, 452), (phosphorylation, S, 299), (phosphorylation, Y, 302), (phosphorylation, S, 576), (phosphorylation, T, 455)), BRAF(mods: (phosphorylation, S, 729), (phosphorylation, S, 445)), T, 599),\n",
       " Phosphorylation(SRC(mods: (phosphorylation, Y, 419)), RAF1(mods: (phosphorylation, S, 621)), T, 491),\n",
       " Phosphorylation(SRC(mods: (phosphorylation, Y, 419)), RAF1(mods: (phosphorylation, S, 621)), S, 338),\n",
       " Phosphorylation(SRC(mods: (phosphorylation, Y, 419)), RAF1(mods: (phosphorylation, S, 621)), S, 494),\n",
       " Phosphorylation(SRC(mods: (phosphorylation, Y, 419)), RAF1(mods: (phosphorylation, S, 621)), Y, 341),\n",
       " Phosphorylation(JAK2(), RAF1(mods: (phosphorylation, S, 621)), T, 491),\n",
       " Phosphorylation(JAK2(), RAF1(mods: (phosphorylation, S, 621)), S, 338),\n",
       " Phosphorylation(JAK2(), RAF1(mods: (phosphorylation, S, 621)), S, 494),\n",
       " Phosphorylation(JAK2(), RAF1(mods: (phosphorylation, S, 621)), Y, 341),\n",
       " Phosphorylation(BRAF(mods: (phosphorylation, S, 602), (phosphorylation, S, 729), (phosphorylation, S, 445), (phosphorylation, T, 599)), RAF1(mods: (phosphorylation, S, 621)), T, 491),\n",
       " Phosphorylation(BRAF(mods: (phosphorylation, S, 602), (phosphorylation, S, 729), (phosphorylation, S, 445), (phosphorylation, T, 599)), RAF1(mods: (phosphorylation, S, 621)), S, 338),\n",
       " Phosphorylation(BRAF(mods: (phosphorylation, S, 602), (phosphorylation, S, 729), (phosphorylation, S, 445), (phosphorylation, T, 599)), RAF1(mods: (phosphorylation, S, 621)), S, 494),\n",
       " Phosphorylation(BRAF(mods: (phosphorylation, S, 602), (phosphorylation, S, 729), (phosphorylation, S, 445), (phosphorylation, T, 599)), RAF1(mods: (phosphorylation, S, 621)), Y, 341),\n",
       " Phosphorylation(RAF1(mods: (phosphorylation, T, 491), (phosphorylation, S, 338), (phosphorylation, S, 494), (phosphorylation, S, 621), (phosphorylation, Y, 341)), RAF1(mods: (phosphorylation, S, 621)), T, 491),\n",
       " Phosphorylation(RAF1(mods: (phosphorylation, T, 491), (phosphorylation, S, 338), (phosphorylation, S, 494), (phosphorylation, S, 621), (phosphorylation, Y, 341)), RAF1(mods: (phosphorylation, S, 621)), S, 338),\n",
       " Phosphorylation(RAF1(mods: (phosphorylation, T, 491), (phosphorylation, S, 338), (phosphorylation, S, 494), (phosphorylation, S, 621), (phosphorylation, Y, 341)), RAF1(mods: (phosphorylation, S, 621)), S, 494),\n",
       " Phosphorylation(RAF1(mods: (phosphorylation, T, 491), (phosphorylation, S, 338), (phosphorylation, S, 494), (phosphorylation, S, 621), (phosphorylation, Y, 341)), RAF1(mods: (phosphorylation, S, 621)), Y, 341),\n",
       " Phosphorylation(p-2S MAP2K1:p-2S MAPK2K2 heterodimer(), RAF1(mods: (phosphorylation, S, 621)), T, 491),\n",
       " Phosphorylation(p-2S MAP2K1:p-2S MAPK2K2 heterodimer(), RAF1(mods: (phosphorylation, S, 621)), S, 338),\n",
       " Phosphorylation(p-2S MAP2K1:p-2S MAPK2K2 heterodimer(), RAF1(mods: (phosphorylation, S, 621)), S, 494),\n",
       " Phosphorylation(p-2S MAP2K1:p-2S MAPK2K2 heterodimer(), RAF1(mods: (phosphorylation, S, 621)), Y, 341),\n",
       " Phosphorylation(p-S222,S226 MAP2K2 dimer(), RAF1(mods: (phosphorylation, S, 621)), T, 491),\n",
       " Phosphorylation(p-S222,S226 MAP2K2 dimer(), RAF1(mods: (phosphorylation, S, 621)), S, 338),\n",
       " Phosphorylation(p-S222,S226 MAP2K2 dimer(), RAF1(mods: (phosphorylation, S, 621)), S, 494),\n",
       " Phosphorylation(p-S222,S226 MAP2K2 dimer(), RAF1(mods: (phosphorylation, S, 621)), Y, 341),\n",
       " Phosphorylation(p-S218,S222 MAP2K1 dimer(), RAF1(mods: (phosphorylation, S, 621)), T, 491),\n",
       " Phosphorylation(p-S218,S222 MAP2K1 dimer(), RAF1(mods: (phosphorylation, S, 621)), S, 338),\n",
       " Phosphorylation(p-S218,S222 MAP2K1 dimer(), RAF1(mods: (phosphorylation, S, 621)), S, 494),\n",
       " Phosphorylation(p-S218,S222 MAP2K1 dimer(), RAF1(mods: (phosphorylation, S, 621)), Y, 341),\n",
       " Phosphorylation(ARAF(mods: (phosphorylation, T, 452), (phosphorylation, S, 299), (phosphorylation, Y, 302), (phosphorylation, S, 576), (phosphorylation, T, 455)), RAF1(mods: (phosphorylation, S, 621)), T, 491),\n",
       " Phosphorylation(ARAF(mods: (phosphorylation, T, 452), (phosphorylation, S, 299), (phosphorylation, Y, 302), (phosphorylation, S, 576), (phosphorylation, T, 455)), RAF1(mods: (phosphorylation, S, 621)), S, 338),\n",
       " Phosphorylation(ARAF(mods: (phosphorylation, T, 452), (phosphorylation, S, 299), (phosphorylation, Y, 302), (phosphorylation, S, 576), (phosphorylation, T, 455)), RAF1(mods: (phosphorylation, S, 621)), S, 494),\n",
       " Phosphorylation(ARAF(mods: (phosphorylation, T, 452), (phosphorylation, S, 299), (phosphorylation, Y, 302), (phosphorylation, S, 576), (phosphorylation, T, 455)), RAF1(mods: (phosphorylation, S, 621)), Y, 341),\n",
       " Phosphorylation(BRAF(mods: (phosphorylation, S, 578)), MAP2K2(), S, 226),\n",
       " Phosphorylation(BRAF(mods: (phosphorylation, S, 578)), MAP2K2(), S, 222),\n",
       " Phosphorylation(BRAF(mods: (phosphorylation, S, 578)), MAP2K1(), S, 222),\n",
       " Phosphorylation(BRAF(mods: (phosphorylation, S, 578)), MAP2K1(), S, 218),\n",
       " Phosphorylation(BRAF(mods: (phosphorylation, S, 578)), MAP2K1(), S, 222),\n",
       " Phosphorylation(BRAF(mods: (phosphorylation, S, 578)), MAP2K1(), S, 218),\n",
       " Phosphorylation(MAP2K2(mods: (phosphorylation, S, 226), (phosphorylation, S, 222)), MAPK3(), T, 201),\n",
       " Phosphorylation(MAP2K2(mods: (phosphorylation, S, 226), (phosphorylation, S, 222)), MAPK3(), Y, 203),\n",
       " Phosphorylation(MAP2K2(mods: (phosphorylation, S, 226), (phosphorylation, S, 222)), MAPK1(), Y, 184),\n",
       " Phosphorylation(MAP2K2(mods: (phosphorylation, S, 226), (phosphorylation, S, 222)), MAPK1(), T, 182),\n",
       " Phosphorylation(MAP2K2(mods: (phosphorylation, S, 226), (phosphorylation, S, 222)), MAPK3(), T, 201),\n",
       " Phosphorylation(MAP2K2(mods: (phosphorylation, S, 226), (phosphorylation, S, 222)), MAPK3(), Y, 203),\n",
       " Phosphorylation(MAP2K2(mods: (phosphorylation, S, 226), (phosphorylation, S, 222)), MAPK1(), T, 185),\n",
       " Phosphorylation(MAP2K2(mods: (phosphorylation, S, 226), (phosphorylation, S, 222)), MAPK1(), Y, 187),\n",
       " Phosphorylation(MAP2K2(mods: (phosphorylation, S, 226), (phosphorylation, S, 222)), MAPK3(), T, 202),\n",
       " Phosphorylation(MAP2K2(mods: (phosphorylation, S, 226), (phosphorylation, S, 222)), MAPK3(), Y, 204),\n",
       " Phosphorylation(MAP2K2(mods: (phosphorylation, S, 226), (phosphorylation, S, 222)), MAPK1(), T, 185),\n",
       " Phosphorylation(MAP2K2(mods: (phosphorylation, S, 226), (phosphorylation, S, 222)), MAPK1(), Y, 187),\n",
       " Phosphorylation(MAP2K2(mods: (phosphorylation, S, 226), (phosphorylation, S, 222)), MAPK3(), T, 202),\n",
       " Phosphorylation(MAP2K2(mods: (phosphorylation, S, 226), (phosphorylation, S, 222)), MAPK3(), Y, 204),\n",
       " Phosphorylation(MEK(mods: (phosphorylation)), MAPK7()),\n",
       " Phosphorylation(MEK(mods: (phosphorylation)), MAPK6()),\n",
       " Phosphorylation(MEK(mods: (phosphorylation)), MAPK3()),\n",
       " Phosphorylation(MEK(mods: (phosphorylation)), MAPK15()),\n",
       " Phosphorylation(MEK(mods: (phosphorylation)), MAPK1()),\n",
       " Phosphorylation(MAP2K2(), MAPK3()),\n",
       " Phosphorylation(MAP2K2(), MAPK1()),\n",
       " Phosphorylation(MAP2K1(), MAPK3()),\n",
       " Phosphorylation(MAP2K1(), MAPK1()),\n",
       " Phosphorylation(BRAF(), MAPK3(), T, 201),\n",
       " Phosphorylation(BRAF(), MAPK3(), Y, 203),\n",
       " Phosphorylation(RAF1(), MAPK3(), T, 201),\n",
       " Phosphorylation(RAF1(), MAPK3(), Y, 203),\n",
       " Phosphorylation(BRAF(), MAPK1(), Y, 184),\n",
       " Phosphorylation(BRAF(), MAPK1(), T, 182),\n",
       " Phosphorylation(RAF1(), MAPK1(), Y, 184),\n",
       " Phosphorylation(RAF1(), MAPK1(), T, 182),\n",
       " Phosphorylation(BRAF(), MAPK3(), T, 201),\n",
       " Phosphorylation(BRAF(), MAPK3(), Y, 203),\n",
       " Phosphorylation(RAF1(), MAPK3(), T, 201),\n",
       " Phosphorylation(RAF1(), MAPK3(), Y, 203),\n",
       " Phosphorylation(BRAF(), MAP2K1(), S, 222),\n",
       " Phosphorylation(BRAF(), MAP2K1(), S, 218),\n",
       " Phosphorylation(RAF1(), MAP2K1(), S, 222),\n",
       " Phosphorylation(RAF1(), MAP2K1(), S, 218),\n",
       " Phosphorylation(BRAF(), MAP2K2(), S, 226),\n",
       " Phosphorylation(BRAF(), MAP2K2(), S, 222),\n",
       " Phosphorylation(RAF1(), MAP2K2(), S, 226),\n",
       " Phosphorylation(RAF1(), MAP2K2(), S, 222),\n",
       " Phosphorylation(BRAF(), MAP2K1(), S, 222),\n",
       " Phosphorylation(BRAF(), MAP2K1(), S, 218),\n",
       " Phosphorylation(RAF1(), MAP2K1(), S, 222),\n",
       " Phosphorylation(RAF1(), MAP2K1(), S, 218),\n",
       " Phosphorylation(MAP2K2(mods: (phosphorylation, S, 226), (phosphorylation, S, 222)), MAPK3(), T, 201),\n",
       " Phosphorylation(MAP2K2(mods: (phosphorylation, S, 226), (phosphorylation, S, 222)), MAPK3(), Y, 203),\n",
       " Phosphorylation(MAP2K1(mods: (phosphorylation, S, 222), (phosphorylation, S, 218)), MAPK3(), T, 201),\n",
       " Phosphorylation(MAP2K1(mods: (phosphorylation, S, 222), (phosphorylation, S, 218)), MAPK3(), Y, 203),\n",
       " Phosphorylation(MAP2K2(mods: (phosphorylation, S, 226), (phosphorylation, S, 222)), MAPK1(), Y, 184),\n",
       " Phosphorylation(MAP2K2(mods: (phosphorylation, S, 226), (phosphorylation, S, 222)), MAPK1(), T, 182),\n",
       " Phosphorylation(MAP2K1(mods: (phosphorylation, S, 222), (phosphorylation, S, 218)), MAPK1(), Y, 184),\n",
       " Phosphorylation(MAP2K1(mods: (phosphorylation, S, 222), (phosphorylation, S, 218)), MAPK1(), T, 182),\n",
       " Phosphorylation(MAP2K2(mods: (phosphorylation, S, 226), (phosphorylation, S, 222)), MAPK3(), T, 201),\n",
       " Phosphorylation(MAP2K2(mods: (phosphorylation, S, 226), (phosphorylation, S, 222)), MAPK3(), Y, 203),\n",
       " Phosphorylation(MAP2K1(mods: (phosphorylation, S, 222), (phosphorylation, S, 218)), MAPK3(), T, 201),\n",
       " Phosphorylation(MAP2K1(mods: (phosphorylation, S, 222), (phosphorylation, S, 218)), MAPK3(), Y, 203),\n",
       " Phosphorylation(MAP2K2(mods: (phosphorylation, S, 226), (phosphorylation, S, 222)), MAPK3(), T, 201),\n",
       " Phosphorylation(MAP2K2(mods: (phosphorylation, S, 226), (phosphorylation, S, 222)), MAPK3(), Y, 203),\n",
       " Phosphorylation(MAP2K1(mods: (phosphorylation, S, 222), (phosphorylation, S, 218)), MAPK3(), T, 201),\n",
       " Phosphorylation(MAP2K1(mods: (phosphorylation, S, 222), (phosphorylation, S, 218)), MAPK3(), Y, 203),\n",
       " Phosphorylation(MAP2K2(mods: (phosphorylation, S, 226), (phosphorylation, S, 222)), MAPK1(), Y, 184),\n",
       " Phosphorylation(MAP2K2(mods: (phosphorylation, S, 226), (phosphorylation, S, 222)), MAPK1(), T, 182),\n",
       " Phosphorylation(MAP2K1(mods: (phosphorylation, S, 222), (phosphorylation, S, 218)), MAPK1(), Y, 184),\n",
       " Phosphorylation(MAP2K1(mods: (phosphorylation, S, 222), (phosphorylation, S, 218)), MAPK1(), T, 182),\n",
       " Phosphorylation(MAP2K2(mods: (phosphorylation, S, 226), (phosphorylation, S, 222)), MAPK3(), T, 201),\n",
       " Phosphorylation(MAP2K2(mods: (phosphorylation, S, 226), (phosphorylation, S, 222)), MAPK3(), Y, 203),\n",
       " Phosphorylation(MAP2K1(mods: (phosphorylation, S, 222), (phosphorylation, S, 218)), MAPK3(), T, 201),\n",
       " Phosphorylation(MAP2K1(mods: (phosphorylation, S, 222), (phosphorylation, S, 218)), MAPK3(), Y, 203),\n",
       " Phosphorylation(MAP2K2(mods: (phosphorylation, S, 226), (phosphorylation, S, 222)), MAPK3(), T, 201),\n",
       " Phosphorylation(MAP2K2(mods: (phosphorylation, S, 226), (phosphorylation, S, 222)), MAPK3(), Y, 203),\n",
       " Phosphorylation(MAP2K1(mods: (phosphorylation, S, 222), (phosphorylation, S, 218)), MAPK3(), T, 201),\n",
       " Phosphorylation(MAP2K1(mods: (phosphorylation, S, 222), (phosphorylation, S, 218)), MAPK3(), Y, 203),\n",
       " Phosphorylation(MAP2K2(mods: (phosphorylation, S, 226), (phosphorylation, S, 222)), MAPK1(), Y, 184),\n",
       " Phosphorylation(MAP2K2(mods: (phosphorylation, S, 226), (phosphorylation, S, 222)), MAPK1(), T, 182),\n",
       " Phosphorylation(MAP2K1(mods: (phosphorylation, S, 222), (phosphorylation, S, 218)), MAPK1(), Y, 184),\n",
       " Phosphorylation(MAP2K1(mods: (phosphorylation, S, 222), (phosphorylation, S, 218)), MAPK1(), T, 182),\n",
       " Phosphorylation(MAP2K2(mods: (phosphorylation, S, 226), (phosphorylation, S, 222)), MAPK3(), T, 201),\n",
       " Phosphorylation(MAP2K2(mods: (phosphorylation, S, 226), (phosphorylation, S, 222)), MAPK3(), Y, 203),\n",
       " Phosphorylation(MAP2K1(mods: (phosphorylation, S, 222), (phosphorylation, S, 218)), MAPK3(), T, 201),\n",
       " Phosphorylation(MAP2K1(mods: (phosphorylation, S, 222), (phosphorylation, S, 218)), MAPK3(), Y, 203),\n",
       " Phosphorylation(MAP2K2(mods: (phosphorylation, S, 226), (phosphorylation, S, 222)), MAPK3(), T, 201),\n",
       " Phosphorylation(MAP2K2(mods: (phosphorylation, S, 226), (phosphorylation, S, 222)), MAPK3(), Y, 203),\n",
       " Phosphorylation(MAP2K1(mods: (phosphorylation, S, 222), (phosphorylation, S, 218)), MAPK3(), T, 201),\n",
       " Phosphorylation(MAP2K1(mods: (phosphorylation, S, 222), (phosphorylation, S, 218)), MAPK3(), Y, 203),\n",
       " Phosphorylation(MAP2K2(mods: (phosphorylation, S, 226), (phosphorylation, S, 222)), MAPK1(), Y, 184),\n",
       " Phosphorylation(MAP2K2(mods: (phosphorylation, S, 226), (phosphorylation, S, 222)), MAPK1(), T, 182),\n",
       " Phosphorylation(MAP2K1(mods: (phosphorylation, S, 222), (phosphorylation, S, 218)), MAPK1(), Y, 184),\n",
       " Phosphorylation(MAP2K1(mods: (phosphorylation, S, 222), (phosphorylation, S, 218)), MAPK1(), T, 182),\n",
       " Phosphorylation(MAP2K2(mods: (phosphorylation, S, 226), (phosphorylation, S, 222)), MAPK3(), T, 201),\n",
       " Phosphorylation(MAP2K2(mods: (phosphorylation, S, 226), (phosphorylation, S, 222)), MAPK3(), Y, 203),\n",
       " Phosphorylation(MAP2K1(mods: (phosphorylation, S, 222), (phosphorylation, S, 218)), MAPK3(), T, 201),\n",
       " Phosphorylation(MAP2K1(mods: (phosphorylation, S, 222), (phosphorylation, S, 218)), MAPK3(), Y, 203),\n",
       " Phosphorylation(MAP2K2(mods: (phosphorylation, S, 226), (phosphorylation, S, 222)), MAPK3(), T, 201),\n",
       " Phosphorylation(MAP2K2(mods: (phosphorylation, S, 226), (phosphorylation, S, 222)), MAPK3(), Y, 203),\n",
       " Phosphorylation(MAP2K1(mods: (phosphorylation, S, 222), (phosphorylation, S, 218)), MAPK3(), T, 201),\n",
       " Phosphorylation(MAP2K1(mods: (phosphorylation, S, 222), (phosphorylation, S, 218)), MAPK3(), Y, 203),\n",
       " Phosphorylation(MAP2K2(mods: (phosphorylation, S, 226), (phosphorylation, S, 222)), MAPK1(), Y, 184),\n",
       " Phosphorylation(MAP2K2(mods: (phosphorylation, S, 226), (phosphorylation, S, 222)), MAPK1(), T, 182),\n",
       " Phosphorylation(MAP2K1(mods: (phosphorylation, S, 222), (phosphorylation, S, 218)), MAPK1(), Y, 184),\n",
       " Phosphorylation(MAP2K1(mods: (phosphorylation, S, 222), (phosphorylation, S, 218)), MAPK1(), T, 182),\n",
       " Phosphorylation(MAP2K2(mods: (phosphorylation, S, 226), (phosphorylation, S, 222)), MAPK3(), T, 201),\n",
       " Phosphorylation(MAP2K2(mods: (phosphorylation, S, 226), (phosphorylation, S, 222)), MAPK3(), Y, 203),\n",
       " Phosphorylation(MAP2K1(mods: (phosphorylation, S, 222), (phosphorylation, S, 218)), MAPK3(), T, 201),\n",
       " Phosphorylation(MAP2K1(mods: (phosphorylation, S, 222), (phosphorylation, S, 218)), MAPK3(), Y, 203),\n",
       " Phosphorylation(MAP2K2(mods: (phosphorylation, S, 226), (phosphorylation, S, 222)), MAPK3(), T, 201),\n",
       " Phosphorylation(MAP2K2(mods: (phosphorylation, S, 226), (phosphorylation, S, 222)), MAPK3(), Y, 203),\n",
       " Phosphorylation(MAP2K1(mods: (phosphorylation, S, 222), (phosphorylation, S, 218)), MAPK3(), T, 201),\n",
       " Phosphorylation(MAP2K1(mods: (phosphorylation, S, 222), (phosphorylation, S, 218)), MAPK3(), Y, 203),\n",
       " Phosphorylation(MAP2K2(mods: (phosphorylation, S, 226), (phosphorylation, S, 222)), MAPK1(), Y, 184),\n",
       " Phosphorylation(MAP2K2(mods: (phosphorylation, S, 226), (phosphorylation, S, 222)), MAPK1(), T, 182),\n",
       " Phosphorylation(MAP2K1(mods: (phosphorylation, S, 222), (phosphorylation, S, 218)), MAPK1(), Y, 184),\n",
       " Phosphorylation(MAP2K1(mods: (phosphorylation, S, 222), (phosphorylation, S, 218)), MAPK1(), T, 182),\n",
       " Phosphorylation(MAP2K2(mods: (phosphorylation, S, 226), (phosphorylation, S, 222)), MAPK3(), T, 201),\n",
       " Phosphorylation(MAP2K2(mods: (phosphorylation, S, 226), (phosphorylation, S, 222)), MAPK3(), Y, 203),\n",
       " Phosphorylation(MAP2K1(mods: (phosphorylation, S, 222), (phosphorylation, S, 218)), MAPK3(), T, 201),\n",
       " Phosphorylation(MAP2K1(mods: (phosphorylation, S, 222), (phosphorylation, S, 218)), MAPK3(), Y, 203),\n",
       " Phosphorylation(BRAF(), MAP2K1()),\n",
       " Phosphorylation(BRAF(), MAP2K1()),\n",
       " Phosphorylation(ARAF(), MAP2K2()),\n",
       " Phosphorylation(ARAF(), MAP2K1()),\n",
       " Phosphorylation(BRAF(), MAP2K2()),\n",
       " Phosphorylation(BRAF(), MAP2K1()),\n",
       " Phosphorylation(RAF1(), MAP2K2()),\n",
       " Phosphorylation(RAF1(), MAP2K1()),\n",
       " Phosphorylation(ARAF(), MAP2K2()),\n",
       " Phosphorylation(ARAF(), MAP2K1()),\n",
       " Phosphorylation(BRAF(), MAP2K2()),\n",
       " Phosphorylation(BRAF(), MAP2K1()),\n",
       " Phosphorylation(RAF1(), MAP2K2()),\n",
       " Phosphorylation(RAF1(), MAP2K1()),\n",
       " Phosphorylation(MAP2K1(mods: (phosphorylation), (phosphorylation)), MAPK3()),\n",
       " Phosphorylation(MAP2K1(mods: (phosphorylation), (phosphorylation)), MAPK3()),\n",
       " Phosphorylation(MAP2K1(mods: (phosphorylation, S, 222), (phosphorylation, S, 218)), MAPK1(), T, 185),\n",
       " Phosphorylation(MAP2K1(mods: (phosphorylation, S, 222), (phosphorylation, S, 218)), MAPK1(), Y, 187),\n",
       " Phosphorylation(MAP2K1(mods: (phosphorylation, S, 222), (phosphorylation, S, 218)), MAPK3(), T, 202),\n",
       " Phosphorylation(MAP2K1(mods: (phosphorylation, S, 222), (phosphorylation, S, 218)), MAPK3(), Y, 204),\n",
       " Phosphorylation(MAP2K1(mods: (phosphorylation, S, 222), (phosphorylation, S, 218)), MAPK1(), T, 185),\n",
       " Phosphorylation(MAP2K1(mods: (phosphorylation, S, 222), (phosphorylation, S, 218)), MAPK1(), Y, 187),\n",
       " Phosphorylation(MAP2K1(mods: (phosphorylation, S, 222), (phosphorylation, S, 218)), MAPK3(), T, 202),\n",
       " Phosphorylation(MAP2K1(mods: (phosphorylation, S, 222), (phosphorylation, S, 218)), MAPK3(), Y, 204),\n",
       " Phosphorylation(MAP2K1(mods: (phosphorylation, S, 222), (phosphorylation, S, 218)), MAPK3(), T, 201),\n",
       " Phosphorylation(MAP2K1(mods: (phosphorylation, S, 222), (phosphorylation, S, 218)), MAPK3(), Y, 203),\n",
       " Phosphorylation(MAP2K1(mods: (phosphorylation, S, 222), (phosphorylation, S, 218)), MAPK1(), Y, 184),\n",
       " Phosphorylation(MAP2K1(mods: (phosphorylation, S, 222), (phosphorylation, S, 218)), MAPK1(), T, 182),\n",
       " Phosphorylation(MAP2K1(mods: (phosphorylation, S, 222), (phosphorylation, S, 218)), MAPK3(), T, 201),\n",
       " Phosphorylation(MAP2K1(mods: (phosphorylation, S, 222), (phosphorylation, S, 218)), MAPK3(), Y, 203),\n",
       " Phosphorylation(MAP2K1(mods: (phosphorylation, S, 222), (phosphorylation, S, 218)), MAPK3(), T, 201),\n",
       " Phosphorylation(MAP2K1(mods: (phosphorylation, S, 222), (phosphorylation, S, 218)), MAPK3(), Y, 203),\n",
       " Phosphorylation(MAP2K1(mods: (phosphorylation, S, 222), (phosphorylation, S, 218)), MAPK1(), Y, 184),\n",
       " Phosphorylation(MAP2K1(mods: (phosphorylation, S, 222), (phosphorylation, S, 218)), MAPK1(), T, 182),\n",
       " Phosphorylation(MAP2K1(mods: (phosphorylation, S, 222), (phosphorylation, S, 218)), MAPK3(), T, 201),\n",
       " Phosphorylation(MAP2K1(mods: (phosphorylation, S, 222), (phosphorylation, S, 218)), MAPK3(), Y, 203),\n",
       " Phosphorylation(MAP2K1(mods: (phosphorylation, S, 222), (phosphorylation, S, 218)), MAPK3(), T, 201),\n",
       " Phosphorylation(MAP2K1(mods: (phosphorylation, S, 222), (phosphorylation, S, 218)), MAPK3(), Y, 203),\n",
       " Phosphorylation(MAP2K1(mods: (phosphorylation, S, 222), (phosphorylation, S, 218)), MAPK1(), Y, 184),\n",
       " Phosphorylation(MAP2K1(mods: (phosphorylation, S, 222), (phosphorylation, S, 218)), MAPK1(), T, 182),\n",
       " Phosphorylation(MAP2K1(mods: (phosphorylation, S, 222), (phosphorylation, S, 218)), MAPK3(), T, 201),\n",
       " Phosphorylation(MAP2K1(mods: (phosphorylation, S, 222), (phosphorylation, S, 218)), MAPK3(), Y, 203),\n",
       " Phosphorylation(MAP2K1(mods: (phosphorylation, S, 222), (phosphorylation, S, 218)), MAPK3(), T, 201),\n",
       " Phosphorylation(MAP2K1(mods: (phosphorylation, S, 222), (phosphorylation, S, 218)), MAPK3(), Y, 203),\n",
       " Phosphorylation(MAP2K1(mods: (phosphorylation, S, 222), (phosphorylation, S, 218)), MAPK1(), Y, 184),\n",
       " Phosphorylation(MAP2K1(mods: (phosphorylation, S, 222), (phosphorylation, S, 218)), MAPK1(), T, 182),\n",
       " Phosphorylation(MAP2K1(mods: (phosphorylation, S, 222), (phosphorylation, S, 218)), MAPK3(), T, 201),\n",
       " Phosphorylation(MAP2K1(mods: (phosphorylation, S, 222), (phosphorylation, S, 218)), MAPK3(), Y, 203),\n",
       " Phosphorylation(MAP2K1(mods: (phosphorylation, S, 222), (phosphorylation, S, 218)), MAPK3(), T, 201),\n",
       " Phosphorylation(MAP2K1(mods: (phosphorylation, S, 222), (phosphorylation, S, 218)), MAPK3(), Y, 203),\n",
       " Phosphorylation(MAP2K1(mods: (phosphorylation, S, 222), (phosphorylation, S, 218)), MAPK1(), Y, 184),\n",
       " Phosphorylation(MAP2K1(mods: (phosphorylation, S, 222), (phosphorylation, S, 218)), MAPK1(), T, 182),\n",
       " Phosphorylation(MAP2K1(mods: (phosphorylation, S, 222), (phosphorylation, S, 218)), MAPK3(), T, 201),\n",
       " Phosphorylation(MAP2K1(mods: (phosphorylation, S, 222), (phosphorylation, S, 218)), MAPK3(), Y, 203),\n",
       " Phosphorylation(MAP2K2(), MAPK3()),\n",
       " Phosphorylation(MAP2K2(), MAPK3()),\n",
       " Phosphorylation(MAP2K2(), MAPK1()),\n",
       " Phosphorylation(MAP2K2(), MAPK1()),\n",
       " Phosphorylation(MAP2K1(), MAPK3()),\n",
       " Phosphorylation(MAP2K1(), MAPK3()),\n",
       " Phosphorylation(MAP2K1(), MAPK1()),\n",
       " Phosphorylation(MAP2K1(), MAPK1()),\n",
       " Phosphorylation(MAP2K2(), MAPK3()),\n",
       " Phosphorylation(MAP2K2(), MAPK3()),\n",
       " Phosphorylation(MAP2K2(), MAPK1()),\n",
       " Phosphorylation(MAP2K2(), MAPK1()),\n",
       " Phosphorylation(MAP2K1(), MAPK3()),\n",
       " Phosphorylation(MAP2K1(), MAPK3()),\n",
       " Phosphorylation(MAP2K1(), MAPK1()),\n",
       " Phosphorylation(MAP2K1(), MAPK1()),\n",
       " Phosphorylation(BRAF(mods: (phosphorylation, T, 373)), MAP2K1(), S, 222),\n",
       " Phosphorylation(BRAF(mods: (phosphorylation, T, 373)), MAP2K1(), S, 218),\n",
       " Phosphorylation(BRAF(mods: (phosphorylation, T, 373)), MAP2K1(), S, 222),\n",
       " Phosphorylation(BRAF(mods: (phosphorylation, T, 373)), MAP2K1(), S, 218),\n",
       " Phosphorylation(MAP2K2(), MAPK3(), T, 201),\n",
       " Phosphorylation(MAP2K2(), MAPK3(), Y, 203),\n",
       " Phosphorylation(MAP2K1(), MAPK3(), T, 201),\n",
       " Phosphorylation(MAP2K1(), MAPK3(), Y, 203),\n",
       " Phosphorylation(MAP2K2(), MAPK1(), Y, 184),\n",
       " Phosphorylation(MAP2K2(), MAPK1(), T, 182),\n",
       " Phosphorylation(MAP2K1(), MAPK1(), Y, 184),\n",
       " Phosphorylation(MAP2K1(), MAPK1(), T, 182),\n",
       " Phosphorylation(MAP2K2(), MAPK3(), T, 201),\n",
       " Phosphorylation(MAP2K2(), MAPK3(), Y, 203),\n",
       " Phosphorylation(MAP2K1(), MAPK3(), T, 201),\n",
       " Phosphorylation(MAP2K1(), MAPK3(), Y, 203),\n",
       " Phosphorylation(MAP2K2(), MAPK3(), T, 201),\n",
       " Phosphorylation(MAP2K2(), MAPK3(), Y, 203),\n",
       " Phosphorylation(MAP2K1(), MAPK3(), T, 201),\n",
       " Phosphorylation(MAP2K1(), MAPK3(), Y, 203),\n",
       " Phosphorylation(MAP2K2(), MAPK1(), Y, 184),\n",
       " Phosphorylation(MAP2K2(), MAPK1(), T, 182),\n",
       " Phosphorylation(MAP2K1(), MAPK1(), Y, 184),\n",
       " Phosphorylation(MAP2K1(), MAPK1(), T, 182),\n",
       " Phosphorylation(MAP2K2(), MAPK3(), T, 201),\n",
       " Phosphorylation(MAP2K2(), MAPK3(), Y, 203),\n",
       " Phosphorylation(MAP2K1(), MAPK3(), T, 201),\n",
       " Phosphorylation(MAP2K1(), MAPK3(), Y, 203),\n",
       " Phosphorylation(MAPK1(mods: (phosphorylation, Y, 184), (phosphorylation, T, 182)), BRAF(), T, 753),\n",
       " Phosphorylation(MAPK3(mods: (phosphorylation, T, 201), (phosphorylation, Y, 203)), BRAF(), T, 753),\n",
       " Phosphorylation(MAPK1(mods: (phosphorylation, Y, 184), (phosphorylation, T, 182)), RAF1(mods: (phosphorylation, T, 491), (phosphorylation, S, 621), (phosphorylation, S, 494), (phosphorylation, S, 338)), S, 296),\n",
       " Phosphorylation(MAPK1(mods: (phosphorylation, Y, 184), (phosphorylation, T, 182)), RAF1(mods: (phosphorylation, T, 491), (phosphorylation, S, 621), (phosphorylation, S, 494), (phosphorylation, S, 338)), S, 29),\n",
       " Phosphorylation(MAPK1(mods: (phosphorylation, Y, 184), (phosphorylation, T, 182)), RAF1(mods: (phosphorylation, T, 491), (phosphorylation, S, 621), (phosphorylation, S, 494), (phosphorylation, S, 338)), S, 301),\n",
       " Phosphorylation(MAPK1(mods: (phosphorylation, Y, 184), (phosphorylation, T, 182)), RAF1(mods: (phosphorylation, T, 491), (phosphorylation, S, 621), (phosphorylation, S, 494), (phosphorylation, S, 338)), S, 642),\n",
       " Phosphorylation(MAPK1(mods: (phosphorylation, Y, 184), (phosphorylation, T, 182)), RAF1(mods: (phosphorylation, T, 491), (phosphorylation, S, 621), (phosphorylation, S, 494), (phosphorylation, S, 338)), S, 289),\n",
       " Phosphorylation(MAPK3(mods: (phosphorylation, T, 201), (phosphorylation, Y, 203)), RAF1(mods: (phosphorylation, T, 491), (phosphorylation, S, 621), (phosphorylation, S, 494), (phosphorylation, S, 338)), S, 296),\n",
       " Phosphorylation(MAPK3(mods: (phosphorylation, T, 201), (phosphorylation, Y, 203)), RAF1(mods: (phosphorylation, T, 491), (phosphorylation, S, 621), (phosphorylation, S, 494), (phosphorylation, S, 338)), S, 29),\n",
       " Phosphorylation(MAPK3(mods: (phosphorylation, T, 201), (phosphorylation, Y, 203)), RAF1(mods: (phosphorylation, T, 491), (phosphorylation, S, 621), (phosphorylation, S, 494), (phosphorylation, S, 338)), S, 301),\n",
       " Phosphorylation(MAPK3(mods: (phosphorylation, T, 201), (phosphorylation, Y, 203)), RAF1(mods: (phosphorylation, T, 491), (phosphorylation, S, 621), (phosphorylation, S, 494), (phosphorylation, S, 338)), S, 642),\n",
       " Phosphorylation(MAPK3(mods: (phosphorylation, T, 201), (phosphorylation, Y, 203)), RAF1(mods: (phosphorylation, T, 491), (phosphorylation, S, 621), (phosphorylation, S, 494), (phosphorylation, S, 338)), S, 289),\n",
       " Phosphorylation(MAPK1(mods: (phosphorylation, Y, 184), (phosphorylation, T, 182)), BRAF(mods: (phosphorylation, S, 446), (phosphorylation, T, 599), (phosphorylation, S, 602)), T, 753),\n",
       " ...]"
      ]
     },
     "execution_count": 11,
     "metadata": {},
     "output_type": "execute_result"
    }
   ],
   "source": [
    "biopax_processor.statements"
   ]
  },
  {
   "cell_type": "markdown",
   "metadata": {},
   "source": [
    "# EGFR File Example \n",
    "This example relates to [this network](http://www.ndexbio.org/#/network/d4563605-6191-11e5-8ac5-06603eb7f303). NOtice this example uses `get_complexes` to extract more info from the [OWL file](http://indra.akintunde.org/edit/Documents/data/EGFR-dependent-Endothelin-signaling-events.owl). This [google doc](https://docs.google.com/document/d/1wNgRsnPChnNRN_DqsKftm_6MrOYse0GaxaXN9aQl12E/edit#heading=h.6mg7ysp92r3w) also talks about this example."
   ]
  },
  {
   "cell_type": "code",
   "execution_count": 12,
   "metadata": {},
   "outputs": [],
   "source": [
    "biopax_processor = biopax.biopax_api.process_owl(\"data/EGFR-dependent-Endothelin-signaling-events.owl\")"
   ]
  },
  {
   "cell_type": "markdown",
   "metadata": {},
   "source": [
    "Since complexes are not extracted by default (they can be intractable for large networks), here we extract them explicitly"
   ]
  },
  {
   "cell_type": "code",
   "execution_count": 13,
   "metadata": {
    "scrolled": true
   },
   "outputs": [],
   "source": [
    "biopax_processor.get_complexes()"
   ]
  },
  {
   "cell_type": "code",
   "execution_count": 14,
   "metadata": {},
   "outputs": [
    {
     "name": "stdout",
     "output_type": "stream",
     "text": [
      "0 ActiveForm(MTOR(mods: (phosphorylation, S, 2448)), activity, True)\n",
      "1 Complex(EGF(), EGFR())\n",
      "2 Complex(GRB2(), SOS1())\n",
      "3 Complex(GTP(), HRAS())\n",
      "4 Complex(EDN1(), EDNRA())\n",
      "5 Complex(GDP(), HRAS())\n",
      "6 Complex(EGF(), EGF(), EGFR(mods: (phosphorylation, Y)), EGFR(mods: (phosphorylation, Y)), SHC1(mods: (phosphorylation, Y, 240), (phosphorylation, Y, 239), (phosphorylation, Y, 317)))\n",
      "7 Complex(EGF(), EGF(), EGFR(mods: (phosphorylation, Y)), EGFR(mods: (phosphorylation, Y)))\n",
      "8 Complex(GRB2(), EGF(), EGF(), SOS1(), EGFR(mods: (phosphorylation, Y)), EGFR(mods: (phosphorylation, Y)), SHC1(mods: (phosphorylation, Y, 240), (phosphorylation, Y, 239), (phosphorylation, Y, 317)))\n"
     ]
    }
   ],
   "source": [
    "for idx, stmt in enumerate(biopax_processor.statements):\n",
    "    print(idx, stmt)"
   ]
  },
  {
   "cell_type": "markdown",
   "metadata": {
    "heading_collapsed": true
   },
   "source": [
    "## Ben's  Description <font color=\"green\">(really good!)</font>\n",
    "A useful ChiBe visualization of reaction network and explanation of data extraction process"
   ]
  },
  {
   "cell_type": "markdown",
   "metadata": {
    "hidden": true
   },
   "source": [
    "Below is the ChiBE visualization of the reaction network."
   ]
  },
  {
   "attachments": {
    "image.png": {
     "image/png": "[encoded data removed]"
    }
   },
   "cell_type": "markdown",
   "metadata": {
    "hidden": true
   },
   "source": [
    "![image.png](attachment:image.png)"
   ]
  },
  {
   "cell_type": "markdown",
   "metadata": {
    "hidden": true
   },
   "source": [
    "Issues\n",
    "- The phosphorylation of MTOR is controlled by a \"giant\" complex consisting of EGF, two copies of phosphorylated EGFR, GRB2, SOS1 and phosphorylated SHC1. While INDRA has various heuristics for figuring out which member of a complex does the phosphorylation, in this case there are no clues to go by. Therefore we don't pick up the phosphorylation reaction.\n",
    "- The same is true for HRAS: we can normally extract this reaction pattern as a `Gef` Statement but due to the complex controller, we don't.\n",
    "- Both of the above could be resolved by adding an extraction \"policy\" to `indra.sources.biopax.BiopaxProcessor` which picks up complex controllers by designating an arbitrary member as the main Agent and adding other members as `bound_condition`s on the main Agent."
   ]
  },
  {
   "cell_type": "markdown",
   "metadata": {
    "heading_collapsed": true
   },
   "source": [
    "# CX Example\n",
    "Here we turn the list of indra statements from the previous example <font color=\"blue\">4 EGFR File Example</font> into [a .cx file](http://indra.akintunde.org/edit/Documents/model.cx) and then we [upload it to NDEX](http://ndexbio.org/#/network/567ee251-5864-11e8-a4bf-0ac135e8bacf). "
   ]
  },
  {
   "cell_type": "markdown",
   "metadata": {
    "hidden": true
   },
   "source": [
    "Create the model"
   ]
  },
  {
   "cell_type": "code",
   "execution_count": null,
   "metadata": {
    "hidden": true
   },
   "outputs": [],
   "source": [
    "statements = biopax_processor.statements\n",
    "cx_test = cx_assembler.CxAssembler(stmts=statements, network_name=\"for_meeting\")"
   ]
  },
  {
   "cell_type": "markdown",
   "metadata": {
    "hidden": true
   },
   "source": [
    "Build File"
   ]
  },
  {
   "cell_type": "code",
   "execution_count": null,
   "metadata": {
    "hidden": true
   },
   "outputs": [],
   "source": [
    "cx_test.make_model(add_indra_json=True)\n",
    "cx_test.save_model(file_name='model.cx')"
   ]
  },
  {
   "cell_type": "code",
   "execution_count": null,
   "metadata": {
    "hidden": true
   },
   "outputs": [],
   "source": [
    "%less model.cx"
   ]
  },
  {
   "cell_type": "markdown",
   "metadata": {
    "hidden": true
   },
   "source": [
    "Upload to NDEX"
   ]
  },
  {
   "cell_type": "code",
   "execution_count": null,
   "metadata": {
    "hidden": true
   },
   "outputs": [],
   "source": [
    "ndex_cred = {'user':\"pupster90\",'password':\"Owdy 150!\"}\n",
    "cx_test.upload_model(ndex_cred)"
   ]
  },
  {
   "cell_type": "markdown",
   "metadata": {
    "heading_collapsed": true
   },
   "source": [
    "# Indra `Get()` Tests"
   ]
  },
  {
   "cell_type": "markdown",
   "metadata": {
    "hidden": true
   },
   "source": [
    "The `get()` helper function: This prints statments from using a one of the *\"get\"* commands"
   ]
  },
  {
   "cell_type": "code",
   "execution_count": null,
   "metadata": {
    "code_folding": [],
    "hidden": true
   },
   "outputs": [],
   "source": [
    "def get(func_name):\n",
    "    biopax_processor = biopax.biopax_api.process_owl(\"data/EGFR-dependent-Endothelin-signaling-events.owl\")\n",
    "    getattr(biopax_processor, func_name)()\n",
    "    for idx, stmt in enumerate(biopax_processor.statements): print(idx, stmt)"
   ]
  },
  {
   "cell_type": "markdown",
   "metadata": {
    "hidden": true
   },
   "source": [
    "The `upload` helper function: uploads models to ndex."
   ]
  },
  {
   "cell_type": "code",
   "execution_count": null,
   "metadata": {
    "code_folding": [],
    "hidden": true
   },
   "outputs": [],
   "source": [
    "def upload(biopax_processor, ndex_name):\n",
    "    cx = cx_assembler.CxAssembler( stmts= biopax_processor.statements,  network_name= ndex_name )\n",
    "    cx_test.make_model(add_indra_json=True) \n",
    "    cx_test.save_model(file_name='model.cx') \n",
    "    cx.upload_model({ 'user':\"pupster90\",'password':\"Owdy 150!\" })"
   ]
  },
  {
   "cell_type": "markdown",
   "metadata": {
    "heading_collapsed": true,
    "hidden": true
   },
   "source": [
    "## Get Functions"
   ]
  },
  {
   "cell_type": "markdown",
   "metadata": {
    "cell_style": "center",
    "heading_collapsed": true,
    "hidden": true
   },
   "source": [
    "### no get()"
   ]
  },
  {
   "cell_type": "code",
   "execution_count": null,
   "metadata": {
    "cell_style": "center",
    "hidden": true
   },
   "outputs": [],
   "source": [
    "biopax_processor = biopax.biopax_api.process_owl(\"data/EGFR-dependent-Endothelin-signaling-events.owl\")\n",
    "for idx, stmt in enumerate(biopax_processor.statements): print(idx, stmt)"
   ]
  },
  {
   "cell_type": "markdown",
   "metadata": {
    "cell_style": "split",
    "heading_collapsed": true,
    "hidden": true
   },
   "source": [
    "### get_activity_modification()\n",
    "\n",
    "**<font color=\"red\">bad</font>** replicates data"
   ]
  },
  {
   "cell_type": "code",
   "execution_count": null,
   "metadata": {
    "cell_style": "split",
    "hidden": true,
    "scrolled": false
   },
   "outputs": [],
   "source": [
    "get(\"get_activity_modification\")"
   ]
  },
  {
   "cell_type": "markdown",
   "metadata": {
    "cell_style": "split",
    "heading_collapsed": true,
    "hidden": true
   },
   "source": [
    "### get_complexes()\n",
    "\n",
    "**<font color=\"green\">good</font>** it pulls data"
   ]
  },
  {
   "cell_type": "code",
   "execution_count": null,
   "metadata": {
    "cell_style": "split",
    "hidden": true,
    "scrolled": true
   },
   "outputs": [],
   "source": [
    "get(\"get_complexes\")"
   ]
  },
  {
   "cell_type": "markdown",
   "metadata": {
    "cell_style": "split",
    "heading_collapsed": true,
    "hidden": true
   },
   "source": [
    "### get_conversions()\n",
    "pulls nothing"
   ]
  },
  {
   "cell_type": "code",
   "execution_count": null,
   "metadata": {
    "cell_style": "split",
    "hidden": true,
    "scrolled": true
   },
   "outputs": [],
   "source": [
    "get(\"get_conversions\")"
   ]
  },
  {
   "cell_type": "markdown",
   "metadata": {
    "cell_style": "split",
    "heading_collapsed": true,
    "hidden": true
   },
   "source": [
    "### get_gap()\n",
    "pulls nothing"
   ]
  },
  {
   "cell_type": "code",
   "execution_count": null,
   "metadata": {
    "cell_style": "split",
    "hidden": true,
    "scrolled": true
   },
   "outputs": [],
   "source": [
    "get(\"get_gap\")"
   ]
  },
  {
   "cell_type": "markdown",
   "metadata": {
    "cell_style": "split",
    "heading_collapsed": true,
    "hidden": true
   },
   "source": [
    "### get_gef()\n",
    "pulls nothing"
   ]
  },
  {
   "cell_type": "code",
   "execution_count": null,
   "metadata": {
    "cell_style": "split",
    "hidden": true
   },
   "outputs": [],
   "source": [
    "get(\"get_gef\")"
   ]
  },
  {
   "cell_type": "markdown",
   "metadata": {
    "cell_style": "split",
    "heading_collapsed": true,
    "hidden": true
   },
   "source": [
    "### get_modifications()\n",
    "pulls nothing"
   ]
  },
  {
   "cell_type": "code",
   "execution_count": null,
   "metadata": {
    "cell_style": "split",
    "hidden": true
   },
   "outputs": [],
   "source": [
    "get(\"get_modifications\")"
   ]
  },
  {
   "cell_type": "markdown",
   "metadata": {
    "cell_style": "split",
    "heading_collapsed": true,
    "hidden": true
   },
   "source": [
    "### get_regulate_activities()\n",
    "pulls nothing"
   ]
  },
  {
   "cell_type": "code",
   "execution_count": null,
   "metadata": {
    "cell_style": "split",
    "hidden": true,
    "scrolled": true
   },
   "outputs": [],
   "source": [
    "get(\"get_regulate_activities\")"
   ]
  },
  {
   "cell_type": "markdown",
   "metadata": {
    "cell_style": "split",
    "heading_collapsed": true,
    "hidden": true
   },
   "source": [
    "### get_regulate_amounts()\n",
    "pulls nothing"
   ]
  },
  {
   "cell_type": "code",
   "execution_count": null,
   "metadata": {
    "cell_style": "split",
    "hidden": true
   },
   "outputs": [],
   "source": [
    "get(\"get_regulate_amounts\")"
   ]
  },
  {
   "cell_type": "markdown",
   "metadata": {
    "heading_collapsed": true,
    "hidden": true
   },
   "source": [
    "## Upload Stuff"
   ]
  },
  {
   "cell_type": "markdown",
   "metadata": {
    "hidden": true
   },
   "source": [
    "A regular upload"
   ]
  },
  {
   "cell_type": "code",
   "execution_count": null,
   "metadata": {
    "code_folding": [],
    "hidden": true,
    "scrolled": true
   },
   "outputs": [],
   "source": [
    "# get biopax statements\n",
    "bp = biopax.biopax_api.process_owl(\"data/EGFR-dependent-Endothelin-signaling-events.owl\")\n",
    "bp.get_complexes()\n",
    "\n",
    "print(\"\\nJSON :\\n\")\n",
    "upload(bp, \"test1\")\n"
   ]
  },
  {
   "cell_type": "markdown",
   "metadata": {
    "hidden": true
   },
   "source": [
    "Push <font color=\"red\">without</font> `make_model()` \n",
    "<font color=\"red\">Does not work without </font>  `make_model` also, <font color=\"red\">Does not work without </font>  `save_model`"
   ]
  },
  {
   "cell_type": "code",
   "execution_count": null,
   "metadata": {
    "hidden": true
   },
   "outputs": [],
   "source": [
    "# get biopax statements\n",
    "bp = biopax.biopax_api.process_owl(\"data/EGFR-dependent-Endothelin-signaling-events.owl\")\n",
    "bp.get_complexes()\n",
    "for idx, stmt in enumerate(bp.statements): print(idx, stmt)\n",
    "\n",
    "# upload model\n",
    "cx = cx_assembler.CxAssembler(stmts=bp.statements, network_name=\"test2\")\n",
    "ndex_cred = {'user':\"pupster90\",'password':\"Owdy 150!\"}\n",
    "cx.upload_model(ndex_cred)"
   ]
  },
  {
   "cell_type": "markdown",
   "metadata": {
    "hidden": true
   },
   "source": [
    "Push <font color=\"red\">without</font> `get_complexes()`"
   ]
  },
  {
   "cell_type": "code",
   "execution_count": null,
   "metadata": {
    "hidden": true
   },
   "outputs": [],
   "source": []
  },
  {
   "cell_type": "markdown",
   "metadata": {
    "hidden": true
   },
   "source": [
    "Push after running `get_activity_modification()` again"
   ]
  },
  {
   "cell_type": "code",
   "execution_count": null,
   "metadata": {
    "hidden": true
   },
   "outputs": [],
   "source": []
  },
  {
   "cell_type": "markdown",
   "metadata": {
    "heading_collapsed": true
   },
   "source": [
    "# Scratch Paper"
   ]
  },
  {
   "cell_type": "markdown",
   "metadata": {
    "hidden": true
   },
   "source": [
    "reset assembler"
   ]
  },
  {
   "cell_type": "code",
   "execution_count": null,
   "metadata": {
    "hidden": true
   },
   "outputs": [],
   "source": [
    "del assemblers\n",
    "del cx_assembler"
   ]
  },
  {
   "cell_type": "code",
   "execution_count": null,
   "metadata": {
    "hidden": true
   },
   "outputs": [],
   "source": [
    "%load_ext autoreload\n",
    "%autoreload 2\n",
    "\n",
    "from indra import assemblers\n",
    "from indra.assemblers import cx_assembler"
   ]
  },
  {
   "cell_type": "markdown",
   "metadata": {
    "hidden": true
   },
   "source": [
    "Remake File"
   ]
  },
  {
   "cell_type": "code",
   "execution_count": null,
   "metadata": {
    "hidden": true
   },
   "outputs": [],
   "source": [
    "biopax_processor = biopax.biopax_api.process_owl(\"data/EGFR-dependent-Endothelin-signaling-events.owl\")\n",
    "biopax_processor.get_complexes()\n",
    "\n",
    "statements = biopax_processor.statements\n",
    "cx_test = cx_assembler.CxAssembler(stmts=statements, network_name=\"small3\")\n",
    "\n",
    "cx_test.make_model(add_indra_json=False)\n",
    "cx_test.save_model(file_name='model.cx')"
   ]
  },
  {
   "cell_type": "markdown",
   "metadata": {
    "hidden": true
   },
   "source": [
    "Checkout source code in functions"
   ]
  },
  {
   "cell_type": "code",
   "execution_count": null,
   "metadata": {
    "hidden": true
   },
   "outputs": [],
   "source": [
    "ndex_cred = {'user':\"pupster90\",'password':\"Owdy 150!\"}\n",
    "cx_test.upload_model(ndex_cred)"
   ]
  },
  {
   "cell_type": "code",
   "execution_count": null,
   "metadata": {
    "hidden": true
   },
   "outputs": [],
   "source": []
  },
  {
   "cell_type": "code",
   "execution_count": null,
   "metadata": {
    "hidden": true
   },
   "outputs": [],
   "source": []
  },
  {
   "cell_type": "code",
   "execution_count": null,
   "metadata": {
    "hidden": true
   },
   "outputs": [],
   "source": [
    "print( inspect.getsource( cx_test.print_cx ) )"
   ]
  },
  {
   "cell_type": "code",
   "execution_count": null,
   "metadata": {
    "hidden": true
   },
   "outputs": [],
   "source": [
    "alias = []"
   ]
  },
  {
   "cell_type": "code",
   "execution_count": null,
   "metadata": {
    "hidden": true
   },
   "outputs": [],
   "source": [
    "len(alias)"
   ]
  },
  {
   "cell_type": "code",
   "execution_count": null,
   "metadata": {
    "hidden": true
   },
   "outputs": [],
   "source": [
    "alias.append(\"a\")"
   ]
  },
  {
   "cell_type": "code",
   "execution_count": null,
   "metadata": {
    "hidden": true
   },
   "outputs": [],
   "source": [
    "len(alias)"
   ]
  },
  {
   "cell_type": "code",
   "execution_count": null,
   "metadata": {
    "hidden": true
   },
   "outputs": [],
   "source": [
    "db_name_map = {\n",
    "                'uniprot knowledgebase': 'UniProt'}\n",
    "\n",
    "\n",
    "\n"
   ]
  },
  {
   "cell_type": "code",
   "execution_count": null,
   "metadata": {
    "hidden": true
   },
   "outputs": [],
   "source": [
    "db_name_map = {\n",
    "    'uniprot knowledgebase': 'UniProt',\n",
    "    'PUBCHEM': 'PubChem',\n",
    "    'IP': 'InterPro', 'NXPFA': 'NextProtFamily',\n",
    "    'PF': 'Pfam', 'CHEBI': 'ChEBI'}\n",
    "db_name_map.get('ChEBI')"
   ]
  },
  {
   "cell_type": "code",
   "execution_count": null,
   "metadata": {
    "hidden": true
   },
   "outputs": [],
   "source": [
    "type(x)"
   ]
  },
  {
   "cell_type": "code",
   "execution_count": null,
   "metadata": {
    "hidden": true
   },
   "outputs": [],
   "source": [
    "db_name_map"
   ]
  },
  {
   "cell_type": "code",
   "execution_count": null,
   "metadata": {
    "hidden": true
   },
   "outputs": [],
   "source": [
    "cx = {'@Context':[\"ha\"],\n",
    "                   'nodes': [], 'edges': [],\n",
    "                   'nodeAttributes': [], 'edgeAttributes': [], \n",
    "                   'networkAttributes': [] }"
   ]
  },
  {
   "cell_type": "code",
   "execution_count": null,
   "metadata": {
    "hidden": true
   },
   "outputs": [],
   "source": [
    "cx.items()"
   ]
  },
  {
   "cell_type": "code",
   "execution_count": null,
   "metadata": {
    "hidden": true
   },
   "outputs": [],
   "source": []
  }
 ],
 "metadata": {
  "hide_input": false,
  "kernelspec": {
   "display_name": "Python 3",
   "language": "python",
   "name": "python3"
  },
  "language_info": {
   "codemirror_mode": {
    "name": "ipython",
    "version": 3
   },
   "file_extension": ".py",
   "mimetype": "text/x-python",
   "name": "python",
   "nbconvert_exporter": "python",
   "pygments_lexer": "ipython3",
   "version": "3.5.5"
  },
  "toc": {
   "base_numbering": 1,
   "nav_menu": {},
   "number_sections": true,
   "sideBar": true,
   "skip_h1_title": false,
   "title_cell": "Table of Contents",
   "title_sidebar": "Contents",
   "toc_cell": false,
   "toc_position": {
    "height": "calc(100% - 180px)",
    "left": "10px",
    "top": "150px",
    "width": "165px"
   },
   "toc_section_display": true,
   "toc_window_display": false
  },
  "varInspector": {
   "cols": {
    "lenName": 16,
    "lenType": 16,
    "lenVar": 40
   },
   "kernels_config": {
    "python": {
     "delete_cmd_postfix": "",
     "delete_cmd_prefix": "del ",
     "library": "var_list.py",
     "varRefreshCmd": "print(var_dic_list())"
    },
    "r": {
     "delete_cmd_postfix": ") ",
     "delete_cmd_prefix": "rm(",
     "library": "var_list.r",
     "varRefreshCmd": "cat(var_dic_list()) "
    }
   },
   "types_to_exclude": [
    "module",
    "function",
    "builtin_function_or_method",
    "instance",
    "_Feature"
   ],
   "window_display": false
  }
 },
 "nbformat": 4,
 "nbformat_minor": 2
}
