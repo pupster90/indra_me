{
 "cells": [
  {
   "cell_type": "markdown",
   "metadata": {},
   "source": [
    "<font size=\"7\" face=\"courier\" color=\"magenta\">Test Reactome</font>"
   ]
  },
  {
   "cell_type": "markdown",
   "metadata": {
    "heading_collapsed": true
   },
   "source": [
    "# Video About Notebook"
   ]
  },
  {
   "cell_type": "code",
   "execution_count": 6,
   "metadata": {
    "hidden": true
   },
   "outputs": [
    {
     "data": {
      "text/html": [
       "\n",
       "<div class=\"row\"><div class=\"col-xs-12 col-md-offset-3 col-md-6\">\n",
       "<div class=\"embed-responsive embed-responsive-16by9\">\n",
       "  <iframe class=\"embed-responsive-item\" \n",
       "  src='https://www.youtube.com/embed/TshlsGj6pz4'></iframe></div>\n",
       "</div></div>\n"
      ],
      "text/plain": [
       "<IPython.core.display.HTML object>"
      ]
     },
     "metadata": {},
     "output_type": "display_data"
    }
   ],
   "source": [
    "# HTML for youtube\n",
    "display(HTML(\"\"\"\n",
    "<div class=\"row\"><div class=\"col-xs-12 col-md-offset-3 col-md-6\">\n",
    "<div class=\"embed-responsive embed-responsive-16by9\">\n",
    "  <iframe class=\"embed-responsive-item\" \n",
    "  src='https://www.youtube.com/embed/TshlsGj6pz4'></iframe></div>\n",
    "</div></div>\n",
    "\"\"\"))"
   ]
  },
  {
   "cell_type": "markdown",
   "metadata": {
    "heading_collapsed": true
   },
   "source": [
    "# Setup Notebook"
   ]
  },
  {
   "cell_type": "markdown",
   "metadata": {
    "hidden": true
   },
   "source": [
    "we load load in hte general notebook setup file"
   ]
  },
  {
   "cell_type": "code",
   "execution_count": 1,
   "metadata": {
    "hidden": true
   },
   "outputs": [
    {
     "name": "stdout",
     "output_type": "stream",
     "text": [
      "env: GOOGLE_APPLICATION_CREDENTIALS=/root/Documents/data/NDEX-e06611c0a4d0.json\n",
      "env: JAVA_HOME=/usr/lib/jvm/java-8-openjdk-amd64\n"
     ]
    },
    {
     "data": {
      "text/html": [
       "<style> *{margin:0; padding:0;} html, body,              .container{margin:0;!important padding:0;!important}              .container { width:100% !important;}</style>"
      ],
      "text/plain": [
       "<IPython.core.display.HTML object>"
      ]
     },
     "metadata": {},
     "output_type": "display_data"
    }
   ],
   "source": [
    "%run \"source/Setup Notebook.ipynb\""
   ]
  },
  {
   "cell_type": "markdown",
   "metadata": {
    "heading_collapsed": true
   },
   "source": [
    "# Get Statements"
   ]
  },
  {
   "cell_type": "code",
   "execution_count": 3,
   "metadata": {
    "hidden": true,
    "scrolled": false
   },
   "outputs": [
    {
     "data": {
      "text/html": [
       "<p>&nbsp</p> <font color='magenta' size=5>Indra Statement Creator</font> <hr>"
      ],
      "text/plain": [
       "<IPython.core.display.HTML object>"
      ]
     },
     "metadata": {},
     "output_type": "display_data"
    },
    {
     "data": {
      "text/html": [
       "Use this app to analyze indra statements that are created from BioPax files. The video below shows how to create BioPax fiels from <a href='https://reactome.org/'>reactome</a>. All of the information created from this webapp can be accessed in python. This app creates a python objects called <font color='blue'>biopax_processor</font> which as statements, <font color='blue'>biopax_processor.statements</font>. "
      ],
      "text/plain": [
       "<IPython.core.display.HTML object>"
      ]
     },
     "metadata": {},
     "output_type": "display_data"
    },
    {
     "data": {
      "text/html": [
       "\n",
       "<div class=\"row\"><div class=\"col-xs-12 col-md-offset-3 col-md-6\">\n",
       "<div class=\"embed-responsive embed-responsive-16by9\">\n",
       "  <iframe class=\"embed-responsive-item\" \n",
       "  src='https://www.youtube.com/embed/deDb0PNffWI'></iframe></div>\n",
       "</div></div>\n"
      ],
      "text/plain": [
       "<IPython.core.display.HTML object>"
      ]
     },
     "metadata": {},
     "output_type": "display_data"
    },
    {
     "data": {
      "text/html": [
       "<h1>Choose a BioPax file to upload</h1>              <p>Use the dropdown below to choose a file</p>"
      ],
      "text/plain": [
       "<IPython.core.display.HTML object>"
      ]
     },
     "metadata": {},
     "output_type": "display_data"
    },
    {
     "data": {
      "text/html": [
       "<h5>Select a dataset from the folder <a href='/root/Documents/data/BioPax/</a> :</h5>"
      ],
      "text/plain": [
       "<IPython.core.display.HTML object>"
      ]
     },
     "metadata": {},
     "output_type": "display_data"
    },
    {
     "data": {
      "application/vnd.jupyter.widget-view+json": {
       "model_id": "91ad7624c0ad4e8bb1fe5a74ce04dfef",
       "version_major": 2,
       "version_minor": 0
      },
      "text/plain": [
       "Dropdown(description='Files :', options=('EGFR', 'EGFR-dependent-Endothelin-signaling-events.owl'), value='EGF…"
      ]
     },
     "metadata": {},
     "output_type": "display_data"
    },
    {
     "data": {
      "text/html": [
       "<h1>Decide what Settings You want Displayed</h1>"
      ],
      "text/plain": [
       "<IPython.core.display.HTML object>"
      ]
     },
     "metadata": {},
     "output_type": "display_data"
    },
    {
     "data": {
      "application/vnd.jupyter.widget-view+json": {
       "model_id": "676a312626dc4b8f9b09620af0c9dd65",
       "version_major": 2,
       "version_minor": 0
      },
      "text/plain": [
       "HBox(children=(VBox(children=(Checkbox(value=False, description='activity_modification'), Checkbox(value=False…"
      ]
     },
     "metadata": {},
     "output_type": "display_data"
    },
    {
     "data": {
      "application/vnd.jupyter.widget-view+json": {
       "model_id": "d1b8d8c68cef44358f5e41d12bb7b2d1",
       "version_major": 2,
       "version_minor": 0
      },
      "text/plain": [
       "Button(button_style='info', description='Create Statements', icon='check', style=ButtonStyle(), tooltip='Click…"
      ]
     },
     "metadata": {},
     "output_type": "display_data"
    },
    {
     "data": {
      "text/html": [
       "<hr><p>&nbsp</p>"
      ],
      "text/plain": [
       "<IPython.core.display.HTML object>"
      ]
     },
     "metadata": {},
     "output_type": "display_data"
    },
    {
     "data": {
      "application/vnd.jupyter.widget-view+json": {
       "model_id": "4f387fd238d34a54b4d0d425bdd9bfd3",
       "version_major": 2,
       "version_minor": 0
      },
      "text/plain": [
       "interactive(children=(Dropdown(description='category', options=('Dephosphorylation', 'Complex', 'Phosphorylati…"
      ]
     },
     "metadata": {},
     "output_type": "display_data"
    }
   ],
   "source": [
    "%run \"source/Statements Creator.ipynb\""
   ]
  },
  {
   "cell_type": "markdown",
   "metadata": {
    "heading_collapsed": true
   },
   "source": [
    "# Mapping Results to Reactome"
   ]
  },
  {
   "cell_type": "markdown",
   "metadata": {
    "heading_collapsed": true,
    "hidden": true
   },
   "source": [
    "##  Reactome Image"
   ]
  },
  {
   "cell_type": "markdown",
   "metadata": {
    "hidden": true
   },
   "source": [
    "![title](data/Images/reactome_src1.png)"
   ]
  },
  {
   "cell_type": "markdown",
   "metadata": {
    "hidden": true
   },
   "source": [
    "## Reactome Pathway Cheatsheet"
   ]
  },
  {
   "cell_type": "markdown",
   "metadata": {
    "hidden": true
   },
   "source": [
    "![title](data/Images/reactome_cheatsheet.jpeg)"
   ]
  },
  {
   "cell_type": "markdown",
   "metadata": {
    "hidden": true,
    "scrolled": false
   },
   "source": [
    "## Statement JSON"
   ]
  },
  {
   "cell_type": "code",
   "execution_count": 5,
   "metadata": {
    "hidden": true
   },
   "outputs": [
    {
     "name": "stdout",
     "output_type": "stream",
     "text": [
      "Phosphorylation(SRC-1(), EGFR(), Y, 1068)\n"
     ]
    },
    {
     "data": {
      "text/html": [
       "<div id=\"2f38ba66-f957-452d-a69e-faddeaa798d1\" style=\"height: auto; width:100%;\"></div>"
      ],
      "text/plain": [
       "<IPython.core.display.HTML object>"
      ]
     },
     "metadata": {},
     "output_type": "display_data"
    },
    {
     "data": {
      "text/html": [
       "<script>\n",
       "        require([\"https://rawgit.com/caldwell/renderjson/master/renderjson.js\"], function() {\n",
       "          renderjson.set_show_to_level(1)\n",
       "          document.getElementById('2f38ba66-f957-452d-a69e-faddeaa798d1').appendChild(renderjson({\"position\": \"1068\", \"supported_by\": [], \"supports\": [], \"evidence\": [{\"source_api\": \"biopax\", \"source_id\": \"http://www.reactome.org/biopax/64/177929#Catalysis3\", \"annotations\": {\"source_sub_id\": \"177929#Provenance1\"}, \"epistemics\": {\"direct\": true}}], \"sub\": {\"name\": \"EGFR\", \"db_refs\": {}}, \"uuid\": \"651e987b-3b48-4ad6-af55-26a31babfa1e\", \"enz\": {\"name\": \"SRC-1\", \"db_refs\": {}}, \"belief\": 1, \"residue\": \"Y\"}))\n",
       "        });</script>\n",
       "        "
      ],
      "text/plain": [
       "<IPython.core.display.HTML object>"
      ]
     },
     "metadata": {},
     "output_type": "display_data"
    },
    {
     "data": {
      "text/html": [
       "<div id=\"2f38ba66-f957-452d-a69e-faddeaa798d1\" style=\"height: auto; width:100%;\"></div>"
      ],
      "text/plain": [
       "<IPython.core.display.HTML object>"
      ]
     },
     "metadata": {},
     "output_type": "display_data"
    },
    {
     "data": {
      "text/html": [
       "<script>\n",
       "        require([\"https://rawgit.com/caldwell/renderjson/master/renderjson.js\"], function() {\n",
       "          renderjson.set_show_to_level(1)\n",
       "          document.getElementById('2f38ba66-f957-452d-a69e-faddeaa798d1').appendChild(renderjson({\"position\": \"1068\", \"supported_by\": [], \"supports\": [], \"evidence\": [{\"source_api\": \"biopax\", \"source_id\": \"http://www.reactome.org/biopax/64/177929#Catalysis3\", \"annotations\": {\"source_sub_id\": \"177929#Provenance1\"}, \"epistemics\": {\"direct\": true}}], \"sub\": {\"name\": \"EGFR\", \"db_refs\": {}}, \"uuid\": \"651e987b-3b48-4ad6-af55-26a31babfa1e\", \"enz\": {\"name\": \"SRC-1\", \"db_refs\": {}}, \"belief\": 1, \"residue\": \"Y\"}))\n",
       "        });</script>\n",
       "        "
      ],
      "text/plain": [
       "<IPython.core.display.HTML object>"
      ]
     },
     "metadata": {},
     "output_type": "display_data"
    }
   ],
   "source": [
    "statements = biopax_processor.statements\n",
    "print(statements[3])\n",
    "RenderJSON(statements[3].__dict__)"
   ]
  },
  {
   "cell_type": "code",
   "execution_count": null,
   "metadata": {
    "hidden": true
   },
   "outputs": [],
   "source": []
  }
 ],
 "metadata": {
  "hide_input": false,
  "kernelspec": {
   "display_name": "Python 3",
   "language": "python",
   "name": "python3"
  },
  "language_info": {
   "codemirror_mode": {
    "name": "ipython",
    "version": 3
   },
   "file_extension": ".py",
   "mimetype": "text/x-python",
   "name": "python",
   "nbconvert_exporter": "python",
   "pygments_lexer": "ipython3",
   "version": "3.5.5"
  },
  "toc": {
   "base_numbering": 1,
   "nav_menu": {},
   "number_sections": true,
   "sideBar": true,
   "skip_h1_title": false,
   "title_cell": "Table of Contents",
   "title_sidebar": "Contents",
   "toc_cell": false,
   "toc_position": {
    "height": "calc(100% - 180px)",
    "left": "10px",
    "top": "150px",
    "width": "261px"
   },
   "toc_section_display": true,
   "toc_window_display": false
  },
  "varInspector": {
   "cols": {
    "lenName": 16,
    "lenType": 16,
    "lenVar": 40
   },
   "kernels_config": {
    "python": {
     "delete_cmd_postfix": "",
     "delete_cmd_prefix": "del ",
     "library": "var_list.py",
     "varRefreshCmd": "print(var_dic_list())"
    },
    "r": {
     "delete_cmd_postfix": ") ",
     "delete_cmd_prefix": "rm(",
     "library": "var_list.r",
     "varRefreshCmd": "cat(var_dic_list()) "
    }
   },
   "types_to_exclude": [
    "module",
    "function",
    "builtin_function_or_method",
    "instance",
    "_Feature"
   ],
   "window_display": false
  }
 },
 "nbformat": 4,
 "nbformat_minor": 2
}
