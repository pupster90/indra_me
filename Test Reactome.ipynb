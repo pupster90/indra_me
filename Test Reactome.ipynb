{
 "cells": [
  {
   "cell_type": "markdown",
   "metadata": {},
   "source": [
    "<font size=\"7\" face=\"courier\" color=\"magenta\">Test Reactome</font>"
   ]
  },
  {
   "cell_type": "markdown",
   "metadata": {},
   "source": [
    "# Video About Notebook"
   ]
  },
  {
   "cell_type": "code",
   "execution_count": 5,
   "metadata": {
    "code_folding": [
     0
    ],
    "scrolled": true
   },
   "outputs": [
    {
     "data": {
      "text/html": [
       "\n",
       "<div class=\"row\"><div class=\"col-xs-12 col-md-offset-3 col-md-6\">\n",
       "<div class=\"embed-responsive embed-responsive-16by9\">\n",
       "  <iframe class=\"embed-responsive-item\" \n",
       "  src='https://www.youtube.com/embed/TshlsGj6pz4'></iframe></div>\n",
       "</div></div>\n"
      ],
      "text/plain": [
       "<IPython.core.display.HTML object>"
      ]
     },
     "metadata": {},
     "output_type": "display_data"
    }
   ],
   "source": [
    "# HTML for youtube\n",
    "display(HTML(\"\"\"\n",
    "<div class=\"row\"><div class=\"col-xs-12 col-md-offset-3 col-md-6\">\n",
    "<div class=\"embed-responsive embed-responsive-16by9\">\n",
    "  <iframe class=\"embed-responsive-item\" \n",
    "  src='https://www.youtube.com/embed/TshlsGj6pz4'></iframe></div>\n",
    "</div></div>\n",
    "\"\"\"))\n"
   ]
  },
  {
   "cell_type": "markdown",
   "metadata": {
    "heading_collapsed": true
   },
   "source": [
    "# Setup Notebook"
   ]
  },
  {
   "cell_type": "markdown",
   "metadata": {
    "hidden": true
   },
   "source": [
    "we load load in hte general notebook setup file"
   ]
  },
  {
   "cell_type": "code",
   "execution_count": 3,
   "metadata": {
    "hidden": true
   },
   "outputs": [
    {
     "name": "stdout",
     "output_type": "stream",
     "text": [
      "env: GOOGLE_APPLICATION_CREDENTIALS=/root/Documents/data/NDEX-e06611c0a4d0.json\n",
      "env: JAVA_HOME=/usr/lib/jvm/java-8-openjdk-amd64\n"
     ]
    },
    {
     "data": {
      "text/html": [
       "<style> *{margin:0; padding:0;} html, body,              .container{margin:0;!important padding:0;!important}              .container { width:100% !important;}</style>"
      ],
      "text/plain": [
       "<IPython.core.display.HTML object>"
      ]
     },
     "metadata": {},
     "output_type": "display_data"
    }
   ],
   "source": [
    "%run \"source/Setup Notebook.ipynb\""
   ]
  },
  {
   "cell_type": "markdown",
   "metadata": {},
   "source": [
    "# Get Statements"
   ]
  },
  {
   "cell_type": "code",
   "execution_count": 4,
   "metadata": {
    "scrolled": false
   },
   "outputs": [
    {
     "data": {
      "text/html": [
       "<p>&nbsp</p> <font color='magenta' size=5>Indra Statement Creator</font> <hr>"
      ],
      "text/plain": [
       "<IPython.core.display.HTML object>"
      ]
     },
     "metadata": {},
     "output_type": "display_data"
    },
    {
     "data": {
      "text/html": [
       "Use this app to analyze indra statements that are created from BioPax files. The video below shows how to create BioPax fiels from <a href='https://reactome.org/'>reactome</a>. All of the information created from this webapp can be accessed in python. This app creates a python objects called <font color='blue'>biopax_processor</font> which as statements, <font color='blue'>biopax_processor.statements</font>. "
      ],
      "text/plain": [
       "<IPython.core.display.HTML object>"
      ]
     },
     "metadata": {},
     "output_type": "display_data"
    },
    {
     "data": {
      "text/html": [
       "\n",
       "<div class=\"row\"><div class=\"col-xs-12 col-md-offset-3 col-md-6\">\n",
       "<div class=\"embed-responsive embed-responsive-16by9\">\n",
       "  <iframe class=\"embed-responsive-item\" \n",
       "  src='https://www.youtube.com/embed/deDb0PNffWI'></iframe></div>\n",
       "</div></div>\n"
      ],
      "text/plain": [
       "<IPython.core.display.HTML object>"
      ]
     },
     "metadata": {},
     "output_type": "display_data"
    },
    {
     "data": {
      "text/html": [
       "<h1>Choose a BioPax file to upload</h1>              <p>Use the dropdown below to choose a file</p>"
      ],
      "text/plain": [
       "<IPython.core.display.HTML object>"
      ]
     },
     "metadata": {},
     "output_type": "display_data"
    },
    {
     "data": {
      "text/html": [
       "<h5>Select a dataset from the folder <a href='/root/Documents/data/BioPax/</a> :</h5>"
      ],
      "text/plain": [
       "<IPython.core.display.HTML object>"
      ]
     },
     "metadata": {},
     "output_type": "display_data"
    },
    {
     "data": {
      "application/vnd.jupyter.widget-view+json": {
       "model_id": "a7bf19a488a742eead1f0834620e59dc",
       "version_major": 2,
       "version_minor": 0
      },
      "text/plain": [
       "Dropdown(description='Files :', options=('EGFR', 'EGFR-dependent-Endothelin-signaling-events.owl'), value='EGF…"
      ]
     },
     "metadata": {},
     "output_type": "display_data"
    },
    {
     "data": {
      "text/html": [
       "<h1>Decide what Settings You want Displayed</h1>"
      ],
      "text/plain": [
       "<IPython.core.display.HTML object>"
      ]
     },
     "metadata": {},
     "output_type": "display_data"
    },
    {
     "data": {
      "application/vnd.jupyter.widget-view+json": {
       "model_id": "1ca38d62eacd48379aea99a786a6f839",
       "version_major": 2,
       "version_minor": 0
      },
      "text/plain": [
       "HBox(children=(VBox(children=(Checkbox(value=False, description='activity_modification'), Checkbox(value=False…"
      ]
     },
     "metadata": {},
     "output_type": "display_data"
    },
    {
     "data": {
      "application/vnd.jupyter.widget-view+json": {
       "model_id": "4a254649fc884b55aa9a387a73b9b8bd",
       "version_major": 2,
       "version_minor": 0
      },
      "text/plain": [
       "Button(button_style='info', description='Create Statements', icon='check', style=ButtonStyle(), tooltip='Click…"
      ]
     },
     "metadata": {},
     "output_type": "display_data"
    },
    {
     "data": {
      "text/html": [
       "<hr><p>&nbsp</p>"
      ],
      "text/plain": [
       "<IPython.core.display.HTML object>"
      ]
     },
     "metadata": {},
     "output_type": "display_data"
    },
    {
     "data": {
      "application/vnd.jupyter.widget-view+json": {
       "model_id": "5b0a4c1f10d74ff89fc095fa25c45f61",
       "version_major": 2,
       "version_minor": 0
      },
      "text/plain": [
       "interactive(children=(Dropdown(description='category', options=('Dephosphorylation', 'Phosphorylation'), value…"
      ]
     },
     "metadata": {},
     "output_type": "display_data"
    },
    {
     "data": {
      "application/vnd.jupyter.widget-view+json": {
       "model_id": "4ba8401649714579baa8e14b7cb51b20",
       "version_major": 2,
       "version_minor": 0
      },
      "text/plain": [
       "interactive(children=(Dropdown(description='category', options=('Dephosphorylation', 'Phosphorylation'), value…"
      ]
     },
     "metadata": {},
     "output_type": "display_data"
    }
   ],
   "source": [
    "%run \"source/Statements Creator.ipynb\""
   ]
  },
  {
   "cell_type": "markdown",
   "metadata": {},
   "source": [
    "# Mapping Results to Reactome"
   ]
  },
  {
   "cell_type": "markdown",
   "metadata": {
    "heading_collapsed": true
   },
   "source": [
    "##  Reactome Image"
   ]
  },
  {
   "cell_type": "markdown",
   "metadata": {
    "hidden": true
   },
   "source": [
    "![title](data/Images/reactome_src1.png)"
   ]
  },
  {
   "cell_type": "markdown",
   "metadata": {},
   "source": [
    "## Reactome Pathway Cheatsheet"
   ]
  },
  {
   "cell_type": "markdown",
   "metadata": {},
   "source": [
    "![title](data/Images/reactome_cheatsheet.jpeg)"
   ]
  },
  {
   "cell_type": "markdown",
   "metadata": {
    "scrolled": false
   },
   "source": [
    "## Statement JSON"
   ]
  },
  {
   "cell_type": "code",
   "execution_count": 5,
   "metadata": {},
   "outputs": [
    {
     "name": "stdout",
     "output_type": "stream",
     "text": [
      "Phosphorylation(SRC-1(), EGFR(), Y, 1068)\n"
     ]
    },
    {
     "data": {
      "text/html": [
       "<div id=\"2f38ba66-f957-452d-a69e-faddeaa798d1\" style=\"height: auto; width:100%;\"></div>"
      ],
      "text/plain": [
       "<IPython.core.display.HTML object>"
      ]
     },
     "metadata": {},
     "output_type": "display_data"
    },
    {
     "data": {
      "text/html": [
       "<script>\n",
       "        require([\"https://rawgit.com/caldwell/renderjson/master/renderjson.js\"], function() {\n",
       "          renderjson.set_show_to_level(1)\n",
       "          document.getElementById('2f38ba66-f957-452d-a69e-faddeaa798d1').appendChild(renderjson({\"position\": \"1068\", \"supported_by\": [], \"supports\": [], \"evidence\": [{\"source_api\": \"biopax\", \"source_id\": \"http://www.reactome.org/biopax/64/177929#Catalysis3\", \"annotations\": {\"source_sub_id\": \"177929#Provenance1\"}, \"epistemics\": {\"direct\": true}}], \"sub\": {\"name\": \"EGFR\", \"db_refs\": {}}, \"uuid\": \"651e987b-3b48-4ad6-af55-26a31babfa1e\", \"enz\": {\"name\": \"SRC-1\", \"db_refs\": {}}, \"belief\": 1, \"residue\": \"Y\"}))\n",
       "        });</script>\n",
       "        "
      ],
      "text/plain": [
       "<IPython.core.display.HTML object>"
      ]
     },
     "metadata": {},
     "output_type": "display_data"
    },
    {
     "data": {
      "text/html": [
       "<div id=\"2f38ba66-f957-452d-a69e-faddeaa798d1\" style=\"height: auto; width:100%;\"></div>"
      ],
      "text/plain": [
       "<IPython.core.display.HTML object>"
      ]
     },
     "metadata": {},
     "output_type": "display_data"
    },
    {
     "data": {
      "text/html": [
       "<script>\n",
       "        require([\"https://rawgit.com/caldwell/renderjson/master/renderjson.js\"], function() {\n",
       "          renderjson.set_show_to_level(1)\n",
       "          document.getElementById('2f38ba66-f957-452d-a69e-faddeaa798d1').appendChild(renderjson({\"position\": \"1068\", \"supported_by\": [], \"supports\": [], \"evidence\": [{\"source_api\": \"biopax\", \"source_id\": \"http://www.reactome.org/biopax/64/177929#Catalysis3\", \"annotations\": {\"source_sub_id\": \"177929#Provenance1\"}, \"epistemics\": {\"direct\": true}}], \"sub\": {\"name\": \"EGFR\", \"db_refs\": {}}, \"uuid\": \"651e987b-3b48-4ad6-af55-26a31babfa1e\", \"enz\": {\"name\": \"SRC-1\", \"db_refs\": {}}, \"belief\": 1, \"residue\": \"Y\"}))\n",
       "        });</script>\n",
       "        "
      ],
      "text/plain": [
       "<IPython.core.display.HTML object>"
      ]
     },
     "metadata": {},
     "output_type": "display_data"
    }
   ],
   "source": [
    "statements = biopax_processor.statements\n",
    "print(statements[3])\n",
    "RenderJSON(statements[3].__dict__)"
   ]
  },
  {
   "cell_type": "code",
   "execution_count": null,
   "metadata": {},
   "outputs": [],
   "source": []
  },
  {
   "cell_type": "code",
   "execution_count": null,
   "metadata": {},
   "outputs": [],
   "source": []
  }
 ],
 "metadata": {
  "hide_input": false,
  "kernelspec": {
   "display_name": "Python 3",
   "language": "python",
   "name": "python3"
  },
  "language_info": {
   "codemirror_mode": {
    "name": "ipython",
    "version": 3
   },
   "file_extension": ".py",
   "mimetype": "text/x-python",
   "name": "python",
   "nbconvert_exporter": "python",
   "pygments_lexer": "ipython3",
   "version": "3.5.5"
  },
  "toc": {
   "base_numbering": 1,
   "nav_menu": {},
   "number_sections": true,
   "sideBar": true,
   "skip_h1_title": false,
   "title_cell": "Table of Contents",
   "title_sidebar": "Contents",
   "toc_cell": false,
   "toc_position": {
    "height": "calc(100% - 180px)",
    "left": "10px",
    "top": "150px",
    "width": "261px"
   },
   "toc_section_display": true,
   "toc_window_display": false
  },
  "varInspector": {
   "cols": {
    "lenName": 16,
    "lenType": 16,
    "lenVar": 40
   },
   "kernels_config": {
    "python": {
     "delete_cmd_postfix": "",
     "delete_cmd_prefix": "del ",
     "library": "var_list.py",
     "varRefreshCmd": "print(var_dic_list())"
    },
    "r": {
     "delete_cmd_postfix": ") ",
     "delete_cmd_prefix": "rm(",
     "library": "var_list.r",
     "varRefreshCmd": "cat(var_dic_list()) "
    }
   },
   "types_to_exclude": [
    "module",
    "function",
    "builtin_function_or_method",
    "instance",
    "_Feature"
   ],
   "window_display": false
  }
 },
 "nbformat": 4,
 "nbformat_minor": 2
}
