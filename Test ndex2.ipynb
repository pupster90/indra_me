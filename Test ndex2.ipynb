{
 "cells": [
  {
   "cell_type": "markdown",
   "metadata": {},
   "source": [
    "<font size=7 color=magenta face=courier>Test ndex2</font>"
   ]
  },
  {
   "cell_type": "code",
   "execution_count": 2,
   "metadata": {},
   "outputs": [],
   "source": [
    "from ndex2 import *"
   ]
  },
  {
   "cell_type": "markdown",
   "metadata": {
    "heading_collapsed": true
   },
   "source": [
    "# Build Small Network"
   ]
  },
  {
   "cell_type": "code",
   "execution_count": 120,
   "metadata": {
    "hidden": true
   },
   "outputs": [],
   "source": [
    "myCX  = NiceCXNetwork()\n",
    "myCX.set_name(\"Food Web 5\")"
   ]
  },
  {
   "cell_type": "code",
   "execution_count": 121,
   "metadata": {
    "hidden": true
   },
   "outputs": [],
   "source": [
    "namespaces =  [{\"pubmed\": \"http://identifiers.org/pubmed/\",\n",
    "           \"cas\": \"http://identifiers.org/cas/\", \"chebi\": \"http://identifiers.org/chebi/CHEBI:\",\n",
    "           \"hprd\": \"http://identifiers.org/hprd/\", \"uniprot knowledgebase\": \"http://identifiers.org/uniprot/\",\n",
    "           \"KEGG Compound\": \"http://identifiers.org/kegg.compound/\",\"HGNC\": \"https://www.ebi.ac.uk/miriam/main/datatypes/MIR:00000080\"}]\n",
    "myCX.set_namespaces(namespaces)"
   ]
  },
  {
   "cell_type": "code",
   "execution_count": 122,
   "metadata": {
    "hidden": true
   },
   "outputs": [],
   "source": [
    "fox_node = myCX.create_node(node_name='Fox', node_represents=\"howdy howdy\" )\n",
    "mouse_node = myCX.create_node(node_name='Mouse', node_represents=\"howdy howdy 2\")\n",
    "bird_node = myCX.create_node(node_name='Bird', node_represents=\"howdy howdy 3\")\n",
    "\n",
    "fox_bird_edge = myCX.create_edge(edge_source=fox_node, edge_target=bird_node, edge_interaction='interacts-with')\n",
    "\n",
    "fox_mouse_edge = myCX.create_edge(edge_source=fox_node, edge_target=mouse_node, edge_interaction='interacts-with')"
   ]
  },
  {
   "cell_type": "code",
   "execution_count": 128,
   "metadata": {
    "hidden": true
   },
   "outputs": [],
   "source": [
    "myCX.add_node_attribute(property_of=fox_node, name='Color', values='Red')\n",
    "\n",
    "myCX.add_node_attribute(property_of=mouse_node, name='Color', values='Gray')\n",
    "\n",
    "myCX.add_node_attribute(property_of=bird_node, name='Color', values='Blue')"
   ]
  },
  {
   "cell_type": "code",
   "execution_count": 124,
   "metadata": {
    "hidden": true
   },
   "outputs": [],
   "source": [
    "myCX.add_edge_attribute(property_of=fox_mouse_edge, name='Hunted', values='On the ground')"
   ]
  },
  {
   "cell_type": "code",
   "execution_count": 129,
   "metadata": {
    "hidden": true
   },
   "outputs": [
    {
     "data": {
      "text/plain": [
       "{'Bird': [<ndex2.cx.aspects.NodeAttributesElement.NodeAttributesElement at 0x7fbefed82780>,\n",
       "  <ndex2.cx.aspects.NodeAttributesElement.NodeAttributesElement at 0x7fbefed5ada0>],\n",
       " 'Fox': [<ndex2.cx.aspects.NodeAttributesElement.NodeAttributesElement at 0x7fbefed89e48>,\n",
       "  <ndex2.cx.aspects.NodeAttributesElement.NodeAttributesElement at 0x7fbefed5a080>],\n",
       " 'Mouse': [<ndex2.cx.aspects.NodeAttributesElement.NodeAttributesElement at 0x7fbefed89ac8>,\n",
       "  <ndex2.cx.aspects.NodeAttributesElement.NodeAttributesElement at 0x7fbefed5a390>]}"
      ]
     },
     "execution_count": 129,
     "metadata": {},
     "output_type": "execute_result"
    }
   ],
   "source": [
    "myCX.nodeAttributes"
   ]
  },
  {
   "cell_type": "markdown",
   "metadata": {
    "heading_collapsed": true,
    "hidden": true
   },
   "source": [
    "## How to check it Node Exists"
   ]
  },
  {
   "cell_type": "markdown",
   "metadata": {
    "hidden": true
   },
   "source": [
    "when node exists:"
   ]
  },
  {
   "cell_type": "code",
   "execution_count": 89,
   "metadata": {
    "hidden": true
   },
   "outputs": [],
   "source": [
    "checkit = myCX.get_node( \"Fox\" )"
   ]
  },
  {
   "cell_type": "code",
   "execution_count": 90,
   "metadata": {
    "hidden": true
   },
   "outputs": [
    {
     "data": {
      "text/plain": [
       "ndex2.cx.aspects.NodeElement.NodeElement"
      ]
     },
     "execution_count": 90,
     "metadata": {},
     "output_type": "execute_result"
    }
   ],
   "source": [
    "type(checkit)"
   ]
  },
  {
   "cell_type": "code",
   "execution_count": 70,
   "metadata": {
    "hidden": true
   },
   "outputs": [
    {
     "data": {
      "text/plain": [
       "NoneType"
      ]
     },
     "execution_count": 70,
     "metadata": {},
     "output_type": "execute_result"
    }
   ],
   "source": [
    "checkit.__class__"
   ]
  },
  {
   "cell_type": "markdown",
   "metadata": {
    "hidden": true
   },
   "source": [
    "When node doesn't exist"
   ]
  },
  {
   "cell_type": "code",
   "execution_count": 69,
   "metadata": {
    "hidden": true
   },
   "outputs": [],
   "source": [
    "checkit = myCX.get_node( \"not there\" )"
   ]
  },
  {
   "cell_type": "code",
   "execution_count": 77,
   "metadata": {
    "hidden": true
   },
   "outputs": [
    {
     "data": {
      "text/plain": [
       "True"
      ]
     },
     "execution_count": 77,
     "metadata": {},
     "output_type": "execute_result"
    }
   ],
   "source": [
    "type(checkit) == type(None)"
   ]
  },
  {
   "cell_type": "markdown",
   "metadata": {
    "heading_collapsed": true,
    "hidden": true
   },
   "source": [
    "## How to check if Edge Exists"
   ]
  },
  {
   "cell_type": "code",
   "execution_count": 82,
   "metadata": {
    "hidden": true
   },
   "outputs": [],
   "source": [
    "checkit = myCX.get_edge( 99 )"
   ]
  },
  {
   "cell_type": "code",
   "execution_count": 83,
   "metadata": {
    "hidden": true
   },
   "outputs": [
    {
     "data": {
      "text/plain": [
       "NoneType"
      ]
     },
     "execution_count": 83,
     "metadata": {},
     "output_type": "execute_result"
    }
   ],
   "source": [
    "type( checkit  )"
   ]
  },
  {
   "cell_type": "code",
   "execution_count": null,
   "metadata": {
    "hidden": true
   },
   "outputs": [],
   "source": []
  },
  {
   "cell_type": "markdown",
   "metadata": {
    "hidden": true
   },
   "source": [
    "## Add Version and description"
   ]
  },
  {
   "cell_type": "code",
   "execution_count": 125,
   "metadata": {
    "hidden": true
   },
   "outputs": [],
   "source": [
    "\n",
    "myCX.add_network_attribute(name='description', values= \"very short description\", type=ATTRIBUTE_DATA_TYPE.STRING)\n",
    "myCX.add_network_attribute(name='version', values= \"1.0.0\", type=ATTRIBUTE_DATA_TYPE.STRING)"
   ]
  },
  {
   "cell_type": "markdown",
   "metadata": {
    "heading_collapsed": true
   },
   "source": [
    "# Upload to Ndex"
   ]
  },
  {
   "cell_type": "code",
   "execution_count": 126,
   "metadata": {
    "hidden": true
   },
   "outputs": [
    {
     "name": "stdout",
     "output_type": "stream",
     "text": [
      "Success.  Please continue.\n"
     ]
    }
   ],
   "source": [
    "my_account=\"pupster90\"\n",
    "my_password=\"Owdy 150!\"\n",
    "my_server=\"http://www.ndexbio.org\"\n",
    "\n",
    "try:\n",
    "    my_ndex= client.Ndex2(my_server, my_account, my_password)\n",
    "    my_ndex.update_status()\n",
    "    print(\"Success.  Please continue.\")\n",
    "except Exception as inst:\n",
    "    print(\"Could not access account %s with password %s\" % (my_account, my_password))\n",
    "    print(inst.args)\n"
   ]
  },
  {
   "cell_type": "code",
   "execution_count": 127,
   "metadata": {
    "hidden": true
   },
   "outputs": [
    {
     "name": "stdout",
     "output_type": "stream",
     "text": [
      "http://public.ndexbio.org/v2/network/9b6b67eb-6e95-11e8-a4bf-0ac135e8bacf\n"
     ]
    }
   ],
   "source": [
    "upload_message  = myCX.upload_to(my_server, my_account, my_password)\n",
    "print(upload_message)"
   ]
  },
  {
   "cell_type": "code",
   "execution_count": null,
   "metadata": {
    "hidden": true
   },
   "outputs": [],
   "source": []
  },
  {
   "cell_type": "markdown",
   "metadata": {
    "heading_collapsed": true
   },
   "source": [
    "# Save to File"
   ]
  },
  {
   "cell_type": "code",
   "execution_count": 23,
   "metadata": {
    "hidden": true
   },
   "outputs": [
    {
     "name": "stdout",
     "output_type": "stream",
     "text": [
      "Name: Food Web\n",
      "Nodes: 3\n",
      "Edges: 2\n",
      "Node Attributes: 3\n",
      "Edge Attributes: 1\n",
      "\n"
     ]
    }
   ],
   "source": [
    "print( myCX.get_summary() )"
   ]
  },
  {
   "cell_type": "code",
   "execution_count": null,
   "metadata": {
    "hidden": true
   },
   "outputs": [],
   "source": []
  },
  {
   "cell_type": "code",
   "execution_count": 30,
   "metadata": {
    "hidden": true
   },
   "outputs": [],
   "source": [
    "file_name=\"checkit.cx\"\n",
    "with open(file_name, 'wt') as fh:\n",
    "    full_cx = myCX.to_cx()\n",
    "    json_str = json.dumps(full_cx, indent=2)\n",
    "    fh.write(json_str)"
   ]
  },
  {
   "cell_type": "code",
   "execution_count": null,
   "metadata": {
    "hidden": true
   },
   "outputs": [],
   "source": []
  },
  {
   "cell_type": "code",
   "execution_count": null,
   "metadata": {
    "hidden": true
   },
   "outputs": [],
   "source": [
    "add_name_space( \"pubmed\", \"http://identifiers.org/pubmed/\"):\n",
    "add_name_space( \"cas\": \"http://identifiers.org/cas/\",\n",
    "add_name_space( \"chebi\": \"http://identifiers.org/chebi/CHEBI:\",\n",
    "add_name_space( \"hprd\": \"http://identifiers.org/hprd/\",\n",
    "add_name_space( \"uniprot knowledgebase\": \"http://identifiers.org/uniprot/\",\n",
    "add_name_space( \"KEGG Compound\": \"http://identifiers.org/kegg.compound/\",\n",
    "add_name_space( \"HGNC\": \"https://www.ebi.ac.uk/miriam/main/datatypes/MIR:00000080\" } \n",
    "\n",
    "    \n",
    "def set_namespaces(self,ns ):\n",
    "    self.context = ns\n"
   ]
  },
  {
   "cell_type": "code",
   "execution_count": 28,
   "metadata": {
    "hidden": true
   },
   "outputs": [],
   "source": []
  },
  {
   "cell_type": "code",
   "execution_count": null,
   "metadata": {
    "hidden": true
   },
   "outputs": [],
   "source": []
  }
 ],
 "metadata": {
  "hide_input": false,
  "kernelspec": {
   "display_name": "Python 3",
   "language": "python",
   "name": "python3"
  },
  "language_info": {
   "codemirror_mode": {
    "name": "ipython",
    "version": 3
   },
   "file_extension": ".py",
   "mimetype": "text/x-python",
   "name": "python",
   "nbconvert_exporter": "python",
   "pygments_lexer": "ipython3",
   "version": "3.5.5"
  },
  "toc": {
   "base_numbering": 1,
   "nav_menu": {},
   "number_sections": true,
   "sideBar": true,
   "skip_h1_title": false,
   "title_cell": "Table of Contents",
   "title_sidebar": "Contents",
   "toc_cell": false,
   "toc_position": {},
   "toc_section_display": true,
   "toc_window_display": false
  },
  "varInspector": {
   "cols": {
    "lenName": 16,
    "lenType": 16,
    "lenVar": 40
   },
   "kernels_config": {
    "python": {
     "delete_cmd_postfix": "",
     "delete_cmd_prefix": "del ",
     "library": "var_list.py",
     "varRefreshCmd": "print(var_dic_list())"
    },
    "r": {
     "delete_cmd_postfix": ") ",
     "delete_cmd_prefix": "rm(",
     "library": "var_list.r",
     "varRefreshCmd": "cat(var_dic_list()) "
    }
   },
   "types_to_exclude": [
    "module",
    "function",
    "builtin_function_or_method",
    "instance",
    "_Feature"
   ],
   "window_display": false
  }
 },
 "nbformat": 4,
 "nbformat_minor": 2
}
